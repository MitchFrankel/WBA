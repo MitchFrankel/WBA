{
 "cells": [
  {
   "cell_type": "markdown",
   "metadata": {
    "cell_style": "split"
   },
   "source": [
    "# Daily User Plots (Bokeh Static)"
   ]
  },
  {
   "cell_type": "markdown",
   "metadata": {},
   "source": [
    "### Imports"
   ]
  },
  {
   "cell_type": "code",
   "execution_count": 1,
   "metadata": {},
   "outputs": [
    {
     "data": {
      "text/html": [
       "\n",
       "    <div class=\"bk-root\">\n",
       "        <a href=\"https://bokeh.org\" target=\"_blank\" class=\"bk-logo bk-logo-small bk-logo-notebook\"></a>\n",
       "        <span id=\"1001\">Loading BokehJS ...</span>\n",
       "    </div>"
      ]
     },
     "metadata": {},
     "output_type": "display_data"
    },
    {
     "data": {
      "application/javascript": [
       "\n",
       "(function(root) {\n",
       "  function now() {\n",
       "    return new Date();\n",
       "  }\n",
       "\n",
       "  var force = true;\n",
       "\n",
       "  if (typeof root._bokeh_onload_callbacks === \"undefined\" || force === true) {\n",
       "    root._bokeh_onload_callbacks = [];\n",
       "    root._bokeh_is_loading = undefined;\n",
       "  }\n",
       "\n",
       "  var JS_MIME_TYPE = 'application/javascript';\n",
       "  var HTML_MIME_TYPE = 'text/html';\n",
       "  var EXEC_MIME_TYPE = 'application/vnd.bokehjs_exec.v0+json';\n",
       "  var CLASS_NAME = 'output_bokeh rendered_html';\n",
       "\n",
       "  /**\n",
       "   * Render data to the DOM node\n",
       "   */\n",
       "  function render(props, node) {\n",
       "    var script = document.createElement(\"script\");\n",
       "    node.appendChild(script);\n",
       "  }\n",
       "\n",
       "  /**\n",
       "   * Handle when an output is cleared or removed\n",
       "   */\n",
       "  function handleClearOutput(event, handle) {\n",
       "    var cell = handle.cell;\n",
       "\n",
       "    var id = cell.output_area._bokeh_element_id;\n",
       "    var server_id = cell.output_area._bokeh_server_id;\n",
       "    // Clean up Bokeh references\n",
       "    if (id != null && id in Bokeh.index) {\n",
       "      Bokeh.index[id].model.document.clear();\n",
       "      delete Bokeh.index[id];\n",
       "    }\n",
       "\n",
       "    if (server_id !== undefined) {\n",
       "      // Clean up Bokeh references\n",
       "      var cmd = \"from bokeh.io.state import curstate; print(curstate().uuid_to_server['\" + server_id + \"'].get_sessions()[0].document.roots[0]._id)\";\n",
       "      cell.notebook.kernel.execute(cmd, {\n",
       "        iopub: {\n",
       "          output: function(msg) {\n",
       "            var id = msg.content.text.trim();\n",
       "            if (id in Bokeh.index) {\n",
       "              Bokeh.index[id].model.document.clear();\n",
       "              delete Bokeh.index[id];\n",
       "            }\n",
       "          }\n",
       "        }\n",
       "      });\n",
       "      // Destroy server and session\n",
       "      var cmd = \"import bokeh.io.notebook as ion; ion.destroy_server('\" + server_id + \"')\";\n",
       "      cell.notebook.kernel.execute(cmd);\n",
       "    }\n",
       "  }\n",
       "\n",
       "  /**\n",
       "   * Handle when a new output is added\n",
       "   */\n",
       "  function handleAddOutput(event, handle) {\n",
       "    var output_area = handle.output_area;\n",
       "    var output = handle.output;\n",
       "\n",
       "    // limit handleAddOutput to display_data with EXEC_MIME_TYPE content only\n",
       "    if ((output.output_type != \"display_data\") || (!output.data.hasOwnProperty(EXEC_MIME_TYPE))) {\n",
       "      return\n",
       "    }\n",
       "\n",
       "    var toinsert = output_area.element.find(\".\" + CLASS_NAME.split(' ')[0]);\n",
       "\n",
       "    if (output.metadata[EXEC_MIME_TYPE][\"id\"] !== undefined) {\n",
       "      toinsert[toinsert.length - 1].firstChild.textContent = output.data[JS_MIME_TYPE];\n",
       "      // store reference to embed id on output_area\n",
       "      output_area._bokeh_element_id = output.metadata[EXEC_MIME_TYPE][\"id\"];\n",
       "    }\n",
       "    if (output.metadata[EXEC_MIME_TYPE][\"server_id\"] !== undefined) {\n",
       "      var bk_div = document.createElement(\"div\");\n",
       "      bk_div.innerHTML = output.data[HTML_MIME_TYPE];\n",
       "      var script_attrs = bk_div.children[0].attributes;\n",
       "      for (var i = 0; i < script_attrs.length; i++) {\n",
       "        toinsert[toinsert.length - 1].firstChild.setAttribute(script_attrs[i].name, script_attrs[i].value);\n",
       "      }\n",
       "      // store reference to server id on output_area\n",
       "      output_area._bokeh_server_id = output.metadata[EXEC_MIME_TYPE][\"server_id\"];\n",
       "    }\n",
       "  }\n",
       "\n",
       "  function register_renderer(events, OutputArea) {\n",
       "\n",
       "    function append_mime(data, metadata, element) {\n",
       "      // create a DOM node to render to\n",
       "      var toinsert = this.create_output_subarea(\n",
       "        metadata,\n",
       "        CLASS_NAME,\n",
       "        EXEC_MIME_TYPE\n",
       "      );\n",
       "      this.keyboard_manager.register_events(toinsert);\n",
       "      // Render to node\n",
       "      var props = {data: data, metadata: metadata[EXEC_MIME_TYPE]};\n",
       "      render(props, toinsert[toinsert.length - 1]);\n",
       "      element.append(toinsert);\n",
       "      return toinsert\n",
       "    }\n",
       "\n",
       "    /* Handle when an output is cleared or removed */\n",
       "    events.on('clear_output.CodeCell', handleClearOutput);\n",
       "    events.on('delete.Cell', handleClearOutput);\n",
       "\n",
       "    /* Handle when a new output is added */\n",
       "    events.on('output_added.OutputArea', handleAddOutput);\n",
       "\n",
       "    /**\n",
       "     * Register the mime type and append_mime function with output_area\n",
       "     */\n",
       "    OutputArea.prototype.register_mime_type(EXEC_MIME_TYPE, append_mime, {\n",
       "      /* Is output safe? */\n",
       "      safe: true,\n",
       "      /* Index of renderer in `output_area.display_order` */\n",
       "      index: 0\n",
       "    });\n",
       "  }\n",
       "\n",
       "  // register the mime type if in Jupyter Notebook environment and previously unregistered\n",
       "  if (root.Jupyter !== undefined) {\n",
       "    var events = require('base/js/events');\n",
       "    var OutputArea = require('notebook/js/outputarea').OutputArea;\n",
       "\n",
       "    if (OutputArea.prototype.mime_types().indexOf(EXEC_MIME_TYPE) == -1) {\n",
       "      register_renderer(events, OutputArea);\n",
       "    }\n",
       "  }\n",
       "\n",
       "  \n",
       "  if (typeof (root._bokeh_timeout) === \"undefined\" || force === true) {\n",
       "    root._bokeh_timeout = Date.now() + 5000;\n",
       "    root._bokeh_failed_load = false;\n",
       "  }\n",
       "\n",
       "  var NB_LOAD_WARNING = {'data': {'text/html':\n",
       "     \"<div style='background-color: #fdd'>\\n\"+\n",
       "     \"<p>\\n\"+\n",
       "     \"BokehJS does not appear to have successfully loaded. If loading BokehJS from CDN, this \\n\"+\n",
       "     \"may be due to a slow or bad network connection. Possible fixes:\\n\"+\n",
       "     \"</p>\\n\"+\n",
       "     \"<ul>\\n\"+\n",
       "     \"<li>re-rerun `output_notebook()` to attempt to load from CDN again, or</li>\\n\"+\n",
       "     \"<li>use INLINE resources instead, as so:</li>\\n\"+\n",
       "     \"</ul>\\n\"+\n",
       "     \"<code>\\n\"+\n",
       "     \"from bokeh.resources import INLINE\\n\"+\n",
       "     \"output_notebook(resources=INLINE)\\n\"+\n",
       "     \"</code>\\n\"+\n",
       "     \"</div>\"}};\n",
       "\n",
       "  function display_loaded() {\n",
       "    var el = document.getElementById(\"1001\");\n",
       "    if (el != null) {\n",
       "      el.textContent = \"BokehJS is loading...\";\n",
       "    }\n",
       "    if (root.Bokeh !== undefined) {\n",
       "      if (el != null) {\n",
       "        el.textContent = \"BokehJS \" + root.Bokeh.version + \" successfully loaded.\";\n",
       "      }\n",
       "    } else if (Date.now() < root._bokeh_timeout) {\n",
       "      setTimeout(display_loaded, 100)\n",
       "    }\n",
       "  }\n",
       "\n",
       "\n",
       "  function run_callbacks() {\n",
       "    try {\n",
       "      root._bokeh_onload_callbacks.forEach(function(callback) {\n",
       "        if (callback != null)\n",
       "          callback();\n",
       "      });\n",
       "    } finally {\n",
       "      delete root._bokeh_onload_callbacks\n",
       "    }\n",
       "    console.debug(\"Bokeh: all callbacks have finished\");\n",
       "  }\n",
       "\n",
       "  function load_libs(css_urls, js_urls, callback) {\n",
       "    if (css_urls == null) css_urls = [];\n",
       "    if (js_urls == null) js_urls = [];\n",
       "\n",
       "    root._bokeh_onload_callbacks.push(callback);\n",
       "    if (root._bokeh_is_loading > 0) {\n",
       "      console.debug(\"Bokeh: BokehJS is being loaded, scheduling callback at\", now());\n",
       "      return null;\n",
       "    }\n",
       "    if (js_urls == null || js_urls.length === 0) {\n",
       "      run_callbacks();\n",
       "      return null;\n",
       "    }\n",
       "    console.debug(\"Bokeh: BokehJS not loaded, scheduling load and callback at\", now());\n",
       "    root._bokeh_is_loading = css_urls.length + js_urls.length;\n",
       "\n",
       "    function on_load() {\n",
       "      root._bokeh_is_loading--;\n",
       "      if (root._bokeh_is_loading === 0) {\n",
       "        console.debug(\"Bokeh: all BokehJS libraries/stylesheets loaded\");\n",
       "        run_callbacks()\n",
       "      }\n",
       "    }\n",
       "\n",
       "    function on_error() {\n",
       "      console.error(\"failed to load \" + url);\n",
       "    }\n",
       "\n",
       "    for (var i = 0; i < css_urls.length; i++) {\n",
       "      var url = css_urls[i];\n",
       "      const element = document.createElement(\"link\");\n",
       "      element.onload = on_load;\n",
       "      element.onerror = on_error;\n",
       "      element.rel = \"stylesheet\";\n",
       "      element.type = \"text/css\";\n",
       "      element.href = url;\n",
       "      console.debug(\"Bokeh: injecting link tag for BokehJS stylesheet: \", url);\n",
       "      document.body.appendChild(element);\n",
       "    }\n",
       "\n",
       "    for (var i = 0; i < js_urls.length; i++) {\n",
       "      var url = js_urls[i];\n",
       "      var element = document.createElement('script');\n",
       "      element.onload = on_load;\n",
       "      element.onerror = on_error;\n",
       "      element.async = false;\n",
       "      element.src = url;\n",
       "      console.debug(\"Bokeh: injecting script tag for BokehJS library: \", url);\n",
       "      document.head.appendChild(element);\n",
       "    }\n",
       "  };var element = document.getElementById(\"1001\");\n",
       "  if (element == null) {\n",
       "    console.error(\"Bokeh: ERROR: autoload.js configured with elementid '1001' but no matching script tag was found. \")\n",
       "    return false;\n",
       "  }\n",
       "\n",
       "  function inject_raw_css(css) {\n",
       "    const element = document.createElement(\"style\");\n",
       "    element.appendChild(document.createTextNode(css));\n",
       "    document.body.appendChild(element);\n",
       "  }\n",
       "\n",
       "  \n",
       "  var js_urls = [\"https://cdn.pydata.org/bokeh/release/bokeh-1.4.0.min.js\", \"https://cdn.pydata.org/bokeh/release/bokeh-widgets-1.4.0.min.js\", \"https://cdn.pydata.org/bokeh/release/bokeh-tables-1.4.0.min.js\", \"https://cdn.pydata.org/bokeh/release/bokeh-gl-1.4.0.min.js\"];\n",
       "  var css_urls = [];\n",
       "  \n",
       "\n",
       "  var inline_js = [\n",
       "    function(Bokeh) {\n",
       "      Bokeh.set_log_level(\"info\");\n",
       "    },\n",
       "    function(Bokeh) {\n",
       "    \n",
       "    \n",
       "    }\n",
       "  ];\n",
       "\n",
       "  function run_inline_js() {\n",
       "    \n",
       "    if (root.Bokeh !== undefined || force === true) {\n",
       "      \n",
       "    for (var i = 0; i < inline_js.length; i++) {\n",
       "      inline_js[i].call(root, root.Bokeh);\n",
       "    }\n",
       "    if (force === true) {\n",
       "        display_loaded();\n",
       "      }} else if (Date.now() < root._bokeh_timeout) {\n",
       "      setTimeout(run_inline_js, 100);\n",
       "    } else if (!root._bokeh_failed_load) {\n",
       "      console.log(\"Bokeh: BokehJS failed to load within specified timeout.\");\n",
       "      root._bokeh_failed_load = true;\n",
       "    } else if (force !== true) {\n",
       "      var cell = $(document.getElementById(\"1001\")).parents('.cell').data().cell;\n",
       "      cell.output_area.append_execute_result(NB_LOAD_WARNING)\n",
       "    }\n",
       "\n",
       "  }\n",
       "\n",
       "  if (root._bokeh_is_loading === 0) {\n",
       "    console.debug(\"Bokeh: BokehJS loaded, going straight to plotting\");\n",
       "    run_inline_js();\n",
       "  } else {\n",
       "    load_libs(css_urls, js_urls, function() {\n",
       "      console.debug(\"Bokeh: BokehJS plotting callback run at\", now());\n",
       "      run_inline_js();\n",
       "    });\n",
       "  }\n",
       "}(window));"
      ],
      "application/vnd.bokehjs_load.v0+json": "\n(function(root) {\n  function now() {\n    return new Date();\n  }\n\n  var force = true;\n\n  if (typeof root._bokeh_onload_callbacks === \"undefined\" || force === true) {\n    root._bokeh_onload_callbacks = [];\n    root._bokeh_is_loading = undefined;\n  }\n\n  \n\n  \n  if (typeof (root._bokeh_timeout) === \"undefined\" || force === true) {\n    root._bokeh_timeout = Date.now() + 5000;\n    root._bokeh_failed_load = false;\n  }\n\n  var NB_LOAD_WARNING = {'data': {'text/html':\n     \"<div style='background-color: #fdd'>\\n\"+\n     \"<p>\\n\"+\n     \"BokehJS does not appear to have successfully loaded. If loading BokehJS from CDN, this \\n\"+\n     \"may be due to a slow or bad network connection. Possible fixes:\\n\"+\n     \"</p>\\n\"+\n     \"<ul>\\n\"+\n     \"<li>re-rerun `output_notebook()` to attempt to load from CDN again, or</li>\\n\"+\n     \"<li>use INLINE resources instead, as so:</li>\\n\"+\n     \"</ul>\\n\"+\n     \"<code>\\n\"+\n     \"from bokeh.resources import INLINE\\n\"+\n     \"output_notebook(resources=INLINE)\\n\"+\n     \"</code>\\n\"+\n     \"</div>\"}};\n\n  function display_loaded() {\n    var el = document.getElementById(\"1001\");\n    if (el != null) {\n      el.textContent = \"BokehJS is loading...\";\n    }\n    if (root.Bokeh !== undefined) {\n      if (el != null) {\n        el.textContent = \"BokehJS \" + root.Bokeh.version + \" successfully loaded.\";\n      }\n    } else if (Date.now() < root._bokeh_timeout) {\n      setTimeout(display_loaded, 100)\n    }\n  }\n\n\n  function run_callbacks() {\n    try {\n      root._bokeh_onload_callbacks.forEach(function(callback) {\n        if (callback != null)\n          callback();\n      });\n    } finally {\n      delete root._bokeh_onload_callbacks\n    }\n    console.debug(\"Bokeh: all callbacks have finished\");\n  }\n\n  function load_libs(css_urls, js_urls, callback) {\n    if (css_urls == null) css_urls = [];\n    if (js_urls == null) js_urls = [];\n\n    root._bokeh_onload_callbacks.push(callback);\n    if (root._bokeh_is_loading > 0) {\n      console.debug(\"Bokeh: BokehJS is being loaded, scheduling callback at\", now());\n      return null;\n    }\n    if (js_urls == null || js_urls.length === 0) {\n      run_callbacks();\n      return null;\n    }\n    console.debug(\"Bokeh: BokehJS not loaded, scheduling load and callback at\", now());\n    root._bokeh_is_loading = css_urls.length + js_urls.length;\n\n    function on_load() {\n      root._bokeh_is_loading--;\n      if (root._bokeh_is_loading === 0) {\n        console.debug(\"Bokeh: all BokehJS libraries/stylesheets loaded\");\n        run_callbacks()\n      }\n    }\n\n    function on_error() {\n      console.error(\"failed to load \" + url);\n    }\n\n    for (var i = 0; i < css_urls.length; i++) {\n      var url = css_urls[i];\n      const element = document.createElement(\"link\");\n      element.onload = on_load;\n      element.onerror = on_error;\n      element.rel = \"stylesheet\";\n      element.type = \"text/css\";\n      element.href = url;\n      console.debug(\"Bokeh: injecting link tag for BokehJS stylesheet: \", url);\n      document.body.appendChild(element);\n    }\n\n    for (var i = 0; i < js_urls.length; i++) {\n      var url = js_urls[i];\n      var element = document.createElement('script');\n      element.onload = on_load;\n      element.onerror = on_error;\n      element.async = false;\n      element.src = url;\n      console.debug(\"Bokeh: injecting script tag for BokehJS library: \", url);\n      document.head.appendChild(element);\n    }\n  };var element = document.getElementById(\"1001\");\n  if (element == null) {\n    console.error(\"Bokeh: ERROR: autoload.js configured with elementid '1001' but no matching script tag was found. \")\n    return false;\n  }\n\n  function inject_raw_css(css) {\n    const element = document.createElement(\"style\");\n    element.appendChild(document.createTextNode(css));\n    document.body.appendChild(element);\n  }\n\n  \n  var js_urls = [\"https://cdn.pydata.org/bokeh/release/bokeh-1.4.0.min.js\", \"https://cdn.pydata.org/bokeh/release/bokeh-widgets-1.4.0.min.js\", \"https://cdn.pydata.org/bokeh/release/bokeh-tables-1.4.0.min.js\", \"https://cdn.pydata.org/bokeh/release/bokeh-gl-1.4.0.min.js\"];\n  var css_urls = [];\n  \n\n  var inline_js = [\n    function(Bokeh) {\n      Bokeh.set_log_level(\"info\");\n    },\n    function(Bokeh) {\n    \n    \n    }\n  ];\n\n  function run_inline_js() {\n    \n    if (root.Bokeh !== undefined || force === true) {\n      \n    for (var i = 0; i < inline_js.length; i++) {\n      inline_js[i].call(root, root.Bokeh);\n    }\n    if (force === true) {\n        display_loaded();\n      }} else if (Date.now() < root._bokeh_timeout) {\n      setTimeout(run_inline_js, 100);\n    } else if (!root._bokeh_failed_load) {\n      console.log(\"Bokeh: BokehJS failed to load within specified timeout.\");\n      root._bokeh_failed_load = true;\n    } else if (force !== true) {\n      var cell = $(document.getElementById(\"1001\")).parents('.cell').data().cell;\n      cell.output_area.append_execute_result(NB_LOAD_WARNING)\n    }\n\n  }\n\n  if (root._bokeh_is_loading === 0) {\n    console.debug(\"Bokeh: BokehJS loaded, going straight to plotting\");\n    run_inline_js();\n  } else {\n    load_libs(css_urls, js_urls, function() {\n      console.debug(\"Bokeh: BokehJS plotting callback run at\", now());\n      run_inline_js();\n    });\n  }\n}(window));"
     },
     "metadata": {},
     "output_type": "display_data"
    }
   ],
   "source": [
    "import os\n",
    "import pandas as pd\n",
    "from bokeh.io import output_notebook, expaort_png\n",
    "from bokeh.plotting import show\n",
    "from IPython.display import clear_output\n",
    "\n",
    "import sys\n",
    "sys.path.append(os.path.abspath(os.path.join(os.getcwd(), \"..\", \"src\", \"visualization\")))\n",
    "import daily_user_bokeh_fxns as dub\n",
    "\n",
    "output_notebook()"
   ]
  },
  {
   "cell_type": "markdown",
   "metadata": {},
   "source": [
    "### Load raw data"
   ]
  },
  {
   "cell_type": "code",
   "execution_count": 2,
   "metadata": {},
   "outputs": [],
   "source": [
    "file_path = os.path.abspath(os.path.join(os.getcwd(), \"..\", \"data\", \"processed\", \"daily_user_averages.csv\"))\n",
    "adu_df = pd.read_csv(file_path)\n",
    "\n",
    "# Convert month to categorical\n",
    "adu_df['month'] = pd.Categorical(adu_df['month'], dub.MONTHS)\n",
    "\n",
    "# Init figure dirs\n",
    "os.makedirs(os.path.abspath(os.path.join(os.getcwd(), \"..\",\"reports\", \"figures\", \"daily_user_averages\")), exist_ok=True)"
   ]
  },
  {
   "cell_type": "markdown",
   "metadata": {},
   "source": [
    "## LCC Plots"
   ]
  },
  {
   "cell_type": "code",
   "execution_count": 3,
   "metadata": {},
   "outputs": [
    {
     "data": {
      "text/html": [
       "\n",
       "\n",
       "\n",
       "\n",
       "\n",
       "\n",
       "  <div class=\"bk-root\" id=\"13ba9f2c-b94f-41e9-bb09-82e7bfd5d582\" data-root-id=\"1003\"></div>\n"
      ]
     },
     "metadata": {},
     "output_type": "display_data"
    },
    {
     "data": {
      "application/javascript": [
       "(function(root) {\n",
       "  function embed_document(root) {\n",
       "    \n",
       "  var docs_json = {\"25ea52c2-9031-42d0-8aff-14eef161b65f\":{\"roots\":{\"references\":[{\"attributes\":{\"above\":[{\"id\":\"1068\",\"type\":\"Title\"}],\"below\":[{\"id\":\"1013\",\"type\":\"CategoricalAxis\"},{\"id\":\"1070\",\"type\":\"Title\"}],\"center\":[{\"id\":\"1016\",\"type\":\"Grid\"},{\"id\":\"1021\",\"type\":\"Grid\"},{\"id\":\"1038\",\"type\":\"Legend\"},{\"id\":\"1042\",\"type\":\"LabelSet\"},{\"id\":\"1064\",\"type\":\"LabelSet\"}],\"left\":[{\"id\":\"1017\",\"type\":\"LinearAxis\"}],\"plot_height\":400,\"plot_width\":800,\"renderers\":[{\"id\":\"1031\",\"type\":\"GlyphRenderer\"},{\"id\":\"1050\",\"type\":\"GlyphRenderer\"}],\"title\":{\"id\":\"1004\",\"type\":\"Title\"},\"toolbar\":{\"id\":\"1023\",\"type\":\"Toolbar\"},\"x_range\":{\"id\":\"1002\",\"type\":\"FactorRange\"},\"x_scale\":{\"id\":\"1009\",\"type\":\"CategoricalScale\"},\"y_range\":{\"id\":\"1069\",\"type\":\"Range1d\"},\"y_scale\":{\"id\":\"1011\",\"type\":\"LinearScale\"}},\"id\":\"1003\",\"subtype\":\"Figure\",\"type\":\"Plot\"},{\"attributes\":{\"label\":{\"value\":\"LCC Summer Road\"},\"renderers\":[{\"id\":\"1050\",\"type\":\"GlyphRenderer\"}]},\"id\":\"1061\",\"type\":\"LegendItem\"},{\"attributes\":{\"callback\":null,\"factors\":[\"Dec\",\"Jan\",\"Feb\",\"Mar\",\"Apr\"],\"range_padding\":0.1},\"id\":\"1002\",\"type\":\"FactorRange\"},{\"attributes\":{\"data_source\":{\"id\":\"1045\",\"type\":\"ColumnDataSource\"},\"glyph\":{\"id\":\"1047\",\"type\":\"VBar\"},\"hover_glyph\":{\"id\":\"1049\",\"type\":\"VBar\"},\"muted_glyph\":null,\"name\":\"LCC Summer Road\",\"nonselection_glyph\":{\"id\":\"1048\",\"type\":\"VBar\"},\"selection_glyph\":null,\"view\":{\"id\":\"1051\",\"type\":\"CDSView\"}},\"id\":\"1050\",\"type\":\"GlyphRenderer\"},{\"attributes\":{},\"id\":\"1078\",\"type\":\"Selection\"},{\"attributes\":{},\"id\":\"1037\",\"type\":\"BasicTickFormatter\"},{\"attributes\":{},\"id\":\"1082\",\"type\":\"Selection\"},{\"attributes\":{\"range\":{\"id\":\"1002\",\"type\":\"FactorRange\"},\"value\":0.225},\"id\":\"1044\",\"type\":\"Dodge\"},{\"attributes\":{\"items\":[{\"id\":\"1039\",\"type\":\"LegendItem\"},{\"id\":\"1061\",\"type\":\"LegendItem\"}],\"location\":\"top_left\",\"orientation\":\"horizontal\"},\"id\":\"1038\",\"type\":\"Legend\"},{\"attributes\":{},\"id\":\"1060\",\"type\":\"UnionRenderers\"},{\"attributes\":{},\"id\":\"1018\",\"type\":\"BasicTicker\"},{\"attributes\":{\"label\":{\"value\":\"LCC Our Lady\"},\"renderers\":[{\"id\":\"1031\",\"type\":\"GlyphRenderer\"}]},\"id\":\"1039\",\"type\":\"LegendItem\"},{\"attributes\":{\"range\":{\"id\":\"1002\",\"type\":\"FactorRange\"},\"value\":-0.225},\"id\":\"1025\",\"type\":\"Dodge\"},{\"attributes\":{},\"id\":\"1011\",\"type\":\"LinearScale\"},{\"attributes\":{\"source\":{\"id\":\"1026\",\"type\":\"ColumnDataSource\"}},\"id\":\"1032\",\"type\":\"CDSView\"},{\"attributes\":{\"fill_color\":{\"value\":\"#1f77b4\"},\"line_color\":{\"value\":\"#1f77b4\"},\"top\":{\"field\":\"counts\"},\"width\":{\"value\":0.4},\"x\":{\"field\":\"x\",\"transform\":{\"id\":\"1025\",\"type\":\"Dodge\"}}},\"id\":\"1030\",\"type\":\"VBar\"},{\"attributes\":{},\"id\":\"1022\",\"type\":\"SaveTool\"},{\"attributes\":{\"dimension\":1,\"ticker\":{\"id\":\"1018\",\"type\":\"BasicTicker\"}},\"id\":\"1021\",\"type\":\"Grid\"},{\"attributes\":{\"formatter\":{\"id\":\"1035\",\"type\":\"CategoricalTickFormatter\"},\"major_label_orientation\":0,\"major_label_standoff\":10,\"major_label_text_font_size\":{\"value\":\"12pt\"},\"major_label_text_font_style\":\"bold\",\"major_tick_line_color\":{\"value\":null},\"minor_tick_line_color\":{\"value\":null},\"ticker\":{\"id\":\"1014\",\"type\":\"CategoricalTicker\"}},\"id\":\"1013\",\"type\":\"CategoricalAxis\"},{\"attributes\":{\"fill_color\":{\"value\":\"#1f77b4\"},\"line_color\":{\"value\":\"#1f77b4\"},\"top\":{\"field\":\"counts\"},\"width\":{\"value\":0.4},\"x\":{\"field\":\"x\",\"transform\":{\"id\":\"1044\",\"type\":\"Dodge\"}}},\"id\":\"1049\",\"type\":\"VBar\"},{\"attributes\":{\"callback\":null,\"data\":{\"n\":[\"(26)\",\"(26)\",\"(10)\",\"(6)\",\"\"],\"x\":[\"Dec\",\"Jan\",\"Feb\",\"Mar\",\"Apr\"],\"y\":[31.57692307692308,50.230769230769226,45.8,36.833333333333336,0]},\"selected\":{\"id\":\"1059\",\"type\":\"Selection\"},\"selection_policy\":{\"id\":\"1060\",\"type\":\"UnionRenderers\"}},\"id\":\"1041\",\"type\":\"ColumnDataSource\"},{\"attributes\":{\"active_drag\":\"auto\",\"active_inspect\":\"auto\",\"active_multi\":null,\"active_scroll\":\"auto\",\"active_tap\":\"auto\",\"tools\":[{\"id\":\"1022\",\"type\":\"SaveTool\"},{\"id\":\"1066\",\"type\":\"HoverTool\"}]},\"id\":\"1023\",\"type\":\"Toolbar\"},{\"attributes\":{\"level\":\"glyph\",\"source\":{\"id\":\"1063\",\"type\":\"ColumnDataSource\"},\"text\":{\"field\":\"n\"},\"text_align\":\"center\",\"text_color\":{\"value\":\"#000000\"},\"text_font_size\":{\"value\":\"7pt\"},\"x\":{\"field\":\"x\",\"transform\":{\"id\":\"1062\",\"type\":\"Dodge\"}},\"y\":{\"field\":\"y\"}},\"id\":\"1064\",\"type\":\"LabelSet\"},{\"attributes\":{\"callback\":null,\"end\":323.4833333333333},\"id\":\"1069\",\"type\":\"Range1d\"},{\"attributes\":{\"callback\":null,\"data\":{\"counts\":[31.57692307692308,50.230769230769226,45.8,36.833333333333336,0],\"x\":[\"Dec\",\"Jan\",\"Feb\",\"Mar\",\"Apr\"]},\"selected\":{\"id\":\"1057\",\"type\":\"Selection\"},\"selection_policy\":{\"id\":\"1058\",\"type\":\"UnionRenderers\"}},\"id\":\"1026\",\"type\":\"ColumnDataSource\"},{\"attributes\":{\"fill_alpha\":{\"value\":0.9},\"fill_color\":{\"value\":\"#0EBFE9\"},\"line_color\":{\"value\":\"#0EBFE9\"},\"top\":{\"field\":\"counts\"},\"width\":{\"value\":0.4},\"x\":{\"field\":\"x\",\"transform\":{\"id\":\"1025\",\"type\":\"Dodge\"}}},\"id\":\"1028\",\"type\":\"VBar\"},{\"attributes\":{\"callback\":null,\"data\":{\"counts\":[0,248.83333333333331,152.2,183.4838709677419,123.86666666666666],\"x\":[\"Dec\",\"Jan\",\"Feb\",\"Mar\",\"Apr\"]},\"selected\":{\"id\":\"1078\",\"type\":\"Selection\"},\"selection_policy\":{\"id\":\"1079\",\"type\":\"UnionRenderers\"}},\"id\":\"1045\",\"type\":\"ColumnDataSource\"},{\"attributes\":{},\"id\":\"1057\",\"type\":\"Selection\"},{\"attributes\":{},\"id\":\"1009\",\"type\":\"CategoricalScale\"},{\"attributes\":{\"level\":\"glyph\",\"source\":{\"id\":\"1041\",\"type\":\"ColumnDataSource\"},\"text\":{\"field\":\"n\"},\"text_align\":\"center\",\"text_color\":{\"value\":\"#000000\"},\"text_font_size\":{\"value\":\"7pt\"},\"x\":{\"field\":\"x\",\"transform\":{\"id\":\"1040\",\"type\":\"Dodge\"}},\"y\":{\"field\":\"y\"}},\"id\":\"1042\",\"type\":\"LabelSet\"},{\"attributes\":{\"text\":\"Season 2017-2018 | Average Daily Trailhead Users Per Month\",\"text_font_size\":{\"value\":\"13pt\"}},\"id\":\"1068\",\"type\":\"Title\"},{\"attributes\":{\"fill_alpha\":{\"value\":0.9},\"fill_color\":{\"value\":\"#0BB5FF\"},\"line_color\":{\"value\":\"#0BB5FF\"},\"top\":{\"field\":\"counts\"},\"width\":{\"value\":0.4},\"x\":{\"field\":\"x\",\"transform\":{\"id\":\"1044\",\"type\":\"Dodge\"}}},\"id\":\"1047\",\"type\":\"VBar\"},{\"attributes\":{},\"id\":\"1014\",\"type\":\"CategoricalTicker\"},{\"attributes\":{\"range\":{\"id\":\"1002\",\"type\":\"FactorRange\"},\"value\":-0.225},\"id\":\"1040\",\"type\":\"Dodge\"},{\"attributes\":{},\"id\":\"1058\",\"type\":\"UnionRenderers\"},{\"attributes\":{},\"id\":\"1059\",\"type\":\"Selection\"},{\"attributes\":{\"text\":\"Note: (*) is number of days with sensor data\",\"text_font_size\":{\"value\":\"10pt\"},\"text_font_style\":\"normal\"},\"id\":\"1070\",\"type\":\"Title\"},{\"attributes\":{\"text\":\"\",\"text_font_size\":{\"value\":\"12pt\"}},\"id\":\"1004\",\"type\":\"Title\"},{\"attributes\":{\"fill_alpha\":{\"value\":0.1},\"fill_color\":{\"value\":\"#1f77b4\"},\"line_alpha\":{\"value\":0.1},\"line_color\":{\"value\":\"#1f77b4\"},\"top\":{\"field\":\"counts\"},\"width\":{\"value\":0.4},\"x\":{\"field\":\"x\",\"transform\":{\"id\":\"1025\",\"type\":\"Dodge\"}}},\"id\":\"1029\",\"type\":\"VBar\"},{\"attributes\":{\"callback\":null,\"tooltips\":[[\"Site\",\"$name\"],[\"Average Daily Users\",\"@counts{int}\"]]},\"id\":\"1066\",\"type\":\"HoverTool\"},{\"attributes\":{},\"id\":\"1079\",\"type\":\"UnionRenderers\"},{\"attributes\":{},\"id\":\"1083\",\"type\":\"UnionRenderers\"},{\"attributes\":{\"data_source\":{\"id\":\"1026\",\"type\":\"ColumnDataSource\"},\"glyph\":{\"id\":\"1028\",\"type\":\"VBar\"},\"hover_glyph\":{\"id\":\"1030\",\"type\":\"VBar\"},\"muted_glyph\":null,\"name\":\"LCC Our Lady\",\"nonselection_glyph\":{\"id\":\"1029\",\"type\":\"VBar\"},\"selection_glyph\":null,\"view\":{\"id\":\"1032\",\"type\":\"CDSView\"}},\"id\":\"1031\",\"type\":\"GlyphRenderer\"},{\"attributes\":{\"range\":{\"id\":\"1002\",\"type\":\"FactorRange\"},\"value\":0.225},\"id\":\"1062\",\"type\":\"Dodge\"},{\"attributes\":{\"grid_line_color\":null,\"ticker\":{\"id\":\"1014\",\"type\":\"CategoricalTicker\"}},\"id\":\"1016\",\"type\":\"Grid\"},{\"attributes\":{\"source\":{\"id\":\"1045\",\"type\":\"ColumnDataSource\"}},\"id\":\"1051\",\"type\":\"CDSView\"},{\"attributes\":{\"fill_alpha\":{\"value\":0.1},\"fill_color\":{\"value\":\"#1f77b4\"},\"line_alpha\":{\"value\":0.1},\"line_color\":{\"value\":\"#1f77b4\"},\"top\":{\"field\":\"counts\"},\"width\":{\"value\":0.4},\"x\":{\"field\":\"x\",\"transform\":{\"id\":\"1044\",\"type\":\"Dodge\"}}},\"id\":\"1048\",\"type\":\"VBar\"},{\"attributes\":{\"callback\":null,\"data\":{\"n\":[\"\",\"(18)\",\"(10)\",\"(31)\",\"(30)\"],\"x\":[\"Dec\",\"Jan\",\"Feb\",\"Mar\",\"Apr\"],\"y\":[0,248.83333333333331,152.2,183.4838709677419,123.86666666666666]},\"selected\":{\"id\":\"1082\",\"type\":\"Selection\"},\"selection_policy\":{\"id\":\"1083\",\"type\":\"UnionRenderers\"}},\"id\":\"1063\",\"type\":\"ColumnDataSource\"},{\"attributes\":{\"formatter\":{\"id\":\"1037\",\"type\":\"BasicTickFormatter\"},\"major_label_text_font_size\":{\"value\":\"12pt\"},\"major_label_text_font_style\":\"bold\",\"minor_tick_line_color\":{\"value\":null},\"ticker\":{\"id\":\"1018\",\"type\":\"BasicTicker\"}},\"id\":\"1017\",\"type\":\"LinearAxis\"},{\"attributes\":{},\"id\":\"1035\",\"type\":\"CategoricalTickFormatter\"}],\"root_ids\":[\"1003\"]},\"title\":\"Bokeh Application\",\"version\":\"1.4.0\"}};\n",
       "  var render_items = [{\"docid\":\"25ea52c2-9031-42d0-8aff-14eef161b65f\",\"roots\":{\"1003\":\"13ba9f2c-b94f-41e9-bb09-82e7bfd5d582\"}}];\n",
       "  root.Bokeh.embed.embed_items_notebook(docs_json, render_items);\n",
       "\n",
       "  }\n",
       "  if (root.Bokeh !== undefined) {\n",
       "    embed_document(root);\n",
       "  } else {\n",
       "    var attempts = 0;\n",
       "    var timer = setInterval(function(root) {\n",
       "      if (root.Bokeh !== undefined) {\n",
       "        clearInterval(timer);\n",
       "        embed_document(root);\n",
       "      } else {\n",
       "        attempts++;\n",
       "        if (attempts > 100) {\n",
       "          clearInterval(timer);\n",
       "          console.log(\"Bokeh: ERROR: Unable to run BokehJS code because BokehJS library is missing\");\n",
       "        }\n",
       "      }\n",
       "    }, 10, root)\n",
       "  }\n",
       "})(window);"
      ],
      "application/vnd.bokehjs_exec.v0+json": ""
     },
     "metadata": {
      "application/vnd.bokehjs_exec.v0+json": {
       "id": "1003"
      }
     },
     "output_type": "display_data"
    }
   ],
   "source": [
    "season = '2017-2018'\n",
    "sites = [x for x in adu_df.query(\"season == @season\")['site'].unique() if (\"LCC\" in x and \"Gate\" not in x)]\n",
    "dayOfWeek = 'All'\n",
    "src_df = dub.make_data_set(season, sites, dayOfWeek, adu_df)\n",
    "p = dub.make_plot(src_df, show_sensor_n=True)\n",
    "fig_path = os.path.abspath(os.path.join(os.getcwd(), \"..\",\"reports\", \"figures\", \"daily_user_averages\", \n",
    "                                        \"daily_users_{}_{}_{}.png\".format(season.replace(\"-\", \"\"), \"LCC\", dayOfWeek)))\n",
    "export_png(p, fig_path)\n",
    "show(p)"
   ]
  },
  {
   "cell_type": "code",
   "execution_count": 4,
   "metadata": {},
   "outputs": [
    {
     "data": {
      "text/html": [
       "\n",
       "\n",
       "\n",
       "\n",
       "\n",
       "\n",
       "  <div class=\"bk-root\" id=\"14a1baab-d72d-48e0-a4f0-7ed99d9054a2\" data-root-id=\"1333\"></div>\n"
      ]
     },
     "metadata": {},
     "output_type": "display_data"
    },
    {
     "data": {
      "application/javascript": [
       "(function(root) {\n",
       "  function embed_document(root) {\n",
       "    \n",
       "  var docs_json = {\"4e97fdc3-5774-4b70-a7ff-0f934f7f7b13\":{\"roots\":{\"references\":[{\"attributes\":{\"above\":[{\"id\":\"1398\",\"type\":\"Title\"}],\"below\":[{\"id\":\"1343\",\"type\":\"CategoricalAxis\"},{\"id\":\"1400\",\"type\":\"Title\"}],\"center\":[{\"id\":\"1346\",\"type\":\"Grid\"},{\"id\":\"1351\",\"type\":\"Grid\"},{\"id\":\"1368\",\"type\":\"Legend\"},{\"id\":\"1372\",\"type\":\"LabelSet\"},{\"id\":\"1394\",\"type\":\"LabelSet\"}],\"left\":[{\"id\":\"1347\",\"type\":\"LinearAxis\"}],\"plot_height\":400,\"plot_width\":800,\"renderers\":[{\"id\":\"1361\",\"type\":\"GlyphRenderer\"},{\"id\":\"1380\",\"type\":\"GlyphRenderer\"}],\"title\":{\"id\":\"1334\",\"type\":\"Title\"},\"toolbar\":{\"id\":\"1353\",\"type\":\"Toolbar\"},\"x_range\":{\"id\":\"1332\",\"type\":\"FactorRange\"},\"x_scale\":{\"id\":\"1339\",\"type\":\"CategoricalScale\"},\"y_range\":{\"id\":\"1399\",\"type\":\"Range1d\"},\"y_scale\":{\"id\":\"1341\",\"type\":\"LinearScale\"}},\"id\":\"1333\",\"subtype\":\"Figure\",\"type\":\"Plot\"},{\"attributes\":{\"data_source\":{\"id\":\"1375\",\"type\":\"ColumnDataSource\"},\"glyph\":{\"id\":\"1377\",\"type\":\"VBar\"},\"hover_glyph\":{\"id\":\"1379\",\"type\":\"VBar\"},\"muted_glyph\":null,\"name\":\"LCC Summer Road\",\"nonselection_glyph\":{\"id\":\"1378\",\"type\":\"VBar\"},\"selection_glyph\":null,\"view\":{\"id\":\"1381\",\"type\":\"CDSView\"}},\"id\":\"1380\",\"type\":\"GlyphRenderer\"},{\"attributes\":{},\"id\":\"1348\",\"type\":\"BasicTicker\"},{\"attributes\":{\"callback\":null,\"data\":{\"n\":[\"\",\"(2)\",\"(1)\",\"(5)\",\"(4)\"],\"x\":[\"Dec\",\"Jan\",\"Feb\",\"Mar\",\"Apr\"],\"y\":[0,279.0,207.0,244.2,181.5]},\"selected\":{\"id\":\"1412\",\"type\":\"Selection\"},\"selection_policy\":{\"id\":\"1413\",\"type\":\"UnionRenderers\"}},\"id\":\"1393\",\"type\":\"ColumnDataSource\"},{\"attributes\":{\"grid_line_color\":null,\"ticker\":{\"id\":\"1344\",\"type\":\"CategoricalTicker\"}},\"id\":\"1346\",\"type\":\"Grid\"},{\"attributes\":{\"formatter\":{\"id\":\"1367\",\"type\":\"BasicTickFormatter\"},\"major_label_text_font_size\":{\"value\":\"12pt\"},\"major_label_text_font_style\":\"bold\",\"minor_tick_line_color\":{\"value\":null},\"ticker\":{\"id\":\"1348\",\"type\":\"BasicTicker\"}},\"id\":\"1347\",\"type\":\"LinearAxis\"},{\"attributes\":{\"data_source\":{\"id\":\"1356\",\"type\":\"ColumnDataSource\"},\"glyph\":{\"id\":\"1358\",\"type\":\"VBar\"},\"hover_glyph\":{\"id\":\"1360\",\"type\":\"VBar\"},\"muted_glyph\":null,\"name\":\"LCC Our Lady\",\"nonselection_glyph\":{\"id\":\"1359\",\"type\":\"VBar\"},\"selection_glyph\":null,\"view\":{\"id\":\"1362\",\"type\":\"CDSView\"}},\"id\":\"1361\",\"type\":\"GlyphRenderer\"},{\"attributes\":{\"fill_color\":{\"value\":\"#1f77b4\"},\"line_color\":{\"value\":\"#1f77b4\"},\"top\":{\"field\":\"counts\"},\"width\":{\"value\":0.4},\"x\":{\"field\":\"x\",\"transform\":{\"id\":\"1374\",\"type\":\"Dodge\"}}},\"id\":\"1379\",\"type\":\"VBar\"},{\"attributes\":{},\"id\":\"1367\",\"type\":\"BasicTickFormatter\"},{\"attributes\":{\"callback\":null,\"factors\":[\"Dec\",\"Jan\",\"Feb\",\"Mar\",\"Apr\"],\"range_padding\":0.1},\"id\":\"1332\",\"type\":\"FactorRange\"},{\"attributes\":{},\"id\":\"1412\",\"type\":\"Selection\"},{\"attributes\":{\"callback\":null,\"tooltips\":[[\"Site\",\"$name\"],[\"Average Daily Users\",\"@counts{int}\"]]},\"id\":\"1396\",\"type\":\"HoverTool\"},{\"attributes\":{\"text\":\"\",\"text_font_size\":{\"value\":\"12pt\"}},\"id\":\"1334\",\"type\":\"Title\"},{\"attributes\":{\"items\":[{\"id\":\"1369\",\"type\":\"LegendItem\"},{\"id\":\"1391\",\"type\":\"LegendItem\"}],\"location\":\"top_left\",\"orientation\":\"horizontal\"},\"id\":\"1368\",\"type\":\"Legend\"},{\"attributes\":{\"level\":\"glyph\",\"source\":{\"id\":\"1371\",\"type\":\"ColumnDataSource\"},\"text\":{\"field\":\"n\"},\"text_align\":\"center\",\"text_color\":{\"value\":\"#000000\"},\"text_font_size\":{\"value\":\"7pt\"},\"x\":{\"field\":\"x\",\"transform\":{\"id\":\"1370\",\"type\":\"Dodge\"}},\"y\":{\"field\":\"y\"}},\"id\":\"1372\",\"type\":\"LabelSet\"},{\"attributes\":{\"fill_alpha\":{\"value\":0.9},\"fill_color\":{\"value\":\"#0EBFE9\"},\"line_color\":{\"value\":\"#0EBFE9\"},\"top\":{\"field\":\"counts\"},\"width\":{\"value\":0.4},\"x\":{\"field\":\"x\",\"transform\":{\"id\":\"1355\",\"type\":\"Dodge\"}}},\"id\":\"1358\",\"type\":\"VBar\"},{\"attributes\":{},\"id\":\"1352\",\"type\":\"SaveTool\"},{\"attributes\":{},\"id\":\"1365\",\"type\":\"CategoricalTickFormatter\"},{\"attributes\":{\"active_drag\":\"auto\",\"active_inspect\":\"auto\",\"active_multi\":null,\"active_scroll\":\"auto\",\"active_tap\":\"auto\",\"tools\":[{\"id\":\"1352\",\"type\":\"SaveTool\"},{\"id\":\"1396\",\"type\":\"HoverTool\"}]},\"id\":\"1353\",\"type\":\"Toolbar\"},{\"attributes\":{\"source\":{\"id\":\"1375\",\"type\":\"ColumnDataSource\"}},\"id\":\"1381\",\"type\":\"CDSView\"},{\"attributes\":{\"dimension\":1,\"ticker\":{\"id\":\"1348\",\"type\":\"BasicTicker\"}},\"id\":\"1351\",\"type\":\"Grid\"},{\"attributes\":{\"fill_alpha\":{\"value\":0.9},\"fill_color\":{\"value\":\"#0BB5FF\"},\"line_color\":{\"value\":\"#0BB5FF\"},\"top\":{\"field\":\"counts\"},\"width\":{\"value\":0.4},\"x\":{\"field\":\"x\",\"transform\":{\"id\":\"1374\",\"type\":\"Dodge\"}}},\"id\":\"1377\",\"type\":\"VBar\"},{\"attributes\":{\"label\":{\"value\":\"LCC Our Lady\"},\"renderers\":[{\"id\":\"1361\",\"type\":\"GlyphRenderer\"}]},\"id\":\"1369\",\"type\":\"LegendItem\"},{\"attributes\":{\"callback\":null,\"data\":{\"n\":[\"(3)\",\"(3)\",\"(1)\",\"(1)\",\"\"],\"x\":[\"Dec\",\"Jan\",\"Feb\",\"Mar\",\"Apr\"],\"y\":[26.33333333333333,63.66666666666666,96.0,30.0,0]},\"selected\":{\"id\":\"1389\",\"type\":\"Selection\"},\"selection_policy\":{\"id\":\"1390\",\"type\":\"UnionRenderers\"}},\"id\":\"1371\",\"type\":\"ColumnDataSource\"},{\"attributes\":{},\"id\":\"1387\",\"type\":\"Selection\"},{\"attributes\":{\"range\":{\"id\":\"1332\",\"type\":\"FactorRange\"},\"value\":0.225},\"id\":\"1392\",\"type\":\"Dodge\"},{\"attributes\":{},\"id\":\"1408\",\"type\":\"Selection\"},{\"attributes\":{},\"id\":\"1390\",\"type\":\"UnionRenderers\"},{\"attributes\":{},\"id\":\"1413\",\"type\":\"UnionRenderers\"},{\"attributes\":{\"source\":{\"id\":\"1356\",\"type\":\"ColumnDataSource\"}},\"id\":\"1362\",\"type\":\"CDSView\"},{\"attributes\":{},\"id\":\"1388\",\"type\":\"UnionRenderers\"},{\"attributes\":{},\"id\":\"1409\",\"type\":\"UnionRenderers\"},{\"attributes\":{},\"id\":\"1389\",\"type\":\"Selection\"},{\"attributes\":{\"level\":\"glyph\",\"source\":{\"id\":\"1393\",\"type\":\"ColumnDataSource\"},\"text\":{\"field\":\"n\"},\"text_align\":\"center\",\"text_color\":{\"value\":\"#000000\"},\"text_font_size\":{\"value\":\"7pt\"},\"x\":{\"field\":\"x\",\"transform\":{\"id\":\"1392\",\"type\":\"Dodge\"}},\"y\":{\"field\":\"y\"}},\"id\":\"1394\",\"type\":\"LabelSet\"},{\"attributes\":{\"label\":{\"value\":\"LCC Summer Road\"},\"renderers\":[{\"id\":\"1380\",\"type\":\"GlyphRenderer\"}]},\"id\":\"1391\",\"type\":\"LegendItem\"},{\"attributes\":{\"formatter\":{\"id\":\"1365\",\"type\":\"CategoricalTickFormatter\"},\"major_label_orientation\":0,\"major_label_standoff\":10,\"major_label_text_font_size\":{\"value\":\"12pt\"},\"major_label_text_font_style\":\"bold\",\"major_tick_line_color\":{\"value\":null},\"minor_tick_line_color\":{\"value\":null},\"ticker\":{\"id\":\"1344\",\"type\":\"CategoricalTicker\"}},\"id\":\"1343\",\"type\":\"CategoricalAxis\"},{\"attributes\":{},\"id\":\"1344\",\"type\":\"CategoricalTicker\"},{\"attributes\":{\"fill_alpha\":{\"value\":0.1},\"fill_color\":{\"value\":\"#1f77b4\"},\"line_alpha\":{\"value\":0.1},\"line_color\":{\"value\":\"#1f77b4\"},\"top\":{\"field\":\"counts\"},\"width\":{\"value\":0.4},\"x\":{\"field\":\"x\",\"transform\":{\"id\":\"1374\",\"type\":\"Dodge\"}}},\"id\":\"1378\",\"type\":\"VBar\"},{\"attributes\":{\"range\":{\"id\":\"1332\",\"type\":\"FactorRange\"},\"value\":-0.225},\"id\":\"1370\",\"type\":\"Dodge\"},{\"attributes\":{\"range\":{\"id\":\"1332\",\"type\":\"FactorRange\"},\"value\":0.225},\"id\":\"1374\",\"type\":\"Dodge\"},{\"attributes\":{\"range\":{\"id\":\"1332\",\"type\":\"FactorRange\"},\"value\":-0.225},\"id\":\"1355\",\"type\":\"Dodge\"},{\"attributes\":{\"callback\":null,\"data\":{\"counts\":[0,279.0,207.0,244.2,181.5],\"x\":[\"Dec\",\"Jan\",\"Feb\",\"Mar\",\"Apr\"]},\"selected\":{\"id\":\"1408\",\"type\":\"Selection\"},\"selection_policy\":{\"id\":\"1409\",\"type\":\"UnionRenderers\"}},\"id\":\"1375\",\"type\":\"ColumnDataSource\"},{\"attributes\":{},\"id\":\"1341\",\"type\":\"LinearScale\"},{\"attributes\":{\"text\":\"Note: (*) is number of days with sensor data\",\"text_font_size\":{\"value\":\"10pt\"},\"text_font_style\":\"normal\"},\"id\":\"1400\",\"type\":\"Title\"},{\"attributes\":{\"callback\":null,\"data\":{\"counts\":[26.33333333333333,63.66666666666666,96.0,30.0,0],\"x\":[\"Dec\",\"Jan\",\"Feb\",\"Mar\",\"Apr\"]},\"selected\":{\"id\":\"1387\",\"type\":\"Selection\"},\"selection_policy\":{\"id\":\"1388\",\"type\":\"UnionRenderers\"}},\"id\":\"1356\",\"type\":\"ColumnDataSource\"},{\"attributes\":{\"fill_alpha\":{\"value\":0.1},\"fill_color\":{\"value\":\"#1f77b4\"},\"line_alpha\":{\"value\":0.1},\"line_color\":{\"value\":\"#1f77b4\"},\"top\":{\"field\":\"counts\"},\"width\":{\"value\":0.4},\"x\":{\"field\":\"x\",\"transform\":{\"id\":\"1355\",\"type\":\"Dodge\"}}},\"id\":\"1359\",\"type\":\"VBar\"},{\"attributes\":{\"fill_color\":{\"value\":\"#1f77b4\"},\"line_color\":{\"value\":\"#1f77b4\"},\"top\":{\"field\":\"counts\"},\"width\":{\"value\":0.4},\"x\":{\"field\":\"x\",\"transform\":{\"id\":\"1355\",\"type\":\"Dodge\"}}},\"id\":\"1360\",\"type\":\"VBar\"},{\"attributes\":{},\"id\":\"1339\",\"type\":\"CategoricalScale\"},{\"attributes\":{\"callback\":null,\"end\":362.7},\"id\":\"1399\",\"type\":\"Range1d\"},{\"attributes\":{\"text\":\"Season 2017-2018 | Average Daily Trailhead Users Per Month For Saturdays\",\"text_font_size\":{\"value\":\"13pt\"}},\"id\":\"1398\",\"type\":\"Title\"}],\"root_ids\":[\"1333\"]},\"title\":\"Bokeh Application\",\"version\":\"1.4.0\"}};\n",
       "  var render_items = [{\"docid\":\"4e97fdc3-5774-4b70-a7ff-0f934f7f7b13\",\"roots\":{\"1333\":\"14a1baab-d72d-48e0-a4f0-7ed99d9054a2\"}}];\n",
       "  root.Bokeh.embed.embed_items_notebook(docs_json, render_items);\n",
       "\n",
       "  }\n",
       "  if (root.Bokeh !== undefined) {\n",
       "    embed_document(root);\n",
       "  } else {\n",
       "    var attempts = 0;\n",
       "    var timer = setInterval(function(root) {\n",
       "      if (root.Bokeh !== undefined) {\n",
       "        clearInterval(timer);\n",
       "        embed_document(root);\n",
       "      } else {\n",
       "        attempts++;\n",
       "        if (attempts > 100) {\n",
       "          clearInterval(timer);\n",
       "          console.log(\"Bokeh: ERROR: Unable to run BokehJS code because BokehJS library is missing\");\n",
       "        }\n",
       "      }\n",
       "    }, 10, root)\n",
       "  }\n",
       "})(window);"
      ],
      "application/vnd.bokehjs_exec.v0+json": ""
     },
     "metadata": {
      "application/vnd.bokehjs_exec.v0+json": {
       "id": "1333"
      }
     },
     "output_type": "display_data"
    }
   ],
   "source": [
    "season = '2017-2018'\n",
    "sites = [x for x in adu_df.query(\"season == @season\")['site'].unique() if (\"LCC\" in x and \"Gate\" not in x)]\n",
    "dayOfWeek = 'Saturday'\n",
    "src_df = dub.make_data_set(season, sites, dayOfWeek, adu_df)\n",
    "p = dub.make_plot(src_df, show_sensor_n=True)\n",
    "fig_path = os.path.abspath(os.path.join(os.getcwd(), \"..\",\"reports\", \"figures\", \"daily_user_averages\", \n",
    "                                        \"daily_users_{}_{}_{}.png\".format(season.replace(\"-\", \"\"), \"LCC\", dayOfWeek)))\n",
    "export_png(p, fig_path)\n",
    "show(p)"
   ]
  },
  {
   "cell_type": "code",
   "execution_count": 5,
   "metadata": {},
   "outputs": [
    {
     "data": {
      "text/html": [
       "\n",
       "\n",
       "\n",
       "\n",
       "\n",
       "\n",
       "  <div class=\"bk-root\" id=\"abcab238-a4cb-496d-9657-9cd3f6def963\" data-root-id=\"1676\"></div>\n"
      ]
     },
     "metadata": {},
     "output_type": "display_data"
    },
    {
     "data": {
      "application/javascript": [
       "(function(root) {\n",
       "  function embed_document(root) {\n",
       "    \n",
       "  var docs_json = {\"b32776a0-1426-4f3c-8328-e7339ee82201\":{\"roots\":{\"references\":[{\"attributes\":{\"above\":[{\"id\":\"1831\",\"type\":\"Title\"}],\"below\":[{\"id\":\"1686\",\"type\":\"CategoricalAxis\"},{\"id\":\"1833\",\"type\":\"Title\"}],\"center\":[{\"id\":\"1689\",\"type\":\"Grid\"},{\"id\":\"1694\",\"type\":\"Grid\"},{\"id\":\"1711\",\"type\":\"Legend\"},{\"id\":\"1715\",\"type\":\"LabelSet\"},{\"id\":\"1737\",\"type\":\"LabelSet\"},{\"id\":\"1763\",\"type\":\"LabelSet\"},{\"id\":\"1793\",\"type\":\"LabelSet\"},{\"id\":\"1827\",\"type\":\"LabelSet\"}],\"left\":[{\"id\":\"1690\",\"type\":\"LinearAxis\"}],\"plot_height\":400,\"plot_width\":800,\"renderers\":[{\"id\":\"1704\",\"type\":\"GlyphRenderer\"},{\"id\":\"1723\",\"type\":\"GlyphRenderer\"},{\"id\":\"1745\",\"type\":\"GlyphRenderer\"},{\"id\":\"1771\",\"type\":\"GlyphRenderer\"},{\"id\":\"1801\",\"type\":\"GlyphRenderer\"}],\"title\":{\"id\":\"1677\",\"type\":\"Title\"},\"toolbar\":{\"id\":\"1696\",\"type\":\"Toolbar\"},\"x_range\":{\"id\":\"1675\",\"type\":\"FactorRange\"},\"x_scale\":{\"id\":\"1682\",\"type\":\"CategoricalScale\"},\"y_range\":{\"id\":\"1832\",\"type\":\"Range1d\"},\"y_scale\":{\"id\":\"1684\",\"type\":\"LinearScale\"}},\"id\":\"1676\",\"subtype\":\"Figure\",\"type\":\"Plot\"},{\"attributes\":{\"data_source\":{\"id\":\"1718\",\"type\":\"ColumnDataSource\"},\"glyph\":{\"id\":\"1720\",\"type\":\"VBar\"},\"hover_glyph\":{\"id\":\"1722\",\"type\":\"VBar\"},\"muted_glyph\":null,\"name\":\"LCC Our Lady East\",\"nonselection_glyph\":{\"id\":\"1721\",\"type\":\"VBar\"},\"selection_glyph\":null,\"view\":{\"id\":\"1724\",\"type\":\"CDSView\"}},\"id\":\"1723\",\"type\":\"GlyphRenderer\"},{\"attributes\":{\"data_source\":{\"id\":\"1766\",\"type\":\"ColumnDataSource\"},\"glyph\":{\"id\":\"1768\",\"type\":\"VBar\"},\"hover_glyph\":{\"id\":\"1770\",\"type\":\"VBar\"},\"muted_glyph\":null,\"name\":\"LCC Summer Road 2\",\"nonselection_glyph\":{\"id\":\"1769\",\"type\":\"VBar\"},\"selection_glyph\":null,\"view\":{\"id\":\"1772\",\"type\":\"CDSView\"}},\"id\":\"1771\",\"type\":\"GlyphRenderer\"},{\"attributes\":{\"fill_color\":{\"value\":\"#1f77b4\"},\"line_color\":{\"value\":\"#1f77b4\"},\"top\":{\"field\":\"counts\"},\"width\":{\"value\":0.16},\"x\":{\"field\":\"x\",\"transform\":{\"id\":\"1717\",\"type\":\"Dodge\"}}},\"id\":\"1722\",\"type\":\"VBar\"},{\"attributes\":{\"source\":{\"id\":\"1766\",\"type\":\"ColumnDataSource\"}},\"id\":\"1772\",\"type\":\"CDSView\"},{\"attributes\":{\"text\":\"Note: (*) is number of days with sensor data\",\"text_font_size\":{\"value\":\"10pt\"},\"text_font_style\":\"normal\"},\"id\":\"1833\",\"type\":\"Title\"},{\"attributes\":{},\"id\":\"1788\",\"type\":\"Selection\"},{\"attributes\":{\"fill_alpha\":{\"value\":0.1},\"fill_color\":{\"value\":\"#1f77b4\"},\"line_alpha\":{\"value\":0.1},\"line_color\":{\"value\":\"#1f77b4\"},\"top\":{\"field\":\"counts\"},\"width\":{\"value\":0.16},\"x\":{\"field\":\"x\",\"transform\":{\"id\":\"1765\",\"type\":\"Dodge\"}}},\"id\":\"1769\",\"type\":\"VBar\"},{\"attributes\":{\"fill_alpha\":{\"value\":0.1},\"fill_color\":{\"value\":\"#1f77b4\"},\"line_alpha\":{\"value\":0.1},\"line_color\":{\"value\":\"#1f77b4\"},\"top\":{\"field\":\"counts\"},\"width\":{\"value\":0.16},\"x\":{\"field\":\"x\",\"transform\":{\"id\":\"1795\",\"type\":\"Dodge\"}}},\"id\":\"1799\",\"type\":\"VBar\"},{\"attributes\":{},\"id\":\"1783\",\"type\":\"UnionRenderers\"},{\"attributes\":{\"source\":{\"id\":\"1718\",\"type\":\"ColumnDataSource\"}},\"id\":\"1724\",\"type\":\"CDSView\"},{\"attributes\":{},\"id\":\"1789\",\"type\":\"UnionRenderers\"},{\"attributes\":{\"fill_alpha\":{\"value\":0.1},\"fill_color\":{\"value\":\"#1f77b4\"},\"line_alpha\":{\"value\":0.1},\"line_color\":{\"value\":\"#1f77b4\"},\"top\":{\"field\":\"counts\"},\"width\":{\"value\":0.16},\"x\":{\"field\":\"x\",\"transform\":{\"id\":\"1717\",\"type\":\"Dodge\"}}},\"id\":\"1721\",\"type\":\"VBar\"},{\"attributes\":{},\"id\":\"1782\",\"type\":\"Selection\"},{\"attributes\":{\"label\":{\"value\":\"LCC Summer Road 2\"},\"renderers\":[{\"id\":\"1771\",\"type\":\"GlyphRenderer\"}]},\"id\":\"1790\",\"type\":\"LegendItem\"},{\"attributes\":{\"callback\":null,\"data\":{\"counts\":[47.58620689655172,56.68965517241379,86.17391304347827,73.5806451612903,41.5],\"x\":[\"Dec\",\"Jan\",\"Feb\",\"Mar\",\"Apr\"]},\"selected\":{\"id\":\"1754\",\"type\":\"Selection\"},\"selection_policy\":{\"id\":\"1755\",\"type\":\"UnionRenderers\"}},\"id\":\"1718\",\"type\":\"ColumnDataSource\"},{\"attributes\":{\"fill_alpha\":{\"value\":0.9},\"fill_color\":{\"value\":\"#00688B\"},\"line_color\":{\"value\":\"#00688B\"},\"top\":{\"field\":\"counts\"},\"width\":{\"value\":0.16},\"x\":{\"field\":\"x\",\"transform\":{\"id\":\"1765\",\"type\":\"Dodge\"}}},\"id\":\"1768\",\"type\":\"VBar\"},{\"attributes\":{},\"id\":\"1730\",\"type\":\"Selection\"},{\"attributes\":{\"fill_alpha\":{\"value\":0.9},\"fill_color\":{\"value\":\"#0D4F8B\"},\"line_color\":{\"value\":\"#0D4F8B\"},\"top\":{\"field\":\"counts\"},\"width\":{\"value\":0.16},\"x\":{\"field\":\"x\",\"transform\":{\"id\":\"1795\",\"type\":\"Dodge\"}}},\"id\":\"1798\",\"type\":\"VBar\"},{\"attributes\":{},\"id\":\"1733\",\"type\":\"UnionRenderers\"},{\"attributes\":{\"callback\":null,\"factors\":[\"Dec\",\"Jan\",\"Feb\",\"Mar\",\"Apr\"],\"range_padding\":0.1},\"id\":\"1675\",\"type\":\"FactorRange\"},{\"attributes\":{\"label\":{\"value\":\"LCC Our Lady East\"},\"renderers\":[{\"id\":\"1723\",\"type\":\"GlyphRenderer\"}]},\"id\":\"1734\",\"type\":\"LegendItem\"},{\"attributes\":{},\"id\":\"1731\",\"type\":\"UnionRenderers\"},{\"attributes\":{\"range\":{\"id\":\"1675\",\"type\":\"FactorRange\"},\"value\":0.34500000000000003},\"id\":\"1795\",\"type\":\"Dodge\"},{\"attributes\":{\"level\":\"glyph\",\"source\":{\"id\":\"1792\",\"type\":\"ColumnDataSource\"},\"text\":{\"field\":\"n\"},\"text_align\":\"center\",\"text_color\":{\"value\":\"#000000\"},\"text_font_size\":{\"value\":\"7pt\"},\"x\":{\"field\":\"x\",\"transform\":{\"id\":\"1791\",\"type\":\"Dodge\"}},\"y\":{\"field\":\"y\"}},\"id\":\"1793\",\"type\":\"LabelSet\"},{\"attributes\":{},\"id\":\"1732\",\"type\":\"Selection\"},{\"attributes\":{\"range\":{\"id\":\"1675\",\"type\":\"FactorRange\"},\"value\":-0.34500000000000003},\"id\":\"1713\",\"type\":\"Dodge\"},{\"attributes\":{\"range\":{\"id\":\"1675\",\"type\":\"FactorRange\"}},\"id\":\"1739\",\"type\":\"Dodge\"},{\"attributes\":{\"range\":{\"id\":\"1675\",\"type\":\"FactorRange\"},\"value\":0.17250000000000001},\"id\":\"1765\",\"type\":\"Dodge\"},{\"attributes\":{},\"id\":\"1858\",\"type\":\"UnionRenderers\"},{\"attributes\":{\"fill_color\":{\"value\":\"#1f77b4\"},\"line_color\":{\"value\":\"#1f77b4\"},\"top\":{\"field\":\"counts\"},\"width\":{\"value\":0.16},\"x\":{\"field\":\"x\",\"transform\":{\"id\":\"1795\",\"type\":\"Dodge\"}}},\"id\":\"1800\",\"type\":\"VBar\"},{\"attributes\":{},\"id\":\"1848\",\"type\":\"UnionRenderers\"},{\"attributes\":{\"level\":\"glyph\",\"source\":{\"id\":\"1736\",\"type\":\"ColumnDataSource\"},\"text\":{\"field\":\"n\"},\"text_align\":\"center\",\"text_color\":{\"value\":\"#000000\"},\"text_font_size\":{\"value\":\"7pt\"},\"x\":{\"field\":\"x\",\"transform\":{\"id\":\"1735\",\"type\":\"Dodge\"}},\"y\":{\"field\":\"y\"}},\"id\":\"1737\",\"type\":\"LabelSet\"},{\"attributes\":{\"dimension\":1,\"ticker\":{\"id\":\"1691\",\"type\":\"BasicTicker\"}},\"id\":\"1694\",\"type\":\"Grid\"},{\"attributes\":{\"callback\":null,\"data\":{\"n\":[\"(22)\",\"(16)\",\"(19)\",\"(27)\",\"(27)\"],\"x\":[\"Dec\",\"Jan\",\"Feb\",\"Mar\",\"Apr\"],\"y\":[10.909090909090908,8.75,91.31578947368419,116.96296296296295,139.03703703703704]},\"selected\":{\"id\":\"1822\",\"type\":\"Selection\"},\"selection_policy\":{\"id\":\"1823\",\"type\":\"UnionRenderers\"}},\"id\":\"1792\",\"type\":\"ColumnDataSource\"},{\"attributes\":{\"fill_alpha\":{\"value\":0.1},\"fill_color\":{\"value\":\"#1f77b4\"},\"line_alpha\":{\"value\":0.1},\"line_color\":{\"value\":\"#1f77b4\"},\"top\":{\"field\":\"counts\"},\"width\":{\"value\":0.16},\"x\":{\"field\":\"x\",\"transform\":{\"id\":\"1739\",\"type\":\"Dodge\"}}},\"id\":\"1743\",\"type\":\"VBar\"},{\"attributes\":{\"fill_alpha\":{\"value\":0.9},\"fill_color\":{\"value\":\"#0BB5FF\"},\"line_color\":{\"value\":\"#0BB5FF\"},\"top\":{\"field\":\"counts\"},\"width\":{\"value\":0.16},\"x\":{\"field\":\"x\",\"transform\":{\"id\":\"1717\",\"type\":\"Dodge\"}}},\"id\":\"1720\",\"type\":\"VBar\"},{\"attributes\":{\"callback\":null,\"data\":{\"n\":[\"(29)\",\"(29)\",\"(23)\",\"(31)\",\"(30)\"],\"x\":[\"Dec\",\"Jan\",\"Feb\",\"Mar\",\"Apr\"],\"y\":[47.58620689655172,56.68965517241379,86.17391304347827,73.5806451612903,41.5]},\"selected\":{\"id\":\"1758\",\"type\":\"Selection\"},\"selection_policy\":{\"id\":\"1759\",\"type\":\"UnionRenderers\"}},\"id\":\"1736\",\"type\":\"ColumnDataSource\"},{\"attributes\":{},\"id\":\"1857\",\"type\":\"Selection\"},{\"attributes\":{\"callback\":null,\"data\":{\"counts\":[242.3,250.06451612903226,231.64285714285717,288.54838709677415,175.56666666666663],\"x\":[\"Dec\",\"Jan\",\"Feb\",\"Mar\",\"Apr\"]},\"selected\":{\"id\":\"1782\",\"type\":\"Selection\"},\"selection_policy\":{\"id\":\"1783\",\"type\":\"UnionRenderers\"}},\"id\":\"1740\",\"type\":\"ColumnDataSource\"},{\"attributes\":{\"active_drag\":\"auto\",\"active_inspect\":\"auto\",\"active_multi\":null,\"active_scroll\":\"auto\",\"active_tap\":\"auto\",\"tools\":[{\"id\":\"1695\",\"type\":\"SaveTool\"},{\"id\":\"1829\",\"type\":\"HoverTool\"}]},\"id\":\"1696\",\"type\":\"Toolbar\"},{\"attributes\":{\"callback\":null,\"data\":{\"counts\":[74.2,75.10344827586206,74.3,81.65517241379311,57.24137931034482],\"x\":[\"Dec\",\"Jan\",\"Feb\",\"Mar\",\"Apr\"]},\"selected\":{\"id\":\"1730\",\"type\":\"Selection\"},\"selection_policy\":{\"id\":\"1731\",\"type\":\"UnionRenderers\"}},\"id\":\"1699\",\"type\":\"ColumnDataSource\"},{\"attributes\":{\"fill_alpha\":{\"value\":0.9},\"fill_color\":{\"value\":\"#009ACD\"},\"line_color\":{\"value\":\"#009ACD\"},\"top\":{\"field\":\"counts\"},\"width\":{\"value\":0.16},\"x\":{\"field\":\"x\",\"transform\":{\"id\":\"1739\",\"type\":\"Dodge\"}}},\"id\":\"1742\",\"type\":\"VBar\"},{\"attributes\":{\"callback\":null,\"data\":{\"counts\":[10.909090909090908,8.75,91.31578947368419,116.96296296296295,139.03703703703704],\"x\":[\"Dec\",\"Jan\",\"Feb\",\"Mar\",\"Apr\"]},\"selected\":{\"id\":\"1814\",\"type\":\"Selection\"},\"selection_policy\":{\"id\":\"1815\",\"type\":\"UnionRenderers\"}},\"id\":\"1766\",\"type\":\"ColumnDataSource\"},{\"attributes\":{\"text\":\"\",\"text_font_size\":{\"value\":\"12pt\"}},\"id\":\"1677\",\"type\":\"Title\"},{\"attributes\":{\"callback\":null,\"data\":{\"counts\":[130.82142857142858,135.72413793103448,122.66666666666669,143.41379310344828,77.07142857142857],\"x\":[\"Dec\",\"Jan\",\"Feb\",\"Mar\",\"Apr\"]},\"selected\":{\"id\":\"1847\",\"type\":\"Selection\"},\"selection_policy\":{\"id\":\"1848\",\"type\":\"UnionRenderers\"}},\"id\":\"1796\",\"type\":\"ColumnDataSource\"},{\"attributes\":{\"range\":{\"id\":\"1675\",\"type\":\"FactorRange\"},\"value\":0.17250000000000001},\"id\":\"1791\",\"type\":\"Dodge\"},{\"attributes\":{},\"id\":\"1695\",\"type\":\"SaveTool\"},{\"attributes\":{\"label\":{\"value\":\"LCC Our Lady\"},\"renderers\":[{\"id\":\"1704\",\"type\":\"GlyphRenderer\"}]},\"id\":\"1712\",\"type\":\"LegendItem\"},{\"attributes\":{\"range\":{\"id\":\"1675\",\"type\":\"FactorRange\"},\"value\":0.34500000000000003},\"id\":\"1825\",\"type\":\"Dodge\"},{\"attributes\":{\"range\":{\"id\":\"1675\",\"type\":\"FactorRange\"}},\"id\":\"1761\",\"type\":\"Dodge\"},{\"attributes\":{\"fill_color\":{\"value\":\"#1f77b4\"},\"line_color\":{\"value\":\"#1f77b4\"},\"top\":{\"field\":\"counts\"},\"width\":{\"value\":0.16},\"x\":{\"field\":\"x\",\"transform\":{\"id\":\"1765\",\"type\":\"Dodge\"}}},\"id\":\"1770\",\"type\":\"VBar\"},{\"attributes\":{\"range\":{\"id\":\"1675\",\"type\":\"FactorRange\"},\"value\":-0.17250000000000001},\"id\":\"1735\",\"type\":\"Dodge\"},{\"attributes\":{},\"id\":\"1682\",\"type\":\"CategoricalScale\"},{\"attributes\":{},\"id\":\"1687\",\"type\":\"CategoricalTicker\"},{\"attributes\":{\"fill_color\":{\"value\":\"#1f77b4\"},\"line_color\":{\"value\":\"#1f77b4\"},\"top\":{\"field\":\"counts\"},\"width\":{\"value\":0.16},\"x\":{\"field\":\"x\",\"transform\":{\"id\":\"1698\",\"type\":\"Dodge\"}}},\"id\":\"1703\",\"type\":\"VBar\"},{\"attributes\":{\"data_source\":{\"id\":\"1740\",\"type\":\"ColumnDataSource\"},\"glyph\":{\"id\":\"1742\",\"type\":\"VBar\"},\"hover_glyph\":{\"id\":\"1744\",\"type\":\"VBar\"},\"muted_glyph\":null,\"name\":\"LCC Summer Road\",\"nonselection_glyph\":{\"id\":\"1743\",\"type\":\"VBar\"},\"selection_glyph\":null,\"view\":{\"id\":\"1746\",\"type\":\"CDSView\"}},\"id\":\"1745\",\"type\":\"GlyphRenderer\"},{\"attributes\":{\"formatter\":{\"id\":\"1710\",\"type\":\"BasicTickFormatter\"},\"major_label_text_font_size\":{\"value\":\"12pt\"},\"major_label_text_font_style\":\"bold\",\"minor_tick_line_color\":{\"value\":null},\"ticker\":{\"id\":\"1691\",\"type\":\"BasicTicker\"}},\"id\":\"1690\",\"type\":\"LinearAxis\"},{\"attributes\":{\"fill_color\":{\"value\":\"#1f77b4\"},\"line_color\":{\"value\":\"#1f77b4\"},\"top\":{\"field\":\"counts\"},\"width\":{\"value\":0.16},\"x\":{\"field\":\"x\",\"transform\":{\"id\":\"1739\",\"type\":\"Dodge\"}}},\"id\":\"1744\",\"type\":\"VBar\"},{\"attributes\":{\"data_source\":{\"id\":\"1796\",\"type\":\"ColumnDataSource\"},\"glyph\":{\"id\":\"1798\",\"type\":\"VBar\"},\"hover_glyph\":{\"id\":\"1800\",\"type\":\"VBar\"},\"muted_glyph\":null,\"name\":\"LCC White Pine\",\"nonselection_glyph\":{\"id\":\"1799\",\"type\":\"VBar\"},\"selection_glyph\":null,\"view\":{\"id\":\"1802\",\"type\":\"CDSView\"}},\"id\":\"1801\",\"type\":\"GlyphRenderer\"},{\"attributes\":{},\"id\":\"1684\",\"type\":\"LinearScale\"},{\"attributes\":{\"source\":{\"id\":\"1796\",\"type\":\"ColumnDataSource\"}},\"id\":\"1802\",\"type\":\"CDSView\"},{\"attributes\":{},\"id\":\"1847\",\"type\":\"Selection\"},{\"attributes\":{\"fill_alpha\":{\"value\":0.1},\"fill_color\":{\"value\":\"#1f77b4\"},\"line_alpha\":{\"value\":0.1},\"line_color\":{\"value\":\"#1f77b4\"},\"top\":{\"field\":\"counts\"},\"width\":{\"value\":0.16},\"x\":{\"field\":\"x\",\"transform\":{\"id\":\"1698\",\"type\":\"Dodge\"}}},\"id\":\"1702\",\"type\":\"VBar\"},{\"attributes\":{},\"id\":\"1708\",\"type\":\"CategoricalTickFormatter\"},{\"attributes\":{\"label\":{\"value\":\"LCC White Pine\"},\"renderers\":[{\"id\":\"1801\",\"type\":\"GlyphRenderer\"}]},\"id\":\"1824\",\"type\":\"LegendItem\"},{\"attributes\":{\"grid_line_color\":null,\"ticker\":{\"id\":\"1687\",\"type\":\"CategoricalTicker\"}},\"id\":\"1689\",\"type\":\"Grid\"},{\"attributes\":{\"source\":{\"id\":\"1740\",\"type\":\"ColumnDataSource\"}},\"id\":\"1746\",\"type\":\"CDSView\"},{\"attributes\":{},\"id\":\"1691\",\"type\":\"BasicTicker\"},{\"attributes\":{},\"id\":\"1815\",\"type\":\"UnionRenderers\"},{\"attributes\":{},\"id\":\"1814\",\"type\":\"Selection\"},{\"attributes\":{\"range\":{\"id\":\"1675\",\"type\":\"FactorRange\"},\"value\":-0.17250000000000001},\"id\":\"1717\",\"type\":\"Dodge\"},{\"attributes\":{},\"id\":\"1822\",\"type\":\"Selection\"},{\"attributes\":{\"formatter\":{\"id\":\"1708\",\"type\":\"CategoricalTickFormatter\"},\"major_label_orientation\":0,\"major_label_standoff\":10,\"major_label_text_font_size\":{\"value\":\"12pt\"},\"major_label_text_font_style\":\"bold\",\"major_tick_line_color\":{\"value\":null},\"minor_tick_line_color\":{\"value\":null},\"ticker\":{\"id\":\"1687\",\"type\":\"CategoricalTicker\"}},\"id\":\"1686\",\"type\":\"CategoricalAxis\"},{\"attributes\":{\"label\":{\"value\":\"LCC Summer Road\"},\"renderers\":[{\"id\":\"1745\",\"type\":\"GlyphRenderer\"}]},\"id\":\"1760\",\"type\":\"LegendItem\"},{\"attributes\":{},\"id\":\"1823\",\"type\":\"UnionRenderers\"},{\"attributes\":{},\"id\":\"1754\",\"type\":\"Selection\"},{\"attributes\":{\"text\":\"Season 2018-2019 | Average Daily Trailhead Users Per Month\",\"text_font_size\":{\"value\":\"13pt\"}},\"id\":\"1831\",\"type\":\"Title\"},{\"attributes\":{\"source\":{\"id\":\"1699\",\"type\":\"ColumnDataSource\"}},\"id\":\"1705\",\"type\":\"CDSView\"},{\"attributes\":{},\"id\":\"1755\",\"type\":\"UnionRenderers\"},{\"attributes\":{\"level\":\"glyph\",\"source\":{\"id\":\"1826\",\"type\":\"ColumnDataSource\"},\"text\":{\"field\":\"n\"},\"text_align\":\"center\",\"text_color\":{\"value\":\"#000000\"},\"text_font_size\":{\"value\":\"7pt\"},\"x\":{\"field\":\"x\",\"transform\":{\"id\":\"1825\",\"type\":\"Dodge\"}},\"y\":{\"field\":\"y\"}},\"id\":\"1827\",\"type\":\"LabelSet\"},{\"attributes\":{\"fill_alpha\":{\"value\":0.9},\"fill_color\":{\"value\":\"#0EBFE9\"},\"line_color\":{\"value\":\"#0EBFE9\"},\"top\":{\"field\":\"counts\"},\"width\":{\"value\":0.16},\"x\":{\"field\":\"x\",\"transform\":{\"id\":\"1698\",\"type\":\"Dodge\"}}},\"id\":\"1701\",\"type\":\"VBar\"},{\"attributes\":{\"data_source\":{\"id\":\"1699\",\"type\":\"ColumnDataSource\"},\"glyph\":{\"id\":\"1701\",\"type\":\"VBar\"},\"hover_glyph\":{\"id\":\"1703\",\"type\":\"VBar\"},\"muted_glyph\":null,\"name\":\"LCC Our Lady\",\"nonselection_glyph\":{\"id\":\"1702\",\"type\":\"VBar\"},\"selection_glyph\":null,\"view\":{\"id\":\"1705\",\"type\":\"CDSView\"}},\"id\":\"1704\",\"type\":\"GlyphRenderer\"},{\"attributes\":{},\"id\":\"1758\",\"type\":\"Selection\"},{\"attributes\":{},\"id\":\"1759\",\"type\":\"UnionRenderers\"},{\"attributes\":{\"range\":{\"id\":\"1675\",\"type\":\"FactorRange\"},\"value\":-0.34500000000000003},\"id\":\"1698\",\"type\":\"Dodge\"},{\"attributes\":{\"callback\":null,\"end\":375.1129032258064},\"id\":\"1832\",\"type\":\"Range1d\"},{\"attributes\":{\"items\":[{\"id\":\"1712\",\"type\":\"LegendItem\"},{\"id\":\"1734\",\"type\":\"LegendItem\"},{\"id\":\"1760\",\"type\":\"LegendItem\"},{\"id\":\"1790\",\"type\":\"LegendItem\"},{\"id\":\"1824\",\"type\":\"LegendItem\"}],\"location\":\"top_left\",\"orientation\":\"horizontal\"},\"id\":\"1711\",\"type\":\"Legend\"},{\"attributes\":{},\"id\":\"1710\",\"type\":\"BasicTickFormatter\"},{\"attributes\":{\"callback\":null,\"data\":{\"n\":[\"(28)\",\"(29)\",\"(27)\",\"(29)\",\"(28)\"],\"x\":[\"Dec\",\"Jan\",\"Feb\",\"Mar\",\"Apr\"],\"y\":[130.82142857142858,135.72413793103448,122.66666666666669,143.41379310344828,77.07142857142857]},\"selected\":{\"id\":\"1857\",\"type\":\"Selection\"},\"selection_policy\":{\"id\":\"1858\",\"type\":\"UnionRenderers\"}},\"id\":\"1826\",\"type\":\"ColumnDataSource\"},{\"attributes\":{\"callback\":null,\"tooltips\":[[\"Site\",\"$name\"],[\"Average Daily Users\",\"@counts{int}\"]]},\"id\":\"1829\",\"type\":\"HoverTool\"},{\"attributes\":{\"callback\":null,\"data\":{\"n\":[\"(30)\",\"(29)\",\"(20)\",\"(29)\",\"(29)\"],\"x\":[\"Dec\",\"Jan\",\"Feb\",\"Mar\",\"Apr\"],\"y\":[74.2,75.10344827586206,74.3,81.65517241379311,57.24137931034482]},\"selected\":{\"id\":\"1732\",\"type\":\"Selection\"},\"selection_policy\":{\"id\":\"1733\",\"type\":\"UnionRenderers\"}},\"id\":\"1714\",\"type\":\"ColumnDataSource\"},{\"attributes\":{\"level\":\"glyph\",\"source\":{\"id\":\"1714\",\"type\":\"ColumnDataSource\"},\"text\":{\"field\":\"n\"},\"text_align\":\"center\",\"text_color\":{\"value\":\"#000000\"},\"text_font_size\":{\"value\":\"7pt\"},\"x\":{\"field\":\"x\",\"transform\":{\"id\":\"1713\",\"type\":\"Dodge\"}},\"y\":{\"field\":\"y\"}},\"id\":\"1715\",\"type\":\"LabelSet\"},{\"attributes\":{\"level\":\"glyph\",\"source\":{\"id\":\"1762\",\"type\":\"ColumnDataSource\"},\"text\":{\"field\":\"n\"},\"text_align\":\"center\",\"text_color\":{\"value\":\"#000000\"},\"text_font_size\":{\"value\":\"7pt\"},\"x\":{\"field\":\"x\",\"transform\":{\"id\":\"1761\",\"type\":\"Dodge\"}},\"y\":{\"field\":\"y\"}},\"id\":\"1763\",\"type\":\"LabelSet\"},{\"attributes\":{\"callback\":null,\"data\":{\"n\":[\"(30)\",\"(31)\",\"(28)\",\"(31)\",\"(30)\"],\"x\":[\"Dec\",\"Jan\",\"Feb\",\"Mar\",\"Apr\"],\"y\":[242.3,250.06451612903226,231.64285714285717,288.54838709677415,175.56666666666663]},\"selected\":{\"id\":\"1788\",\"type\":\"Selection\"},\"selection_policy\":{\"id\":\"1789\",\"type\":\"UnionRenderers\"}},\"id\":\"1762\",\"type\":\"ColumnDataSource\"}],\"root_ids\":[\"1676\"]},\"title\":\"Bokeh Application\",\"version\":\"1.4.0\"}};\n",
       "  var render_items = [{\"docid\":\"b32776a0-1426-4f3c-8328-e7339ee82201\",\"roots\":{\"1676\":\"abcab238-a4cb-496d-9657-9cd3f6def963\"}}];\n",
       "  root.Bokeh.embed.embed_items_notebook(docs_json, render_items);\n",
       "\n",
       "  }\n",
       "  if (root.Bokeh !== undefined) {\n",
       "    embed_document(root);\n",
       "  } else {\n",
       "    var attempts = 0;\n",
       "    var timer = setInterval(function(root) {\n",
       "      if (root.Bokeh !== undefined) {\n",
       "        clearInterval(timer);\n",
       "        embed_document(root);\n",
       "      } else {\n",
       "        attempts++;\n",
       "        if (attempts > 100) {\n",
       "          clearInterval(timer);\n",
       "          console.log(\"Bokeh: ERROR: Unable to run BokehJS code because BokehJS library is missing\");\n",
       "        }\n",
       "      }\n",
       "    }, 10, root)\n",
       "  }\n",
       "})(window);"
      ],
      "application/vnd.bokehjs_exec.v0+json": ""
     },
     "metadata": {
      "application/vnd.bokehjs_exec.v0+json": {
       "id": "1676"
      }
     },
     "output_type": "display_data"
    }
   ],
   "source": [
    "season = '2018-2019'\n",
    "sites = [x for x in adu_df.query(\"season == @season\")['site'].unique() if (\"LCC\" in x and \"Gate\" not in x)]\n",
    "dayOfWeek = 'All'\n",
    "src_df = dub.make_data_set(season, sites, dayOfWeek, adu_df)\n",
    "p = dub.make_plot(src_df, show_sensor_n=True)\n",
    "fig_path = os.path.abspath(os.path.join(os.getcwd(), \"..\",\"reports\", \"figures\", \"daily_user_averages\", \n",
    "                                        \"daily_users_{}_{}_{}.png\".format(season.replace(\"-\", \"\"), \"LCC\", dayOfWeek)))\n",
    "export_png(p, fig_path)\n",
    "show(p)"
   ]
  },
  {
   "cell_type": "code",
   "execution_count": 6,
   "metadata": {},
   "outputs": [
    {
     "data": {
      "text/html": [
       "\n",
       "\n",
       "\n",
       "\n",
       "\n",
       "\n",
       "  <div class=\"bk-root\" id=\"3dfe37eb-d16e-477e-9180-9e38d44f11e5\" data-root-id=\"2362\"></div>\n"
      ]
     },
     "metadata": {},
     "output_type": "display_data"
    },
    {
     "data": {
      "application/javascript": [
       "(function(root) {\n",
       "  function embed_document(root) {\n",
       "    \n",
       "  var docs_json = {\"00cc3666-0390-4cb6-924d-bf4d546e479d\":{\"roots\":{\"references\":[{\"attributes\":{\"above\":[{\"id\":\"2517\",\"type\":\"Title\"}],\"below\":[{\"id\":\"2372\",\"type\":\"CategoricalAxis\"},{\"id\":\"2519\",\"type\":\"Title\"}],\"center\":[{\"id\":\"2375\",\"type\":\"Grid\"},{\"id\":\"2380\",\"type\":\"Grid\"},{\"id\":\"2397\",\"type\":\"Legend\"},{\"id\":\"2401\",\"type\":\"LabelSet\"},{\"id\":\"2423\",\"type\":\"LabelSet\"},{\"id\":\"2449\",\"type\":\"LabelSet\"},{\"id\":\"2479\",\"type\":\"LabelSet\"},{\"id\":\"2513\",\"type\":\"LabelSet\"}],\"left\":[{\"id\":\"2376\",\"type\":\"LinearAxis\"}],\"plot_height\":400,\"plot_width\":800,\"renderers\":[{\"id\":\"2390\",\"type\":\"GlyphRenderer\"},{\"id\":\"2409\",\"type\":\"GlyphRenderer\"},{\"id\":\"2431\",\"type\":\"GlyphRenderer\"},{\"id\":\"2457\",\"type\":\"GlyphRenderer\"},{\"id\":\"2487\",\"type\":\"GlyphRenderer\"}],\"title\":{\"id\":\"2363\",\"type\":\"Title\"},\"toolbar\":{\"id\":\"2382\",\"type\":\"Toolbar\"},\"x_range\":{\"id\":\"2361\",\"type\":\"FactorRange\"},\"x_scale\":{\"id\":\"2368\",\"type\":\"CategoricalScale\"},\"y_range\":{\"id\":\"2518\",\"type\":\"Range1d\"},\"y_scale\":{\"id\":\"2370\",\"type\":\"LinearScale\"}},\"id\":\"2362\",\"subtype\":\"Figure\",\"type\":\"Plot\"},{\"attributes\":{},\"id\":\"2474\",\"type\":\"Selection\"},{\"attributes\":{\"label\":{\"value\":\"LCC White Pine\"},\"renderers\":[{\"id\":\"2487\",\"type\":\"GlyphRenderer\"}]},\"id\":\"2510\",\"type\":\"LegendItem\"},{\"attributes\":{},\"id\":\"2475\",\"type\":\"UnionRenderers\"},{\"attributes\":{\"fill_color\":{\"value\":\"#1f77b4\"},\"line_color\":{\"value\":\"#1f77b4\"},\"top\":{\"field\":\"counts\"},\"width\":{\"value\":0.16},\"x\":{\"field\":\"x\",\"transform\":{\"id\":\"2384\",\"type\":\"Dodge\"}}},\"id\":\"2389\",\"type\":\"VBar\"},{\"attributes\":{},\"id\":\"2501\",\"type\":\"UnionRenderers\"},{\"attributes\":{\"label\":{\"value\":\"LCC Summer Road 2\"},\"renderers\":[{\"id\":\"2457\",\"type\":\"GlyphRenderer\"}]},\"id\":\"2476\",\"type\":\"LegendItem\"},{\"attributes\":{},\"id\":\"2508\",\"type\":\"Selection\"},{\"attributes\":{},\"id\":\"2509\",\"type\":\"UnionRenderers\"},{\"attributes\":{\"fill_alpha\":{\"value\":0.1},\"fill_color\":{\"value\":\"#1f77b4\"},\"line_alpha\":{\"value\":0.1},\"line_color\":{\"value\":\"#1f77b4\"},\"top\":{\"field\":\"counts\"},\"width\":{\"value\":0.16},\"x\":{\"field\":\"x\",\"transform\":{\"id\":\"2481\",\"type\":\"Dodge\"}}},\"id\":\"2485\",\"type\":\"VBar\"},{\"attributes\":{\"callback\":null,\"tooltips\":[[\"Site\",\"$name\"],[\"Average Daily Users\",\"@counts{int}\"]]},\"id\":\"2515\",\"type\":\"HoverTool\"},{\"attributes\":{\"dimension\":1,\"ticker\":{\"id\":\"2377\",\"type\":\"BasicTicker\"}},\"id\":\"2380\",\"type\":\"Grid\"},{\"attributes\":{\"callback\":null,\"factors\":[\"Dec\",\"Jan\",\"Feb\",\"Mar\",\"Apr\"],\"range_padding\":0.1},\"id\":\"2361\",\"type\":\"FactorRange\"},{\"attributes\":{},\"id\":\"2381\",\"type\":\"SaveTool\"},{\"attributes\":{\"data_source\":{\"id\":\"2482\",\"type\":\"ColumnDataSource\"},\"glyph\":{\"id\":\"2484\",\"type\":\"VBar\"},\"hover_glyph\":{\"id\":\"2486\",\"type\":\"VBar\"},\"muted_glyph\":null,\"name\":\"LCC White Pine\",\"nonselection_glyph\":{\"id\":\"2485\",\"type\":\"VBar\"},\"selection_glyph\":null,\"view\":{\"id\":\"2488\",\"type\":\"CDSView\"}},\"id\":\"2487\",\"type\":\"GlyphRenderer\"},{\"attributes\":{},\"id\":\"2377\",\"type\":\"BasicTicker\"},{\"attributes\":{\"formatter\":{\"id\":\"2396\",\"type\":\"BasicTickFormatter\"},\"major_label_text_font_size\":{\"value\":\"12pt\"},\"major_label_text_font_style\":\"bold\",\"minor_tick_line_color\":{\"value\":null},\"ticker\":{\"id\":\"2377\",\"type\":\"BasicTicker\"}},\"id\":\"2376\",\"type\":\"LinearAxis\"},{\"attributes\":{\"fill_alpha\":{\"value\":0.1},\"fill_color\":{\"value\":\"#1f77b4\"},\"line_alpha\":{\"value\":0.1},\"line_color\":{\"value\":\"#1f77b4\"},\"top\":{\"field\":\"counts\"},\"width\":{\"value\":0.16},\"x\":{\"field\":\"x\",\"transform\":{\"id\":\"2403\",\"type\":\"Dodge\"}}},\"id\":\"2407\",\"type\":\"VBar\"},{\"attributes\":{\"fill_alpha\":{\"value\":0.9},\"fill_color\":{\"value\":\"#0D4F8B\"},\"line_color\":{\"value\":\"#0D4F8B\"},\"top\":{\"field\":\"counts\"},\"width\":{\"value\":0.16},\"x\":{\"field\":\"x\",\"transform\":{\"id\":\"2481\",\"type\":\"Dodge\"}}},\"id\":\"2484\",\"type\":\"VBar\"},{\"attributes\":{},\"id\":\"2533\",\"type\":\"Selection\"},{\"attributes\":{\"level\":\"glyph\",\"source\":{\"id\":\"2478\",\"type\":\"ColumnDataSource\"},\"text\":{\"field\":\"n\"},\"text_align\":\"center\",\"text_color\":{\"value\":\"#000000\"},\"text_font_size\":{\"value\":\"7pt\"},\"x\":{\"field\":\"x\",\"transform\":{\"id\":\"2477\",\"type\":\"Dodge\"}},\"y\":{\"field\":\"y\"}},\"id\":\"2479\",\"type\":\"LabelSet\"},{\"attributes\":{\"level\":\"glyph\",\"source\":{\"id\":\"2400\",\"type\":\"ColumnDataSource\"},\"text\":{\"field\":\"n\"},\"text_align\":\"center\",\"text_color\":{\"value\":\"#000000\"},\"text_font_size\":{\"value\":\"7pt\"},\"x\":{\"field\":\"x\",\"transform\":{\"id\":\"2399\",\"type\":\"Dodge\"}},\"y\":{\"field\":\"y\"}},\"id\":\"2401\",\"type\":\"LabelSet\"},{\"attributes\":{\"fill_color\":{\"value\":\"#1f77b4\"},\"line_color\":{\"value\":\"#1f77b4\"},\"top\":{\"field\":\"counts\"},\"width\":{\"value\":0.16},\"x\":{\"field\":\"x\",\"transform\":{\"id\":\"2403\",\"type\":\"Dodge\"}}},\"id\":\"2408\",\"type\":\"VBar\"},{\"attributes\":{\"level\":\"glyph\",\"source\":{\"id\":\"2512\",\"type\":\"ColumnDataSource\"},\"text\":{\"field\":\"n\"},\"text_align\":\"center\",\"text_color\":{\"value\":\"#000000\"},\"text_font_size\":{\"value\":\"7pt\"},\"x\":{\"field\":\"x\",\"transform\":{\"id\":\"2511\",\"type\":\"Dodge\"}},\"y\":{\"field\":\"y\"}},\"id\":\"2513\",\"type\":\"LabelSet\"},{\"attributes\":{\"text\":\"Season 2018-2019 | Average Daily Trailhead Users Per Month For Saturdays\",\"text_font_size\":{\"value\":\"13pt\"}},\"id\":\"2517\",\"type\":\"Title\"},{\"attributes\":{\"range\":{\"id\":\"2361\",\"type\":\"FactorRange\"},\"value\":-0.34500000000000003},\"id\":\"2399\",\"type\":\"Dodge\"},{\"attributes\":{\"fill_color\":{\"value\":\"#1f77b4\"},\"line_color\":{\"value\":\"#1f77b4\"},\"top\":{\"field\":\"counts\"},\"width\":{\"value\":0.16},\"x\":{\"field\":\"x\",\"transform\":{\"id\":\"2481\",\"type\":\"Dodge\"}}},\"id\":\"2486\",\"type\":\"VBar\"},{\"attributes\":{\"callback\":null,\"data\":{\"n\":[\"(4)\",\"(4)\",\"(4)\",\"(5)\",\"(4)\"],\"x\":[\"Dec\",\"Jan\",\"Feb\",\"Mar\",\"Apr\"],\"y\":[88.5,114.0,68.5,122.0,65.25]},\"selected\":{\"id\":\"2418\",\"type\":\"Selection\"},\"selection_policy\":{\"id\":\"2419\",\"type\":\"UnionRenderers\"}},\"id\":\"2400\",\"type\":\"ColumnDataSource\"},{\"attributes\":{\"range\":{\"id\":\"2361\",\"type\":\"FactorRange\"}},\"id\":\"2425\",\"type\":\"Dodge\"},{\"attributes\":{\"fill_alpha\":{\"value\":0.9},\"fill_color\":{\"value\":\"#0BB5FF\"},\"line_color\":{\"value\":\"#0BB5FF\"},\"top\":{\"field\":\"counts\"},\"width\":{\"value\":0.16},\"x\":{\"field\":\"x\",\"transform\":{\"id\":\"2403\",\"type\":\"Dodge\"}}},\"id\":\"2406\",\"type\":\"VBar\"},{\"attributes\":{},\"id\":\"2396\",\"type\":\"BasicTickFormatter\"},{\"attributes\":{\"active_drag\":\"auto\",\"active_inspect\":\"auto\",\"active_multi\":null,\"active_scroll\":\"auto\",\"active_tap\":\"auto\",\"tools\":[{\"id\":\"2381\",\"type\":\"SaveTool\"},{\"id\":\"2515\",\"type\":\"HoverTool\"}]},\"id\":\"2382\",\"type\":\"Toolbar\"},{\"attributes\":{\"data_source\":{\"id\":\"2385\",\"type\":\"ColumnDataSource\"},\"glyph\":{\"id\":\"2387\",\"type\":\"VBar\"},\"hover_glyph\":{\"id\":\"2389\",\"type\":\"VBar\"},\"muted_glyph\":null,\"name\":\"LCC Our Lady\",\"nonselection_glyph\":{\"id\":\"2388\",\"type\":\"VBar\"},\"selection_glyph\":null,\"view\":{\"id\":\"2391\",\"type\":\"CDSView\"}},\"id\":\"2390\",\"type\":\"GlyphRenderer\"},{\"attributes\":{\"range\":{\"id\":\"2361\",\"type\":\"FactorRange\"},\"value\":-0.17250000000000001},\"id\":\"2421\",\"type\":\"Dodge\"},{\"attributes\":{\"callback\":null,\"data\":{\"n\":[\"(4)\",\"(4)\",\"(4)\",\"(5)\",\"(4)\"],\"x\":[\"Dec\",\"Jan\",\"Feb\",\"Mar\",\"Apr\"],\"y\":[275.75,319.75,263.75,242.4,173.5]},\"selected\":{\"id\":\"2543\",\"type\":\"Selection\"},\"selection_policy\":{\"id\":\"2544\",\"type\":\"UnionRenderers\"}},\"id\":\"2512\",\"type\":\"ColumnDataSource\"},{\"attributes\":{\"callback\":null,\"end\":530.725},\"id\":\"2518\",\"type\":\"Range1d\"},{\"attributes\":{\"data_source\":{\"id\":\"2404\",\"type\":\"ColumnDataSource\"},\"glyph\":{\"id\":\"2406\",\"type\":\"VBar\"},\"hover_glyph\":{\"id\":\"2408\",\"type\":\"VBar\"},\"muted_glyph\":null,\"name\":\"LCC Our Lady East\",\"nonselection_glyph\":{\"id\":\"2407\",\"type\":\"VBar\"},\"selection_glyph\":null,\"view\":{\"id\":\"2410\",\"type\":\"CDSView\"}},\"id\":\"2409\",\"type\":\"GlyphRenderer\"},{\"attributes\":{\"callback\":null,\"data\":{\"counts\":[275.75,319.75,263.75,242.4,173.5],\"x\":[\"Dec\",\"Jan\",\"Feb\",\"Mar\",\"Apr\"]},\"selected\":{\"id\":\"2533\",\"type\":\"Selection\"},\"selection_policy\":{\"id\":\"2534\",\"type\":\"UnionRenderers\"}},\"id\":\"2482\",\"type\":\"ColumnDataSource\"},{\"attributes\":{\"range\":{\"id\":\"2361\",\"type\":\"FactorRange\"},\"value\":0.34500000000000003},\"id\":\"2511\",\"type\":\"Dodge\"},{\"attributes\":{\"callback\":null,\"data\":{\"n\":[\"(3)\",\"(2)\",\"(3)\",\"(4)\",\"(4)\"],\"x\":[\"Dec\",\"Jan\",\"Feb\",\"Mar\",\"Apr\"],\"y\":[15.0,12.5,111.66666666666669,137.0,200.5]},\"selected\":{\"id\":\"2508\",\"type\":\"Selection\"},\"selection_policy\":{\"id\":\"2509\",\"type\":\"UnionRenderers\"}},\"id\":\"2478\",\"type\":\"ColumnDataSource\"},{\"attributes\":{\"range\":{\"id\":\"2361\",\"type\":\"FactorRange\"},\"value\":0.34500000000000003},\"id\":\"2481\",\"type\":\"Dodge\"},{\"attributes\":{\"text\":\"Note: (*) is number of days with sensor data\",\"text_font_size\":{\"value\":\"10pt\"},\"text_font_style\":\"normal\"},\"id\":\"2519\",\"type\":\"Title\"},{\"attributes\":{\"callback\":null,\"data\":{\"counts\":[86.25,95.5,112.75,124.8,74.75],\"x\":[\"Dec\",\"Jan\",\"Feb\",\"Mar\",\"Apr\"]},\"selected\":{\"id\":\"2440\",\"type\":\"Selection\"},\"selection_policy\":{\"id\":\"2441\",\"type\":\"UnionRenderers\"}},\"id\":\"2404\",\"type\":\"ColumnDataSource\"},{\"attributes\":{\"fill_alpha\":{\"value\":0.1},\"fill_color\":{\"value\":\"#1f77b4\"},\"line_alpha\":{\"value\":0.1},\"line_color\":{\"value\":\"#1f77b4\"},\"top\":{\"field\":\"counts\"},\"width\":{\"value\":0.16},\"x\":{\"field\":\"x\",\"transform\":{\"id\":\"2384\",\"type\":\"Dodge\"}}},\"id\":\"2388\",\"type\":\"VBar\"},{\"attributes\":{\"source\":{\"id\":\"2385\",\"type\":\"ColumnDataSource\"}},\"id\":\"2391\",\"type\":\"CDSView\"},{\"attributes\":{},\"id\":\"2500\",\"type\":\"Selection\"},{\"attributes\":{},\"id\":\"2394\",\"type\":\"CategoricalTickFormatter\"},{\"attributes\":{\"source\":{\"id\":\"2482\",\"type\":\"ColumnDataSource\"}},\"id\":\"2488\",\"type\":\"CDSView\"},{\"attributes\":{\"range\":{\"id\":\"2361\",\"type\":\"FactorRange\"},\"value\":-0.34500000000000003},\"id\":\"2384\",\"type\":\"Dodge\"},{\"attributes\":{\"data_source\":{\"id\":\"2426\",\"type\":\"ColumnDataSource\"},\"glyph\":{\"id\":\"2428\",\"type\":\"VBar\"},\"hover_glyph\":{\"id\":\"2430\",\"type\":\"VBar\"},\"muted_glyph\":null,\"name\":\"LCC Summer Road\",\"nonselection_glyph\":{\"id\":\"2429\",\"type\":\"VBar\"},\"selection_glyph\":null,\"view\":{\"id\":\"2432\",\"type\":\"CDSView\"}},\"id\":\"2431\",\"type\":\"GlyphRenderer\"},{\"attributes\":{\"source\":{\"id\":\"2404\",\"type\":\"ColumnDataSource\"}},\"id\":\"2410\",\"type\":\"CDSView\"},{\"attributes\":{\"source\":{\"id\":\"2426\",\"type\":\"ColumnDataSource\"}},\"id\":\"2432\",\"type\":\"CDSView\"},{\"attributes\":{},\"id\":\"2416\",\"type\":\"Selection\"},{\"attributes\":{\"fill_alpha\":{\"value\":0.1},\"fill_color\":{\"value\":\"#1f77b4\"},\"line_alpha\":{\"value\":0.1},\"line_color\":{\"value\":\"#1f77b4\"},\"top\":{\"field\":\"counts\"},\"width\":{\"value\":0.16},\"x\":{\"field\":\"x\",\"transform\":{\"id\":\"2451\",\"type\":\"Dodge\"}}},\"id\":\"2455\",\"type\":\"VBar\"},{\"attributes\":{},\"id\":\"2419\",\"type\":\"UnionRenderers\"},{\"attributes\":{\"label\":{\"value\":\"LCC Summer Road\"},\"renderers\":[{\"id\":\"2431\",\"type\":\"GlyphRenderer\"}]},\"id\":\"2446\",\"type\":\"LegendItem\"},{\"attributes\":{},\"id\":\"2417\",\"type\":\"UnionRenderers\"},{\"attributes\":{\"fill_alpha\":{\"value\":0.9},\"fill_color\":{\"value\":\"#00688B\"},\"line_color\":{\"value\":\"#00688B\"},\"top\":{\"field\":\"counts\"},\"width\":{\"value\":0.16},\"x\":{\"field\":\"x\",\"transform\":{\"id\":\"2451\",\"type\":\"Dodge\"}}},\"id\":\"2454\",\"type\":\"VBar\"},{\"attributes\":{},\"id\":\"2418\",\"type\":\"Selection\"},{\"attributes\":{\"fill_alpha\":{\"value\":0.1},\"fill_color\":{\"value\":\"#1f77b4\"},\"line_alpha\":{\"value\":0.1},\"line_color\":{\"value\":\"#1f77b4\"},\"top\":{\"field\":\"counts\"},\"width\":{\"value\":0.16},\"x\":{\"field\":\"x\",\"transform\":{\"id\":\"2425\",\"type\":\"Dodge\"}}},\"id\":\"2429\",\"type\":\"VBar\"},{\"attributes\":{},\"id\":\"2440\",\"type\":\"Selection\"},{\"attributes\":{\"label\":{\"value\":\"LCC Our Lady East\"},\"renderers\":[{\"id\":\"2409\",\"type\":\"GlyphRenderer\"}]},\"id\":\"2420\",\"type\":\"LegendItem\"},{\"attributes\":{},\"id\":\"2441\",\"type\":\"UnionRenderers\"},{\"attributes\":{\"text\":\"\",\"text_font_size\":{\"value\":\"12pt\"}},\"id\":\"2363\",\"type\":\"Title\"},{\"attributes\":{},\"id\":\"2444\",\"type\":\"Selection\"},{\"attributes\":{},\"id\":\"2445\",\"type\":\"UnionRenderers\"},{\"attributes\":{\"callback\":null,\"data\":{\"n\":[\"(4)\",\"(4)\",\"(4)\",\"(5)\",\"(4)\"],\"x\":[\"Dec\",\"Jan\",\"Feb\",\"Mar\",\"Apr\"],\"y\":[361.0,408.25,363.25,372.2,280.0]},\"selected\":{\"id\":\"2474\",\"type\":\"Selection\"},\"selection_policy\":{\"id\":\"2475\",\"type\":\"UnionRenderers\"}},\"id\":\"2448\",\"type\":\"ColumnDataSource\"},{\"attributes\":{},\"id\":\"2544\",\"type\":\"UnionRenderers\"},{\"attributes\":{\"fill_alpha\":{\"value\":0.9},\"fill_color\":{\"value\":\"#009ACD\"},\"line_color\":{\"value\":\"#009ACD\"},\"top\":{\"field\":\"counts\"},\"width\":{\"value\":0.16},\"x\":{\"field\":\"x\",\"transform\":{\"id\":\"2425\",\"type\":\"Dodge\"}}},\"id\":\"2428\",\"type\":\"VBar\"},{\"attributes\":{\"data_source\":{\"id\":\"2452\",\"type\":\"ColumnDataSource\"},\"glyph\":{\"id\":\"2454\",\"type\":\"VBar\"},\"hover_glyph\":{\"id\":\"2456\",\"type\":\"VBar\"},\"muted_glyph\":null,\"name\":\"LCC Summer Road 2\",\"nonselection_glyph\":{\"id\":\"2455\",\"type\":\"VBar\"},\"selection_glyph\":null,\"view\":{\"id\":\"2458\",\"type\":\"CDSView\"}},\"id\":\"2457\",\"type\":\"GlyphRenderer\"},{\"attributes\":{\"grid_line_color\":null,\"ticker\":{\"id\":\"2373\",\"type\":\"CategoricalTicker\"}},\"id\":\"2375\",\"type\":\"Grid\"},{\"attributes\":{},\"id\":\"2373\",\"type\":\"CategoricalTicker\"},{\"attributes\":{\"level\":\"glyph\",\"source\":{\"id\":\"2422\",\"type\":\"ColumnDataSource\"},\"text\":{\"field\":\"n\"},\"text_align\":\"center\",\"text_color\":{\"value\":\"#000000\"},\"text_font_size\":{\"value\":\"7pt\"},\"x\":{\"field\":\"x\",\"transform\":{\"id\":\"2421\",\"type\":\"Dodge\"}},\"y\":{\"field\":\"y\"}},\"id\":\"2423\",\"type\":\"LabelSet\"},{\"attributes\":{\"label\":{\"value\":\"LCC Our Lady\"},\"renderers\":[{\"id\":\"2390\",\"type\":\"GlyphRenderer\"}]},\"id\":\"2398\",\"type\":\"LegendItem\"},{\"attributes\":{\"fill_color\":{\"value\":\"#1f77b4\"},\"line_color\":{\"value\":\"#1f77b4\"},\"top\":{\"field\":\"counts\"},\"width\":{\"value\":0.16},\"x\":{\"field\":\"x\",\"transform\":{\"id\":\"2451\",\"type\":\"Dodge\"}}},\"id\":\"2456\",\"type\":\"VBar\"},{\"attributes\":{\"level\":\"glyph\",\"source\":{\"id\":\"2448\",\"type\":\"ColumnDataSource\"},\"text\":{\"field\":\"n\"},\"text_align\":\"center\",\"text_color\":{\"value\":\"#000000\"},\"text_font_size\":{\"value\":\"7pt\"},\"x\":{\"field\":\"x\",\"transform\":{\"id\":\"2447\",\"type\":\"Dodge\"}},\"y\":{\"field\":\"y\"}},\"id\":\"2449\",\"type\":\"LabelSet\"},{\"attributes\":{},\"id\":\"2368\",\"type\":\"CategoricalScale\"},{\"attributes\":{\"callback\":null,\"data\":{\"counts\":[88.5,114.0,68.5,122.0,65.25],\"x\":[\"Dec\",\"Jan\",\"Feb\",\"Mar\",\"Apr\"]},\"selected\":{\"id\":\"2416\",\"type\":\"Selection\"},\"selection_policy\":{\"id\":\"2417\",\"type\":\"UnionRenderers\"}},\"id\":\"2385\",\"type\":\"ColumnDataSource\"},{\"attributes\":{\"callback\":null,\"data\":{\"counts\":[15.0,12.5,111.66666666666669,137.0,200.5],\"x\":[\"Dec\",\"Jan\",\"Feb\",\"Mar\",\"Apr\"]},\"selected\":{\"id\":\"2500\",\"type\":\"Selection\"},\"selection_policy\":{\"id\":\"2501\",\"type\":\"UnionRenderers\"}},\"id\":\"2452\",\"type\":\"ColumnDataSource\"},{\"attributes\":{},\"id\":\"2370\",\"type\":\"LinearScale\"},{\"attributes\":{\"range\":{\"id\":\"2361\",\"type\":\"FactorRange\"},\"value\":0.17250000000000001},\"id\":\"2477\",\"type\":\"Dodge\"},{\"attributes\":{},\"id\":\"2534\",\"type\":\"UnionRenderers\"},{\"attributes\":{\"callback\":null,\"data\":{\"counts\":[361.0,408.25,363.25,372.2,280.0],\"x\":[\"Dec\",\"Jan\",\"Feb\",\"Mar\",\"Apr\"]},\"selected\":{\"id\":\"2468\",\"type\":\"Selection\"},\"selection_policy\":{\"id\":\"2469\",\"type\":\"UnionRenderers\"}},\"id\":\"2426\",\"type\":\"ColumnDataSource\"},{\"attributes\":{\"fill_alpha\":{\"value\":0.9},\"fill_color\":{\"value\":\"#0EBFE9\"},\"line_color\":{\"value\":\"#0EBFE9\"},\"top\":{\"field\":\"counts\"},\"width\":{\"value\":0.16},\"x\":{\"field\":\"x\",\"transform\":{\"id\":\"2384\",\"type\":\"Dodge\"}}},\"id\":\"2387\",\"type\":\"VBar\"},{\"attributes\":{},\"id\":\"2543\",\"type\":\"Selection\"},{\"attributes\":{\"range\":{\"id\":\"2361\",\"type\":\"FactorRange\"},\"value\":0.17250000000000001},\"id\":\"2451\",\"type\":\"Dodge\"},{\"attributes\":{\"formatter\":{\"id\":\"2394\",\"type\":\"CategoricalTickFormatter\"},\"major_label_orientation\":0,\"major_label_standoff\":10,\"major_label_text_font_size\":{\"value\":\"12pt\"},\"major_label_text_font_style\":\"bold\",\"major_tick_line_color\":{\"value\":null},\"minor_tick_line_color\":{\"value\":null},\"ticker\":{\"id\":\"2373\",\"type\":\"CategoricalTicker\"}},\"id\":\"2372\",\"type\":\"CategoricalAxis\"},{\"attributes\":{\"items\":[{\"id\":\"2398\",\"type\":\"LegendItem\"},{\"id\":\"2420\",\"type\":\"LegendItem\"},{\"id\":\"2446\",\"type\":\"LegendItem\"},{\"id\":\"2476\",\"type\":\"LegendItem\"},{\"id\":\"2510\",\"type\":\"LegendItem\"}],\"location\":\"top_left\",\"orientation\":\"horizontal\"},\"id\":\"2397\",\"type\":\"Legend\"},{\"attributes\":{\"range\":{\"id\":\"2361\",\"type\":\"FactorRange\"}},\"id\":\"2447\",\"type\":\"Dodge\"},{\"attributes\":{\"range\":{\"id\":\"2361\",\"type\":\"FactorRange\"},\"value\":-0.17250000000000001},\"id\":\"2403\",\"type\":\"Dodge\"},{\"attributes\":{\"source\":{\"id\":\"2452\",\"type\":\"ColumnDataSource\"}},\"id\":\"2458\",\"type\":\"CDSView\"},{\"attributes\":{\"callback\":null,\"data\":{\"n\":[\"(4)\",\"(4)\",\"(4)\",\"(5)\",\"(4)\"],\"x\":[\"Dec\",\"Jan\",\"Feb\",\"Mar\",\"Apr\"],\"y\":[86.25,95.5,112.75,124.8,74.75]},\"selected\":{\"id\":\"2444\",\"type\":\"Selection\"},\"selection_policy\":{\"id\":\"2445\",\"type\":\"UnionRenderers\"}},\"id\":\"2422\",\"type\":\"ColumnDataSource\"},{\"attributes\":{\"fill_color\":{\"value\":\"#1f77b4\"},\"line_color\":{\"value\":\"#1f77b4\"},\"top\":{\"field\":\"counts\"},\"width\":{\"value\":0.16},\"x\":{\"field\":\"x\",\"transform\":{\"id\":\"2425\",\"type\":\"Dodge\"}}},\"id\":\"2430\",\"type\":\"VBar\"},{\"attributes\":{},\"id\":\"2468\",\"type\":\"Selection\"},{\"attributes\":{},\"id\":\"2469\",\"type\":\"UnionRenderers\"}],\"root_ids\":[\"2362\"]},\"title\":\"Bokeh Application\",\"version\":\"1.4.0\"}};\n",
       "  var render_items = [{\"docid\":\"00cc3666-0390-4cb6-924d-bf4d546e479d\",\"roots\":{\"2362\":\"3dfe37eb-d16e-477e-9180-9e38d44f11e5\"}}];\n",
       "  root.Bokeh.embed.embed_items_notebook(docs_json, render_items);\n",
       "\n",
       "  }\n",
       "  if (root.Bokeh !== undefined) {\n",
       "    embed_document(root);\n",
       "  } else {\n",
       "    var attempts = 0;\n",
       "    var timer = setInterval(function(root) {\n",
       "      if (root.Bokeh !== undefined) {\n",
       "        clearInterval(timer);\n",
       "        embed_document(root);\n",
       "      } else {\n",
       "        attempts++;\n",
       "        if (attempts > 100) {\n",
       "          clearInterval(timer);\n",
       "          console.log(\"Bokeh: ERROR: Unable to run BokehJS code because BokehJS library is missing\");\n",
       "        }\n",
       "      }\n",
       "    }, 10, root)\n",
       "  }\n",
       "})(window);"
      ],
      "application/vnd.bokehjs_exec.v0+json": ""
     },
     "metadata": {
      "application/vnd.bokehjs_exec.v0+json": {
       "id": "2362"
      }
     },
     "output_type": "display_data"
    }
   ],
   "source": [
    "season = '2018-2019'\n",
    "sites = [x for x in adu_df.query(\"season == @season\")['site'].unique() if (\"LCC\" in x and \"Gate\" not in x)]\n",
    "dayOfWeek = 'Saturday'\n",
    "src_df = dub.make_data_set(season, sites, dayOfWeek, adu_df)\n",
    "p = dub.make_plot(src_df, show_sensor_n=True)\n",
    "fig_path = os.path.abspath(os.path.join(os.getcwd(), \"..\",\"reports\", \"figures\", \"daily_user_averages\", \n",
    "                                        \"daily_users_{}_{}_{}.png\".format(season.replace(\"-\", \"\"), \"LCC\", dayOfWeek)))\n",
    "export_png(p, fig_path)\n",
    "show(p)"
   ]
  },
  {
   "cell_type": "markdown",
   "metadata": {},
   "source": [
    "## BCC Plots"
   ]
  },
  {
   "cell_type": "code",
   "execution_count": 7,
   "metadata": {},
   "outputs": [
    {
     "data": {
      "text/html": [
       "\n",
       "\n",
       "\n",
       "\n",
       "\n",
       "\n",
       "  <div class=\"bk-root\" id=\"10525062-6e44-4fcf-9fd9-7d031c83528c\" data-root-id=\"3073\"></div>\n"
      ]
     },
     "metadata": {},
     "output_type": "display_data"
    },
    {
     "data": {
      "application/javascript": [
       "(function(root) {\n",
       "  function embed_document(root) {\n",
       "    \n",
       "  var docs_json = {\"cbc37ea3-c2db-4373-b7cb-5480fe7eba63\":{\"roots\":{\"references\":[{\"attributes\":{\"above\":[{\"id\":\"3164\",\"type\":\"Title\"}],\"below\":[{\"id\":\"3083\",\"type\":\"CategoricalAxis\"},{\"id\":\"3166\",\"type\":\"Title\"}],\"center\":[{\"id\":\"3086\",\"type\":\"Grid\"},{\"id\":\"3091\",\"type\":\"Grid\"},{\"id\":\"3108\",\"type\":\"Legend\"},{\"id\":\"3112\",\"type\":\"LabelSet\"},{\"id\":\"3134\",\"type\":\"LabelSet\"},{\"id\":\"3160\",\"type\":\"LabelSet\"}],\"left\":[{\"id\":\"3087\",\"type\":\"LinearAxis\"}],\"plot_height\":400,\"plot_width\":800,\"renderers\":[{\"id\":\"3101\",\"type\":\"GlyphRenderer\"},{\"id\":\"3120\",\"type\":\"GlyphRenderer\"},{\"id\":\"3142\",\"type\":\"GlyphRenderer\"}],\"title\":{\"id\":\"3074\",\"type\":\"Title\"},\"toolbar\":{\"id\":\"3093\",\"type\":\"Toolbar\"},\"x_range\":{\"id\":\"3072\",\"type\":\"FactorRange\"},\"x_scale\":{\"id\":\"3079\",\"type\":\"CategoricalScale\"},\"y_range\":{\"id\":\"3165\",\"type\":\"Range1d\"},\"y_scale\":{\"id\":\"3081\",\"type\":\"LinearScale\"}},\"id\":\"3073\",\"subtype\":\"Figure\",\"type\":\"Plot\"},{\"attributes\":{\"source\":{\"id\":\"3096\",\"type\":\"ColumnDataSource\"}},\"id\":\"3102\",\"type\":\"CDSView\"},{\"attributes\":{\"label\":{\"value\":\"BCC Cardiff\"},\"renderers\":[{\"id\":\"3120\",\"type\":\"GlyphRenderer\"}]},\"id\":\"3131\",\"type\":\"LegendItem\"},{\"attributes\":{},\"id\":\"3155\",\"type\":\"Selection\"},{\"attributes\":{\"fill_color\":{\"value\":\"#1f77b4\"},\"line_color\":{\"value\":\"#1f77b4\"},\"top\":{\"field\":\"counts\"},\"width\":{\"value\":0.26666666666666666},\"x\":{\"field\":\"x\",\"transform\":{\"id\":\"3095\",\"type\":\"Dodge\"}}},\"id\":\"3100\",\"type\":\"VBar\"},{\"attributes\":{},\"id\":\"3130\",\"type\":\"UnionRenderers\"},{\"attributes\":{},\"id\":\"3156\",\"type\":\"UnionRenderers\"},{\"attributes\":{\"formatter\":{\"id\":\"3107\",\"type\":\"BasicTickFormatter\"},\"major_label_text_font_size\":{\"value\":\"12pt\"},\"major_label_text_font_style\":\"bold\",\"minor_tick_line_color\":{\"value\":null},\"ticker\":{\"id\":\"3088\",\"type\":\"BasicTicker\"}},\"id\":\"3087\",\"type\":\"LinearAxis\"},{\"attributes\":{\"fill_color\":{\"value\":\"#1f77b4\"},\"line_color\":{\"value\":\"#1f77b4\"},\"top\":{\"field\":\"counts\"},\"width\":{\"value\":0.26666666666666666},\"x\":{\"field\":\"x\",\"transform\":{\"id\":\"3114\",\"type\":\"Dodge\"}}},\"id\":\"3119\",\"type\":\"VBar\"},{\"attributes\":{\"fill_alpha\":{\"value\":0.1},\"fill_color\":{\"value\":\"#1f77b4\"},\"line_alpha\":{\"value\":0.1},\"line_color\":{\"value\":\"#1f77b4\"},\"top\":{\"field\":\"counts\"},\"width\":{\"value\":0.26666666666666666},\"x\":{\"field\":\"x\",\"transform\":{\"id\":\"3136\",\"type\":\"Dodge\"}}},\"id\":\"3140\",\"type\":\"VBar\"},{\"attributes\":{\"label\":{\"value\":\"BCC Mill D\"},\"renderers\":[{\"id\":\"3142\",\"type\":\"GlyphRenderer\"}]},\"id\":\"3157\",\"type\":\"LegendItem\"},{\"attributes\":{\"fill_alpha\":{\"value\":0.9},\"fill_color\":{\"value\":\"#0EBFE9\"},\"line_color\":{\"value\":\"#0EBFE9\"},\"top\":{\"field\":\"counts\"},\"width\":{\"value\":0.26666666666666666},\"x\":{\"field\":\"x\",\"transform\":{\"id\":\"3095\",\"type\":\"Dodge\"}}},\"id\":\"3098\",\"type\":\"VBar\"},{\"attributes\":{\"fill_color\":{\"value\":\"#1f77b4\"},\"line_color\":{\"value\":\"#1f77b4\"},\"top\":{\"field\":\"counts\"},\"width\":{\"value\":0.26666666666666666},\"x\":{\"field\":\"x\",\"transform\":{\"id\":\"3136\",\"type\":\"Dodge\"}}},\"id\":\"3141\",\"type\":\"VBar\"},{\"attributes\":{\"range\":{\"id\":\"3072\",\"type\":\"FactorRange\"},\"value\":0.2916666666666667},\"id\":\"3136\",\"type\":\"Dodge\"},{\"attributes\":{\"level\":\"glyph\",\"source\":{\"id\":\"3159\",\"type\":\"ColumnDataSource\"},\"text\":{\"field\":\"n\"},\"text_align\":\"center\",\"text_color\":{\"value\":\"#000000\"},\"text_font_size\":{\"value\":\"7pt\"},\"x\":{\"field\":\"x\",\"transform\":{\"id\":\"3158\",\"type\":\"Dodge\"}},\"y\":{\"field\":\"y\"}},\"id\":\"3160\",\"type\":\"LabelSet\"},{\"attributes\":{\"callback\":null,\"end\":548.4142857142856},\"id\":\"3165\",\"type\":\"Range1d\"},{\"attributes\":{\"fill_alpha\":{\"value\":0.1},\"fill_color\":{\"value\":\"#1f77b4\"},\"line_alpha\":{\"value\":0.1},\"line_color\":{\"value\":\"#1f77b4\"},\"top\":{\"field\":\"counts\"},\"width\":{\"value\":0.26666666666666666},\"x\":{\"field\":\"x\",\"transform\":{\"id\":\"3095\",\"type\":\"Dodge\"}}},\"id\":\"3099\",\"type\":\"VBar\"},{\"attributes\":{\"callback\":null,\"data\":{\"counts\":[38.42857142857143,53.42857142857143,50.32142857142857,34.41935483870968,46.230769230769226],\"x\":[\"Dec\",\"Jan\",\"Feb\",\"Mar\",\"Apr\"]},\"selected\":{\"id\":\"3127\",\"type\":\"Selection\"},\"selection_policy\":{\"id\":\"3128\",\"type\":\"UnionRenderers\"}},\"id\":\"3096\",\"type\":\"ColumnDataSource\"},{\"attributes\":{},\"id\":\"3084\",\"type\":\"CategoricalTicker\"},{\"attributes\":{\"range\":{\"id\":\"3072\",\"type\":\"FactorRange\"},\"value\":0.2916666666666667},\"id\":\"3158\",\"type\":\"Dodge\"},{\"attributes\":{\"callback\":null,\"data\":{\"counts\":[46.96551724137931,105.35483870967742,105.46428571428572,74.06896551724137,17.541666666666668],\"x\":[\"Dec\",\"Jan\",\"Feb\",\"Mar\",\"Apr\"]},\"selected\":{\"id\":\"3176\",\"type\":\"Selection\"},\"selection_policy\":{\"id\":\"3177\",\"type\":\"UnionRenderers\"}},\"id\":\"3137\",\"type\":\"ColumnDataSource\"},{\"attributes\":{\"active_drag\":\"auto\",\"active_inspect\":\"auto\",\"active_multi\":null,\"active_scroll\":\"auto\",\"active_tap\":\"auto\",\"tools\":[{\"id\":\"3092\",\"type\":\"SaveTool\"},{\"id\":\"3162\",\"type\":\"HoverTool\"}]},\"id\":\"3093\",\"type\":\"Toolbar\"},{\"attributes\":{\"callback\":null,\"data\":{\"counts\":[157.24137931034485,216.1,177.0714285714286,213.28571428571428,421.8571428571428],\"x\":[\"Dec\",\"Jan\",\"Feb\",\"Mar\",\"Apr\"]},\"selected\":{\"id\":\"3151\",\"type\":\"Selection\"},\"selection_policy\":{\"id\":\"3152\",\"type\":\"UnionRenderers\"}},\"id\":\"3115\",\"type\":\"ColumnDataSource\"},{\"attributes\":{\"label\":{\"value\":\"BCC Butler\"},\"renderers\":[{\"id\":\"3101\",\"type\":\"GlyphRenderer\"}]},\"id\":\"3109\",\"type\":\"LegendItem\"},{\"attributes\":{\"callback\":null,\"data\":{\"n\":[\"(29)\",\"(31)\",\"(28)\",\"(29)\",\"(24)\"],\"x\":[\"Dec\",\"Jan\",\"Feb\",\"Mar\",\"Apr\"],\"y\":[46.96551724137931,105.35483870967742,105.46428571428572,74.06896551724137,17.541666666666668]},\"selected\":{\"id\":\"3182\",\"type\":\"Selection\"},\"selection_policy\":{\"id\":\"3183\",\"type\":\"UnionRenderers\"}},\"id\":\"3159\",\"type\":\"ColumnDataSource\"},{\"attributes\":{\"data_source\":{\"id\":\"3115\",\"type\":\"ColumnDataSource\"},\"glyph\":{\"id\":\"3117\",\"type\":\"VBar\"},\"hover_glyph\":{\"id\":\"3119\",\"type\":\"VBar\"},\"muted_glyph\":null,\"name\":\"BCC Cardiff\",\"nonselection_glyph\":{\"id\":\"3118\",\"type\":\"VBar\"},\"selection_glyph\":null,\"view\":{\"id\":\"3121\",\"type\":\"CDSView\"}},\"id\":\"3120\",\"type\":\"GlyphRenderer\"},{\"attributes\":{\"fill_alpha\":{\"value\":0.9},\"fill_color\":{\"value\":\"#009ACD\"},\"line_color\":{\"value\":\"#009ACD\"},\"top\":{\"field\":\"counts\"},\"width\":{\"value\":0.26666666666666666},\"x\":{\"field\":\"x\",\"transform\":{\"id\":\"3136\",\"type\":\"Dodge\"}}},\"id\":\"3139\",\"type\":\"VBar\"},{\"attributes\":{\"callback\":null,\"data\":{\"n\":[\"(14)\",\"(14)\",\"(28)\",\"(31)\",\"(26)\"],\"x\":[\"Dec\",\"Jan\",\"Feb\",\"Mar\",\"Apr\"],\"y\":[38.42857142857143,53.42857142857143,50.32142857142857,34.41935483870968,46.230769230769226]},\"selected\":{\"id\":\"3129\",\"type\":\"Selection\"},\"selection_policy\":{\"id\":\"3130\",\"type\":\"UnionRenderers\"}},\"id\":\"3111\",\"type\":\"ColumnDataSource\"},{\"attributes\":{},\"id\":\"3183\",\"type\":\"UnionRenderers\"},{\"attributes\":{\"dimension\":1,\"ticker\":{\"id\":\"3088\",\"type\":\"BasicTicker\"}},\"id\":\"3091\",\"type\":\"Grid\"},{\"attributes\":{},\"id\":\"3081\",\"type\":\"LinearScale\"},{\"attributes\":{\"callback\":null,\"factors\":[\"Dec\",\"Jan\",\"Feb\",\"Mar\",\"Apr\"],\"range_padding\":0.1},\"id\":\"3072\",\"type\":\"FactorRange\"},{\"attributes\":{\"range\":{\"id\":\"3072\",\"type\":\"FactorRange\"}},\"id\":\"3132\",\"type\":\"Dodge\"},{\"attributes\":{\"items\":[{\"id\":\"3109\",\"type\":\"LegendItem\"},{\"id\":\"3131\",\"type\":\"LegendItem\"},{\"id\":\"3157\",\"type\":\"LegendItem\"}],\"location\":\"top_left\",\"orientation\":\"horizontal\"},\"id\":\"3108\",\"type\":\"Legend\"},{\"attributes\":{\"range\":{\"id\":\"3072\",\"type\":\"FactorRange\"},\"value\":-0.2916666666666667},\"id\":\"3110\",\"type\":\"Dodge\"},{\"attributes\":{},\"id\":\"3107\",\"type\":\"BasicTickFormatter\"},{\"attributes\":{\"range\":{\"id\":\"3072\",\"type\":\"FactorRange\"},\"value\":-0.2916666666666667},\"id\":\"3095\",\"type\":\"Dodge\"},{\"attributes\":{},\"id\":\"3128\",\"type\":\"UnionRenderers\"},{\"attributes\":{},\"id\":\"3177\",\"type\":\"UnionRenderers\"},{\"attributes\":{},\"id\":\"3182\",\"type\":\"Selection\"},{\"attributes\":{\"fill_alpha\":{\"value\":0.9},\"fill_color\":{\"value\":\"#0BB5FF\"},\"line_color\":{\"value\":\"#0BB5FF\"},\"top\":{\"field\":\"counts\"},\"width\":{\"value\":0.26666666666666666},\"x\":{\"field\":\"x\",\"transform\":{\"id\":\"3114\",\"type\":\"Dodge\"}}},\"id\":\"3117\",\"type\":\"VBar\"},{\"attributes\":{},\"id\":\"3151\",\"type\":\"Selection\"},{\"attributes\":{\"data_source\":{\"id\":\"3137\",\"type\":\"ColumnDataSource\"},\"glyph\":{\"id\":\"3139\",\"type\":\"VBar\"},\"hover_glyph\":{\"id\":\"3141\",\"type\":\"VBar\"},\"muted_glyph\":null,\"name\":\"BCC Mill D\",\"nonselection_glyph\":{\"id\":\"3140\",\"type\":\"VBar\"},\"selection_glyph\":null,\"view\":{\"id\":\"3143\",\"type\":\"CDSView\"}},\"id\":\"3142\",\"type\":\"GlyphRenderer\"},{\"attributes\":{},\"id\":\"3105\",\"type\":\"CategoricalTickFormatter\"},{\"attributes\":{},\"id\":\"3088\",\"type\":\"BasicTicker\"},{\"attributes\":{\"formatter\":{\"id\":\"3105\",\"type\":\"CategoricalTickFormatter\"},\"major_label_orientation\":0,\"major_label_standoff\":10,\"major_label_text_font_size\":{\"value\":\"12pt\"},\"major_label_text_font_style\":\"bold\",\"major_tick_line_color\":{\"value\":null},\"minor_tick_line_color\":{\"value\":null},\"ticker\":{\"id\":\"3084\",\"type\":\"CategoricalTicker\"}},\"id\":\"3083\",\"type\":\"CategoricalAxis\"},{\"attributes\":{\"text\":\"\",\"text_font_size\":{\"value\":\"12pt\"}},\"id\":\"3074\",\"type\":\"Title\"},{\"attributes\":{\"level\":\"glyph\",\"source\":{\"id\":\"3111\",\"type\":\"ColumnDataSource\"},\"text\":{\"field\":\"n\"},\"text_align\":\"center\",\"text_color\":{\"value\":\"#000000\"},\"text_font_size\":{\"value\":\"7pt\"},\"x\":{\"field\":\"x\",\"transform\":{\"id\":\"3110\",\"type\":\"Dodge\"}},\"y\":{\"field\":\"y\"}},\"id\":\"3112\",\"type\":\"LabelSet\"},{\"attributes\":{\"level\":\"glyph\",\"source\":{\"id\":\"3133\",\"type\":\"ColumnDataSource\"},\"text\":{\"field\":\"n\"},\"text_align\":\"center\",\"text_color\":{\"value\":\"#000000\"},\"text_font_size\":{\"value\":\"7pt\"},\"x\":{\"field\":\"x\",\"transform\":{\"id\":\"3132\",\"type\":\"Dodge\"}},\"y\":{\"field\":\"y\"}},\"id\":\"3134\",\"type\":\"LabelSet\"},{\"attributes\":{\"fill_alpha\":{\"value\":0.1},\"fill_color\":{\"value\":\"#1f77b4\"},\"line_alpha\":{\"value\":0.1},\"line_color\":{\"value\":\"#1f77b4\"},\"top\":{\"field\":\"counts\"},\"width\":{\"value\":0.26666666666666666},\"x\":{\"field\":\"x\",\"transform\":{\"id\":\"3114\",\"type\":\"Dodge\"}}},\"id\":\"3118\",\"type\":\"VBar\"},{\"attributes\":{},\"id\":\"3092\",\"type\":\"SaveTool\"},{\"attributes\":{\"source\":{\"id\":\"3137\",\"type\":\"ColumnDataSource\"}},\"id\":\"3143\",\"type\":\"CDSView\"},{\"attributes\":{\"source\":{\"id\":\"3115\",\"type\":\"ColumnDataSource\"}},\"id\":\"3121\",\"type\":\"CDSView\"},{\"attributes\":{\"text\":\"Note: (*) is number of days with sensor data\",\"text_font_size\":{\"value\":\"10pt\"},\"text_font_style\":\"normal\"},\"id\":\"3166\",\"type\":\"Title\"},{\"attributes\":{\"text\":\"Season 2017-2018 | Average Daily Trailhead Users Per Month\",\"text_font_size\":{\"value\":\"13pt\"}},\"id\":\"3164\",\"type\":\"Title\"},{\"attributes\":{\"range\":{\"id\":\"3072\",\"type\":\"FactorRange\"}},\"id\":\"3114\",\"type\":\"Dodge\"},{\"attributes\":{\"callback\":null,\"data\":{\"n\":[\"(29)\",\"(30)\",\"(28)\",\"(28)\",\"(28)\"],\"x\":[\"Dec\",\"Jan\",\"Feb\",\"Mar\",\"Apr\"],\"y\":[157.24137931034485,216.1,177.0714285714286,213.28571428571428,421.8571428571428]},\"selected\":{\"id\":\"3155\",\"type\":\"Selection\"},\"selection_policy\":{\"id\":\"3156\",\"type\":\"UnionRenderers\"}},\"id\":\"3133\",\"type\":\"ColumnDataSource\"},{\"attributes\":{},\"id\":\"3129\",\"type\":\"Selection\"},{\"attributes\":{\"grid_line_color\":null,\"ticker\":{\"id\":\"3084\",\"type\":\"CategoricalTicker\"}},\"id\":\"3086\",\"type\":\"Grid\"},{\"attributes\":{},\"id\":\"3127\",\"type\":\"Selection\"},{\"attributes\":{},\"id\":\"3176\",\"type\":\"Selection\"},{\"attributes\":{},\"id\":\"3079\",\"type\":\"CategoricalScale\"},{\"attributes\":{},\"id\":\"3152\",\"type\":\"UnionRenderers\"},{\"attributes\":{\"callback\":null,\"tooltips\":[[\"Site\",\"$name\"],[\"Average Daily Users\",\"@counts{int}\"]]},\"id\":\"3162\",\"type\":\"HoverTool\"},{\"attributes\":{\"data_source\":{\"id\":\"3096\",\"type\":\"ColumnDataSource\"},\"glyph\":{\"id\":\"3098\",\"type\":\"VBar\"},\"hover_glyph\":{\"id\":\"3100\",\"type\":\"VBar\"},\"muted_glyph\":null,\"name\":\"BCC Butler\",\"nonselection_glyph\":{\"id\":\"3099\",\"type\":\"VBar\"},\"selection_glyph\":null,\"view\":{\"id\":\"3102\",\"type\":\"CDSView\"}},\"id\":\"3101\",\"type\":\"GlyphRenderer\"}],\"root_ids\":[\"3073\"]},\"title\":\"Bokeh Application\",\"version\":\"1.4.0\"}};\n",
       "  var render_items = [{\"docid\":\"cbc37ea3-c2db-4373-b7cb-5480fe7eba63\",\"roots\":{\"3073\":\"10525062-6e44-4fcf-9fd9-7d031c83528c\"}}];\n",
       "  root.Bokeh.embed.embed_items_notebook(docs_json, render_items);\n",
       "\n",
       "  }\n",
       "  if (root.Bokeh !== undefined) {\n",
       "    embed_document(root);\n",
       "  } else {\n",
       "    var attempts = 0;\n",
       "    var timer = setInterval(function(root) {\n",
       "      if (root.Bokeh !== undefined) {\n",
       "        clearInterval(timer);\n",
       "        embed_document(root);\n",
       "      } else {\n",
       "        attempts++;\n",
       "        if (attempts > 100) {\n",
       "          clearInterval(timer);\n",
       "          console.log(\"Bokeh: ERROR: Unable to run BokehJS code because BokehJS library is missing\");\n",
       "        }\n",
       "      }\n",
       "    }, 10, root)\n",
       "  }\n",
       "})(window);"
      ],
      "application/vnd.bokehjs_exec.v0+json": ""
     },
     "metadata": {
      "application/vnd.bokehjs_exec.v0+json": {
       "id": "3073"
      }
     },
     "output_type": "display_data"
    }
   ],
   "source": [
    "season = '2017-2018'\n",
    "sites = [x for x in adu_df.query(\"season == @season\")['site'].unique() if \"BCC\" in x]\n",
    "dayOfWeek = 'All'\n",
    "src_df = dub.make_data_set(season, sites, dayOfWeek, adu_df)\n",
    "p = dub.make_plot(src_df, show_sensor_n=True)\n",
    "fig_path = os.path.abspath(os.path.join(os.getcwd(), \"..\",\"reports\", \"figures\", \"daily_user_averages\", \n",
    "                                        \"daily_users_{}_{}_{}.png\".format(season.replace(\"-\", \"\"), \"BCC\", dayOfWeek)))\n",
    "export_png(p, fig_path)\n",
    "show(p)"
   ]
  },
  {
   "cell_type": "code",
   "execution_count": 8,
   "metadata": {},
   "outputs": [
    {
     "data": {
      "text/html": [
       "\n",
       "\n",
       "\n",
       "\n",
       "\n",
       "\n",
       "  <div class=\"bk-root\" id=\"328d3419-17d0-485c-9cda-fbaf668e0b7f\" data-root-id=\"3585\"></div>\n"
      ]
     },
     "metadata": {},
     "output_type": "display_data"
    },
    {
     "data": {
      "application/javascript": [
       "(function(root) {\n",
       "  function embed_document(root) {\n",
       "    \n",
       "  var docs_json = {\"93f273e1-71d0-4e2b-8043-430ce4b46450\":{\"roots\":{\"references\":[{\"attributes\":{\"above\":[{\"id\":\"3676\",\"type\":\"Title\"}],\"below\":[{\"id\":\"3595\",\"type\":\"CategoricalAxis\"},{\"id\":\"3678\",\"type\":\"Title\"}],\"center\":[{\"id\":\"3598\",\"type\":\"Grid\"},{\"id\":\"3603\",\"type\":\"Grid\"},{\"id\":\"3620\",\"type\":\"Legend\"},{\"id\":\"3624\",\"type\":\"LabelSet\"},{\"id\":\"3646\",\"type\":\"LabelSet\"},{\"id\":\"3672\",\"type\":\"LabelSet\"}],\"left\":[{\"id\":\"3599\",\"type\":\"LinearAxis\"}],\"plot_height\":400,\"plot_width\":800,\"renderers\":[{\"id\":\"3613\",\"type\":\"GlyphRenderer\"},{\"id\":\"3632\",\"type\":\"GlyphRenderer\"},{\"id\":\"3654\",\"type\":\"GlyphRenderer\"}],\"title\":{\"id\":\"3586\",\"type\":\"Title\"},\"toolbar\":{\"id\":\"3605\",\"type\":\"Toolbar\"},\"x_range\":{\"id\":\"3584\",\"type\":\"FactorRange\"},\"x_scale\":{\"id\":\"3591\",\"type\":\"CategoricalScale\"},\"y_range\":{\"id\":\"3677\",\"type\":\"Range1d\"},\"y_scale\":{\"id\":\"3593\",\"type\":\"LinearScale\"}},\"id\":\"3585\",\"subtype\":\"Figure\",\"type\":\"Plot\"},{\"attributes\":{\"range\":{\"id\":\"3584\",\"type\":\"FactorRange\"},\"value\":0.2916666666666667},\"id\":\"3648\",\"type\":\"Dodge\"},{\"attributes\":{\"data_source\":{\"id\":\"3649\",\"type\":\"ColumnDataSource\"},\"glyph\":{\"id\":\"3651\",\"type\":\"VBar\"},\"hover_glyph\":{\"id\":\"3653\",\"type\":\"VBar\"},\"muted_glyph\":null,\"name\":\"BCC Mill D\",\"nonselection_glyph\":{\"id\":\"3652\",\"type\":\"VBar\"},\"selection_glyph\":null,\"view\":{\"id\":\"3655\",\"type\":\"CDSView\"}},\"id\":\"3654\",\"type\":\"GlyphRenderer\"},{\"attributes\":{\"fill_alpha\":{\"value\":0.9},\"fill_color\":{\"value\":\"#009ACD\"},\"line_color\":{\"value\":\"#009ACD\"},\"top\":{\"field\":\"counts\"},\"width\":{\"value\":0.26666666666666666},\"x\":{\"field\":\"x\",\"transform\":{\"id\":\"3648\",\"type\":\"Dodge\"}}},\"id\":\"3651\",\"type\":\"VBar\"},{\"attributes\":{\"callback\":null,\"data\":{\"n\":[\"(4)\",\"(4)\",\"(4)\",\"(4)\",\"(3)\"],\"x\":[\"Dec\",\"Jan\",\"Feb\",\"Mar\",\"Apr\"],\"y\":[64.75,216.25,174.25,81.0,27.0]},\"selected\":{\"id\":\"3694\",\"type\":\"Selection\"},\"selection_policy\":{\"id\":\"3695\",\"type\":\"UnionRenderers\"}},\"id\":\"3671\",\"type\":\"ColumnDataSource\"},{\"attributes\":{\"active_drag\":\"auto\",\"active_inspect\":\"auto\",\"active_multi\":null,\"active_scroll\":\"auto\",\"active_tap\":\"auto\",\"tools\":[{\"id\":\"3604\",\"type\":\"SaveTool\"},{\"id\":\"3674\",\"type\":\"HoverTool\"}]},\"id\":\"3605\",\"type\":\"Toolbar\"},{\"attributes\":{\"source\":{\"id\":\"3608\",\"type\":\"ColumnDataSource\"}},\"id\":\"3614\",\"type\":\"CDSView\"},{\"attributes\":{\"callback\":null,\"data\":{\"counts\":[54.0,109.5,118.0,45.0,91.25],\"x\":[\"Dec\",\"Jan\",\"Feb\",\"Mar\",\"Apr\"]},\"selected\":{\"id\":\"3639\",\"type\":\"Selection\"},\"selection_policy\":{\"id\":\"3640\",\"type\":\"UnionRenderers\"}},\"id\":\"3608\",\"type\":\"ColumnDataSource\"},{\"attributes\":{\"callback\":null,\"data\":{\"n\":[\"(4)\",\"(4)\",\"(4)\",\"(5)\",\"(4)\"],\"x\":[\"Dec\",\"Jan\",\"Feb\",\"Mar\",\"Apr\"],\"y\":[179.0,380.0,477.75,434.2,1003.5]},\"selected\":{\"id\":\"3667\",\"type\":\"Selection\"},\"selection_policy\":{\"id\":\"3668\",\"type\":\"UnionRenderers\"}},\"id\":\"3645\",\"type\":\"ColumnDataSource\"},{\"attributes\":{\"formatter\":{\"id\":\"3617\",\"type\":\"CategoricalTickFormatter\"},\"major_label_orientation\":0,\"major_label_standoff\":10,\"major_label_text_font_size\":{\"value\":\"12pt\"},\"major_label_text_font_style\":\"bold\",\"major_tick_line_color\":{\"value\":null},\"minor_tick_line_color\":{\"value\":null},\"ticker\":{\"id\":\"3596\",\"type\":\"CategoricalTicker\"}},\"id\":\"3595\",\"type\":\"CategoricalAxis\"},{\"attributes\":{\"data_source\":{\"id\":\"3608\",\"type\":\"ColumnDataSource\"},\"glyph\":{\"id\":\"3610\",\"type\":\"VBar\"},\"hover_glyph\":{\"id\":\"3612\",\"type\":\"VBar\"},\"muted_glyph\":null,\"name\":\"BCC Butler\",\"nonselection_glyph\":{\"id\":\"3611\",\"type\":\"VBar\"},\"selection_glyph\":null,\"view\":{\"id\":\"3614\",\"type\":\"CDSView\"}},\"id\":\"3613\",\"type\":\"GlyphRenderer\"},{\"attributes\":{\"fill_alpha\":{\"value\":0.9},\"fill_color\":{\"value\":\"#0BB5FF\"},\"line_color\":{\"value\":\"#0BB5FF\"},\"top\":{\"field\":\"counts\"},\"width\":{\"value\":0.26666666666666666},\"x\":{\"field\":\"x\",\"transform\":{\"id\":\"3626\",\"type\":\"Dodge\"}}},\"id\":\"3629\",\"type\":\"VBar\"},{\"attributes\":{\"data_source\":{\"id\":\"3627\",\"type\":\"ColumnDataSource\"},\"glyph\":{\"id\":\"3629\",\"type\":\"VBar\"},\"hover_glyph\":{\"id\":\"3631\",\"type\":\"VBar\"},\"muted_glyph\":null,\"name\":\"BCC Cardiff\",\"nonselection_glyph\":{\"id\":\"3630\",\"type\":\"VBar\"},\"selection_glyph\":null,\"view\":{\"id\":\"3633\",\"type\":\"CDSView\"}},\"id\":\"3632\",\"type\":\"GlyphRenderer\"},{\"attributes\":{},\"id\":\"3689\",\"type\":\"UnionRenderers\"},{\"attributes\":{\"formatter\":{\"id\":\"3619\",\"type\":\"BasicTickFormatter\"},\"major_label_text_font_size\":{\"value\":\"12pt\"},\"major_label_text_font_style\":\"bold\",\"minor_tick_line_color\":{\"value\":null},\"ticker\":{\"id\":\"3600\",\"type\":\"BasicTicker\"}},\"id\":\"3599\",\"type\":\"LinearAxis\"},{\"attributes\":{\"fill_color\":{\"value\":\"#1f77b4\"},\"line_color\":{\"value\":\"#1f77b4\"},\"top\":{\"field\":\"counts\"},\"width\":{\"value\":0.26666666666666666},\"x\":{\"field\":\"x\",\"transform\":{\"id\":\"3607\",\"type\":\"Dodge\"}}},\"id\":\"3612\",\"type\":\"VBar\"},{\"attributes\":{\"source\":{\"id\":\"3627\",\"type\":\"ColumnDataSource\"}},\"id\":\"3633\",\"type\":\"CDSView\"},{\"attributes\":{\"text\":\"Note: (*) is number of days with sensor data\",\"text_font_size\":{\"value\":\"10pt\"},\"text_font_style\":\"normal\"},\"id\":\"3678\",\"type\":\"Title\"},{\"attributes\":{},\"id\":\"3593\",\"type\":\"LinearScale\"},{\"attributes\":{\"fill_color\":{\"value\":\"#1f77b4\"},\"line_color\":{\"value\":\"#1f77b4\"},\"top\":{\"field\":\"counts\"},\"width\":{\"value\":0.26666666666666666},\"x\":{\"field\":\"x\",\"transform\":{\"id\":\"3648\",\"type\":\"Dodge\"}}},\"id\":\"3653\",\"type\":\"VBar\"},{\"attributes\":{\"callback\":null,\"tooltips\":[[\"Site\",\"$name\"],[\"Average Daily Users\",\"@counts{int}\"]]},\"id\":\"3674\",\"type\":\"HoverTool\"},{\"attributes\":{\"source\":{\"id\":\"3649\",\"type\":\"ColumnDataSource\"}},\"id\":\"3655\",\"type\":\"CDSView\"},{\"attributes\":{\"range\":{\"id\":\"3584\",\"type\":\"FactorRange\"}},\"id\":\"3626\",\"type\":\"Dodge\"},{\"attributes\":{},\"id\":\"3600\",\"type\":\"BasicTicker\"},{\"attributes\":{\"grid_line_color\":null,\"ticker\":{\"id\":\"3596\",\"type\":\"CategoricalTicker\"}},\"id\":\"3598\",\"type\":\"Grid\"},{\"attributes\":{\"label\":{\"value\":\"BCC Mill D\"},\"renderers\":[{\"id\":\"3654\",\"type\":\"GlyphRenderer\"}]},\"id\":\"3669\",\"type\":\"LegendItem\"},{\"attributes\":{},\"id\":\"3639\",\"type\":\"Selection\"},{\"attributes\":{},\"id\":\"3642\",\"type\":\"UnionRenderers\"},{\"attributes\":{},\"id\":\"3640\",\"type\":\"UnionRenderers\"},{\"attributes\":{\"level\":\"glyph\",\"source\":{\"id\":\"3623\",\"type\":\"ColumnDataSource\"},\"text\":{\"field\":\"n\"},\"text_align\":\"center\",\"text_color\":{\"value\":\"#000000\"},\"text_font_size\":{\"value\":\"7pt\"},\"x\":{\"field\":\"x\",\"transform\":{\"id\":\"3622\",\"type\":\"Dodge\"}},\"y\":{\"field\":\"y\"}},\"id\":\"3624\",\"type\":\"LabelSet\"},{\"attributes\":{\"level\":\"glyph\",\"source\":{\"id\":\"3671\",\"type\":\"ColumnDataSource\"},\"text\":{\"field\":\"n\"},\"text_align\":\"center\",\"text_color\":{\"value\":\"#000000\"},\"text_font_size\":{\"value\":\"7pt\"},\"x\":{\"field\":\"x\",\"transform\":{\"id\":\"3670\",\"type\":\"Dodge\"}},\"y\":{\"field\":\"y\"}},\"id\":\"3672\",\"type\":\"LabelSet\"},{\"attributes\":{},\"id\":\"3641\",\"type\":\"Selection\"},{\"attributes\":{\"range\":{\"id\":\"3584\",\"type\":\"FactorRange\"},\"value\":-0.2916666666666667},\"id\":\"3607\",\"type\":\"Dodge\"},{\"attributes\":{},\"id\":\"3668\",\"type\":\"UnionRenderers\"},{\"attributes\":{\"callback\":null,\"factors\":[\"Dec\",\"Jan\",\"Feb\",\"Mar\",\"Apr\"],\"range_padding\":0.1},\"id\":\"3584\",\"type\":\"FactorRange\"},{\"attributes\":{\"fill_alpha\":{\"value\":0.1},\"fill_color\":{\"value\":\"#1f77b4\"},\"line_alpha\":{\"value\":0.1},\"line_color\":{\"value\":\"#1f77b4\"},\"top\":{\"field\":\"counts\"},\"width\":{\"value\":0.26666666666666666},\"x\":{\"field\":\"x\",\"transform\":{\"id\":\"3648\",\"type\":\"Dodge\"}}},\"id\":\"3652\",\"type\":\"VBar\"},{\"attributes\":{\"label\":{\"value\":\"BCC Cardiff\"},\"renderers\":[{\"id\":\"3632\",\"type\":\"GlyphRenderer\"}]},\"id\":\"3643\",\"type\":\"LegendItem\"},{\"attributes\":{\"fill_alpha\":{\"value\":0.9},\"fill_color\":{\"value\":\"#0EBFE9\"},\"line_color\":{\"value\":\"#0EBFE9\"},\"top\":{\"field\":\"counts\"},\"width\":{\"value\":0.26666666666666666},\"x\":{\"field\":\"x\",\"transform\":{\"id\":\"3607\",\"type\":\"Dodge\"}}},\"id\":\"3610\",\"type\":\"VBar\"},{\"attributes\":{\"text\":\"\",\"text_font_size\":{\"value\":\"12pt\"}},\"id\":\"3586\",\"type\":\"Title\"},{\"attributes\":{},\"id\":\"3663\",\"type\":\"Selection\"},{\"attributes\":{},\"id\":\"3664\",\"type\":\"UnionRenderers\"},{\"attributes\":{\"fill_alpha\":{\"value\":0.1},\"fill_color\":{\"value\":\"#1f77b4\"},\"line_alpha\":{\"value\":0.1},\"line_color\":{\"value\":\"#1f77b4\"},\"top\":{\"field\":\"counts\"},\"width\":{\"value\":0.26666666666666666},\"x\":{\"field\":\"x\",\"transform\":{\"id\":\"3607\",\"type\":\"Dodge\"}}},\"id\":\"3611\",\"type\":\"VBar\"},{\"attributes\":{},\"id\":\"3604\",\"type\":\"SaveTool\"},{\"attributes\":{\"label\":{\"value\":\"BCC Butler\"},\"renderers\":[{\"id\":\"3613\",\"type\":\"GlyphRenderer\"}]},\"id\":\"3621\",\"type\":\"LegendItem\"},{\"attributes\":{\"dimension\":1,\"ticker\":{\"id\":\"3600\",\"type\":\"BasicTicker\"}},\"id\":\"3603\",\"type\":\"Grid\"},{\"attributes\":{\"level\":\"glyph\",\"source\":{\"id\":\"3645\",\"type\":\"ColumnDataSource\"},\"text\":{\"field\":\"n\"},\"text_align\":\"center\",\"text_color\":{\"value\":\"#000000\"},\"text_font_size\":{\"value\":\"7pt\"},\"x\":{\"field\":\"x\",\"transform\":{\"id\":\"3644\",\"type\":\"Dodge\"}},\"y\":{\"field\":\"y\"}},\"id\":\"3646\",\"type\":\"LabelSet\"},{\"attributes\":{},\"id\":\"3619\",\"type\":\"BasicTickFormatter\"},{\"attributes\":{\"callback\":null,\"end\":1304.55},\"id\":\"3677\",\"type\":\"Range1d\"},{\"attributes\":{},\"id\":\"3617\",\"type\":\"CategoricalTickFormatter\"},{\"attributes\":{},\"id\":\"3695\",\"type\":\"UnionRenderers\"},{\"attributes\":{\"callback\":null,\"data\":{\"counts\":[179.0,380.0,477.75,434.2,1003.5],\"x\":[\"Dec\",\"Jan\",\"Feb\",\"Mar\",\"Apr\"]},\"selected\":{\"id\":\"3663\",\"type\":\"Selection\"},\"selection_policy\":{\"id\":\"3664\",\"type\":\"UnionRenderers\"}},\"id\":\"3627\",\"type\":\"ColumnDataSource\"},{\"attributes\":{},\"id\":\"3667\",\"type\":\"Selection\"},{\"attributes\":{},\"id\":\"3591\",\"type\":\"CategoricalScale\"},{\"attributes\":{\"fill_color\":{\"value\":\"#1f77b4\"},\"line_color\":{\"value\":\"#1f77b4\"},\"top\":{\"field\":\"counts\"},\"width\":{\"value\":0.26666666666666666},\"x\":{\"field\":\"x\",\"transform\":{\"id\":\"3626\",\"type\":\"Dodge\"}}},\"id\":\"3631\",\"type\":\"VBar\"},{\"attributes\":{\"callback\":null,\"data\":{\"counts\":[64.75,216.25,174.25,81.0,27.0],\"x\":[\"Dec\",\"Jan\",\"Feb\",\"Mar\",\"Apr\"]},\"selected\":{\"id\":\"3688\",\"type\":\"Selection\"},\"selection_policy\":{\"id\":\"3689\",\"type\":\"UnionRenderers\"}},\"id\":\"3649\",\"type\":\"ColumnDataSource\"},{\"attributes\":{\"text\":\"Season 2017-2018 | Average Daily Trailhead Users Per Month For Saturdays\",\"text_font_size\":{\"value\":\"13pt\"}},\"id\":\"3676\",\"type\":\"Title\"},{\"attributes\":{\"callback\":null,\"data\":{\"n\":[\"(2)\",\"(2)\",\"(4)\",\"(5)\",\"(4)\"],\"x\":[\"Dec\",\"Jan\",\"Feb\",\"Mar\",\"Apr\"],\"y\":[54.0,109.5,118.0,45.0,91.25]},\"selected\":{\"id\":\"3641\",\"type\":\"Selection\"},\"selection_policy\":{\"id\":\"3642\",\"type\":\"UnionRenderers\"}},\"id\":\"3623\",\"type\":\"ColumnDataSource\"},{\"attributes\":{\"range\":{\"id\":\"3584\",\"type\":\"FactorRange\"}},\"id\":\"3644\",\"type\":\"Dodge\"},{\"attributes\":{},\"id\":\"3596\",\"type\":\"CategoricalTicker\"},{\"attributes\":{\"range\":{\"id\":\"3584\",\"type\":\"FactorRange\"},\"value\":-0.2916666666666667},\"id\":\"3622\",\"type\":\"Dodge\"},{\"attributes\":{},\"id\":\"3688\",\"type\":\"Selection\"},{\"attributes\":{},\"id\":\"3694\",\"type\":\"Selection\"},{\"attributes\":{\"fill_alpha\":{\"value\":0.1},\"fill_color\":{\"value\":\"#1f77b4\"},\"line_alpha\":{\"value\":0.1},\"line_color\":{\"value\":\"#1f77b4\"},\"top\":{\"field\":\"counts\"},\"width\":{\"value\":0.26666666666666666},\"x\":{\"field\":\"x\",\"transform\":{\"id\":\"3626\",\"type\":\"Dodge\"}}},\"id\":\"3630\",\"type\":\"VBar\"},{\"attributes\":{\"range\":{\"id\":\"3584\",\"type\":\"FactorRange\"},\"value\":0.2916666666666667},\"id\":\"3670\",\"type\":\"Dodge\"},{\"attributes\":{\"items\":[{\"id\":\"3621\",\"type\":\"LegendItem\"},{\"id\":\"3643\",\"type\":\"LegendItem\"},{\"id\":\"3669\",\"type\":\"LegendItem\"}],\"location\":\"top_left\",\"orientation\":\"horizontal\"},\"id\":\"3620\",\"type\":\"Legend\"}],\"root_ids\":[\"3585\"]},\"title\":\"Bokeh Application\",\"version\":\"1.4.0\"}};\n",
       "  var render_items = [{\"docid\":\"93f273e1-71d0-4e2b-8043-430ce4b46450\",\"roots\":{\"3585\":\"328d3419-17d0-485c-9cda-fbaf668e0b7f\"}}];\n",
       "  root.Bokeh.embed.embed_items_notebook(docs_json, render_items);\n",
       "\n",
       "  }\n",
       "  if (root.Bokeh !== undefined) {\n",
       "    embed_document(root);\n",
       "  } else {\n",
       "    var attempts = 0;\n",
       "    var timer = setInterval(function(root) {\n",
       "      if (root.Bokeh !== undefined) {\n",
       "        clearInterval(timer);\n",
       "        embed_document(root);\n",
       "      } else {\n",
       "        attempts++;\n",
       "        if (attempts > 100) {\n",
       "          clearInterval(timer);\n",
       "          console.log(\"Bokeh: ERROR: Unable to run BokehJS code because BokehJS library is missing\");\n",
       "        }\n",
       "      }\n",
       "    }, 10, root)\n",
       "  }\n",
       "})(window);"
      ],
      "application/vnd.bokehjs_exec.v0+json": ""
     },
     "metadata": {
      "application/vnd.bokehjs_exec.v0+json": {
       "id": "3585"
      }
     },
     "output_type": "display_data"
    }
   ],
   "source": [
    "season = '2017-2018'\n",
    "sites = [x for x in adu_df.query(\"season == @season\")['site'].unique() if \"BCC\" in x]\n",
    "dayOfWeek = 'Saturday'\n",
    "src_df = dub.make_data_set(season, sites, dayOfWeek, adu_df)\n",
    "p = dub.make_plot(src_df, show_sensor_n=True)\n",
    "fig_path = os.path.abspath(os.path.join(os.getcwd(), \"..\",\"reports\", \"figures\", \"daily_user_averages\", \n",
    "                                        \"daily_users_{}_{}_{}.png\".format(season.replace(\"-\", \"\"), \"BCC\", dayOfWeek)))\n",
    "export_png(p, fig_path)\n",
    "show(p)"
   ]
  },
  {
   "cell_type": "code",
   "execution_count": 9,
   "metadata": {},
   "outputs": [
    {
     "data": {
      "text/html": [
       "\n",
       "\n",
       "\n",
       "\n",
       "\n",
       "\n",
       "  <div class=\"bk-root\" id=\"75e7173c-3e05-44fe-aa10-dc5819e7d793\" data-root-id=\"4114\"></div>\n"
      ]
     },
     "metadata": {},
     "output_type": "display_data"
    },
    {
     "data": {
      "application/javascript": [
       "(function(root) {\n",
       "  function embed_document(root) {\n",
       "    \n",
       "  var docs_json = {\"07b2a28a-0c9c-4b63-b6b7-6a7a386be97a\":{\"roots\":{\"references\":[{\"attributes\":{\"above\":[{\"id\":\"4205\",\"type\":\"Title\"}],\"below\":[{\"id\":\"4124\",\"type\":\"CategoricalAxis\"},{\"id\":\"4207\",\"type\":\"Title\"}],\"center\":[{\"id\":\"4127\",\"type\":\"Grid\"},{\"id\":\"4132\",\"type\":\"Grid\"},{\"id\":\"4149\",\"type\":\"Legend\"},{\"id\":\"4153\",\"type\":\"LabelSet\"},{\"id\":\"4175\",\"type\":\"LabelSet\"},{\"id\":\"4201\",\"type\":\"LabelSet\"}],\"left\":[{\"id\":\"4128\",\"type\":\"LinearAxis\"}],\"plot_height\":400,\"plot_width\":800,\"renderers\":[{\"id\":\"4142\",\"type\":\"GlyphRenderer\"},{\"id\":\"4161\",\"type\":\"GlyphRenderer\"},{\"id\":\"4183\",\"type\":\"GlyphRenderer\"}],\"title\":{\"id\":\"4115\",\"type\":\"Title\"},\"toolbar\":{\"id\":\"4134\",\"type\":\"Toolbar\"},\"x_range\":{\"id\":\"4113\",\"type\":\"FactorRange\"},\"x_scale\":{\"id\":\"4120\",\"type\":\"CategoricalScale\"},\"y_range\":{\"id\":\"4206\",\"type\":\"Range1d\"},\"y_scale\":{\"id\":\"4122\",\"type\":\"LinearScale\"}},\"id\":\"4114\",\"subtype\":\"Figure\",\"type\":\"Plot\"},{\"attributes\":{},\"id\":\"4120\",\"type\":\"CategoricalScale\"},{\"attributes\":{\"formatter\":{\"id\":\"4148\",\"type\":\"BasicTickFormatter\"},\"major_label_text_font_size\":{\"value\":\"12pt\"},\"major_label_text_font_style\":\"bold\",\"minor_tick_line_color\":{\"value\":null},\"ticker\":{\"id\":\"4129\",\"type\":\"BasicTicker\"}},\"id\":\"4128\",\"type\":\"LinearAxis\"},{\"attributes\":{\"fill_color\":{\"value\":\"#1f77b4\"},\"line_color\":{\"value\":\"#1f77b4\"},\"top\":{\"field\":\"counts\"},\"width\":{\"value\":0.26666666666666666},\"x\":{\"field\":\"x\",\"transform\":{\"id\":\"4136\",\"type\":\"Dodge\"}}},\"id\":\"4141\",\"type\":\"VBar\"},{\"attributes\":{\"source\":{\"id\":\"4178\",\"type\":\"ColumnDataSource\"}},\"id\":\"4184\",\"type\":\"CDSView\"},{\"attributes\":{},\"id\":\"4168\",\"type\":\"Selection\"},{\"attributes\":{\"text\":\"Note: (*) is number of days with sensor data\",\"text_font_size\":{\"value\":\"10pt\"},\"text_font_style\":\"normal\"},\"id\":\"4207\",\"type\":\"Title\"},{\"attributes\":{\"range\":{\"id\":\"4113\",\"type\":\"FactorRange\"},\"value\":0.2916666666666667},\"id\":\"4177\",\"type\":\"Dodge\"},{\"attributes\":{},\"id\":\"4218\",\"type\":\"UnionRenderers\"},{\"attributes\":{},\"id\":\"4224\",\"type\":\"UnionRenderers\"},{\"attributes\":{\"level\":\"glyph\",\"source\":{\"id\":\"4200\",\"type\":\"ColumnDataSource\"},\"text\":{\"field\":\"n\"},\"text_align\":\"center\",\"text_color\":{\"value\":\"#000000\"},\"text_font_size\":{\"value\":\"7pt\"},\"x\":{\"field\":\"x\",\"transform\":{\"id\":\"4199\",\"type\":\"Dodge\"}},\"y\":{\"field\":\"y\"}},\"id\":\"4201\",\"type\":\"LabelSet\"},{\"attributes\":{},\"id\":\"4171\",\"type\":\"UnionRenderers\"},{\"attributes\":{\"data_source\":{\"id\":\"4137\",\"type\":\"ColumnDataSource\"},\"glyph\":{\"id\":\"4139\",\"type\":\"VBar\"},\"hover_glyph\":{\"id\":\"4141\",\"type\":\"VBar\"},\"muted_glyph\":null,\"name\":\"BCC Butler\",\"nonselection_glyph\":{\"id\":\"4140\",\"type\":\"VBar\"},\"selection_glyph\":null,\"view\":{\"id\":\"4143\",\"type\":\"CDSView\"}},\"id\":\"4142\",\"type\":\"GlyphRenderer\"},{\"attributes\":{\"formatter\":{\"id\":\"4146\",\"type\":\"CategoricalTickFormatter\"},\"major_label_orientation\":0,\"major_label_standoff\":10,\"major_label_text_font_size\":{\"value\":\"12pt\"},\"major_label_text_font_style\":\"bold\",\"major_tick_line_color\":{\"value\":null},\"minor_tick_line_color\":{\"value\":null},\"ticker\":{\"id\":\"4125\",\"type\":\"CategoricalTicker\"}},\"id\":\"4124\",\"type\":\"CategoricalAxis\"},{\"attributes\":{},\"id\":\"4169\",\"type\":\"UnionRenderers\"},{\"attributes\":{\"fill_alpha\":{\"value\":0.1},\"fill_color\":{\"value\":\"#1f77b4\"},\"line_alpha\":{\"value\":0.1},\"line_color\":{\"value\":\"#1f77b4\"},\"top\":{\"field\":\"counts\"},\"width\":{\"value\":0.26666666666666666},\"x\":{\"field\":\"x\",\"transform\":{\"id\":\"4177\",\"type\":\"Dodge\"}}},\"id\":\"4181\",\"type\":\"VBar\"},{\"attributes\":{\"range\":{\"id\":\"4113\",\"type\":\"FactorRange\"},\"value\":0.2916666666666667},\"id\":\"4199\",\"type\":\"Dodge\"},{\"attributes\":{\"range\":{\"id\":\"4113\",\"type\":\"FactorRange\"}},\"id\":\"4155\",\"type\":\"Dodge\"},{\"attributes\":{},\"id\":\"4192\",\"type\":\"Selection\"},{\"attributes\":{\"text\":\"\",\"text_font_size\":{\"value\":\"12pt\"}},\"id\":\"4115\",\"type\":\"Title\"},{\"attributes\":{},\"id\":\"4146\",\"type\":\"CategoricalTickFormatter\"},{\"attributes\":{\"range\":{\"id\":\"4113\",\"type\":\"FactorRange\"},\"value\":-0.2916666666666667},\"id\":\"4136\",\"type\":\"Dodge\"},{\"attributes\":{},\"id\":\"4170\",\"type\":\"Selection\"},{\"attributes\":{\"items\":[{\"id\":\"4150\",\"type\":\"LegendItem\"},{\"id\":\"4172\",\"type\":\"LegendItem\"},{\"id\":\"4198\",\"type\":\"LegendItem\"}],\"location\":\"top_left\",\"orientation\":\"horizontal\"},\"id\":\"4149\",\"type\":\"Legend\"},{\"attributes\":{\"fill_color\":{\"value\":\"#1f77b4\"},\"line_color\":{\"value\":\"#1f77b4\"},\"top\":{\"field\":\"counts\"},\"width\":{\"value\":0.26666666666666666},\"x\":{\"field\":\"x\",\"transform\":{\"id\":\"4155\",\"type\":\"Dodge\"}}},\"id\":\"4160\",\"type\":\"VBar\"},{\"attributes\":{\"fill_color\":{\"value\":\"#1f77b4\"},\"line_color\":{\"value\":\"#1f77b4\"},\"top\":{\"field\":\"counts\"},\"width\":{\"value\":0.26666666666666666},\"x\":{\"field\":\"x\",\"transform\":{\"id\":\"4177\",\"type\":\"Dodge\"}}},\"id\":\"4182\",\"type\":\"VBar\"},{\"attributes\":{},\"id\":\"4133\",\"type\":\"SaveTool\"},{\"attributes\":{\"text\":\"Season 2018-2019 | Average Daily Trailhead Users Per Month\",\"text_font_size\":{\"value\":\"13pt\"}},\"id\":\"4205\",\"type\":\"Title\"},{\"attributes\":{\"fill_alpha\":{\"value\":0.9},\"fill_color\":{\"value\":\"#0BB5FF\"},\"line_color\":{\"value\":\"#0BB5FF\"},\"top\":{\"field\":\"counts\"},\"width\":{\"value\":0.26666666666666666},\"x\":{\"field\":\"x\",\"transform\":{\"id\":\"4155\",\"type\":\"Dodge\"}}},\"id\":\"4158\",\"type\":\"VBar\"},{\"attributes\":{\"label\":{\"value\":\"BCC Cardiff\"},\"renderers\":[{\"id\":\"4161\",\"type\":\"GlyphRenderer\"}]},\"id\":\"4172\",\"type\":\"LegendItem\"},{\"attributes\":{\"label\":{\"value\":\"BCC Mill D\"},\"renderers\":[{\"id\":\"4183\",\"type\":\"GlyphRenderer\"}]},\"id\":\"4198\",\"type\":\"LegendItem\"},{\"attributes\":{},\"id\":\"4196\",\"type\":\"Selection\"},{\"attributes\":{},\"id\":\"4193\",\"type\":\"UnionRenderers\"},{\"attributes\":{\"fill_alpha\":{\"value\":0.9},\"fill_color\":{\"value\":\"#009ACD\"},\"line_color\":{\"value\":\"#009ACD\"},\"top\":{\"field\":\"counts\"},\"width\":{\"value\":0.26666666666666666},\"x\":{\"field\":\"x\",\"transform\":{\"id\":\"4177\",\"type\":\"Dodge\"}}},\"id\":\"4180\",\"type\":\"VBar\"},{\"attributes\":{\"callback\":null,\"end\":260.6035714285714},\"id\":\"4206\",\"type\":\"Range1d\"},{\"attributes\":{\"label\":{\"value\":\"BCC Butler\"},\"renderers\":[{\"id\":\"4142\",\"type\":\"GlyphRenderer\"}]},\"id\":\"4150\",\"type\":\"LegendItem\"},{\"attributes\":{},\"id\":\"4197\",\"type\":\"UnionRenderers\"},{\"attributes\":{\"callback\":null,\"data\":{\"n\":[\"(29)\",\"(31)\",\"(28)\",\"(28)\",\"(28)\"],\"x\":[\"Dec\",\"Jan\",\"Feb\",\"Mar\",\"Apr\"],\"y\":[121.41379310344827,186.29032258064515,200.4642857142857,192.39285714285717,63.14285714285714]},\"selected\":{\"id\":\"4196\",\"type\":\"Selection\"},\"selection_policy\":{\"id\":\"4197\",\"type\":\"UnionRenderers\"}},\"id\":\"4174\",\"type\":\"ColumnDataSource\"},{\"attributes\":{\"active_drag\":\"auto\",\"active_inspect\":\"auto\",\"active_multi\":null,\"active_scroll\":\"auto\",\"active_tap\":\"auto\",\"tools\":[{\"id\":\"4133\",\"type\":\"SaveTool\"},{\"id\":\"4203\",\"type\":\"HoverTool\"}]},\"id\":\"4134\",\"type\":\"Toolbar\"},{\"attributes\":{\"dimension\":1,\"ticker\":{\"id\":\"4129\",\"type\":\"BasicTicker\"}},\"id\":\"4132\",\"type\":\"Grid\"},{\"attributes\":{},\"id\":\"4148\",\"type\":\"BasicTickFormatter\"},{\"attributes\":{},\"id\":\"4217\",\"type\":\"Selection\"},{\"attributes\":{},\"id\":\"4125\",\"type\":\"CategoricalTicker\"},{\"attributes\":{\"callback\":null,\"data\":{\"counts\":[45.96551724137931,44.17857142857143,33.53846153846154,18.28,9.6],\"x\":[\"Dec\",\"Jan\",\"Feb\",\"Mar\",\"Apr\"]},\"selected\":{\"id\":\"4168\",\"type\":\"Selection\"},\"selection_policy\":{\"id\":\"4169\",\"type\":\"UnionRenderers\"}},\"id\":\"4137\",\"type\":\"ColumnDataSource\"},{\"attributes\":{\"callback\":null,\"data\":{\"counts\":[121.41379310344827,186.29032258064515,200.4642857142857,192.39285714285717,63.14285714285714],\"x\":[\"Dec\",\"Jan\",\"Feb\",\"Mar\",\"Apr\"]},\"selected\":{\"id\":\"4192\",\"type\":\"Selection\"},\"selection_policy\":{\"id\":\"4193\",\"type\":\"UnionRenderers\"}},\"id\":\"4156\",\"type\":\"ColumnDataSource\"},{\"attributes\":{\"callback\":null,\"factors\":[\"Dec\",\"Jan\",\"Feb\",\"Mar\",\"Apr\"],\"range_padding\":0.1},\"id\":\"4113\",\"type\":\"FactorRange\"},{\"attributes\":{\"data_source\":{\"id\":\"4156\",\"type\":\"ColumnDataSource\"},\"glyph\":{\"id\":\"4158\",\"type\":\"VBar\"},\"hover_glyph\":{\"id\":\"4160\",\"type\":\"VBar\"},\"muted_glyph\":null,\"name\":\"BCC Cardiff\",\"nonselection_glyph\":{\"id\":\"4159\",\"type\":\"VBar\"},\"selection_glyph\":null,\"view\":{\"id\":\"4162\",\"type\":\"CDSView\"}},\"id\":\"4161\",\"type\":\"GlyphRenderer\"},{\"attributes\":{\"fill_alpha\":{\"value\":0.9},\"fill_color\":{\"value\":\"#0EBFE9\"},\"line_color\":{\"value\":\"#0EBFE9\"},\"top\":{\"field\":\"counts\"},\"width\":{\"value\":0.26666666666666666},\"x\":{\"field\":\"x\",\"transform\":{\"id\":\"4136\",\"type\":\"Dodge\"}}},\"id\":\"4139\",\"type\":\"VBar\"},{\"attributes\":{\"callback\":null,\"data\":{\"n\":[\"(29)\",\"(28)\",\"(26)\",\"(25)\",\"(25)\"],\"x\":[\"Dec\",\"Jan\",\"Feb\",\"Mar\",\"Apr\"],\"y\":[45.96551724137931,44.17857142857143,33.53846153846154,18.28,9.6]},\"selected\":{\"id\":\"4170\",\"type\":\"Selection\"},\"selection_policy\":{\"id\":\"4171\",\"type\":\"UnionRenderers\"}},\"id\":\"4152\",\"type\":\"ColumnDataSource\"},{\"attributes\":{},\"id\":\"4129\",\"type\":\"BasicTicker\"},{\"attributes\":{\"range\":{\"id\":\"4113\",\"type\":\"FactorRange\"}},\"id\":\"4173\",\"type\":\"Dodge\"},{\"attributes\":{\"callback\":null,\"data\":{\"counts\":[123.36666666666666,129.63333333333333,118.71428571428572,60.29032258064516,23.407407407407412],\"x\":[\"Dec\",\"Jan\",\"Feb\",\"Mar\",\"Apr\"]},\"selected\":{\"id\":\"4217\",\"type\":\"Selection\"},\"selection_policy\":{\"id\":\"4218\",\"type\":\"UnionRenderers\"}},\"id\":\"4178\",\"type\":\"ColumnDataSource\"},{\"attributes\":{\"grid_line_color\":null,\"ticker\":{\"id\":\"4125\",\"type\":\"CategoricalTicker\"}},\"id\":\"4127\",\"type\":\"Grid\"},{\"attributes\":{\"range\":{\"id\":\"4113\",\"type\":\"FactorRange\"},\"value\":-0.2916666666666667},\"id\":\"4151\",\"type\":\"Dodge\"},{\"attributes\":{\"source\":{\"id\":\"4137\",\"type\":\"ColumnDataSource\"}},\"id\":\"4143\",\"type\":\"CDSView\"},{\"attributes\":{\"callback\":null,\"tooltips\":[[\"Site\",\"$name\"],[\"Average Daily Users\",\"@counts{int}\"]]},\"id\":\"4203\",\"type\":\"HoverTool\"},{\"attributes\":{\"fill_alpha\":{\"value\":0.1},\"fill_color\":{\"value\":\"#1f77b4\"},\"line_alpha\":{\"value\":0.1},\"line_color\":{\"value\":\"#1f77b4\"},\"top\":{\"field\":\"counts\"},\"width\":{\"value\":0.26666666666666666},\"x\":{\"field\":\"x\",\"transform\":{\"id\":\"4155\",\"type\":\"Dodge\"}}},\"id\":\"4159\",\"type\":\"VBar\"},{\"attributes\":{},\"id\":\"4223\",\"type\":\"Selection\"},{\"attributes\":{},\"id\":\"4122\",\"type\":\"LinearScale\"},{\"attributes\":{\"level\":\"glyph\",\"source\":{\"id\":\"4152\",\"type\":\"ColumnDataSource\"},\"text\":{\"field\":\"n\"},\"text_align\":\"center\",\"text_color\":{\"value\":\"#000000\"},\"text_font_size\":{\"value\":\"7pt\"},\"x\":{\"field\":\"x\",\"transform\":{\"id\":\"4151\",\"type\":\"Dodge\"}},\"y\":{\"field\":\"y\"}},\"id\":\"4153\",\"type\":\"LabelSet\"},{\"attributes\":{\"level\":\"glyph\",\"source\":{\"id\":\"4174\",\"type\":\"ColumnDataSource\"},\"text\":{\"field\":\"n\"},\"text_align\":\"center\",\"text_color\":{\"value\":\"#000000\"},\"text_font_size\":{\"value\":\"7pt\"},\"x\":{\"field\":\"x\",\"transform\":{\"id\":\"4173\",\"type\":\"Dodge\"}},\"y\":{\"field\":\"y\"}},\"id\":\"4175\",\"type\":\"LabelSet\"},{\"attributes\":{\"source\":{\"id\":\"4156\",\"type\":\"ColumnDataSource\"}},\"id\":\"4162\",\"type\":\"CDSView\"},{\"attributes\":{\"callback\":null,\"data\":{\"n\":[\"(30)\",\"(30)\",\"(28)\",\"(31)\",\"(27)\"],\"x\":[\"Dec\",\"Jan\",\"Feb\",\"Mar\",\"Apr\"],\"y\":[123.36666666666666,129.63333333333333,118.71428571428572,60.29032258064516,23.407407407407412]},\"selected\":{\"id\":\"4223\",\"type\":\"Selection\"},\"selection_policy\":{\"id\":\"4224\",\"type\":\"UnionRenderers\"}},\"id\":\"4200\",\"type\":\"ColumnDataSource\"},{\"attributes\":{\"fill_alpha\":{\"value\":0.1},\"fill_color\":{\"value\":\"#1f77b4\"},\"line_alpha\":{\"value\":0.1},\"line_color\":{\"value\":\"#1f77b4\"},\"top\":{\"field\":\"counts\"},\"width\":{\"value\":0.26666666666666666},\"x\":{\"field\":\"x\",\"transform\":{\"id\":\"4136\",\"type\":\"Dodge\"}}},\"id\":\"4140\",\"type\":\"VBar\"},{\"attributes\":{\"data_source\":{\"id\":\"4178\",\"type\":\"ColumnDataSource\"},\"glyph\":{\"id\":\"4180\",\"type\":\"VBar\"},\"hover_glyph\":{\"id\":\"4182\",\"type\":\"VBar\"},\"muted_glyph\":null,\"name\":\"BCC Mill D\",\"nonselection_glyph\":{\"id\":\"4181\",\"type\":\"VBar\"},\"selection_glyph\":null,\"view\":{\"id\":\"4184\",\"type\":\"CDSView\"}},\"id\":\"4183\",\"type\":\"GlyphRenderer\"}],\"root_ids\":[\"4114\"]},\"title\":\"Bokeh Application\",\"version\":\"1.4.0\"}};\n",
       "  var render_items = [{\"docid\":\"07b2a28a-0c9c-4b63-b6b7-6a7a386be97a\",\"roots\":{\"4114\":\"75e7173c-3e05-44fe-aa10-dc5819e7d793\"}}];\n",
       "  root.Bokeh.embed.embed_items_notebook(docs_json, render_items);\n",
       "\n",
       "  }\n",
       "  if (root.Bokeh !== undefined) {\n",
       "    embed_document(root);\n",
       "  } else {\n",
       "    var attempts = 0;\n",
       "    var timer = setInterval(function(root) {\n",
       "      if (root.Bokeh !== undefined) {\n",
       "        clearInterval(timer);\n",
       "        embed_document(root);\n",
       "      } else {\n",
       "        attempts++;\n",
       "        if (attempts > 100) {\n",
       "          clearInterval(timer);\n",
       "          console.log(\"Bokeh: ERROR: Unable to run BokehJS code because BokehJS library is missing\");\n",
       "        }\n",
       "      }\n",
       "    }, 10, root)\n",
       "  }\n",
       "})(window);"
      ],
      "application/vnd.bokehjs_exec.v0+json": ""
     },
     "metadata": {
      "application/vnd.bokehjs_exec.v0+json": {
       "id": "4114"
      }
     },
     "output_type": "display_data"
    }
   ],
   "source": [
    "season = '2018-2019'\n",
    "sites = [x for x in adu_df.query(\"season == @season\")['site'].unique() if \"BCC\" in x]\n",
    "dayOfWeek = 'All'\n",
    "src_df = dub.make_data_set(season, sites, dayOfWeek, adu_df)\n",
    "p = dub.make_plot(src_df, show_sensor_n=True)\n",
    "fig_path = os.path.abspath(os.path.join(os.getcwd(), \"..\",\"reports\", \"figures\", \"daily_user_averages\", \n",
    "                                        \"daily_users_{}_{}_{}.png\".format(season.replace(\"-\", \"\"), \"BCC\", dayOfWeek)))\n",
    "export_png(p, fig_path)\n",
    "show(p)"
   ]
  },
  {
   "cell_type": "code",
   "execution_count": 10,
   "metadata": {},
   "outputs": [
    {
     "data": {
      "text/html": [
       "\n",
       "\n",
       "\n",
       "\n",
       "\n",
       "\n",
       "  <div class=\"bk-root\" id=\"166383a3-7f83-48c9-a818-ded35568fbd3\" data-root-id=\"4660\"></div>\n"
      ]
     },
     "metadata": {},
     "output_type": "display_data"
    },
    {
     "data": {
      "application/javascript": [
       "(function(root) {\n",
       "  function embed_document(root) {\n",
       "    \n",
       "  var docs_json = {\"d85c3fe9-cb99-46de-a866-d50fa6a28bc2\":{\"roots\":{\"references\":[{\"attributes\":{\"above\":[{\"id\":\"4751\",\"type\":\"Title\"}],\"below\":[{\"id\":\"4670\",\"type\":\"CategoricalAxis\"},{\"id\":\"4753\",\"type\":\"Title\"}],\"center\":[{\"id\":\"4673\",\"type\":\"Grid\"},{\"id\":\"4678\",\"type\":\"Grid\"},{\"id\":\"4695\",\"type\":\"Legend\"},{\"id\":\"4699\",\"type\":\"LabelSet\"},{\"id\":\"4721\",\"type\":\"LabelSet\"},{\"id\":\"4747\",\"type\":\"LabelSet\"}],\"left\":[{\"id\":\"4674\",\"type\":\"LinearAxis\"}],\"plot_height\":400,\"plot_width\":800,\"renderers\":[{\"id\":\"4688\",\"type\":\"GlyphRenderer\"},{\"id\":\"4707\",\"type\":\"GlyphRenderer\"},{\"id\":\"4729\",\"type\":\"GlyphRenderer\"}],\"title\":{\"id\":\"4661\",\"type\":\"Title\"},\"toolbar\":{\"id\":\"4680\",\"type\":\"Toolbar\"},\"x_range\":{\"id\":\"4659\",\"type\":\"FactorRange\"},\"x_scale\":{\"id\":\"4666\",\"type\":\"CategoricalScale\"},\"y_range\":{\"id\":\"4752\",\"type\":\"Range1d\"},\"y_scale\":{\"id\":\"4668\",\"type\":\"LinearScale\"}},\"id\":\"4660\",\"subtype\":\"Figure\",\"type\":\"Plot\"},{\"attributes\":{\"data_source\":{\"id\":\"4683\",\"type\":\"ColumnDataSource\"},\"glyph\":{\"id\":\"4685\",\"type\":\"VBar\"},\"hover_glyph\":{\"id\":\"4687\",\"type\":\"VBar\"},\"muted_glyph\":null,\"name\":\"BCC Butler\",\"nonselection_glyph\":{\"id\":\"4686\",\"type\":\"VBar\"},\"selection_glyph\":null,\"view\":{\"id\":\"4689\",\"type\":\"CDSView\"}},\"id\":\"4688\",\"type\":\"GlyphRenderer\"},{\"attributes\":{\"range\":{\"id\":\"4659\",\"type\":\"FactorRange\"},\"value\":0.2916666666666667},\"id\":\"4723\",\"type\":\"Dodge\"},{\"attributes\":{\"text\":\"\",\"text_font_size\":{\"value\":\"12pt\"}},\"id\":\"4661\",\"type\":\"Title\"},{\"attributes\":{\"data_source\":{\"id\":\"4724\",\"type\":\"ColumnDataSource\"},\"glyph\":{\"id\":\"4726\",\"type\":\"VBar\"},\"hover_glyph\":{\"id\":\"4728\",\"type\":\"VBar\"},\"muted_glyph\":null,\"name\":\"BCC Mill D\",\"nonselection_glyph\":{\"id\":\"4727\",\"type\":\"VBar\"},\"selection_glyph\":null,\"view\":{\"id\":\"4730\",\"type\":\"CDSView\"}},\"id\":\"4729\",\"type\":\"GlyphRenderer\"},{\"attributes\":{\"callback\":null,\"data\":{\"n\":[\"(4)\",\"(4)\",\"(4)\",\"(5)\",\"(4)\"],\"x\":[\"Dec\",\"Jan\",\"Feb\",\"Mar\",\"Apr\"],\"y\":[248.5,527.0,437.0,332.8,133.75]},\"selected\":{\"id\":\"4742\",\"type\":\"Selection\"},\"selection_policy\":{\"id\":\"4743\",\"type\":\"UnionRenderers\"}},\"id\":\"4720\",\"type\":\"ColumnDataSource\"},{\"attributes\":{\"data_source\":{\"id\":\"4702\",\"type\":\"ColumnDataSource\"},\"glyph\":{\"id\":\"4704\",\"type\":\"VBar\"},\"hover_glyph\":{\"id\":\"4706\",\"type\":\"VBar\"},\"muted_glyph\":null,\"name\":\"BCC Cardiff\",\"nonselection_glyph\":{\"id\":\"4705\",\"type\":\"VBar\"},\"selection_glyph\":null,\"view\":{\"id\":\"4708\",\"type\":\"CDSView\"}},\"id\":\"4707\",\"type\":\"GlyphRenderer\"},{\"attributes\":{\"callback\":null,\"data\":{\"n\":[\"(4)\",\"(4)\",\"(4)\",\"(5)\",\"(3)\"],\"x\":[\"Dec\",\"Jan\",\"Feb\",\"Mar\",\"Apr\"],\"y\":[195.0,209.25,164.75,109.6,35.0]},\"selected\":{\"id\":\"4769\",\"type\":\"Selection\"},\"selection_policy\":{\"id\":\"4770\",\"type\":\"UnionRenderers\"}},\"id\":\"4746\",\"type\":\"ColumnDataSource\"},{\"attributes\":{\"text\":\"Note: (*) is number of days with sensor data\",\"text_font_size\":{\"value\":\"10pt\"},\"text_font_style\":\"normal\"},\"id\":\"4753\",\"type\":\"Title\"},{\"attributes\":{\"callback\":null,\"data\":{\"counts\":[87.75,122.33333333333331,72.66666666666667,21.6,19.75],\"x\":[\"Dec\",\"Jan\",\"Feb\",\"Mar\",\"Apr\"]},\"selected\":{\"id\":\"4714\",\"type\":\"Selection\"},\"selection_policy\":{\"id\":\"4715\",\"type\":\"UnionRenderers\"}},\"id\":\"4683\",\"type\":\"ColumnDataSource\"},{\"attributes\":{\"callback\":null,\"data\":{\"counts\":[195.0,209.25,164.75,109.6,35.0],\"x\":[\"Dec\",\"Jan\",\"Feb\",\"Mar\",\"Apr\"]},\"selected\":{\"id\":\"4763\",\"type\":\"Selection\"},\"selection_policy\":{\"id\":\"4764\",\"type\":\"UnionRenderers\"}},\"id\":\"4724\",\"type\":\"ColumnDataSource\"},{\"attributes\":{\"fill_color\":{\"value\":\"#1f77b4\"},\"line_color\":{\"value\":\"#1f77b4\"},\"top\":{\"field\":\"counts\"},\"width\":{\"value\":0.26666666666666666},\"x\":{\"field\":\"x\",\"transform\":{\"id\":\"4682\",\"type\":\"Dodge\"}}},\"id\":\"4687\",\"type\":\"VBar\"},{\"attributes\":{\"source\":{\"id\":\"4702\",\"type\":\"ColumnDataSource\"}},\"id\":\"4708\",\"type\":\"CDSView\"},{\"attributes\":{\"level\":\"glyph\",\"source\":{\"id\":\"4698\",\"type\":\"ColumnDataSource\"},\"text\":{\"field\":\"n\"},\"text_align\":\"center\",\"text_color\":{\"value\":\"#000000\"},\"text_font_size\":{\"value\":\"7pt\"},\"x\":{\"field\":\"x\",\"transform\":{\"id\":\"4697\",\"type\":\"Dodge\"}},\"y\":{\"field\":\"y\"}},\"id\":\"4699\",\"type\":\"LabelSet\"},{\"attributes\":{\"fill_color\":{\"value\":\"#1f77b4\"},\"line_color\":{\"value\":\"#1f77b4\"},\"top\":{\"field\":\"counts\"},\"width\":{\"value\":0.26666666666666666},\"x\":{\"field\":\"x\",\"transform\":{\"id\":\"4723\",\"type\":\"Dodge\"}}},\"id\":\"4728\",\"type\":\"VBar\"},{\"attributes\":{\"callback\":null,\"tooltips\":[[\"Site\",\"$name\"],[\"Average Daily Users\",\"@counts{int}\"]]},\"id\":\"4749\",\"type\":\"HoverTool\"},{\"attributes\":{},\"id\":\"4692\",\"type\":\"CategoricalTickFormatter\"},{\"attributes\":{\"range\":{\"id\":\"4659\",\"type\":\"FactorRange\"},\"value\":0.2916666666666667},\"id\":\"4745\",\"type\":\"Dodge\"},{\"attributes\":{\"fill_alpha\":{\"value\":0.9},\"fill_color\":{\"value\":\"#0EBFE9\"},\"line_color\":{\"value\":\"#0EBFE9\"},\"top\":{\"field\":\"counts\"},\"width\":{\"value\":0.26666666666666666},\"x\":{\"field\":\"x\",\"transform\":{\"id\":\"4682\",\"type\":\"Dodge\"}}},\"id\":\"4685\",\"type\":\"VBar\"},{\"attributes\":{},\"id\":\"4714\",\"type\":\"Selection\"},{\"attributes\":{\"formatter\":{\"id\":\"4692\",\"type\":\"CategoricalTickFormatter\"},\"major_label_orientation\":0,\"major_label_standoff\":10,\"major_label_text_font_size\":{\"value\":\"12pt\"},\"major_label_text_font_style\":\"bold\",\"major_tick_line_color\":{\"value\":null},\"minor_tick_line_color\":{\"value\":null},\"ticker\":{\"id\":\"4671\",\"type\":\"CategoricalTicker\"}},\"id\":\"4670\",\"type\":\"CategoricalAxis\"},{\"attributes\":{\"source\":{\"id\":\"4724\",\"type\":\"ColumnDataSource\"}},\"id\":\"4730\",\"type\":\"CDSView\"},{\"attributes\":{},\"id\":\"4717\",\"type\":\"UnionRenderers\"},{\"attributes\":{\"fill_color\":{\"value\":\"#1f77b4\"},\"line_color\":{\"value\":\"#1f77b4\"},\"top\":{\"field\":\"counts\"},\"width\":{\"value\":0.26666666666666666},\"x\":{\"field\":\"x\",\"transform\":{\"id\":\"4701\",\"type\":\"Dodge\"}}},\"id\":\"4706\",\"type\":\"VBar\"},{\"attributes\":{},\"id\":\"4715\",\"type\":\"UnionRenderers\"},{\"attributes\":{\"range\":{\"id\":\"4659\",\"type\":\"FactorRange\"}},\"id\":\"4701\",\"type\":\"Dodge\"},{\"attributes\":{\"dimension\":1,\"ticker\":{\"id\":\"4675\",\"type\":\"BasicTicker\"}},\"id\":\"4678\",\"type\":\"Grid\"},{\"attributes\":{\"callback\":null,\"data\":{\"counts\":[248.5,527.0,437.0,332.8,133.75],\"x\":[\"Dec\",\"Jan\",\"Feb\",\"Mar\",\"Apr\"]},\"selected\":{\"id\":\"4738\",\"type\":\"Selection\"},\"selection_policy\":{\"id\":\"4739\",\"type\":\"UnionRenderers\"}},\"id\":\"4702\",\"type\":\"ColumnDataSource\"},{\"attributes\":{},\"id\":\"4716\",\"type\":\"Selection\"},{\"attributes\":{\"grid_line_color\":null,\"ticker\":{\"id\":\"4671\",\"type\":\"CategoricalTicker\"}},\"id\":\"4673\",\"type\":\"Grid\"},{\"attributes\":{\"fill_alpha\":{\"value\":0.1},\"fill_color\":{\"value\":\"#1f77b4\"},\"line_alpha\":{\"value\":0.1},\"line_color\":{\"value\":\"#1f77b4\"},\"top\":{\"field\":\"counts\"},\"width\":{\"value\":0.26666666666666666},\"x\":{\"field\":\"x\",\"transform\":{\"id\":\"4682\",\"type\":\"Dodge\"}}},\"id\":\"4686\",\"type\":\"VBar\"},{\"attributes\":{\"label\":{\"value\":\"BCC Mill D\"},\"renderers\":[{\"id\":\"4729\",\"type\":\"GlyphRenderer\"}]},\"id\":\"4744\",\"type\":\"LegendItem\"},{\"attributes\":{\"label\":{\"value\":\"BCC Cardiff\"},\"renderers\":[{\"id\":\"4707\",\"type\":\"GlyphRenderer\"}]},\"id\":\"4718\",\"type\":\"LegendItem\"},{\"attributes\":{},\"id\":\"4739\",\"type\":\"UnionRenderers\"},{\"attributes\":{},\"id\":\"4770\",\"type\":\"UnionRenderers\"},{\"attributes\":{\"range\":{\"id\":\"4659\",\"type\":\"FactorRange\"},\"value\":-0.2916666666666667},\"id\":\"4682\",\"type\":\"Dodge\"},{\"attributes\":{\"callback\":null,\"end\":685.1},\"id\":\"4752\",\"type\":\"Range1d\"},{\"attributes\":{},\"id\":\"4738\",\"type\":\"Selection\"},{\"attributes\":{\"active_drag\":\"auto\",\"active_inspect\":\"auto\",\"active_multi\":null,\"active_scroll\":\"auto\",\"active_tap\":\"auto\",\"tools\":[{\"id\":\"4679\",\"type\":\"SaveTool\"},{\"id\":\"4749\",\"type\":\"HoverTool\"}]},\"id\":\"4680\",\"type\":\"Toolbar\"},{\"attributes\":{\"text\":\"Season 2018-2019 | Average Daily Trailhead Users Per Month For Saturdays\",\"text_font_size\":{\"value\":\"13pt\"}},\"id\":\"4751\",\"type\":\"Title\"},{\"attributes\":{\"range\":{\"id\":\"4659\",\"type\":\"FactorRange\"},\"value\":-0.2916666666666667},\"id\":\"4697\",\"type\":\"Dodge\"},{\"attributes\":{},\"id\":\"4743\",\"type\":\"UnionRenderers\"},{\"attributes\":{},\"id\":\"4668\",\"type\":\"LinearScale\"},{\"attributes\":{\"level\":\"glyph\",\"source\":{\"id\":\"4720\",\"type\":\"ColumnDataSource\"},\"text\":{\"field\":\"n\"},\"text_align\":\"center\",\"text_color\":{\"value\":\"#000000\"},\"text_font_size\":{\"value\":\"7pt\"},\"x\":{\"field\":\"x\",\"transform\":{\"id\":\"4719\",\"type\":\"Dodge\"}},\"y\":{\"field\":\"y\"}},\"id\":\"4721\",\"type\":\"LabelSet\"},{\"attributes\":{\"formatter\":{\"id\":\"4694\",\"type\":\"BasicTickFormatter\"},\"major_label_text_font_size\":{\"value\":\"12pt\"},\"major_label_text_font_style\":\"bold\",\"minor_tick_line_color\":{\"value\":null},\"ticker\":{\"id\":\"4675\",\"type\":\"BasicTicker\"}},\"id\":\"4674\",\"type\":\"LinearAxis\"},{\"attributes\":{\"fill_alpha\":{\"value\":0.9},\"fill_color\":{\"value\":\"#0BB5FF\"},\"line_color\":{\"value\":\"#0BB5FF\"},\"top\":{\"field\":\"counts\"},\"width\":{\"value\":0.26666666666666666},\"x\":{\"field\":\"x\",\"transform\":{\"id\":\"4701\",\"type\":\"Dodge\"}}},\"id\":\"4704\",\"type\":\"VBar\"},{\"attributes\":{},\"id\":\"4764\",\"type\":\"UnionRenderers\"},{\"attributes\":{},\"id\":\"4742\",\"type\":\"Selection\"},{\"attributes\":{\"level\":\"glyph\",\"source\":{\"id\":\"4746\",\"type\":\"ColumnDataSource\"},\"text\":{\"field\":\"n\"},\"text_align\":\"center\",\"text_color\":{\"value\":\"#000000\"},\"text_font_size\":{\"value\":\"7pt\"},\"x\":{\"field\":\"x\",\"transform\":{\"id\":\"4745\",\"type\":\"Dodge\"}},\"y\":{\"field\":\"y\"}},\"id\":\"4747\",\"type\":\"LabelSet\"},{\"attributes\":{\"fill_alpha\":{\"value\":0.9},\"fill_color\":{\"value\":\"#009ACD\"},\"line_color\":{\"value\":\"#009ACD\"},\"top\":{\"field\":\"counts\"},\"width\":{\"value\":0.26666666666666666},\"x\":{\"field\":\"x\",\"transform\":{\"id\":\"4723\",\"type\":\"Dodge\"}}},\"id\":\"4726\",\"type\":\"VBar\"},{\"attributes\":{},\"id\":\"4675\",\"type\":\"BasicTicker\"},{\"attributes\":{\"label\":{\"value\":\"BCC Butler\"},\"renderers\":[{\"id\":\"4688\",\"type\":\"GlyphRenderer\"}]},\"id\":\"4696\",\"type\":\"LegendItem\"},{\"attributes\":{\"items\":[{\"id\":\"4696\",\"type\":\"LegendItem\"},{\"id\":\"4718\",\"type\":\"LegendItem\"},{\"id\":\"4744\",\"type\":\"LegendItem\"}],\"location\":\"top_left\",\"orientation\":\"horizontal\"},\"id\":\"4695\",\"type\":\"Legend\"},{\"attributes\":{\"fill_alpha\":{\"value\":0.1},\"fill_color\":{\"value\":\"#1f77b4\"},\"line_alpha\":{\"value\":0.1},\"line_color\":{\"value\":\"#1f77b4\"},\"top\":{\"field\":\"counts\"},\"width\":{\"value\":0.26666666666666666},\"x\":{\"field\":\"x\",\"transform\":{\"id\":\"4723\",\"type\":\"Dodge\"}}},\"id\":\"4727\",\"type\":\"VBar\"},{\"attributes\":{\"range\":{\"id\":\"4659\",\"type\":\"FactorRange\"}},\"id\":\"4719\",\"type\":\"Dodge\"},{\"attributes\":{},\"id\":\"4763\",\"type\":\"Selection\"},{\"attributes\":{},\"id\":\"4769\",\"type\":\"Selection\"},{\"attributes\":{},\"id\":\"4694\",\"type\":\"BasicTickFormatter\"},{\"attributes\":{\"source\":{\"id\":\"4683\",\"type\":\"ColumnDataSource\"}},\"id\":\"4689\",\"type\":\"CDSView\"},{\"attributes\":{},\"id\":\"4671\",\"type\":\"CategoricalTicker\"},{\"attributes\":{\"fill_alpha\":{\"value\":0.1},\"fill_color\":{\"value\":\"#1f77b4\"},\"line_alpha\":{\"value\":0.1},\"line_color\":{\"value\":\"#1f77b4\"},\"top\":{\"field\":\"counts\"},\"width\":{\"value\":0.26666666666666666},\"x\":{\"field\":\"x\",\"transform\":{\"id\":\"4701\",\"type\":\"Dodge\"}}},\"id\":\"4705\",\"type\":\"VBar\"},{\"attributes\":{\"callback\":null,\"factors\":[\"Dec\",\"Jan\",\"Feb\",\"Mar\",\"Apr\"],\"range_padding\":0.1},\"id\":\"4659\",\"type\":\"FactorRange\"},{\"attributes\":{\"callback\":null,\"data\":{\"n\":[\"(4)\",\"(3)\",\"(3)\",\"(5)\",\"(4)\"],\"x\":[\"Dec\",\"Jan\",\"Feb\",\"Mar\",\"Apr\"],\"y\":[87.75,122.33333333333331,72.66666666666667,21.6,19.75]},\"selected\":{\"id\":\"4716\",\"type\":\"Selection\"},\"selection_policy\":{\"id\":\"4717\",\"type\":\"UnionRenderers\"}},\"id\":\"4698\",\"type\":\"ColumnDataSource\"},{\"attributes\":{},\"id\":\"4679\",\"type\":\"SaveTool\"},{\"attributes\":{},\"id\":\"4666\",\"type\":\"CategoricalScale\"}],\"root_ids\":[\"4660\"]},\"title\":\"Bokeh Application\",\"version\":\"1.4.0\"}};\n",
       "  var render_items = [{\"docid\":\"d85c3fe9-cb99-46de-a866-d50fa6a28bc2\",\"roots\":{\"4660\":\"166383a3-7f83-48c9-a818-ded35568fbd3\"}}];\n",
       "  root.Bokeh.embed.embed_items_notebook(docs_json, render_items);\n",
       "\n",
       "  }\n",
       "  if (root.Bokeh !== undefined) {\n",
       "    embed_document(root);\n",
       "  } else {\n",
       "    var attempts = 0;\n",
       "    var timer = setInterval(function(root) {\n",
       "      if (root.Bokeh !== undefined) {\n",
       "        clearInterval(timer);\n",
       "        embed_document(root);\n",
       "      } else {\n",
       "        attempts++;\n",
       "        if (attempts > 100) {\n",
       "          clearInterval(timer);\n",
       "          console.log(\"Bokeh: ERROR: Unable to run BokehJS code because BokehJS library is missing\");\n",
       "        }\n",
       "      }\n",
       "    }, 10, root)\n",
       "  }\n",
       "})(window);"
      ],
      "application/vnd.bokehjs_exec.v0+json": ""
     },
     "metadata": {
      "application/vnd.bokehjs_exec.v0+json": {
       "id": "4660"
      }
     },
     "output_type": "display_data"
    }
   ],
   "source": [
    "season = '2018-2019'\n",
    "sites = [x for x in adu_df.query(\"season == @season\")['site'].unique() if \"BCC\" in x]\n",
    "dayOfWeek = 'Saturday'\n",
    "src_df = dub.make_data_set(season, sites, dayOfWeek, adu_df)\n",
    "p = dub.make_plot(src_df, show_sensor_n=True)\n",
    "fig_path = os.path.abspath(os.path.join(os.getcwd(), \"..\",\"reports\", \"figures\", \"daily_user_averages\", \n",
    "                                        \"daily_users_{}_{}_{}.png\".format(season.replace(\"-\", \"\"), \"BCC\", dayOfWeek)))\n",
    "export_png(p, fig_path)\n",
    "show(p)"
   ]
  },
  {
   "cell_type": "markdown",
   "metadata": {},
   "source": [
    "## MCC Plots"
   ]
  },
  {
   "cell_type": "code",
   "execution_count": 11,
   "metadata": {},
   "outputs": [
    {
     "data": {
      "text/html": [
       "\n",
       "\n",
       "\n",
       "\n",
       "\n",
       "\n",
       "  <div class=\"bk-root\" id=\"02a8885d-6d02-4a7f-899d-d781a545f6c4\" data-root-id=\"5223\"></div>\n"
      ]
     },
     "metadata": {},
     "output_type": "display_data"
    },
    {
     "data": {
      "application/javascript": [
       "(function(root) {\n",
       "  function embed_document(root) {\n",
       "    \n",
       "  var docs_json = {\"47f6b544-b865-49e4-906a-de5d8e99951e\":{\"roots\":{\"references\":[{\"attributes\":{\"above\":[{\"id\":\"5288\",\"type\":\"Title\"}],\"below\":[{\"id\":\"5233\",\"type\":\"CategoricalAxis\"},{\"id\":\"5290\",\"type\":\"Title\"}],\"center\":[{\"id\":\"5236\",\"type\":\"Grid\"},{\"id\":\"5241\",\"type\":\"Grid\"},{\"id\":\"5258\",\"type\":\"Legend\"},{\"id\":\"5262\",\"type\":\"LabelSet\"},{\"id\":\"5284\",\"type\":\"LabelSet\"}],\"left\":[{\"id\":\"5237\",\"type\":\"LinearAxis\"}],\"plot_height\":400,\"plot_width\":800,\"renderers\":[{\"id\":\"5251\",\"type\":\"GlyphRenderer\"},{\"id\":\"5270\",\"type\":\"GlyphRenderer\"}],\"title\":{\"id\":\"5224\",\"type\":\"Title\"},\"toolbar\":{\"id\":\"5243\",\"type\":\"Toolbar\"},\"x_range\":{\"id\":\"5222\",\"type\":\"FactorRange\"},\"x_scale\":{\"id\":\"5229\",\"type\":\"CategoricalScale\"},\"y_range\":{\"id\":\"5289\",\"type\":\"Range1d\"},\"y_scale\":{\"id\":\"5231\",\"type\":\"LinearScale\"}},\"id\":\"5223\",\"subtype\":\"Figure\",\"type\":\"Plot\"},{\"attributes\":{\"formatter\":{\"id\":\"5257\",\"type\":\"BasicTickFormatter\"},\"major_label_text_font_size\":{\"value\":\"12pt\"},\"major_label_text_font_style\":\"bold\",\"minor_tick_line_color\":{\"value\":null},\"ticker\":{\"id\":\"5238\",\"type\":\"BasicTicker\"}},\"id\":\"5237\",\"type\":\"LinearAxis\"},{\"attributes\":{\"source\":{\"id\":\"5265\",\"type\":\"ColumnDataSource\"}},\"id\":\"5271\",\"type\":\"CDSView\"},{\"attributes\":{\"data_source\":{\"id\":\"5265\",\"type\":\"ColumnDataSource\"},\"glyph\":{\"id\":\"5267\",\"type\":\"VBar\"},\"hover_glyph\":{\"id\":\"5269\",\"type\":\"VBar\"},\"muted_glyph\":null,\"name\":\"MCC Road\",\"nonselection_glyph\":{\"id\":\"5268\",\"type\":\"VBar\"},\"selection_glyph\":null,\"view\":{\"id\":\"5271\",\"type\":\"CDSView\"}},\"id\":\"5270\",\"type\":\"GlyphRenderer\"},{\"attributes\":{\"label\":{\"value\":\"MCC Porter\"},\"renderers\":[{\"id\":\"5251\",\"type\":\"GlyphRenderer\"}]},\"id\":\"5259\",\"type\":\"LegendItem\"},{\"attributes\":{},\"id\":\"5234\",\"type\":\"CategoricalTicker\"},{\"attributes\":{},\"id\":\"5277\",\"type\":\"Selection\"},{\"attributes\":{\"text\":\"Season 2018-2019 | Average Daily Trailhead Users Per Month\",\"text_font_size\":{\"value\":\"13pt\"}},\"id\":\"5288\",\"type\":\"Title\"},{\"attributes\":{},\"id\":\"5229\",\"type\":\"CategoricalScale\"},{\"attributes\":{\"callback\":null,\"data\":{\"counts\":[546.4666666666667,512.9677419354839,481.07142857142856,365.8709677419355,151.6],\"x\":[\"Dec\",\"Jan\",\"Feb\",\"Mar\",\"Apr\"]},\"selected\":{\"id\":\"5298\",\"type\":\"Selection\"},\"selection_policy\":{\"id\":\"5299\",\"type\":\"UnionRenderers\"}},\"id\":\"5265\",\"type\":\"ColumnDataSource\"},{\"attributes\":{\"callback\":null,\"data\":{\"n\":[\"(30)\",\"(31)\",\"(28)\",\"(31)\",\"(30)\"],\"x\":[\"Dec\",\"Jan\",\"Feb\",\"Mar\",\"Apr\"],\"y\":[546.4666666666667,512.9677419354839,481.07142857142856,365.8709677419355,151.6]},\"selected\":{\"id\":\"5302\",\"type\":\"Selection\"},\"selection_policy\":{\"id\":\"5303\",\"type\":\"UnionRenderers\"}},\"id\":\"5283\",\"type\":\"ColumnDataSource\"},{\"attributes\":{\"callback\":null,\"factors\":[\"Dec\",\"Jan\",\"Feb\",\"Mar\",\"Apr\"],\"range_padding\":0.1},\"id\":\"5222\",\"type\":\"FactorRange\"},{\"attributes\":{},\"id\":\"5278\",\"type\":\"UnionRenderers\"},{\"attributes\":{},\"id\":\"5280\",\"type\":\"UnionRenderers\"},{\"attributes\":{},\"id\":\"5279\",\"type\":\"Selection\"},{\"attributes\":{\"fill_color\":{\"value\":\"#1f77b4\"},\"line_color\":{\"value\":\"#1f77b4\"},\"top\":{\"field\":\"counts\"},\"width\":{\"value\":0.4},\"x\":{\"field\":\"x\",\"transform\":{\"id\":\"5264\",\"type\":\"Dodge\"}}},\"id\":\"5269\",\"type\":\"VBar\"},{\"attributes\":{\"formatter\":{\"id\":\"5255\",\"type\":\"CategoricalTickFormatter\"},\"major_label_orientation\":0,\"major_label_standoff\":10,\"major_label_text_font_size\":{\"value\":\"12pt\"},\"major_label_text_font_style\":\"bold\",\"major_tick_line_color\":{\"value\":null},\"minor_tick_line_color\":{\"value\":null},\"ticker\":{\"id\":\"5234\",\"type\":\"CategoricalTicker\"}},\"id\":\"5233\",\"type\":\"CategoricalAxis\"},{\"attributes\":{\"dimension\":1,\"ticker\":{\"id\":\"5238\",\"type\":\"BasicTicker\"}},\"id\":\"5241\",\"type\":\"Grid\"},{\"attributes\":{\"label\":{\"value\":\"MCC Road\"},\"renderers\":[{\"id\":\"5270\",\"type\":\"GlyphRenderer\"}]},\"id\":\"5281\",\"type\":\"LegendItem\"},{\"attributes\":{},\"id\":\"5257\",\"type\":\"BasicTickFormatter\"},{\"attributes\":{\"source\":{\"id\":\"5246\",\"type\":\"ColumnDataSource\"}},\"id\":\"5252\",\"type\":\"CDSView\"},{\"attributes\":{\"range\":{\"id\":\"5222\",\"type\":\"FactorRange\"},\"value\":0.225},\"id\":\"5264\",\"type\":\"Dodge\"},{\"attributes\":{\"fill_color\":{\"value\":\"#1f77b4\"},\"line_color\":{\"value\":\"#1f77b4\"},\"top\":{\"field\":\"counts\"},\"width\":{\"value\":0.4},\"x\":{\"field\":\"x\",\"transform\":{\"id\":\"5245\",\"type\":\"Dodge\"}}},\"id\":\"5250\",\"type\":\"VBar\"},{\"attributes\":{\"callback\":null,\"data\":{\"n\":[\"(30)\",\"(31)\",\"(28)\",\"(31)\",\"(30)\"],\"x\":[\"Dec\",\"Jan\",\"Feb\",\"Mar\",\"Apr\"],\"y\":[131.7,153.67741935483872,123.89285714285714,104.32258064516131,35.4]},\"selected\":{\"id\":\"5279\",\"type\":\"Selection\"},\"selection_policy\":{\"id\":\"5280\",\"type\":\"UnionRenderers\"}},\"id\":\"5261\",\"type\":\"ColumnDataSource\"},{\"attributes\":{\"range\":{\"id\":\"5222\",\"type\":\"FactorRange\"},\"value\":-0.225},\"id\":\"5245\",\"type\":\"Dodge\"},{\"attributes\":{},\"id\":\"5298\",\"type\":\"Selection\"},{\"attributes\":{\"level\":\"glyph\",\"source\":{\"id\":\"5261\",\"type\":\"ColumnDataSource\"},\"text\":{\"field\":\"n\"},\"text_align\":\"center\",\"text_color\":{\"value\":\"#000000\"},\"text_font_size\":{\"value\":\"7pt\"},\"x\":{\"field\":\"x\",\"transform\":{\"id\":\"5260\",\"type\":\"Dodge\"}},\"y\":{\"field\":\"y\"}},\"id\":\"5262\",\"type\":\"LabelSet\"},{\"attributes\":{\"grid_line_color\":null,\"ticker\":{\"id\":\"5234\",\"type\":\"CategoricalTicker\"}},\"id\":\"5236\",\"type\":\"Grid\"},{\"attributes\":{},\"id\":\"5299\",\"type\":\"UnionRenderers\"},{\"attributes\":{\"callback\":null,\"data\":{\"counts\":[131.7,153.67741935483872,123.89285714285714,104.32258064516131,35.4],\"x\":[\"Dec\",\"Jan\",\"Feb\",\"Mar\",\"Apr\"]},\"selected\":{\"id\":\"5277\",\"type\":\"Selection\"},\"selection_policy\":{\"id\":\"5278\",\"type\":\"UnionRenderers\"}},\"id\":\"5246\",\"type\":\"ColumnDataSource\"},{\"attributes\":{},\"id\":\"5231\",\"type\":\"LinearScale\"},{\"attributes\":{\"callback\":null,\"tooltips\":[[\"Site\",\"$name\"],[\"Average Daily Users\",\"@counts{int}\"]]},\"id\":\"5286\",\"type\":\"HoverTool\"},{\"attributes\":{\"level\":\"glyph\",\"source\":{\"id\":\"5283\",\"type\":\"ColumnDataSource\"},\"text\":{\"field\":\"n\"},\"text_align\":\"center\",\"text_color\":{\"value\":\"#000000\"},\"text_font_size\":{\"value\":\"7pt\"},\"x\":{\"field\":\"x\",\"transform\":{\"id\":\"5282\",\"type\":\"Dodge\"}},\"y\":{\"field\":\"y\"}},\"id\":\"5284\",\"type\":\"LabelSet\"},{\"attributes\":{\"fill_alpha\":{\"value\":0.1},\"fill_color\":{\"value\":\"#1f77b4\"},\"line_alpha\":{\"value\":0.1},\"line_color\":{\"value\":\"#1f77b4\"},\"top\":{\"field\":\"counts\"},\"width\":{\"value\":0.4},\"x\":{\"field\":\"x\",\"transform\":{\"id\":\"5245\",\"type\":\"Dodge\"}}},\"id\":\"5249\",\"type\":\"VBar\"},{\"attributes\":{},\"id\":\"5302\",\"type\":\"Selection\"},{\"attributes\":{\"text\":\"\",\"text_font_size\":{\"value\":\"12pt\"}},\"id\":\"5224\",\"type\":\"Title\"},{\"attributes\":{\"active_drag\":\"auto\",\"active_inspect\":\"auto\",\"active_multi\":null,\"active_scroll\":\"auto\",\"active_tap\":\"auto\",\"tools\":[{\"id\":\"5242\",\"type\":\"SaveTool\"},{\"id\":\"5286\",\"type\":\"HoverTool\"}]},\"id\":\"5243\",\"type\":\"Toolbar\"},{\"attributes\":{\"fill_alpha\":{\"value\":0.9},\"fill_color\":{\"value\":\"#0BB5FF\"},\"line_color\":{\"value\":\"#0BB5FF\"},\"top\":{\"field\":\"counts\"},\"width\":{\"value\":0.4},\"x\":{\"field\":\"x\",\"transform\":{\"id\":\"5264\",\"type\":\"Dodge\"}}},\"id\":\"5267\",\"type\":\"VBar\"},{\"attributes\":{\"fill_alpha\":{\"value\":0.9},\"fill_color\":{\"value\":\"#0EBFE9\"},\"line_color\":{\"value\":\"#0EBFE9\"},\"top\":{\"field\":\"counts\"},\"width\":{\"value\":0.4},\"x\":{\"field\":\"x\",\"transform\":{\"id\":\"5245\",\"type\":\"Dodge\"}}},\"id\":\"5248\",\"type\":\"VBar\"},{\"attributes\":{\"range\":{\"id\":\"5222\",\"type\":\"FactorRange\"},\"value\":-0.225},\"id\":\"5260\",\"type\":\"Dodge\"},{\"attributes\":{\"fill_alpha\":{\"value\":0.1},\"fill_color\":{\"value\":\"#1f77b4\"},\"line_alpha\":{\"value\":0.1},\"line_color\":{\"value\":\"#1f77b4\"},\"top\":{\"field\":\"counts\"},\"width\":{\"value\":0.4},\"x\":{\"field\":\"x\",\"transform\":{\"id\":\"5264\",\"type\":\"Dodge\"}}},\"id\":\"5268\",\"type\":\"VBar\"},{\"attributes\":{\"callback\":null,\"end\":710.4066666666668},\"id\":\"5289\",\"type\":\"Range1d\"},{\"attributes\":{\"data_source\":{\"id\":\"5246\",\"type\":\"ColumnDataSource\"},\"glyph\":{\"id\":\"5248\",\"type\":\"VBar\"},\"hover_glyph\":{\"id\":\"5250\",\"type\":\"VBar\"},\"muted_glyph\":null,\"name\":\"MCC Porter\",\"nonselection_glyph\":{\"id\":\"5249\",\"type\":\"VBar\"},\"selection_glyph\":null,\"view\":{\"id\":\"5252\",\"type\":\"CDSView\"}},\"id\":\"5251\",\"type\":\"GlyphRenderer\"},{\"attributes\":{},\"id\":\"5303\",\"type\":\"UnionRenderers\"},{\"attributes\":{},\"id\":\"5242\",\"type\":\"SaveTool\"},{\"attributes\":{},\"id\":\"5238\",\"type\":\"BasicTicker\"},{\"attributes\":{\"text\":\"Note: (*) is number of days with sensor data\",\"text_font_size\":{\"value\":\"10pt\"},\"text_font_style\":\"normal\"},\"id\":\"5290\",\"type\":\"Title\"},{\"attributes\":{\"range\":{\"id\":\"5222\",\"type\":\"FactorRange\"},\"value\":0.225},\"id\":\"5282\",\"type\":\"Dodge\"},{\"attributes\":{\"items\":[{\"id\":\"5259\",\"type\":\"LegendItem\"},{\"id\":\"5281\",\"type\":\"LegendItem\"}],\"location\":\"top_left\",\"orientation\":\"horizontal\"},\"id\":\"5258\",\"type\":\"Legend\"},{\"attributes\":{},\"id\":\"5255\",\"type\":\"CategoricalTickFormatter\"}],\"root_ids\":[\"5223\"]},\"title\":\"Bokeh Application\",\"version\":\"1.4.0\"}};\n",
       "  var render_items = [{\"docid\":\"47f6b544-b865-49e4-906a-de5d8e99951e\",\"roots\":{\"5223\":\"02a8885d-6d02-4a7f-899d-d781a545f6c4\"}}];\n",
       "  root.Bokeh.embed.embed_items_notebook(docs_json, render_items);\n",
       "\n",
       "  }\n",
       "  if (root.Bokeh !== undefined) {\n",
       "    embed_document(root);\n",
       "  } else {\n",
       "    var attempts = 0;\n",
       "    var timer = setInterval(function(root) {\n",
       "      if (root.Bokeh !== undefined) {\n",
       "        clearInterval(timer);\n",
       "        embed_document(root);\n",
       "      } else {\n",
       "        attempts++;\n",
       "        if (attempts > 100) {\n",
       "          clearInterval(timer);\n",
       "          console.log(\"Bokeh: ERROR: Unable to run BokehJS code because BokehJS library is missing\");\n",
       "        }\n",
       "      }\n",
       "    }, 10, root)\n",
       "  }\n",
       "})(window);"
      ],
      "application/vnd.bokehjs_exec.v0+json": ""
     },
     "metadata": {
      "application/vnd.bokehjs_exec.v0+json": {
       "id": "5223"
      }
     },
     "output_type": "display_data"
    }
   ],
   "source": [
    "season = '2018-2019'\n",
    "sites = [x for x in adu_df.query(\"season == @season\")['site'].unique() if \"MCC\" in x]\n",
    "dayOfWeek = 'All'\n",
    "src_df = dub.make_data_set(season, sites, dayOfWeek, adu_df)\n",
    "p = dub.make_plot(src_df, show_sensor_n=True)\n",
    "fig_path = os.path.abspath(os.path.join(os.getcwd(), \"..\",\"reports\", \"figures\", \"daily_user_averages\", \n",
    "                                        \"daily_users_{}_{}_{}.png\".format(season.replace(\"-\", \"\"), \"MCC\", dayOfWeek)))\n",
    "export_png(p, fig_path)\n",
    "show(p)"
   ]
  },
  {
   "cell_type": "code",
   "execution_count": 12,
   "metadata": {},
   "outputs": [
    {
     "data": {
      "text/html": [
       "\n",
       "\n",
       "\n",
       "\n",
       "\n",
       "\n",
       "  <div class=\"bk-root\" id=\"a04feea4-91d1-4cd6-86df-59c2d125c6ad\" data-root-id=\"5697\"></div>\n"
      ]
     },
     "metadata": {},
     "output_type": "display_data"
    },
    {
     "data": {
      "application/javascript": [
       "(function(root) {\n",
       "  function embed_document(root) {\n",
       "    \n",
       "  var docs_json = {\"7d343428-c52c-4143-ad2e-0fca18e299b8\":{\"roots\":{\"references\":[{\"attributes\":{\"above\":[{\"id\":\"5762\",\"type\":\"Title\"}],\"below\":[{\"id\":\"5707\",\"type\":\"CategoricalAxis\"},{\"id\":\"5764\",\"type\":\"Title\"}],\"center\":[{\"id\":\"5710\",\"type\":\"Grid\"},{\"id\":\"5715\",\"type\":\"Grid\"},{\"id\":\"5732\",\"type\":\"Legend\"},{\"id\":\"5736\",\"type\":\"LabelSet\"},{\"id\":\"5758\",\"type\":\"LabelSet\"}],\"left\":[{\"id\":\"5711\",\"type\":\"LinearAxis\"}],\"plot_height\":400,\"plot_width\":800,\"renderers\":[{\"id\":\"5725\",\"type\":\"GlyphRenderer\"},{\"id\":\"5744\",\"type\":\"GlyphRenderer\"}],\"title\":{\"id\":\"5698\",\"type\":\"Title\"},\"toolbar\":{\"id\":\"5717\",\"type\":\"Toolbar\"},\"x_range\":{\"id\":\"5696\",\"type\":\"FactorRange\"},\"x_scale\":{\"id\":\"5703\",\"type\":\"CategoricalScale\"},\"y_range\":{\"id\":\"5763\",\"type\":\"Range1d\"},\"y_scale\":{\"id\":\"5705\",\"type\":\"LinearScale\"}},\"id\":\"5697\",\"subtype\":\"Figure\",\"type\":\"Plot\"},{\"attributes\":{},\"id\":\"5773\",\"type\":\"UnionRenderers\"},{\"attributes\":{},\"id\":\"5708\",\"type\":\"CategoricalTicker\"},{\"attributes\":{},\"id\":\"5729\",\"type\":\"CategoricalTickFormatter\"},{\"attributes\":{\"data_source\":{\"id\":\"5739\",\"type\":\"ColumnDataSource\"},\"glyph\":{\"id\":\"5741\",\"type\":\"VBar\"},\"hover_glyph\":{\"id\":\"5743\",\"type\":\"VBar\"},\"muted_glyph\":null,\"name\":\"MCC Road\",\"nonselection_glyph\":{\"id\":\"5742\",\"type\":\"VBar\"},\"selection_glyph\":null,\"view\":{\"id\":\"5745\",\"type\":\"CDSView\"}},\"id\":\"5744\",\"type\":\"GlyphRenderer\"},{\"attributes\":{\"label\":{\"value\":\"MCC Porter\"},\"renderers\":[{\"id\":\"5725\",\"type\":\"GlyphRenderer\"}]},\"id\":\"5733\",\"type\":\"LegendItem\"},{\"attributes\":{\"range\":{\"id\":\"5696\",\"type\":\"FactorRange\"},\"value\":-0.225},\"id\":\"5734\",\"type\":\"Dodge\"},{\"attributes\":{\"range\":{\"id\":\"5696\",\"type\":\"FactorRange\"},\"value\":0.225},\"id\":\"5738\",\"type\":\"Dodge\"},{\"attributes\":{},\"id\":\"5705\",\"type\":\"LinearScale\"},{\"attributes\":{\"level\":\"glyph\",\"source\":{\"id\":\"5735\",\"type\":\"ColumnDataSource\"},\"text\":{\"field\":\"n\"},\"text_align\":\"center\",\"text_color\":{\"value\":\"#000000\"},\"text_font_size\":{\"value\":\"7pt\"},\"x\":{\"field\":\"x\",\"transform\":{\"id\":\"5734\",\"type\":\"Dodge\"}},\"y\":{\"field\":\"y\"}},\"id\":\"5736\",\"type\":\"LabelSet\"},{\"attributes\":{\"fill_alpha\":{\"value\":0.9},\"fill_color\":{\"value\":\"#0EBFE9\"},\"line_color\":{\"value\":\"#0EBFE9\"},\"top\":{\"field\":\"counts\"},\"width\":{\"value\":0.4},\"x\":{\"field\":\"x\",\"transform\":{\"id\":\"5719\",\"type\":\"Dodge\"}}},\"id\":\"5722\",\"type\":\"VBar\"},{\"attributes\":{\"callback\":null,\"data\":{\"counts\":[724.5,877.75,796.25,502.8,214.25],\"x\":[\"Dec\",\"Jan\",\"Feb\",\"Mar\",\"Apr\"]},\"selected\":{\"id\":\"5772\",\"type\":\"Selection\"},\"selection_policy\":{\"id\":\"5773\",\"type\":\"UnionRenderers\"}},\"id\":\"5739\",\"type\":\"ColumnDataSource\"},{\"attributes\":{\"grid_line_color\":null,\"ticker\":{\"id\":\"5708\",\"type\":\"CategoricalTicker\"}},\"id\":\"5710\",\"type\":\"Grid\"},{\"attributes\":{\"text\":\"\",\"text_font_size\":{\"value\":\"12pt\"}},\"id\":\"5698\",\"type\":\"Title\"},{\"attributes\":{\"dimension\":1,\"ticker\":{\"id\":\"5712\",\"type\":\"BasicTicker\"}},\"id\":\"5715\",\"type\":\"Grid\"},{\"attributes\":{\"callback\":null,\"data\":{\"n\":[\"(4)\",\"(4)\",\"(4)\",\"(5)\",\"(4)\"],\"x\":[\"Dec\",\"Jan\",\"Feb\",\"Mar\",\"Apr\"],\"y\":[190.0,268.5,237.75,197.6,53.0]},\"selected\":{\"id\":\"5753\",\"type\":\"Selection\"},\"selection_policy\":{\"id\":\"5754\",\"type\":\"UnionRenderers\"}},\"id\":\"5735\",\"type\":\"ColumnDataSource\"},{\"attributes\":{\"formatter\":{\"id\":\"5731\",\"type\":\"BasicTickFormatter\"},\"major_label_text_font_size\":{\"value\":\"12pt\"},\"major_label_text_font_style\":\"bold\",\"minor_tick_line_color\":{\"value\":null},\"ticker\":{\"id\":\"5712\",\"type\":\"BasicTicker\"}},\"id\":\"5711\",\"type\":\"LinearAxis\"},{\"attributes\":{\"source\":{\"id\":\"5739\",\"type\":\"ColumnDataSource\"}},\"id\":\"5745\",\"type\":\"CDSView\"},{\"attributes\":{\"fill_color\":{\"value\":\"#1f77b4\"},\"line_color\":{\"value\":\"#1f77b4\"},\"top\":{\"field\":\"counts\"},\"width\":{\"value\":0.4},\"x\":{\"field\":\"x\",\"transform\":{\"id\":\"5738\",\"type\":\"Dodge\"}}},\"id\":\"5743\",\"type\":\"VBar\"},{\"attributes\":{\"callback\":null,\"tooltips\":[[\"Site\",\"$name\"],[\"Average Daily Users\",\"@counts{int}\"]]},\"id\":\"5760\",\"type\":\"HoverTool\"},{\"attributes\":{\"fill_color\":{\"value\":\"#1f77b4\"},\"line_color\":{\"value\":\"#1f77b4\"},\"top\":{\"field\":\"counts\"},\"width\":{\"value\":0.4},\"x\":{\"field\":\"x\",\"transform\":{\"id\":\"5719\",\"type\":\"Dodge\"}}},\"id\":\"5724\",\"type\":\"VBar\"},{\"attributes\":{},\"id\":\"5751\",\"type\":\"Selection\"},{\"attributes\":{\"data_source\":{\"id\":\"5720\",\"type\":\"ColumnDataSource\"},\"glyph\":{\"id\":\"5722\",\"type\":\"VBar\"},\"hover_glyph\":{\"id\":\"5724\",\"type\":\"VBar\"},\"muted_glyph\":null,\"name\":\"MCC Porter\",\"nonselection_glyph\":{\"id\":\"5723\",\"type\":\"VBar\"},\"selection_glyph\":null,\"view\":{\"id\":\"5726\",\"type\":\"CDSView\"}},\"id\":\"5725\",\"type\":\"GlyphRenderer\"},{\"attributes\":{\"formatter\":{\"id\":\"5729\",\"type\":\"CategoricalTickFormatter\"},\"major_label_orientation\":0,\"major_label_standoff\":10,\"major_label_text_font_size\":{\"value\":\"12pt\"},\"major_label_text_font_style\":\"bold\",\"major_tick_line_color\":{\"value\":null},\"minor_tick_line_color\":{\"value\":null},\"ticker\":{\"id\":\"5708\",\"type\":\"CategoricalTicker\"}},\"id\":\"5707\",\"type\":\"CategoricalAxis\"},{\"attributes\":{\"range\":{\"id\":\"5696\",\"type\":\"FactorRange\"},\"value\":-0.225},\"id\":\"5719\",\"type\":\"Dodge\"},{\"attributes\":{},\"id\":\"5754\",\"type\":\"UnionRenderers\"},{\"attributes\":{\"text\":\"Note: (*) is number of days with sensor data\",\"text_font_size\":{\"value\":\"10pt\"},\"text_font_style\":\"normal\"},\"id\":\"5764\",\"type\":\"Title\"},{\"attributes\":{},\"id\":\"5752\",\"type\":\"UnionRenderers\"},{\"attributes\":{},\"id\":\"5753\",\"type\":\"Selection\"},{\"attributes\":{},\"id\":\"5777\",\"type\":\"UnionRenderers\"},{\"attributes\":{\"fill_alpha\":{\"value\":0.1},\"fill_color\":{\"value\":\"#1f77b4\"},\"line_alpha\":{\"value\":0.1},\"line_color\":{\"value\":\"#1f77b4\"},\"top\":{\"field\":\"counts\"},\"width\":{\"value\":0.4},\"x\":{\"field\":\"x\",\"transform\":{\"id\":\"5719\",\"type\":\"Dodge\"}}},\"id\":\"5723\",\"type\":\"VBar\"},{\"attributes\":{\"source\":{\"id\":\"5720\",\"type\":\"ColumnDataSource\"}},\"id\":\"5726\",\"type\":\"CDSView\"},{\"attributes\":{\"label\":{\"value\":\"MCC Road\"},\"renderers\":[{\"id\":\"5744\",\"type\":\"GlyphRenderer\"}]},\"id\":\"5755\",\"type\":\"LegendItem\"},{\"attributes\":{},\"id\":\"5776\",\"type\":\"Selection\"},{\"attributes\":{\"fill_alpha\":{\"value\":0.9},\"fill_color\":{\"value\":\"#0BB5FF\"},\"line_color\":{\"value\":\"#0BB5FF\"},\"top\":{\"field\":\"counts\"},\"width\":{\"value\":0.4},\"x\":{\"field\":\"x\",\"transform\":{\"id\":\"5738\",\"type\":\"Dodge\"}}},\"id\":\"5741\",\"type\":\"VBar\"},{\"attributes\":{},\"id\":\"5712\",\"type\":\"BasicTicker\"},{\"attributes\":{\"text\":\"Season 2018-2019 | Average Daily Trailhead Users Per Month For Saturdays\",\"text_font_size\":{\"value\":\"13pt\"}},\"id\":\"5762\",\"type\":\"Title\"},{\"attributes\":{},\"id\":\"5716\",\"type\":\"SaveTool\"},{\"attributes\":{\"level\":\"glyph\",\"source\":{\"id\":\"5757\",\"type\":\"ColumnDataSource\"},\"text\":{\"field\":\"n\"},\"text_align\":\"center\",\"text_color\":{\"value\":\"#000000\"},\"text_font_size\":{\"value\":\"7pt\"},\"x\":{\"field\":\"x\",\"transform\":{\"id\":\"5756\",\"type\":\"Dodge\"}},\"y\":{\"field\":\"y\"}},\"id\":\"5758\",\"type\":\"LabelSet\"},{\"attributes\":{\"callback\":null,\"data\":{\"counts\":[190.0,268.5,237.75,197.6,53.0],\"x\":[\"Dec\",\"Jan\",\"Feb\",\"Mar\",\"Apr\"]},\"selected\":{\"id\":\"5751\",\"type\":\"Selection\"},\"selection_policy\":{\"id\":\"5752\",\"type\":\"UnionRenderers\"}},\"id\":\"5720\",\"type\":\"ColumnDataSource\"},{\"attributes\":{\"fill_alpha\":{\"value\":0.1},\"fill_color\":{\"value\":\"#1f77b4\"},\"line_alpha\":{\"value\":0.1},\"line_color\":{\"value\":\"#1f77b4\"},\"top\":{\"field\":\"counts\"},\"width\":{\"value\":0.4},\"x\":{\"field\":\"x\",\"transform\":{\"id\":\"5738\",\"type\":\"Dodge\"}}},\"id\":\"5742\",\"type\":\"VBar\"},{\"attributes\":{},\"id\":\"5772\",\"type\":\"Selection\"},{\"attributes\":{\"callback\":null,\"data\":{\"n\":[\"(4)\",\"(4)\",\"(4)\",\"(5)\",\"(4)\"],\"x\":[\"Dec\",\"Jan\",\"Feb\",\"Mar\",\"Apr\"],\"y\":[724.5,877.75,796.25,502.8,214.25]},\"selected\":{\"id\":\"5776\",\"type\":\"Selection\"},\"selection_policy\":{\"id\":\"5777\",\"type\":\"UnionRenderers\"}},\"id\":\"5757\",\"type\":\"ColumnDataSource\"},{\"attributes\":{},\"id\":\"5731\",\"type\":\"BasicTickFormatter\"},{\"attributes\":{\"active_drag\":\"auto\",\"active_inspect\":\"auto\",\"active_multi\":null,\"active_scroll\":\"auto\",\"active_tap\":\"auto\",\"tools\":[{\"id\":\"5716\",\"type\":\"SaveTool\"},{\"id\":\"5760\",\"type\":\"HoverTool\"}]},\"id\":\"5717\",\"type\":\"Toolbar\"},{\"attributes\":{\"range\":{\"id\":\"5696\",\"type\":\"FactorRange\"},\"value\":0.225},\"id\":\"5756\",\"type\":\"Dodge\"},{\"attributes\":{\"items\":[{\"id\":\"5733\",\"type\":\"LegendItem\"},{\"id\":\"5755\",\"type\":\"LegendItem\"}],\"location\":\"top_left\",\"orientation\":\"horizontal\"},\"id\":\"5732\",\"type\":\"Legend\"},{\"attributes\":{\"callback\":null,\"factors\":[\"Dec\",\"Jan\",\"Feb\",\"Mar\",\"Apr\"],\"range_padding\":0.1},\"id\":\"5696\",\"type\":\"FactorRange\"},{\"attributes\":{\"callback\":null,\"end\":1141.075},\"id\":\"5763\",\"type\":\"Range1d\"},{\"attributes\":{},\"id\":\"5703\",\"type\":\"CategoricalScale\"}],\"root_ids\":[\"5697\"]},\"title\":\"Bokeh Application\",\"version\":\"1.4.0\"}};\n",
       "  var render_items = [{\"docid\":\"7d343428-c52c-4143-ad2e-0fca18e299b8\",\"roots\":{\"5697\":\"a04feea4-91d1-4cd6-86df-59c2d125c6ad\"}}];\n",
       "  root.Bokeh.embed.embed_items_notebook(docs_json, render_items);\n",
       "\n",
       "  }\n",
       "  if (root.Bokeh !== undefined) {\n",
       "    embed_document(root);\n",
       "  } else {\n",
       "    var attempts = 0;\n",
       "    var timer = setInterval(function(root) {\n",
       "      if (root.Bokeh !== undefined) {\n",
       "        clearInterval(timer);\n",
       "        embed_document(root);\n",
       "      } else {\n",
       "        attempts++;\n",
       "        if (attempts > 100) {\n",
       "          clearInterval(timer);\n",
       "          console.log(\"Bokeh: ERROR: Unable to run BokehJS code because BokehJS library is missing\");\n",
       "        }\n",
       "      }\n",
       "    }, 10, root)\n",
       "  }\n",
       "})(window);"
      ],
      "application/vnd.bokehjs_exec.v0+json": ""
     },
     "metadata": {
      "application/vnd.bokehjs_exec.v0+json": {
       "id": "5697"
      }
     },
     "output_type": "display_data"
    }
   ],
   "source": [
    "season = '2018-2019'\n",
    "sites = [x for x in adu_df.query(\"season == @season\")['site'].unique() if \"MCC\" in x]\n",
    "dayOfWeek = 'Saturday'\n",
    "src_df = dub.make_data_set(season, sites, dayOfWeek, adu_df)\n",
    "p = dub.make_plot(src_df, show_sensor_n=True)\n",
    "fig_path = os.path.abspath(os.path.join(os.getcwd(), \"..\",\"reports\", \"figures\", \"daily_user_averages\", \n",
    "                                        \"daily_users_{}_{}_{}.png\".format(season.replace(\"-\", \"\"), \"MCC\", dayOfWeek)))\n",
    "export_png(p, fig_path)\n",
    "show(p)"
   ]
  }
 ],
 "metadata": {
  "kernelspec": {
   "display_name": "Python 3",
   "language": "python",
   "name": "python3"
  },
  "language_info": {
   "codemirror_mode": {
    "name": "ipython",
    "version": 3
   },
   "file_extension": ".py",
   "mimetype": "text/x-python",
   "name": "python",
   "nbconvert_exporter": "python",
   "pygments_lexer": "ipython3",
   "version": "3.7.5"
  },
  "varInspector": {
   "cols": {
    "lenName": 16,
    "lenType": 16,
    "lenVar": 40
   },
   "kernels_config": {
    "python": {
     "delete_cmd_postfix": "",
     "delete_cmd_prefix": "del ",
     "library": "var_list.py",
     "varRefreshCmd": "print(var_dic_list())"
    },
    "r": {
     "delete_cmd_postfix": ") ",
     "delete_cmd_prefix": "rm(",
     "library": "var_list.r",
     "varRefreshCmd": "cat(var_dic_list()) "
    }
   },
   "position": {
    "height": "431.667px",
    "left": "909px",
    "right": "20px",
    "top": "120px",
    "width": "350px"
   },
   "types_to_exclude": [
    "module",
    "function",
    "builtin_function_or_method",
    "instance",
    "_Feature"
   ],
   "window_display": false
  }
 },
 "nbformat": 4,
 "nbformat_minor": 2
}
