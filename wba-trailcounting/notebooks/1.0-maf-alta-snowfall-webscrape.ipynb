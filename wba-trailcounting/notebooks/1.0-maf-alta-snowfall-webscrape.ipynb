{
 "cells": [
  {
   "cell_type": "markdown",
   "metadata": {},
   "source": [
    "# Web scrape Alta's site for daily snowfall"
   ]
  },
  {
   "cell_type": "markdown",
   "metadata": {},
   "source": [
    "### Imports"
   ]
  },
  {
   "cell_type": "code",
   "execution_count": 1,
   "metadata": {},
   "outputs": [],
   "source": [
    "import bs4\n",
    "from datetime import datetime\n",
    "import os\n",
    "import pandas as pd\n",
    "import requests"
   ]
  },
  {
   "cell_type": "markdown",
   "metadata": {},
   "source": [
    "### Initializations"
   ]
  },
  {
   "cell_type": "code",
   "execution_count": 3,
   "metadata": {},
   "outputs": [],
   "source": [
    "curr_season = [2019, 2020]\n",
    "past_seasons = 16"
   ]
  },
  {
   "cell_type": "markdown",
   "metadata": {},
   "source": [
    "### Webpage basics"
   ]
  },
  {
   "cell_type": "code",
   "execution_count": 4,
   "metadata": {},
   "outputs": [],
   "source": [
    "# Set up Alta's webpage\n",
    "url = 'https://www.alta.com/conditions/weather-observations/snowfall-history'\n",
    "\n",
    "headers = {'Accept': '*/*',\n",
    "           'Accept-Encoding': 'gzip, deflate, br',\n",
    "           'Accept-Language': 'en-US,en;q=0.9',\n",
    "           'Connection': 'keep-alive',\n",
    "           'Content-Length': '55',\n",
    "           'Content-Type': 'application/x-www-form-urlencoded; charset=UTF-8',\n",
    "           'Cookie': '_ga=GA1.2.715602370.1568149005; _fbp=fb.1.1568149006234.629873357; _gid=GA1.2.364080449.1574268539; _cookie_token=4e15d76f7dfb5a321d20e9b6f6597921; bz_session=7fNWm%2B2BJpxSXDpEQuFVFyUFOgTWXvHIn%2ByjFX1DAIVNopdRq5u2R%2Fton5rXDjIvSG%2FxSLdFEaq1s2Ii7vc6vEyU3A0PDAtUKcCevTNgVA80HR6QHpl%2BtFkM4i6qIdq4GbvikD%2BKOH0hARINjFknGu0KowP6x97KthsEJ6AgYdppQIIah7vNETjbX2CIwz7qCLRDwUnF2%2B7RFaBIQb%2FhPhGJDNULSrGZ5kJrU5dJBy6YKaC7INB%2B3PBvCCXFHRQ1MMsQnSRhQGncZUvBt0h2z%2FRWB5afR2lutR0ODBrGi3FpsiEUX%2FNn4ulHRqxSJdk5ygGZUef8ErbXWpzIIeBNasKLMQ58ClzFCp%2BERGcEHx6hFeWPB776XQT5isO4uM7nLDuS2ONDkRdjTU66AKE3SWMikCwJ5lFS5bXR04lp7WV59VO0R%2B09%2F%2F6zRsN97gbxMf5%2BOZFY%2FY25bgDw6uSuHQ%3D%3D9bb1d0108774c5ecbb16d5b7e63ee1928378f45e',\n",
    "           'DNT': '1',\n",
    "           'Host': 'www.alta.com',\n",
    "           'Origin': 'https://www.alta.com',\n",
    "           'Referer': 'https://www.alta.com/conditions/weather-observations/snowfall-history',\n",
    "           'Sec-Fetch-Mode': 'cors',\n",
    "           'Sec-Fetch-Site': 'same-origin',\n",
    "           'User-Agent': 'Mozilla/5.0 (Windows NT 10.0; Win64; x64) AppleWebKit/537.36 (KHTML, like Gecko) Chrome/78.0.3904.97 Safari/537.36',\n",
    "           'X-Requested-With': 'XMLHttpRequest'}"
   ]
  },
  {
   "cell_type": "markdown",
   "metadata": {},
   "source": [
    "### Pull current year's webpage"
   ]
  },
  {
   "cell_type": "code",
   "execution_count": 5,
   "metadata": {},
   "outputs": [],
   "source": [
    "curr_year = \"\".join(str(x) for x in curr_season)\n",
    "form_data = {'_token': '4e15d76f7dfb5a321d20e9b6f6597921', 'season': curr_year} \n",
    "response = requests.post(url, data=form_data, headers=headers)"
   ]
  },
  {
   "cell_type": "markdown",
   "metadata": {},
   "source": [
    "### Get table headers"
   ]
  },
  {
   "cell_type": "code",
   "execution_count": 6,
   "metadata": {},
   "outputs": [],
   "source": [
    "soup = bs4.BeautifulSoup(response.text, 'lxml')\n",
    "snowfall_table = soup.find('table', {'class': 'table table-striped'})\n",
    "table_headers = []\n",
    "for th in snowfall_table.find_all('th'):\n",
    "    th_str = \" \".join(x for x in th.contents if type(x) != bs4.element.Tag)\n",
    "    if th_str not in table_headers:\n",
    "        table_headers.append(th_str)"
   ]
  },
  {
   "cell_type": "markdown",
   "metadata": {},
   "source": [
    "### Get each year's data"
   ]
  },
  {
   "cell_type": "code",
   "execution_count": 7,
   "metadata": {},
   "outputs": [
    {
     "name": "stdout",
     "output_type": "stream",
     "text": [
      "Parsing Season: 2019-2020, 7 Days with data\n",
      "Parsing Season: 2018-2019, 111 Days with data\n",
      "Parsing Season: 2017-2018, 81 Days with data\n",
      "Parsing Season: 2016-2017, 102 Days with data\n",
      "Parsing Season: 2015-2016, 104 Days with data\n",
      "Parsing Season: 2014-2015, 81 Days with data\n",
      "Parsing Season: 2013-2014, 95 Days with data\n",
      "Parsing Season: 2012-2013, 109 Days with data\n",
      "Parsing Season: 2011-2012, 99 Days with data\n",
      "Parsing Season: 2010-2011, 131 Days with data\n",
      "Parsing Season: 2009-2010, 105 Days with data\n",
      "Parsing Season: 2008-2009, 104 Days with data\n",
      "Parsing Season: 2007-2008, 109 Days with data\n",
      "Parsing Season: 2006-2007, 74 Days with data\n",
      "Parsing Season: 2005-2006, 103 Days with data\n",
      "Parsing Season: 2004-2005, 97 Days with data\n"
     ]
    }
   ],
   "source": [
    "# Loop through all desired seasons, scrape data, and append to dataframe\n",
    "df = pd.DataFrame(columns=['season'] + table_headers)\n",
    "for i in range(past_seasons):\n",
    "    \n",
    "    season = \"-\".join(str(x - i) for x in curr_season)    \n",
    "    form_data = {'_token': \"4e15d76f7dfb5a321d20e9b6f6597921\", 'season': season.replace(\"-\", \"\")}\n",
    "    response = requests.post(url, data=form_data, headers=headers)\n",
    "    soup = bs4.BeautifulSoup(response.text, 'lxml') \n",
    "    snowfall_table = soup.find('table', {'class': 'table table-striped'})\n",
    "    all_data_rows = snowfall_table.find('tbody').find_all('tr')\n",
    "    \n",
    "    print(\"Parsing Season: {}, {} Days with data\".format(season, len(all_data_rows)))\n",
    "    \n",
    "    for row in all_data_rows:\n",
    "        df.loc[len(df)] = [season] + [x.contents[0].strip() for x in row.find_all('td')]"
   ]
  },
  {
   "cell_type": "markdown",
   "metadata": {},
   "source": [
    "### Clean dataframe"
   ]
  },
  {
   "cell_type": "code",
   "execution_count": 8,
   "metadata": {},
   "outputs": [],
   "source": [
    "# Remove \"Trace\" or \"Trac\" of \"NA\" rows\n",
    "for th in table_headers[1:]:\n",
    "    df = df[df[th] != \"Trace\"]\n",
    "    df = df[df[th] != \"Trac\"]\n",
    "    df = df[df[th] != \"N/A\"]\n",
    "\n",
    "# Convert data to datetime and floats\n",
    "df[table_headers[0]] = df[table_headers[0]].apply(lambda x: datetime.strptime(x, '%Y-%m-%d'))\n",
    "for th in table_headers[1:]:\n",
    "    df[th] = df[th].apply(lambda x: float(x[:-1]))"
   ]
  },
  {
   "cell_type": "markdown",
   "metadata": {},
   "source": [
    "### Save data"
   ]
  },
  {
   "cell_type": "code",
   "execution_count": 10,
   "metadata": {},
   "outputs": [],
   "source": [
    "# This assumes we're using the cookiecutter directory structure with notebooks at the same directory\n",
    "# level as data with a raw as a subdirectory of data\n",
    "file_path = os.path.abspath(os.path.join(os.getcwd(), \"..\", \"data\", \"raw\", \"alta_snowfall.csv\"))\n",
    "df.to_csv(file_path, index=False)"
   ]
  }
 ],
 "metadata": {
  "kernelspec": {
   "display_name": "Python 3",
   "language": "python",
   "name": "python3"
  },
  "language_info": {
   "codemirror_mode": {
    "name": "ipython",
    "version": 3
   },
   "file_extension": ".py",
   "mimetype": "text/x-python",
   "name": "python",
   "nbconvert_exporter": "python",
   "pygments_lexer": "ipython3",
   "version": "3.7.5"
  },
  "varInspector": {
   "cols": {
    "lenName": 16,
    "lenType": 16,
    "lenVar": 40
   },
   "kernels_config": {
    "python": {
     "delete_cmd_postfix": "",
     "delete_cmd_prefix": "del ",
     "library": "var_list.py",
     "varRefreshCmd": "print(var_dic_list())"
    },
    "r": {
     "delete_cmd_postfix": ") ",
     "delete_cmd_prefix": "rm(",
     "library": "var_list.r",
     "varRefreshCmd": "cat(var_dic_list()) "
    }
   },
   "position": {
    "height": "459.663px",
    "left": "769px",
    "right": "20px",
    "top": "164px",
    "width": "350px"
   },
   "types_to_exclude": [
    "module",
    "function",
    "builtin_function_or_method",
    "instance",
    "_Feature"
   ],
   "window_display": false
  }
 },
 "nbformat": 4,
 "nbformat_minor": 2
}
