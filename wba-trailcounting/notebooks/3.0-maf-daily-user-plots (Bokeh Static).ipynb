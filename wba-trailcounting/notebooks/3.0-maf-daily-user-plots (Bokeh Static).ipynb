{
 "cells": [
  {
   "cell_type": "markdown",
   "metadata": {},
   "source": [
    "# Daily User Plots (Bokeh + Panel Backend)"
   ]
  },
  {
   "cell_type": "markdown",
   "metadata": {},
   "source": [
    "### Imports"
   ]
  },
  {
   "cell_type": "code",
   "execution_count": 1,
   "metadata": {},
   "outputs": [
    {
     "data": {
      "text/html": [
       "\n",
       "    <div class=\"bk-root\">\n",
       "        <a href=\"https://bokeh.org\" target=\"_blank\" class=\"bk-logo bk-logo-small bk-logo-notebook\"></a>\n",
       "        <span id=\"1001\">Loading BokehJS ...</span>\n",
       "    </div>"
      ]
     },
     "metadata": {},
     "output_type": "display_data"
    },
    {
     "data": {
      "application/javascript": [
       "\n",
       "(function(root) {\n",
       "  function now() {\n",
       "    return new Date();\n",
       "  }\n",
       "\n",
       "  var force = true;\n",
       "\n",
       "  if (typeof root._bokeh_onload_callbacks === \"undefined\" || force === true) {\n",
       "    root._bokeh_onload_callbacks = [];\n",
       "    root._bokeh_is_loading = undefined;\n",
       "  }\n",
       "\n",
       "  var JS_MIME_TYPE = 'application/javascript';\n",
       "  var HTML_MIME_TYPE = 'text/html';\n",
       "  var EXEC_MIME_TYPE = 'application/vnd.bokehjs_exec.v0+json';\n",
       "  var CLASS_NAME = 'output_bokeh rendered_html';\n",
       "\n",
       "  /**\n",
       "   * Render data to the DOM node\n",
       "   */\n",
       "  function render(props, node) {\n",
       "    var script = document.createElement(\"script\");\n",
       "    node.appendChild(script);\n",
       "  }\n",
       "\n",
       "  /**\n",
       "   * Handle when an output is cleared or removed\n",
       "   */\n",
       "  function handleClearOutput(event, handle) {\n",
       "    var cell = handle.cell;\n",
       "\n",
       "    var id = cell.output_area._bokeh_element_id;\n",
       "    var server_id = cell.output_area._bokeh_server_id;\n",
       "    // Clean up Bokeh references\n",
       "    if (id != null && id in Bokeh.index) {\n",
       "      Bokeh.index[id].model.document.clear();\n",
       "      delete Bokeh.index[id];\n",
       "    }\n",
       "\n",
       "    if (server_id !== undefined) {\n",
       "      // Clean up Bokeh references\n",
       "      var cmd = \"from bokeh.io.state import curstate; print(curstate().uuid_to_server['\" + server_id + \"'].get_sessions()[0].document.roots[0]._id)\";\n",
       "      cell.notebook.kernel.execute(cmd, {\n",
       "        iopub: {\n",
       "          output: function(msg) {\n",
       "            var id = msg.content.text.trim();\n",
       "            if (id in Bokeh.index) {\n",
       "              Bokeh.index[id].model.document.clear();\n",
       "              delete Bokeh.index[id];\n",
       "            }\n",
       "          }\n",
       "        }\n",
       "      });\n",
       "      // Destroy server and session\n",
       "      var cmd = \"import bokeh.io.notebook as ion; ion.destroy_server('\" + server_id + \"')\";\n",
       "      cell.notebook.kernel.execute(cmd);\n",
       "    }\n",
       "  }\n",
       "\n",
       "  /**\n",
       "   * Handle when a new output is added\n",
       "   */\n",
       "  function handleAddOutput(event, handle) {\n",
       "    var output_area = handle.output_area;\n",
       "    var output = handle.output;\n",
       "\n",
       "    // limit handleAddOutput to display_data with EXEC_MIME_TYPE content only\n",
       "    if ((output.output_type != \"display_data\") || (!output.data.hasOwnProperty(EXEC_MIME_TYPE))) {\n",
       "      return\n",
       "    }\n",
       "\n",
       "    var toinsert = output_area.element.find(\".\" + CLASS_NAME.split(' ')[0]);\n",
       "\n",
       "    if (output.metadata[EXEC_MIME_TYPE][\"id\"] !== undefined) {\n",
       "      toinsert[toinsert.length - 1].firstChild.textContent = output.data[JS_MIME_TYPE];\n",
       "      // store reference to embed id on output_area\n",
       "      output_area._bokeh_element_id = output.metadata[EXEC_MIME_TYPE][\"id\"];\n",
       "    }\n",
       "    if (output.metadata[EXEC_MIME_TYPE][\"server_id\"] !== undefined) {\n",
       "      var bk_div = document.createElement(\"div\");\n",
       "      bk_div.innerHTML = output.data[HTML_MIME_TYPE];\n",
       "      var script_attrs = bk_div.children[0].attributes;\n",
       "      for (var i = 0; i < script_attrs.length; i++) {\n",
       "        toinsert[toinsert.length - 1].firstChild.setAttribute(script_attrs[i].name, script_attrs[i].value);\n",
       "      }\n",
       "      // store reference to server id on output_area\n",
       "      output_area._bokeh_server_id = output.metadata[EXEC_MIME_TYPE][\"server_id\"];\n",
       "    }\n",
       "  }\n",
       "\n",
       "  function register_renderer(events, OutputArea) {\n",
       "\n",
       "    function append_mime(data, metadata, element) {\n",
       "      // create a DOM node to render to\n",
       "      var toinsert = this.create_output_subarea(\n",
       "        metadata,\n",
       "        CLASS_NAME,\n",
       "        EXEC_MIME_TYPE\n",
       "      );\n",
       "      this.keyboard_manager.register_events(toinsert);\n",
       "      // Render to node\n",
       "      var props = {data: data, metadata: metadata[EXEC_MIME_TYPE]};\n",
       "      render(props, toinsert[toinsert.length - 1]);\n",
       "      element.append(toinsert);\n",
       "      return toinsert\n",
       "    }\n",
       "\n",
       "    /* Handle when an output is cleared or removed */\n",
       "    events.on('clear_output.CodeCell', handleClearOutput);\n",
       "    events.on('delete.Cell', handleClearOutput);\n",
       "\n",
       "    /* Handle when a new output is added */\n",
       "    events.on('output_added.OutputArea', handleAddOutput);\n",
       "\n",
       "    /**\n",
       "     * Register the mime type and append_mime function with output_area\n",
       "     */\n",
       "    OutputArea.prototype.register_mime_type(EXEC_MIME_TYPE, append_mime, {\n",
       "      /* Is output safe? */\n",
       "      safe: true,\n",
       "      /* Index of renderer in `output_area.display_order` */\n",
       "      index: 0\n",
       "    });\n",
       "  }\n",
       "\n",
       "  // register the mime type if in Jupyter Notebook environment and previously unregistered\n",
       "  if (root.Jupyter !== undefined) {\n",
       "    var events = require('base/js/events');\n",
       "    var OutputArea = require('notebook/js/outputarea').OutputArea;\n",
       "\n",
       "    if (OutputArea.prototype.mime_types().indexOf(EXEC_MIME_TYPE) == -1) {\n",
       "      register_renderer(events, OutputArea);\n",
       "    }\n",
       "  }\n",
       "\n",
       "  \n",
       "  if (typeof (root._bokeh_timeout) === \"undefined\" || force === true) {\n",
       "    root._bokeh_timeout = Date.now() + 5000;\n",
       "    root._bokeh_failed_load = false;\n",
       "  }\n",
       "\n",
       "  var NB_LOAD_WARNING = {'data': {'text/html':\n",
       "     \"<div style='background-color: #fdd'>\\n\"+\n",
       "     \"<p>\\n\"+\n",
       "     \"BokehJS does not appear to have successfully loaded. If loading BokehJS from CDN, this \\n\"+\n",
       "     \"may be due to a slow or bad network connection. Possible fixes:\\n\"+\n",
       "     \"</p>\\n\"+\n",
       "     \"<ul>\\n\"+\n",
       "     \"<li>re-rerun `output_notebook()` to attempt to load from CDN again, or</li>\\n\"+\n",
       "     \"<li>use INLINE resources instead, as so:</li>\\n\"+\n",
       "     \"</ul>\\n\"+\n",
       "     \"<code>\\n\"+\n",
       "     \"from bokeh.resources import INLINE\\n\"+\n",
       "     \"output_notebook(resources=INLINE)\\n\"+\n",
       "     \"</code>\\n\"+\n",
       "     \"</div>\"}};\n",
       "\n",
       "  function display_loaded() {\n",
       "    var el = document.getElementById(\"1001\");\n",
       "    if (el != null) {\n",
       "      el.textContent = \"BokehJS is loading...\";\n",
       "    }\n",
       "    if (root.Bokeh !== undefined) {\n",
       "      if (el != null) {\n",
       "        el.textContent = \"BokehJS \" + root.Bokeh.version + \" successfully loaded.\";\n",
       "      }\n",
       "    } else if (Date.now() < root._bokeh_timeout) {\n",
       "      setTimeout(display_loaded, 100)\n",
       "    }\n",
       "  }\n",
       "\n",
       "\n",
       "  function run_callbacks() {\n",
       "    try {\n",
       "      root._bokeh_onload_callbacks.forEach(function(callback) {\n",
       "        if (callback != null)\n",
       "          callback();\n",
       "      });\n",
       "    } finally {\n",
       "      delete root._bokeh_onload_callbacks\n",
       "    }\n",
       "    console.debug(\"Bokeh: all callbacks have finished\");\n",
       "  }\n",
       "\n",
       "  function load_libs(css_urls, js_urls, callback) {\n",
       "    if (css_urls == null) css_urls = [];\n",
       "    if (js_urls == null) js_urls = [];\n",
       "\n",
       "    root._bokeh_onload_callbacks.push(callback);\n",
       "    if (root._bokeh_is_loading > 0) {\n",
       "      console.debug(\"Bokeh: BokehJS is being loaded, scheduling callback at\", now());\n",
       "      return null;\n",
       "    }\n",
       "    if (js_urls == null || js_urls.length === 0) {\n",
       "      run_callbacks();\n",
       "      return null;\n",
       "    }\n",
       "    console.debug(\"Bokeh: BokehJS not loaded, scheduling load and callback at\", now());\n",
       "    root._bokeh_is_loading = css_urls.length + js_urls.length;\n",
       "\n",
       "    function on_load() {\n",
       "      root._bokeh_is_loading--;\n",
       "      if (root._bokeh_is_loading === 0) {\n",
       "        console.debug(\"Bokeh: all BokehJS libraries/stylesheets loaded\");\n",
       "        run_callbacks()\n",
       "      }\n",
       "    }\n",
       "\n",
       "    function on_error() {\n",
       "      console.error(\"failed to load \" + url);\n",
       "    }\n",
       "\n",
       "    for (var i = 0; i < css_urls.length; i++) {\n",
       "      var url = css_urls[i];\n",
       "      const element = document.createElement(\"link\");\n",
       "      element.onload = on_load;\n",
       "      element.onerror = on_error;\n",
       "      element.rel = \"stylesheet\";\n",
       "      element.type = \"text/css\";\n",
       "      element.href = url;\n",
       "      console.debug(\"Bokeh: injecting link tag for BokehJS stylesheet: \", url);\n",
       "      document.body.appendChild(element);\n",
       "    }\n",
       "\n",
       "    for (var i = 0; i < js_urls.length; i++) {\n",
       "      var url = js_urls[i];\n",
       "      var element = document.createElement('script');\n",
       "      element.onload = on_load;\n",
       "      element.onerror = on_error;\n",
       "      element.async = false;\n",
       "      element.src = url;\n",
       "      console.debug(\"Bokeh: injecting script tag for BokehJS library: \", url);\n",
       "      document.head.appendChild(element);\n",
       "    }\n",
       "  };var element = document.getElementById(\"1001\");\n",
       "  if (element == null) {\n",
       "    console.error(\"Bokeh: ERROR: autoload.js configured with elementid '1001' but no matching script tag was found. \")\n",
       "    return false;\n",
       "  }\n",
       "\n",
       "  function inject_raw_css(css) {\n",
       "    const element = document.createElement(\"style\");\n",
       "    element.appendChild(document.createTextNode(css));\n",
       "    document.body.appendChild(element);\n",
       "  }\n",
       "\n",
       "  \n",
       "  var js_urls = [\"https://cdn.pydata.org/bokeh/release/bokeh-1.4.0.min.js\", \"https://cdn.pydata.org/bokeh/release/bokeh-widgets-1.4.0.min.js\", \"https://cdn.pydata.org/bokeh/release/bokeh-tables-1.4.0.min.js\", \"https://cdn.pydata.org/bokeh/release/bokeh-gl-1.4.0.min.js\"];\n",
       "  var css_urls = [];\n",
       "  \n",
       "\n",
       "  var inline_js = [\n",
       "    function(Bokeh) {\n",
       "      Bokeh.set_log_level(\"info\");\n",
       "    },\n",
       "    function(Bokeh) {\n",
       "    \n",
       "    \n",
       "    }\n",
       "  ];\n",
       "\n",
       "  function run_inline_js() {\n",
       "    \n",
       "    if (root.Bokeh !== undefined || force === true) {\n",
       "      \n",
       "    for (var i = 0; i < inline_js.length; i++) {\n",
       "      inline_js[i].call(root, root.Bokeh);\n",
       "    }\n",
       "    if (force === true) {\n",
       "        display_loaded();\n",
       "      }} else if (Date.now() < root._bokeh_timeout) {\n",
       "      setTimeout(run_inline_js, 100);\n",
       "    } else if (!root._bokeh_failed_load) {\n",
       "      console.log(\"Bokeh: BokehJS failed to load within specified timeout.\");\n",
       "      root._bokeh_failed_load = true;\n",
       "    } else if (force !== true) {\n",
       "      var cell = $(document.getElementById(\"1001\")).parents('.cell').data().cell;\n",
       "      cell.output_area.append_execute_result(NB_LOAD_WARNING)\n",
       "    }\n",
       "\n",
       "  }\n",
       "\n",
       "  if (root._bokeh_is_loading === 0) {\n",
       "    console.debug(\"Bokeh: BokehJS loaded, going straight to plotting\");\n",
       "    run_inline_js();\n",
       "  } else {\n",
       "    load_libs(css_urls, js_urls, function() {\n",
       "      console.debug(\"Bokeh: BokehJS plotting callback run at\", now());\n",
       "      run_inline_js();\n",
       "    });\n",
       "  }\n",
       "}(window));"
      ],
      "application/vnd.bokehjs_load.v0+json": "\n(function(root) {\n  function now() {\n    return new Date();\n  }\n\n  var force = true;\n\n  if (typeof root._bokeh_onload_callbacks === \"undefined\" || force === true) {\n    root._bokeh_onload_callbacks = [];\n    root._bokeh_is_loading = undefined;\n  }\n\n  \n\n  \n  if (typeof (root._bokeh_timeout) === \"undefined\" || force === true) {\n    root._bokeh_timeout = Date.now() + 5000;\n    root._bokeh_failed_load = false;\n  }\n\n  var NB_LOAD_WARNING = {'data': {'text/html':\n     \"<div style='background-color: #fdd'>\\n\"+\n     \"<p>\\n\"+\n     \"BokehJS does not appear to have successfully loaded. If loading BokehJS from CDN, this \\n\"+\n     \"may be due to a slow or bad network connection. Possible fixes:\\n\"+\n     \"</p>\\n\"+\n     \"<ul>\\n\"+\n     \"<li>re-rerun `output_notebook()` to attempt to load from CDN again, or</li>\\n\"+\n     \"<li>use INLINE resources instead, as so:</li>\\n\"+\n     \"</ul>\\n\"+\n     \"<code>\\n\"+\n     \"from bokeh.resources import INLINE\\n\"+\n     \"output_notebook(resources=INLINE)\\n\"+\n     \"</code>\\n\"+\n     \"</div>\"}};\n\n  function display_loaded() {\n    var el = document.getElementById(\"1001\");\n    if (el != null) {\n      el.textContent = \"BokehJS is loading...\";\n    }\n    if (root.Bokeh !== undefined) {\n      if (el != null) {\n        el.textContent = \"BokehJS \" + root.Bokeh.version + \" successfully loaded.\";\n      }\n    } else if (Date.now() < root._bokeh_timeout) {\n      setTimeout(display_loaded, 100)\n    }\n  }\n\n\n  function run_callbacks() {\n    try {\n      root._bokeh_onload_callbacks.forEach(function(callback) {\n        if (callback != null)\n          callback();\n      });\n    } finally {\n      delete root._bokeh_onload_callbacks\n    }\n    console.debug(\"Bokeh: all callbacks have finished\");\n  }\n\n  function load_libs(css_urls, js_urls, callback) {\n    if (css_urls == null) css_urls = [];\n    if (js_urls == null) js_urls = [];\n\n    root._bokeh_onload_callbacks.push(callback);\n    if (root._bokeh_is_loading > 0) {\n      console.debug(\"Bokeh: BokehJS is being loaded, scheduling callback at\", now());\n      return null;\n    }\n    if (js_urls == null || js_urls.length === 0) {\n      run_callbacks();\n      return null;\n    }\n    console.debug(\"Bokeh: BokehJS not loaded, scheduling load and callback at\", now());\n    root._bokeh_is_loading = css_urls.length + js_urls.length;\n\n    function on_load() {\n      root._bokeh_is_loading--;\n      if (root._bokeh_is_loading === 0) {\n        console.debug(\"Bokeh: all BokehJS libraries/stylesheets loaded\");\n        run_callbacks()\n      }\n    }\n\n    function on_error() {\n      console.error(\"failed to load \" + url);\n    }\n\n    for (var i = 0; i < css_urls.length; i++) {\n      var url = css_urls[i];\n      const element = document.createElement(\"link\");\n      element.onload = on_load;\n      element.onerror = on_error;\n      element.rel = \"stylesheet\";\n      element.type = \"text/css\";\n      element.href = url;\n      console.debug(\"Bokeh: injecting link tag for BokehJS stylesheet: \", url);\n      document.body.appendChild(element);\n    }\n\n    for (var i = 0; i < js_urls.length; i++) {\n      var url = js_urls[i];\n      var element = document.createElement('script');\n      element.onload = on_load;\n      element.onerror = on_error;\n      element.async = false;\n      element.src = url;\n      console.debug(\"Bokeh: injecting script tag for BokehJS library: \", url);\n      document.head.appendChild(element);\n    }\n  };var element = document.getElementById(\"1001\");\n  if (element == null) {\n    console.error(\"Bokeh: ERROR: autoload.js configured with elementid '1001' but no matching script tag was found. \")\n    return false;\n  }\n\n  function inject_raw_css(css) {\n    const element = document.createElement(\"style\");\n    element.appendChild(document.createTextNode(css));\n    document.body.appendChild(element);\n  }\n\n  \n  var js_urls = [\"https://cdn.pydata.org/bokeh/release/bokeh-1.4.0.min.js\", \"https://cdn.pydata.org/bokeh/release/bokeh-widgets-1.4.0.min.js\", \"https://cdn.pydata.org/bokeh/release/bokeh-tables-1.4.0.min.js\", \"https://cdn.pydata.org/bokeh/release/bokeh-gl-1.4.0.min.js\"];\n  var css_urls = [];\n  \n\n  var inline_js = [\n    function(Bokeh) {\n      Bokeh.set_log_level(\"info\");\n    },\n    function(Bokeh) {\n    \n    \n    }\n  ];\n\n  function run_inline_js() {\n    \n    if (root.Bokeh !== undefined || force === true) {\n      \n    for (var i = 0; i < inline_js.length; i++) {\n      inline_js[i].call(root, root.Bokeh);\n    }\n    if (force === true) {\n        display_loaded();\n      }} else if (Date.now() < root._bokeh_timeout) {\n      setTimeout(run_inline_js, 100);\n    } else if (!root._bokeh_failed_load) {\n      console.log(\"Bokeh: BokehJS failed to load within specified timeout.\");\n      root._bokeh_failed_load = true;\n    } else if (force !== true) {\n      var cell = $(document.getElementById(\"1001\")).parents('.cell').data().cell;\n      cell.output_area.append_execute_result(NB_LOAD_WARNING)\n    }\n\n  }\n\n  if (root._bokeh_is_loading === 0) {\n    console.debug(\"Bokeh: BokehJS loaded, going straight to plotting\");\n    run_inline_js();\n  } else {\n    load_libs(css_urls, js_urls, function() {\n      console.debug(\"Bokeh: BokehJS plotting callback run at\", now());\n      run_inline_js();\n    });\n  }\n}(window));"
     },
     "metadata": {},
     "output_type": "display_data"
    }
   ],
   "source": [
    "import os\n",
    "import pandas as pd\n",
    "import numpy as np\n",
    "from itertools import permutations\n",
    "\n",
    "from bokeh.io import output_notebook\n",
    "from bokeh.models import ColumnDataSource, FactorRange, HoverTool, Range1d, Title, LabelSet\n",
    "from bokeh.plotting import figure, show\n",
    "from bokeh.transform import dodge\n",
    "\n",
    "from IPython.display import clear_output\n",
    "\n",
    "# output_file = (\"test.html\")\n",
    "clear_output()\n",
    "output_notebook()"
   ]
  },
  {
   "cell_type": "markdown",
   "metadata": {},
   "source": [
    "### Inits"
   ]
  },
  {
   "cell_type": "code",
   "execution_count": 2,
   "metadata": {},
   "outputs": [],
   "source": [
    "# GLobals\n",
    "PLOT_COLORS = ('#0EBFE9', '#0BB5FF', '#009ACD', '#00688B', '#0D4F8B') # Base colors - blues in increasing darkness\n",
    "MONTHS = (\"Dec\", \"Jan\", \"Feb\", \"Mar\", \"Apr\")\n",
    "ALL_DOW = (\"All\", \"Saturday\", \"Sunday\", \"Monday\", \"Tuesday\", \"Wednesday\", \"Thursday\", \"Friday\")\n",
    "COL_WIDTH = 0.8\n",
    "COL_GAP = 0.08"
   ]
  },
  {
   "cell_type": "markdown",
   "metadata": {},
   "source": [
    "### Load raw data"
   ]
  },
  {
   "cell_type": "code",
   "execution_count": 3,
   "metadata": {},
   "outputs": [
    {
     "data": {
      "text/html": [
       "<div>\n",
       "<style scoped>\n",
       "    .dataframe tbody tr th:only-of-type {\n",
       "        vertical-align: middle;\n",
       "    }\n",
       "\n",
       "    .dataframe tbody tr th {\n",
       "        vertical-align: top;\n",
       "    }\n",
       "\n",
       "    .dataframe thead th {\n",
       "        text-align: right;\n",
       "    }\n",
       "</style>\n",
       "<table border=\"1\" class=\"dataframe\">\n",
       "  <thead>\n",
       "    <tr style=\"text-align: right;\">\n",
       "      <th></th>\n",
       "      <th>site</th>\n",
       "      <th>season</th>\n",
       "      <th>month</th>\n",
       "      <th>dayOfWeek</th>\n",
       "      <th>n</th>\n",
       "      <th>adu</th>\n",
       "    </tr>\n",
       "  </thead>\n",
       "  <tbody>\n",
       "    <tr>\n",
       "      <th>0</th>\n",
       "      <td>BCC Butler</td>\n",
       "      <td>2017-2018</td>\n",
       "      <td>Apr</td>\n",
       "      <td>All</td>\n",
       "      <td>26</td>\n",
       "      <td>46.230769</td>\n",
       "    </tr>\n",
       "    <tr>\n",
       "      <th>1</th>\n",
       "      <td>BCC Cardiff</td>\n",
       "      <td>2017-2018</td>\n",
       "      <td>Apr</td>\n",
       "      <td>All</td>\n",
       "      <td>28</td>\n",
       "      <td>421.857143</td>\n",
       "    </tr>\n",
       "    <tr>\n",
       "      <th>2</th>\n",
       "      <td>BCC Mill D</td>\n",
       "      <td>2017-2018</td>\n",
       "      <td>Apr</td>\n",
       "      <td>All</td>\n",
       "      <td>24</td>\n",
       "      <td>17.541667</td>\n",
       "    </tr>\n",
       "    <tr>\n",
       "      <th>3</th>\n",
       "      <td>LCC Summer Road</td>\n",
       "      <td>2017-2018</td>\n",
       "      <td>Apr</td>\n",
       "      <td>All</td>\n",
       "      <td>30</td>\n",
       "      <td>123.866667</td>\n",
       "    </tr>\n",
       "    <tr>\n",
       "      <th>4</th>\n",
       "      <td>BCC Butler</td>\n",
       "      <td>2017-2018</td>\n",
       "      <td>Dec</td>\n",
       "      <td>All</td>\n",
       "      <td>14</td>\n",
       "      <td>38.428571</td>\n",
       "    </tr>\n",
       "  </tbody>\n",
       "</table>\n",
       "</div>"
      ],
      "text/plain": [
       "              site     season month dayOfWeek   n         adu\n",
       "0       BCC Butler  2017-2018   Apr       All  26   46.230769\n",
       "1      BCC Cardiff  2017-2018   Apr       All  28  421.857143\n",
       "2       BCC Mill D  2017-2018   Apr       All  24   17.541667\n",
       "3  LCC Summer Road  2017-2018   Apr       All  30  123.866667\n",
       "4       BCC Butler  2017-2018   Dec       All  14   38.428571"
      ]
     },
     "execution_count": 3,
     "metadata": {},
     "output_type": "execute_result"
    }
   ],
   "source": [
    "file_path = os.path.abspath(os.path.join(os.getcwd(), \"..\", \"data\", \"processed\", \"daily_user_averages.csv\"))\n",
    "adu_df = pd.read_csv(file_path)\n",
    "\n",
    "# Convert month to categorical\n",
    "adu_df['month'] = pd.Categorical(adu_df['month'], MONTHS)\n",
    "adu_df.head(5)"
   ]
  },
  {
   "cell_type": "code",
   "execution_count": 4,
   "metadata": {},
   "outputs": [
    {
     "name": "stdout",
     "output_type": "stream",
     "text": [
      "['BCC Butler' 'BCC Cardiff' 'BCC Mill D' 'LCC Summer Road' 'LCC Our Lady']\n",
      "['BCC Butler' 'BCC Cardiff' 'BCC Mill D' 'LCC Gate Buttress'\n",
      " 'LCC Our Lady' 'LCC Our Lady East' 'LCC Summer Road' 'LCC Summer Road 2'\n",
      " 'LCC White Pine' 'MCC Porter' 'MCC Road']\n"
     ]
    }
   ],
   "source": [
    "# How many sites are there for the first two seasons?\n",
    "print(adu_df.query(\"season == '2017-2018'\")['site'].unique())\n",
    "print(adu_df.query(\"season == '2018-2019'\")['site'].unique())\n"
   ]
  },
  {
   "cell_type": "markdown",
   "metadata": {},
   "source": [
    "### Bokeh Plot Functions (static test)"
   ]
  },
  {
   "cell_type": "code",
   "execution_count": 5,
   "metadata": {},
   "outputs": [],
   "source": [
    "def make_data_set(sites, season, day_of_week, adu_df):\n",
    "    \"\"\"\n",
    "    Set the data based on site, day of week, and seasons selected. Then sort based on\n",
    "    season then month\n",
    "    \"\"\"\n",
    "    df = adu_df.query(\"site in @sites and dayOfWeek == @day_of_week and season == @season\")\n",
    "\n",
    "    df = df.sort_values(['season'])\n",
    "    df.sort_values(['season', 'month'], inplace=True)\n",
    "\n",
    "    return df"
   ]
  },
  {
   "cell_type": "code",
   "execution_count": 6,
   "metadata": {},
   "outputs": [],
   "source": [
    "def style_plot(p):\n",
    "    \"\"\"\n",
    "    Stylize the plot\n",
    "    \"\"\"\n",
    "    # Title\n",
    "    p.title.text_font_size = '12pt'\n",
    "    p.title.text_font_style = 'bold'\n",
    "\n",
    "    # x-axis modifications\n",
    "    p.x_range.range_padding = 0.1\n",
    "    p.xgrid.grid_line_color = None\n",
    "    p.xaxis.major_tick_line_color = None  # turn off x-axis major ticks\n",
    "    p.xaxis.minor_tick_line_color = None  # turn off x-axis minor ticks\n",
    "    p.xaxis.major_label_orientation = 0\n",
    "    p.xaxis.major_label_text_font_size = '12pt'\n",
    "    p.xaxis.major_label_text_font_style = 'bold'\n",
    "    p.xaxis.major_label_standoff = 10\n",
    "\n",
    "    # y-axis modifications\n",
    "    p.y_range.start = 0\n",
    "    p.yaxis.minor_tick_line_color = None\n",
    "    p.yaxis.major_label_text_font_size = '12pt'\n",
    "    p.yaxis.major_label_text_font_style = 'bold'\n",
    "\n",
    "    # legend\n",
    "    p.legend.location = \"top_left\"\n",
    "    p.legend.orientation = \"horizontal\"\n",
    "\n",
    "    return p"
   ]
  },
  {
   "cell_type": "code",
   "execution_count": 7,
   "metadata": {},
   "outputs": [],
   "source": [
    "def set_title_str(season, day_of_week):\n",
    "    \"\"\"\n",
    "    Generate title string for plot\n",
    "    \"\"\"    \n",
    "    dow_str = 'Per Month' if day_of_week == 'All' else \"Per Month For {}s\".format(day_of_week.title())\n",
    "    return \"Season {} | Average Daily Trailhead Users {}\".format(season, dow_str)"
   ]
  },
  {
   "cell_type": "code",
   "execution_count": 8,
   "metadata": {},
   "outputs": [],
   "source": [
    "def init_figure():\n",
    "    return figure(x_range=FactorRange(*MONTHS), y_range=(0, 100), plot_height=400,\n",
    "                  plot_width=800, toolbar_location='right', tools=\"save\", title=\"\")"
   ]
  },
  {
   "cell_type": "code",
   "execution_count": 9,
   "metadata": {},
   "outputs": [],
   "source": [
    "def set_col_width_offset(n_sites):\n",
    "    \"\"\"\n",
    "    Determine column widths and offsets based on seasons [brute force cause I can't think at the moment]\n",
    "    \"\"\"   \n",
    "    width = COL_WIDTH / n_sites\n",
    "    if n_sites == 1:\n",
    "        offsets = [0]\n",
    "    else:\n",
    "        gap = COL_GAP / (n_sites-1)    \n",
    "        ixs = list(range(-(n_sites//2), n_sites//2 + 1))\n",
    "        if n_sites % 2 == 0:\n",
    "            ixs.remove(0)\n",
    "            offsets = [(gap + width) * (i - np.sign(i)/2) for i in ixs]\n",
    "        else:\n",
    "            offsets = [(gap + width) * i for i in ixs]\n",
    "\n",
    "    return width, offsets"
   ]
  },
  {
   "cell_type": "code",
   "execution_count": 10,
   "metadata": {},
   "outputs": [],
   "source": [
    "def make_plot(src_df, p=None):\n",
    "    \"\"\"\n",
    "    Generate the bokeh plot based on specific data\n",
    "    \"\"\"\n",
    "\n",
    "    # If base figure does not exist, create now\n",
    "    if p is None:        \n",
    "        p = init_figure()\n",
    "        \n",
    "    # Determine how many sites there are, then column width/offsets\n",
    "    sites = sorted(src_df['site'].unique())\n",
    "    n_sites = len(sites)    \n",
    "    width, offsets = set_col_width_offset(n_sites)\n",
    "        \n",
    "    # Add bar plot for each site\n",
    "    for offset, site, color in zip(offsets, sites, PLOT_COLORS[0:len(offsets)]):\n",
    "        temp_df = src_df.query(\"site == @site\")\n",
    "        adu = [0 if temp_df[temp_df['month'] == month].empty\n",
    "               else temp_df[temp_df['month'] == month]['adu'].values[0]\n",
    "               for month in MONTHS]\n",
    "\n",
    "        p.vbar(x=dodge('x', offset, range=p.x_range), top='counts', width=width, \n",
    "               source=ColumnDataSource(data=dict(x=MONTHS, counts=adu)),\n",
    "               fill_alpha=0.9, hover_fill_alpha=1.0, legend_label=site, name=site, color=color)\n",
    "        \n",
    "        # Add n days of data labels\n",
    "        n_days_data = [\"\" if temp_df[temp_df['month'] == month].empty\n",
    "                       else \"({})\".format(temp_df[temp_df['month'] == month]['n'].values[0])\n",
    "                       for month in MONTHS]\n",
    "        \n",
    "        labels = LabelSet(x=dodge('x', offset, range=p.x_range), y='y', text='n', level='glyph', y_offset=0, \n",
    "                          source=ColumnDataSource(data=dict(x=MONTHS, y=adu, n=n_days_data)), \n",
    "                          render_mode='canvas', text_font_size=\"7pt\",text_align='center', text_color='#000000')\n",
    "        \n",
    "        p.add_layout(labels)\n",
    "        \n",
    "    # Add hover tool\n",
    "    p.add_tools(HoverTool(tooltips=[(\"Site\", \"$name\"),\n",
    "                                    (\"Average Daily Users\", \"@counts{int}\")]))\n",
    "\n",
    "    # Stylize plot\n",
    "    style_plot(p)\n",
    "        \n",
    "    # Add title and fix y_range\n",
    "    p.add_layout(Title(text=\"Note: (*) is number of days with sensor data\", text_font_size=\"10pt\", text_font_style='normal'), 'below')\n",
    "    title_str = set_title_str(src_df['season'].values[0], src_df['dayOfWeek'].values[0])\n",
    "    p.add_layout(Title(text=title_str, text_font_size=\"13pt\"), 'above')\n",
    "    p.y_range = Range1d(0, src_df['adu'].max() * 1.3)\n",
    "\n",
    "    return p"
   ]
  },
  {
   "cell_type": "markdown",
   "metadata": {},
   "source": [
    "## LCC Plots"
   ]
  },
  {
   "cell_type": "code",
   "execution_count": 11,
   "metadata": {},
   "outputs": [
    {
     "data": {
      "text/html": [
       "\n",
       "\n",
       "\n",
       "\n",
       "\n",
       "\n",
       "  <div class=\"bk-root\" id=\"39048074-3249-4a3c-9bff-630ad5d986ed\" data-root-id=\"1003\"></div>\n"
      ]
     },
     "metadata": {},
     "output_type": "display_data"
    },
    {
     "data": {
      "application/javascript": [
       "(function(root) {\n",
       "  function embed_document(root) {\n",
       "    \n",
       "  var docs_json = {\"8c7efb64-d0fb-4708-89db-0803504685ea\":{\"roots\":{\"references\":[{\"attributes\":{\"above\":[{\"id\":\"1069\",\"type\":\"Title\"}],\"below\":[{\"id\":\"1013\",\"type\":\"CategoricalAxis\"},{\"id\":\"1068\",\"type\":\"Title\"}],\"center\":[{\"id\":\"1016\",\"type\":\"Grid\"},{\"id\":\"1021\",\"type\":\"Grid\"},{\"id\":\"1038\",\"type\":\"Legend\"},{\"id\":\"1042\",\"type\":\"LabelSet\"},{\"id\":\"1064\",\"type\":\"LabelSet\"}],\"left\":[{\"id\":\"1017\",\"type\":\"LinearAxis\"}],\"plot_height\":400,\"plot_width\":800,\"renderers\":[{\"id\":\"1031\",\"type\":\"GlyphRenderer\"},{\"id\":\"1050\",\"type\":\"GlyphRenderer\"}],\"title\":{\"id\":\"1004\",\"type\":\"Title\"},\"toolbar\":{\"id\":\"1023\",\"type\":\"Toolbar\"},\"x_range\":{\"id\":\"1002\",\"type\":\"FactorRange\"},\"x_scale\":{\"id\":\"1009\",\"type\":\"CategoricalScale\"},\"y_range\":{\"id\":\"1070\",\"type\":\"Range1d\"},\"y_scale\":{\"id\":\"1011\",\"type\":\"LinearScale\"}},\"id\":\"1003\",\"subtype\":\"Figure\",\"type\":\"Plot\"},{\"attributes\":{\"label\":{\"value\":\"LCC Our Lady\"},\"renderers\":[{\"id\":\"1031\",\"type\":\"GlyphRenderer\"}]},\"id\":\"1039\",\"type\":\"LegendItem\"},{\"attributes\":{},\"id\":\"1059\",\"type\":\"Selection\"},{\"attributes\":{\"label\":{\"value\":\"LCC Summer Road\"},\"renderers\":[{\"id\":\"1050\",\"type\":\"GlyphRenderer\"}]},\"id\":\"1061\",\"type\":\"LegendItem\"},{\"attributes\":{\"range\":{\"id\":\"1002\",\"type\":\"FactorRange\"},\"value\":0.24000000000000002},\"id\":\"1062\",\"type\":\"Dodge\"},{\"attributes\":{},\"id\":\"1060\",\"type\":\"UnionRenderers\"},{\"attributes\":{\"callback\":null,\"tooltips\":[[\"Site\",\"$name\"],[\"Average Daily Users\",\"@counts{int}\"]]},\"id\":\"1066\",\"type\":\"HoverTool\"},{\"attributes\":{\"range\":{\"id\":\"1002\",\"type\":\"FactorRange\"},\"value\":0.24000000000000002},\"id\":\"1044\",\"type\":\"Dodge\"},{\"attributes\":{\"range\":{\"id\":\"1002\",\"type\":\"FactorRange\"},\"value\":-0.24000000000000002},\"id\":\"1040\",\"type\":\"Dodge\"},{\"attributes\":{\"callback\":null,\"data\":{\"n\":[\"(26)\",\"(26)\",\"(10)\",\"(6)\",\"\"],\"x\":[\"Dec\",\"Jan\",\"Feb\",\"Mar\",\"Apr\"],\"y\":[31.57692307692308,50.230769230769226,45.8,36.833333333333336,0]},\"selected\":{\"id\":\"1057\",\"type\":\"Selection\"},\"selection_policy\":{\"id\":\"1058\",\"type\":\"UnionRenderers\"}},\"id\":\"1041\",\"type\":\"ColumnDataSource\"},{\"attributes\":{},\"id\":\"1082\",\"type\":\"Selection\"},{\"attributes\":{},\"id\":\"1078\",\"type\":\"Selection\"},{\"attributes\":{},\"id\":\"1083\",\"type\":\"UnionRenderers\"},{\"attributes\":{\"text\":\"\",\"text_font_size\":{\"value\":\"12pt\"}},\"id\":\"1004\",\"type\":\"Title\"},{\"attributes\":{},\"id\":\"1057\",\"type\":\"Selection\"},{\"attributes\":{\"range\":{\"id\":\"1002\",\"type\":\"FactorRange\"},\"value\":-0.24000000000000002},\"id\":\"1025\",\"type\":\"Dodge\"},{\"attributes\":{\"text\":\"Season 2017-2018 | Average Daily Trailhead Users Per Month\",\"text_font_size\":{\"value\":\"13pt\"}},\"id\":\"1069\",\"type\":\"Title\"},{\"attributes\":{\"grid_line_color\":null,\"ticker\":{\"id\":\"1014\",\"type\":\"CategoricalTicker\"}},\"id\":\"1016\",\"type\":\"Grid\"},{\"attributes\":{\"callback\":null,\"factors\":[\"Dec\",\"Jan\",\"Feb\",\"Mar\",\"Apr\"],\"range_padding\":0.1},\"id\":\"1002\",\"type\":\"FactorRange\"},{\"attributes\":{\"items\":[{\"id\":\"1039\",\"type\":\"LegendItem\"},{\"id\":\"1061\",\"type\":\"LegendItem\"}],\"location\":\"top_left\",\"orientation\":\"horizontal\"},\"id\":\"1038\",\"type\":\"Legend\"},{\"attributes\":{\"data_source\":{\"id\":\"1045\",\"type\":\"ColumnDataSource\"},\"glyph\":{\"id\":\"1047\",\"type\":\"VBar\"},\"hover_glyph\":{\"id\":\"1049\",\"type\":\"VBar\"},\"muted_glyph\":null,\"name\":\"LCC Summer Road\",\"nonselection_glyph\":{\"id\":\"1048\",\"type\":\"VBar\"},\"selection_glyph\":null,\"view\":{\"id\":\"1051\",\"type\":\"CDSView\"}},\"id\":\"1050\",\"type\":\"GlyphRenderer\"},{\"attributes\":{\"fill_color\":{\"value\":\"#1f77b4\"},\"line_color\":{\"value\":\"#1f77b4\"},\"top\":{\"field\":\"counts\"},\"width\":{\"value\":0.4},\"x\":{\"field\":\"x\",\"transform\":{\"id\":\"1025\",\"type\":\"Dodge\"}}},\"id\":\"1030\",\"type\":\"VBar\"},{\"attributes\":{},\"id\":\"1034\",\"type\":\"CategoricalTickFormatter\"},{\"attributes\":{\"source\":{\"id\":\"1026\",\"type\":\"ColumnDataSource\"}},\"id\":\"1032\",\"type\":\"CDSView\"},{\"attributes\":{\"callback\":null,\"end\":323.4833333333333},\"id\":\"1070\",\"type\":\"Range1d\"},{\"attributes\":{\"callback\":null,\"data\":{\"counts\":[31.57692307692308,50.230769230769226,45.8,36.833333333333336,0],\"x\":[\"Dec\",\"Jan\",\"Feb\",\"Mar\",\"Apr\"]},\"selected\":{\"id\":\"1059\",\"type\":\"Selection\"},\"selection_policy\":{\"id\":\"1060\",\"type\":\"UnionRenderers\"}},\"id\":\"1026\",\"type\":\"ColumnDataSource\"},{\"attributes\":{\"fill_alpha\":{\"value\":0.1},\"fill_color\":{\"value\":\"#1f77b4\"},\"line_alpha\":{\"value\":0.1},\"line_color\":{\"value\":\"#1f77b4\"},\"top\":{\"field\":\"counts\"},\"width\":{\"value\":0.4},\"x\":{\"field\":\"x\",\"transform\":{\"id\":\"1025\",\"type\":\"Dodge\"}}},\"id\":\"1029\",\"type\":\"VBar\"},{\"attributes\":{},\"id\":\"1058\",\"type\":\"UnionRenderers\"},{\"attributes\":{},\"id\":\"1014\",\"type\":\"CategoricalTicker\"},{\"attributes\":{},\"id\":\"1036\",\"type\":\"BasicTickFormatter\"},{\"attributes\":{\"fill_alpha\":{\"value\":0.9},\"fill_color\":{\"value\":\"#0EBFE9\"},\"line_color\":{\"value\":\"#0EBFE9\"},\"top\":{\"field\":\"counts\"},\"width\":{\"value\":0.4},\"x\":{\"field\":\"x\",\"transform\":{\"id\":\"1025\",\"type\":\"Dodge\"}}},\"id\":\"1028\",\"type\":\"VBar\"},{\"attributes\":{\"level\":\"glyph\",\"source\":{\"id\":\"1041\",\"type\":\"ColumnDataSource\"},\"text\":{\"field\":\"n\"},\"text_align\":\"center\",\"text_color\":{\"value\":\"#000000\"},\"text_font_size\":{\"value\":\"7pt\"},\"x\":{\"field\":\"x\",\"transform\":{\"id\":\"1040\",\"type\":\"Dodge\"}},\"y\":{\"field\":\"y\"}},\"id\":\"1042\",\"type\":\"LabelSet\"},{\"attributes\":{},\"id\":\"1011\",\"type\":\"LinearScale\"},{\"attributes\":{\"source\":{\"id\":\"1045\",\"type\":\"ColumnDataSource\"}},\"id\":\"1051\",\"type\":\"CDSView\"},{\"attributes\":{},\"id\":\"1009\",\"type\":\"CategoricalScale\"},{\"attributes\":{\"data_source\":{\"id\":\"1026\",\"type\":\"ColumnDataSource\"},\"glyph\":{\"id\":\"1028\",\"type\":\"VBar\"},\"hover_glyph\":{\"id\":\"1030\",\"type\":\"VBar\"},\"muted_glyph\":null,\"name\":\"LCC Our Lady\",\"nonselection_glyph\":{\"id\":\"1029\",\"type\":\"VBar\"},\"selection_glyph\":null,\"view\":{\"id\":\"1032\",\"type\":\"CDSView\"}},\"id\":\"1031\",\"type\":\"GlyphRenderer\"},{\"attributes\":{},\"id\":\"1022\",\"type\":\"SaveTool\"},{\"attributes\":{\"active_drag\":\"auto\",\"active_inspect\":\"auto\",\"active_multi\":null,\"active_scroll\":\"auto\",\"active_tap\":\"auto\",\"tools\":[{\"id\":\"1022\",\"type\":\"SaveTool\"},{\"id\":\"1066\",\"type\":\"HoverTool\"}]},\"id\":\"1023\",\"type\":\"Toolbar\"},{\"attributes\":{\"fill_alpha\":{\"value\":0.1},\"fill_color\":{\"value\":\"#1f77b4\"},\"line_alpha\":{\"value\":0.1},\"line_color\":{\"value\":\"#1f77b4\"},\"top\":{\"field\":\"counts\"},\"width\":{\"value\":0.4},\"x\":{\"field\":\"x\",\"transform\":{\"id\":\"1044\",\"type\":\"Dodge\"}}},\"id\":\"1048\",\"type\":\"VBar\"},{\"attributes\":{\"dimension\":1,\"ticker\":{\"id\":\"1018\",\"type\":\"BasicTicker\"}},\"id\":\"1021\",\"type\":\"Grid\"},{\"attributes\":{\"callback\":null,\"data\":{\"n\":[\"\",\"(18)\",\"(10)\",\"(31)\",\"(30)\"],\"x\":[\"Dec\",\"Jan\",\"Feb\",\"Mar\",\"Apr\"],\"y\":[0,248.83333333333331,152.2,183.4838709677419,123.86666666666666]},\"selected\":{\"id\":\"1078\",\"type\":\"Selection\"},\"selection_policy\":{\"id\":\"1079\",\"type\":\"UnionRenderers\"}},\"id\":\"1063\",\"type\":\"ColumnDataSource\"},{\"attributes\":{\"fill_alpha\":{\"value\":0.9},\"fill_color\":{\"value\":\"#0BB5FF\"},\"line_color\":{\"value\":\"#0BB5FF\"},\"top\":{\"field\":\"counts\"},\"width\":{\"value\":0.4},\"x\":{\"field\":\"x\",\"transform\":{\"id\":\"1044\",\"type\":\"Dodge\"}}},\"id\":\"1047\",\"type\":\"VBar\"},{\"attributes\":{\"formatter\":{\"id\":\"1034\",\"type\":\"CategoricalTickFormatter\"},\"major_label_orientation\":0,\"major_label_standoff\":10,\"major_label_text_font_size\":{\"value\":\"12pt\"},\"major_label_text_font_style\":\"bold\",\"major_tick_line_color\":{\"value\":null},\"minor_tick_line_color\":{\"value\":null},\"ticker\":{\"id\":\"1014\",\"type\":\"CategoricalTicker\"}},\"id\":\"1013\",\"type\":\"CategoricalAxis\"},{\"attributes\":{\"fill_color\":{\"value\":\"#1f77b4\"},\"line_color\":{\"value\":\"#1f77b4\"},\"top\":{\"field\":\"counts\"},\"width\":{\"value\":0.4},\"x\":{\"field\":\"x\",\"transform\":{\"id\":\"1044\",\"type\":\"Dodge\"}}},\"id\":\"1049\",\"type\":\"VBar\"},{\"attributes\":{\"text\":\"Note: (*) is number of days with sensor data\",\"text_font_size\":{\"value\":\"10pt\"},\"text_font_style\":\"normal\"},\"id\":\"1068\",\"type\":\"Title\"},{\"attributes\":{\"formatter\":{\"id\":\"1036\",\"type\":\"BasicTickFormatter\"},\"major_label_text_font_size\":{\"value\":\"12pt\"},\"major_label_text_font_style\":\"bold\",\"minor_tick_line_color\":{\"value\":null},\"ticker\":{\"id\":\"1018\",\"type\":\"BasicTicker\"}},\"id\":\"1017\",\"type\":\"LinearAxis\"},{\"attributes\":{\"callback\":null,\"data\":{\"counts\":[0,248.83333333333331,152.2,183.4838709677419,123.86666666666666],\"x\":[\"Dec\",\"Jan\",\"Feb\",\"Mar\",\"Apr\"]},\"selected\":{\"id\":\"1082\",\"type\":\"Selection\"},\"selection_policy\":{\"id\":\"1083\",\"type\":\"UnionRenderers\"}},\"id\":\"1045\",\"type\":\"ColumnDataSource\"},{\"attributes\":{},\"id\":\"1079\",\"type\":\"UnionRenderers\"},{\"attributes\":{\"level\":\"glyph\",\"source\":{\"id\":\"1063\",\"type\":\"ColumnDataSource\"},\"text\":{\"field\":\"n\"},\"text_align\":\"center\",\"text_color\":{\"value\":\"#000000\"},\"text_font_size\":{\"value\":\"7pt\"},\"x\":{\"field\":\"x\",\"transform\":{\"id\":\"1062\",\"type\":\"Dodge\"}},\"y\":{\"field\":\"y\"}},\"id\":\"1064\",\"type\":\"LabelSet\"},{\"attributes\":{},\"id\":\"1018\",\"type\":\"BasicTicker\"}],\"root_ids\":[\"1003\"]},\"title\":\"Bokeh Application\",\"version\":\"1.4.0\"}};\n",
       "  var render_items = [{\"docid\":\"8c7efb64-d0fb-4708-89db-0803504685ea\",\"roots\":{\"1003\":\"39048074-3249-4a3c-9bff-630ad5d986ed\"}}];\n",
       "  root.Bokeh.embed.embed_items_notebook(docs_json, render_items);\n",
       "\n",
       "  }\n",
       "  if (root.Bokeh !== undefined) {\n",
       "    embed_document(root);\n",
       "  } else {\n",
       "    var attempts = 0;\n",
       "    var timer = setInterval(function(root) {\n",
       "      if (root.Bokeh !== undefined) {\n",
       "        clearInterval(timer);\n",
       "        embed_document(root);\n",
       "      } else {\n",
       "        attempts++;\n",
       "        if (attempts > 100) {\n",
       "          clearInterval(timer);\n",
       "          console.log(\"Bokeh: ERROR: Unable to run BokehJS code because BokehJS library is missing\");\n",
       "        }\n",
       "      }\n",
       "    }, 10, root)\n",
       "  }\n",
       "})(window);"
      ],
      "application/vnd.bokehjs_exec.v0+json": ""
     },
     "metadata": {
      "application/vnd.bokehjs_exec.v0+json": {
       "id": "1003"
      }
     },
     "output_type": "display_data"
    }
   ],
   "source": [
    "season = ['2017-2018']\n",
    "sites = [x for x in adu_df.query(\"season == @season\")['site'].unique() if (\"LCC\" in x and \"Gate\" not in x)]\n",
    "dayOfWeek = 'All'\n",
    "src_df = make_data_set(sites, season, dayOfWeek, adu_df)\n",
    "p = make_plot(src_df)\n",
    "show(p)"
   ]
  },
  {
   "cell_type": "code",
   "execution_count": 12,
   "metadata": {},
   "outputs": [
    {
     "data": {
      "text/html": [
       "\n",
       "\n",
       "\n",
       "\n",
       "\n",
       "\n",
       "  <div class=\"bk-root\" id=\"595de7ab-ca75-4781-abfb-090b945de080\" data-root-id=\"1163\"></div>\n"
      ]
     },
     "metadata": {},
     "output_type": "display_data"
    },
    {
     "data": {
      "application/javascript": [
       "(function(root) {\n",
       "  function embed_document(root) {\n",
       "    \n",
       "  var docs_json = {\"fe71d834-645e-4ba5-a55c-752cdb9a5739\":{\"roots\":{\"references\":[{\"attributes\":{\"above\":[{\"id\":\"1229\",\"type\":\"Title\"}],\"below\":[{\"id\":\"1173\",\"type\":\"CategoricalAxis\"},{\"id\":\"1228\",\"type\":\"Title\"}],\"center\":[{\"id\":\"1176\",\"type\":\"Grid\"},{\"id\":\"1181\",\"type\":\"Grid\"},{\"id\":\"1198\",\"type\":\"Legend\"},{\"id\":\"1202\",\"type\":\"LabelSet\"},{\"id\":\"1224\",\"type\":\"LabelSet\"}],\"left\":[{\"id\":\"1177\",\"type\":\"LinearAxis\"}],\"plot_height\":400,\"plot_width\":800,\"renderers\":[{\"id\":\"1191\",\"type\":\"GlyphRenderer\"},{\"id\":\"1210\",\"type\":\"GlyphRenderer\"}],\"title\":{\"id\":\"1164\",\"type\":\"Title\"},\"toolbar\":{\"id\":\"1183\",\"type\":\"Toolbar\"},\"x_range\":{\"id\":\"1162\",\"type\":\"FactorRange\"},\"x_scale\":{\"id\":\"1169\",\"type\":\"CategoricalScale\"},\"y_range\":{\"id\":\"1230\",\"type\":\"Range1d\"},\"y_scale\":{\"id\":\"1171\",\"type\":\"LinearScale\"}},\"id\":\"1163\",\"subtype\":\"Figure\",\"type\":\"Plot\"},{\"attributes\":{\"data_source\":{\"id\":\"1205\",\"type\":\"ColumnDataSource\"},\"glyph\":{\"id\":\"1207\",\"type\":\"VBar\"},\"hover_glyph\":{\"id\":\"1209\",\"type\":\"VBar\"},\"muted_glyph\":null,\"name\":\"LCC Summer Road\",\"nonselection_glyph\":{\"id\":\"1208\",\"type\":\"VBar\"},\"selection_glyph\":null,\"view\":{\"id\":\"1211\",\"type\":\"CDSView\"}},\"id\":\"1210\",\"type\":\"GlyphRenderer\"},{\"attributes\":{},\"id\":\"1178\",\"type\":\"BasicTicker\"},{\"attributes\":{\"formatter\":{\"id\":\"1194\",\"type\":\"CategoricalTickFormatter\"},\"major_label_orientation\":0,\"major_label_standoff\":10,\"major_label_text_font_size\":{\"value\":\"12pt\"},\"major_label_text_font_style\":\"bold\",\"major_tick_line_color\":{\"value\":null},\"minor_tick_line_color\":{\"value\":null},\"ticker\":{\"id\":\"1174\",\"type\":\"CategoricalTicker\"}},\"id\":\"1173\",\"type\":\"CategoricalAxis\"},{\"attributes\":{\"items\":[{\"id\":\"1199\",\"type\":\"LegendItem\"},{\"id\":\"1221\",\"type\":\"LegendItem\"}],\"location\":\"top_left\",\"orientation\":\"horizontal\"},\"id\":\"1198\",\"type\":\"Legend\"},{\"attributes\":{\"callback\":null,\"tooltips\":[[\"Site\",\"$name\"],[\"Average Daily Users\",\"@counts{int}\"]]},\"id\":\"1226\",\"type\":\"HoverTool\"},{\"attributes\":{\"range\":{\"id\":\"1162\",\"type\":\"FactorRange\"},\"value\":0.24000000000000002},\"id\":\"1222\",\"type\":\"Dodge\"},{\"attributes\":{},\"id\":\"1256\",\"type\":\"UnionRenderers\"},{\"attributes\":{\"active_drag\":\"auto\",\"active_inspect\":\"auto\",\"active_multi\":null,\"active_scroll\":\"auto\",\"active_tap\":\"auto\",\"tools\":[{\"id\":\"1182\",\"type\":\"SaveTool\"},{\"id\":\"1226\",\"type\":\"HoverTool\"}]},\"id\":\"1183\",\"type\":\"Toolbar\"},{\"attributes\":{},\"id\":\"1194\",\"type\":\"CategoricalTickFormatter\"},{\"attributes\":{\"fill_color\":{\"value\":\"#1f77b4\"},\"line_color\":{\"value\":\"#1f77b4\"},\"top\":{\"field\":\"counts\"},\"width\":{\"value\":0.4},\"x\":{\"field\":\"x\",\"transform\":{\"id\":\"1204\",\"type\":\"Dodge\"}}},\"id\":\"1209\",\"type\":\"VBar\"},{\"attributes\":{},\"id\":\"1169\",\"type\":\"CategoricalScale\"},{\"attributes\":{\"source\":{\"id\":\"1205\",\"type\":\"ColumnDataSource\"}},\"id\":\"1211\",\"type\":\"CDSView\"},{\"attributes\":{\"range\":{\"id\":\"1162\",\"type\":\"FactorRange\"},\"value\":-0.24000000000000002},\"id\":\"1185\",\"type\":\"Dodge\"},{\"attributes\":{\"callback\":null,\"factors\":[\"Dec\",\"Jan\",\"Feb\",\"Mar\",\"Apr\"],\"range_padding\":0.1},\"id\":\"1162\",\"type\":\"FactorRange\"},{\"attributes\":{\"data_source\":{\"id\":\"1186\",\"type\":\"ColumnDataSource\"},\"glyph\":{\"id\":\"1188\",\"type\":\"VBar\"},\"hover_glyph\":{\"id\":\"1190\",\"type\":\"VBar\"},\"muted_glyph\":null,\"name\":\"LCC Our Lady\",\"nonselection_glyph\":{\"id\":\"1189\",\"type\":\"VBar\"},\"selection_glyph\":null,\"view\":{\"id\":\"1192\",\"type\":\"CDSView\"}},\"id\":\"1191\",\"type\":\"GlyphRenderer\"},{\"attributes\":{},\"id\":\"1174\",\"type\":\"CategoricalTicker\"},{\"attributes\":{},\"id\":\"1251\",\"type\":\"Selection\"},{\"attributes\":{},\"id\":\"1220\",\"type\":\"UnionRenderers\"},{\"attributes\":{\"callback\":null,\"end\":362.7},\"id\":\"1230\",\"type\":\"Range1d\"},{\"attributes\":{},\"id\":\"1217\",\"type\":\"Selection\"},{\"attributes\":{\"range\":{\"id\":\"1162\",\"type\":\"FactorRange\"},\"value\":0.24000000000000002},\"id\":\"1204\",\"type\":\"Dodge\"},{\"attributes\":{\"label\":{\"value\":\"LCC Summer Road\"},\"renderers\":[{\"id\":\"1210\",\"type\":\"GlyphRenderer\"}]},\"id\":\"1221\",\"type\":\"LegendItem\"},{\"attributes\":{\"grid_line_color\":null,\"ticker\":{\"id\":\"1174\",\"type\":\"CategoricalTicker\"}},\"id\":\"1176\",\"type\":\"Grid\"},{\"attributes\":{},\"id\":\"1219\",\"type\":\"Selection\"},{\"attributes\":{\"level\":\"glyph\",\"source\":{\"id\":\"1201\",\"type\":\"ColumnDataSource\"},\"text\":{\"field\":\"n\"},\"text_align\":\"center\",\"text_color\":{\"value\":\"#000000\"},\"text_font_size\":{\"value\":\"7pt\"},\"x\":{\"field\":\"x\",\"transform\":{\"id\":\"1200\",\"type\":\"Dodge\"}},\"y\":{\"field\":\"y\"}},\"id\":\"1202\",\"type\":\"LabelSet\"},{\"attributes\":{},\"id\":\"1196\",\"type\":\"BasicTickFormatter\"},{\"attributes\":{},\"id\":\"1218\",\"type\":\"UnionRenderers\"},{\"attributes\":{\"fill_color\":{\"value\":\"#1f77b4\"},\"line_color\":{\"value\":\"#1f77b4\"},\"top\":{\"field\":\"counts\"},\"width\":{\"value\":0.4},\"x\":{\"field\":\"x\",\"transform\":{\"id\":\"1185\",\"type\":\"Dodge\"}}},\"id\":\"1190\",\"type\":\"VBar\"},{\"attributes\":{},\"id\":\"1252\",\"type\":\"UnionRenderers\"},{\"attributes\":{\"source\":{\"id\":\"1186\",\"type\":\"ColumnDataSource\"}},\"id\":\"1192\",\"type\":\"CDSView\"},{\"attributes\":{\"fill_alpha\":{\"value\":0.9},\"fill_color\":{\"value\":\"#0BB5FF\"},\"line_color\":{\"value\":\"#0BB5FF\"},\"top\":{\"field\":\"counts\"},\"width\":{\"value\":0.4},\"x\":{\"field\":\"x\",\"transform\":{\"id\":\"1204\",\"type\":\"Dodge\"}}},\"id\":\"1207\",\"type\":\"VBar\"},{\"attributes\":{},\"id\":\"1255\",\"type\":\"Selection\"},{\"attributes\":{\"text\":\"Note: (*) is number of days with sensor data\",\"text_font_size\":{\"value\":\"10pt\"},\"text_font_style\":\"normal\"},\"id\":\"1228\",\"type\":\"Title\"},{\"attributes\":{\"dimension\":1,\"ticker\":{\"id\":\"1178\",\"type\":\"BasicTicker\"}},\"id\":\"1181\",\"type\":\"Grid\"},{\"attributes\":{},\"id\":\"1182\",\"type\":\"SaveTool\"},{\"attributes\":{\"fill_alpha\":{\"value\":0.1},\"fill_color\":{\"value\":\"#1f77b4\"},\"line_alpha\":{\"value\":0.1},\"line_color\":{\"value\":\"#1f77b4\"},\"top\":{\"field\":\"counts\"},\"width\":{\"value\":0.4},\"x\":{\"field\":\"x\",\"transform\":{\"id\":\"1185\",\"type\":\"Dodge\"}}},\"id\":\"1189\",\"type\":\"VBar\"},{\"attributes\":{\"formatter\":{\"id\":\"1196\",\"type\":\"BasicTickFormatter\"},\"major_label_text_font_size\":{\"value\":\"12pt\"},\"major_label_text_font_style\":\"bold\",\"minor_tick_line_color\":{\"value\":null},\"ticker\":{\"id\":\"1178\",\"type\":\"BasicTicker\"}},\"id\":\"1177\",\"type\":\"LinearAxis\"},{\"attributes\":{\"callback\":null,\"data\":{\"counts\":[26.33333333333333,63.66666666666666,96.0,30.0,0],\"x\":[\"Dec\",\"Jan\",\"Feb\",\"Mar\",\"Apr\"]},\"selected\":{\"id\":\"1219\",\"type\":\"Selection\"},\"selection_policy\":{\"id\":\"1220\",\"type\":\"UnionRenderers\"}},\"id\":\"1186\",\"type\":\"ColumnDataSource\"},{\"attributes\":{\"callback\":null,\"data\":{\"n\":[\"\",\"(2)\",\"(1)\",\"(5)\",\"(4)\"],\"x\":[\"Dec\",\"Jan\",\"Feb\",\"Mar\",\"Apr\"],\"y\":[0,279.0,207.0,244.2,181.5]},\"selected\":{\"id\":\"1251\",\"type\":\"Selection\"},\"selection_policy\":{\"id\":\"1252\",\"type\":\"UnionRenderers\"}},\"id\":\"1223\",\"type\":\"ColumnDataSource\"},{\"attributes\":{},\"id\":\"1171\",\"type\":\"LinearScale\"},{\"attributes\":{\"text\":\"Season 2017-2018 | Average Daily Trailhead Users Per Month For Saturdays\",\"text_font_size\":{\"value\":\"13pt\"}},\"id\":\"1229\",\"type\":\"Title\"},{\"attributes\":{\"callback\":null,\"data\":{\"n\":[\"(3)\",\"(3)\",\"(1)\",\"(1)\",\"\"],\"x\":[\"Dec\",\"Jan\",\"Feb\",\"Mar\",\"Apr\"],\"y\":[26.33333333333333,63.66666666666666,96.0,30.0,0]},\"selected\":{\"id\":\"1217\",\"type\":\"Selection\"},\"selection_policy\":{\"id\":\"1218\",\"type\":\"UnionRenderers\"}},\"id\":\"1201\",\"type\":\"ColumnDataSource\"},{\"attributes\":{\"label\":{\"value\":\"LCC Our Lady\"},\"renderers\":[{\"id\":\"1191\",\"type\":\"GlyphRenderer\"}]},\"id\":\"1199\",\"type\":\"LegendItem\"},{\"attributes\":{\"fill_alpha\":{\"value\":0.9},\"fill_color\":{\"value\":\"#0EBFE9\"},\"line_color\":{\"value\":\"#0EBFE9\"},\"top\":{\"field\":\"counts\"},\"width\":{\"value\":0.4},\"x\":{\"field\":\"x\",\"transform\":{\"id\":\"1185\",\"type\":\"Dodge\"}}},\"id\":\"1188\",\"type\":\"VBar\"},{\"attributes\":{\"fill_alpha\":{\"value\":0.1},\"fill_color\":{\"value\":\"#1f77b4\"},\"line_alpha\":{\"value\":0.1},\"line_color\":{\"value\":\"#1f77b4\"},\"top\":{\"field\":\"counts\"},\"width\":{\"value\":0.4},\"x\":{\"field\":\"x\",\"transform\":{\"id\":\"1204\",\"type\":\"Dodge\"}}},\"id\":\"1208\",\"type\":\"VBar\"},{\"attributes\":{\"callback\":null,\"data\":{\"counts\":[0,279.0,207.0,244.2,181.5],\"x\":[\"Dec\",\"Jan\",\"Feb\",\"Mar\",\"Apr\"]},\"selected\":{\"id\":\"1255\",\"type\":\"Selection\"},\"selection_policy\":{\"id\":\"1256\",\"type\":\"UnionRenderers\"}},\"id\":\"1205\",\"type\":\"ColumnDataSource\"},{\"attributes\":{\"text\":\"\",\"text_font_size\":{\"value\":\"12pt\"}},\"id\":\"1164\",\"type\":\"Title\"},{\"attributes\":{\"level\":\"glyph\",\"source\":{\"id\":\"1223\",\"type\":\"ColumnDataSource\"},\"text\":{\"field\":\"n\"},\"text_align\":\"center\",\"text_color\":{\"value\":\"#000000\"},\"text_font_size\":{\"value\":\"7pt\"},\"x\":{\"field\":\"x\",\"transform\":{\"id\":\"1222\",\"type\":\"Dodge\"}},\"y\":{\"field\":\"y\"}},\"id\":\"1224\",\"type\":\"LabelSet\"},{\"attributes\":{\"range\":{\"id\":\"1162\",\"type\":\"FactorRange\"},\"value\":-0.24000000000000002},\"id\":\"1200\",\"type\":\"Dodge\"}],\"root_ids\":[\"1163\"]},\"title\":\"Bokeh Application\",\"version\":\"1.4.0\"}};\n",
       "  var render_items = [{\"docid\":\"fe71d834-645e-4ba5-a55c-752cdb9a5739\",\"roots\":{\"1163\":\"595de7ab-ca75-4781-abfb-090b945de080\"}}];\n",
       "  root.Bokeh.embed.embed_items_notebook(docs_json, render_items);\n",
       "\n",
       "  }\n",
       "  if (root.Bokeh !== undefined) {\n",
       "    embed_document(root);\n",
       "  } else {\n",
       "    var attempts = 0;\n",
       "    var timer = setInterval(function(root) {\n",
       "      if (root.Bokeh !== undefined) {\n",
       "        clearInterval(timer);\n",
       "        embed_document(root);\n",
       "      } else {\n",
       "        attempts++;\n",
       "        if (attempts > 100) {\n",
       "          clearInterval(timer);\n",
       "          console.log(\"Bokeh: ERROR: Unable to run BokehJS code because BokehJS library is missing\");\n",
       "        }\n",
       "      }\n",
       "    }, 10, root)\n",
       "  }\n",
       "})(window);"
      ],
      "application/vnd.bokehjs_exec.v0+json": ""
     },
     "metadata": {
      "application/vnd.bokehjs_exec.v0+json": {
       "id": "1163"
      }
     },
     "output_type": "display_data"
    }
   ],
   "source": [
    "season = ['2017-2018']\n",
    "sites = [x for x in adu_df.query(\"season == @season\")['site'].unique() if (\"LCC\" in x and \"Gate\" not in x)]\n",
    "dayOfWeek = 'Saturday'\n",
    "src_df = make_data_set(sites, season, dayOfWeek, adu_df)\n",
    "p = make_plot(src_df)\n",
    "show(p)"
   ]
  },
  {
   "cell_type": "code",
   "execution_count": 13,
   "metadata": {},
   "outputs": [
    {
     "data": {
      "text/html": [
       "\n",
       "\n",
       "\n",
       "\n",
       "\n",
       "\n",
       "  <div class=\"bk-root\" id=\"d199c413-97cc-446c-8a3d-ff182457000e\" data-root-id=\"1336\"></div>\n"
      ]
     },
     "metadata": {},
     "output_type": "display_data"
    },
    {
     "data": {
      "application/javascript": [
       "(function(root) {\n",
       "  function embed_document(root) {\n",
       "    \n",
       "  var docs_json = {\"5966e3ed-e120-4f18-8058-0bb95d5ed948\":{\"roots\":{\"references\":[{\"attributes\":{\"above\":[{\"id\":\"1492\",\"type\":\"Title\"}],\"below\":[{\"id\":\"1346\",\"type\":\"CategoricalAxis\"},{\"id\":\"1491\",\"type\":\"Title\"}],\"center\":[{\"id\":\"1349\",\"type\":\"Grid\"},{\"id\":\"1354\",\"type\":\"Grid\"},{\"id\":\"1371\",\"type\":\"Legend\"},{\"id\":\"1375\",\"type\":\"LabelSet\"},{\"id\":\"1397\",\"type\":\"LabelSet\"},{\"id\":\"1423\",\"type\":\"LabelSet\"},{\"id\":\"1453\",\"type\":\"LabelSet\"},{\"id\":\"1487\",\"type\":\"LabelSet\"}],\"left\":[{\"id\":\"1350\",\"type\":\"LinearAxis\"}],\"plot_height\":400,\"plot_width\":800,\"renderers\":[{\"id\":\"1364\",\"type\":\"GlyphRenderer\"},{\"id\":\"1383\",\"type\":\"GlyphRenderer\"},{\"id\":\"1405\",\"type\":\"GlyphRenderer\"},{\"id\":\"1431\",\"type\":\"GlyphRenderer\"},{\"id\":\"1461\",\"type\":\"GlyphRenderer\"}],\"title\":{\"id\":\"1337\",\"type\":\"Title\"},\"toolbar\":{\"id\":\"1356\",\"type\":\"Toolbar\"},\"x_range\":{\"id\":\"1335\",\"type\":\"FactorRange\"},\"x_scale\":{\"id\":\"1342\",\"type\":\"CategoricalScale\"},\"y_range\":{\"id\":\"1493\",\"type\":\"Range1d\"},\"y_scale\":{\"id\":\"1344\",\"type\":\"LinearScale\"}},\"id\":\"1336\",\"subtype\":\"Figure\",\"type\":\"Plot\"},{\"attributes\":{\"callback\":null,\"tooltips\":[[\"Site\",\"$name\"],[\"Average Daily Users\",\"@counts{int}\"]]},\"id\":\"1489\",\"type\":\"HoverTool\"},{\"attributes\":{\"data_source\":{\"id\":\"1456\",\"type\":\"ColumnDataSource\"},\"glyph\":{\"id\":\"1458\",\"type\":\"VBar\"},\"hover_glyph\":{\"id\":\"1460\",\"type\":\"VBar\"},\"muted_glyph\":null,\"name\":\"LCC White Pine\",\"nonselection_glyph\":{\"id\":\"1459\",\"type\":\"VBar\"},\"selection_glyph\":null,\"view\":{\"id\":\"1462\",\"type\":\"CDSView\"}},\"id\":\"1461\",\"type\":\"GlyphRenderer\"},{\"attributes\":{\"fill_color\":{\"value\":\"#1f77b4\"},\"line_color\":{\"value\":\"#1f77b4\"},\"top\":{\"field\":\"counts\"},\"width\":{\"value\":0.16},\"x\":{\"field\":\"x\",\"transform\":{\"id\":\"1455\",\"type\":\"Dodge\"}}},\"id\":\"1460\",\"type\":\"VBar\"},{\"attributes\":{\"source\":{\"id\":\"1456\",\"type\":\"ColumnDataSource\"}},\"id\":\"1462\",\"type\":\"CDSView\"},{\"attributes\":{},\"id\":\"1483\",\"type\":\"UnionRenderers\"},{\"attributes\":{\"level\":\"glyph\",\"source\":{\"id\":\"1422\",\"type\":\"ColumnDataSource\"},\"text\":{\"field\":\"n\"},\"text_align\":\"center\",\"text_color\":{\"value\":\"#000000\"},\"text_font_size\":{\"value\":\"7pt\"},\"x\":{\"field\":\"x\",\"transform\":{\"id\":\"1421\",\"type\":\"Dodge\"}},\"y\":{\"field\":\"y\"}},\"id\":\"1423\",\"type\":\"LabelSet\"},{\"attributes\":{},\"id\":\"1482\",\"type\":\"Selection\"},{\"attributes\":{\"fill_alpha\":{\"value\":0.9},\"fill_color\":{\"value\":\"#009ACD\"},\"line_color\":{\"value\":\"#009ACD\"},\"top\":{\"field\":\"counts\"},\"width\":{\"value\":0.16},\"x\":{\"field\":\"x\",\"transform\":{\"id\":\"1399\",\"type\":\"Dodge\"}}},\"id\":\"1402\",\"type\":\"VBar\"},{\"attributes\":{},\"id\":\"1474\",\"type\":\"Selection\"},{\"attributes\":{},\"id\":\"1543\",\"type\":\"Selection\"},{\"attributes\":{\"level\":\"glyph\",\"source\":{\"id\":\"1396\",\"type\":\"ColumnDataSource\"},\"text\":{\"field\":\"n\"},\"text_align\":\"center\",\"text_color\":{\"value\":\"#000000\"},\"text_font_size\":{\"value\":\"7pt\"},\"x\":{\"field\":\"x\",\"transform\":{\"id\":\"1395\",\"type\":\"Dodge\"}},\"y\":{\"field\":\"y\"}},\"id\":\"1397\",\"type\":\"LabelSet\"},{\"attributes\":{},\"id\":\"1475\",\"type\":\"UnionRenderers\"},{\"attributes\":{\"callback\":null,\"data\":{\"counts\":[74.2,75.10344827586206,74.3,81.65517241379311,57.24137931034482],\"x\":[\"Dec\",\"Jan\",\"Feb\",\"Mar\",\"Apr\"]},\"selected\":{\"id\":\"1392\",\"type\":\"Selection\"},\"selection_policy\":{\"id\":\"1393\",\"type\":\"UnionRenderers\"}},\"id\":\"1359\",\"type\":\"ColumnDataSource\"},{\"attributes\":{\"label\":{\"value\":\"LCC White Pine\"},\"renderers\":[{\"id\":\"1461\",\"type\":\"GlyphRenderer\"}]},\"id\":\"1484\",\"type\":\"LegendItem\"},{\"attributes\":{\"fill_alpha\":{\"value\":0.9},\"fill_color\":{\"value\":\"#0EBFE9\"},\"line_color\":{\"value\":\"#0EBFE9\"},\"top\":{\"field\":\"counts\"},\"width\":{\"value\":0.16},\"x\":{\"field\":\"x\",\"transform\":{\"id\":\"1358\",\"type\":\"Dodge\"}}},\"id\":\"1361\",\"type\":\"VBar\"},{\"attributes\":{\"fill_color\":{\"value\":\"#1f77b4\"},\"line_color\":{\"value\":\"#1f77b4\"},\"top\":{\"field\":\"counts\"},\"width\":{\"value\":0.16},\"x\":{\"field\":\"x\",\"transform\":{\"id\":\"1358\",\"type\":\"Dodge\"}}},\"id\":\"1363\",\"type\":\"VBar\"},{\"attributes\":{\"source\":{\"id\":\"1359\",\"type\":\"ColumnDataSource\"}},\"id\":\"1365\",\"type\":\"CDSView\"},{\"attributes\":{\"callback\":null,\"data\":{\"counts\":[10.909090909090908,8.75,91.31578947368419,116.96296296296295,139.03703703703704],\"x\":[\"Dec\",\"Jan\",\"Feb\",\"Mar\",\"Apr\"]},\"selected\":{\"id\":\"1482\",\"type\":\"Selection\"},\"selection_policy\":{\"id\":\"1483\",\"type\":\"UnionRenderers\"}},\"id\":\"1426\",\"type\":\"ColumnDataSource\"},{\"attributes\":{\"active_drag\":\"auto\",\"active_inspect\":\"auto\",\"active_multi\":null,\"active_scroll\":\"auto\",\"active_tap\":\"auto\",\"tools\":[{\"id\":\"1355\",\"type\":\"SaveTool\"},{\"id\":\"1489\",\"type\":\"HoverTool\"}]},\"id\":\"1356\",\"type\":\"Toolbar\"},{\"attributes\":{\"fill_alpha\":{\"value\":0.1},\"fill_color\":{\"value\":\"#1f77b4\"},\"line_alpha\":{\"value\":0.1},\"line_color\":{\"value\":\"#1f77b4\"},\"top\":{\"field\":\"counts\"},\"width\":{\"value\":0.16},\"x\":{\"field\":\"x\",\"transform\":{\"id\":\"1358\",\"type\":\"Dodge\"}}},\"id\":\"1362\",\"type\":\"VBar\"},{\"attributes\":{\"data_source\":{\"id\":\"1359\",\"type\":\"ColumnDataSource\"},\"glyph\":{\"id\":\"1361\",\"type\":\"VBar\"},\"hover_glyph\":{\"id\":\"1363\",\"type\":\"VBar\"},\"muted_glyph\":null,\"name\":\"LCC Our Lady\",\"nonselection_glyph\":{\"id\":\"1362\",\"type\":\"VBar\"},\"selection_glyph\":null,\"view\":{\"id\":\"1365\",\"type\":\"CDSView\"}},\"id\":\"1364\",\"type\":\"GlyphRenderer\"},{\"attributes\":{},\"id\":\"1369\",\"type\":\"BasicTickFormatter\"},{\"attributes\":{\"formatter\":{\"id\":\"1369\",\"type\":\"BasicTickFormatter\"},\"major_label_text_font_size\":{\"value\":\"12pt\"},\"major_label_text_font_style\":\"bold\",\"minor_tick_line_color\":{\"value\":null},\"ticker\":{\"id\":\"1351\",\"type\":\"BasicTicker\"}},\"id\":\"1350\",\"type\":\"LinearAxis\"},{\"attributes\":{\"text\":\"Season 2018-2019 | Average Daily Trailhead Users Per Month\",\"text_font_size\":{\"value\":\"13pt\"}},\"id\":\"1492\",\"type\":\"Title\"},{\"attributes\":{\"items\":[{\"id\":\"1372\",\"type\":\"LegendItem\"},{\"id\":\"1394\",\"type\":\"LegendItem\"},{\"id\":\"1420\",\"type\":\"LegendItem\"},{\"id\":\"1450\",\"type\":\"LegendItem\"},{\"id\":\"1484\",\"type\":\"LegendItem\"}],\"location\":\"top_left\",\"orientation\":\"horizontal\"},\"id\":\"1371\",\"type\":\"Legend\"},{\"attributes\":{\"callback\":null,\"data\":{\"counts\":[47.58620689655172,56.68965517241379,86.17391304347827,73.5806451612903,41.5],\"x\":[\"Dec\",\"Jan\",\"Feb\",\"Mar\",\"Apr\"]},\"selected\":{\"id\":\"1418\",\"type\":\"Selection\"},\"selection_policy\":{\"id\":\"1419\",\"type\":\"UnionRenderers\"}},\"id\":\"1378\",\"type\":\"ColumnDataSource\"},{\"attributes\":{\"callback\":null,\"factors\":[\"Dec\",\"Jan\",\"Feb\",\"Mar\",\"Apr\"],\"range_padding\":0.1},\"id\":\"1335\",\"type\":\"FactorRange\"},{\"attributes\":{},\"id\":\"1367\",\"type\":\"CategoricalTickFormatter\"},{\"attributes\":{\"level\":\"glyph\",\"source\":{\"id\":\"1374\",\"type\":\"ColumnDataSource\"},\"text\":{\"field\":\"n\"},\"text_align\":\"center\",\"text_color\":{\"value\":\"#000000\"},\"text_font_size\":{\"value\":\"7pt\"},\"x\":{\"field\":\"x\",\"transform\":{\"id\":\"1373\",\"type\":\"Dodge\"}},\"y\":{\"field\":\"y\"}},\"id\":\"1375\",\"type\":\"LabelSet\"},{\"attributes\":{\"label\":{\"value\":\"LCC Our Lady\"},\"renderers\":[{\"id\":\"1364\",\"type\":\"GlyphRenderer\"}]},\"id\":\"1372\",\"type\":\"LegendItem\"},{\"attributes\":{\"range\":{\"id\":\"1335\",\"type\":\"FactorRange\"},\"value\":0.18},\"id\":\"1451\",\"type\":\"Dodge\"},{\"attributes\":{\"callback\":null,\"data\":{\"n\":[\"(30)\",\"(29)\",\"(20)\",\"(29)\",\"(29)\"],\"x\":[\"Dec\",\"Jan\",\"Feb\",\"Mar\",\"Apr\"],\"y\":[74.2,75.10344827586206,74.3,81.65517241379311,57.24137931034482]},\"selected\":{\"id\":\"1390\",\"type\":\"Selection\"},\"selection_policy\":{\"id\":\"1391\",\"type\":\"UnionRenderers\"}},\"id\":\"1374\",\"type\":\"ColumnDataSource\"},{\"attributes\":{\"callback\":null,\"data\":{\"counts\":[242.3,250.06451612903226,231.64285714285717,288.54838709677415,175.56666666666663],\"x\":[\"Dec\",\"Jan\",\"Feb\",\"Mar\",\"Apr\"]},\"selected\":{\"id\":\"1448\",\"type\":\"Selection\"},\"selection_policy\":{\"id\":\"1449\",\"type\":\"UnionRenderers\"}},\"id\":\"1400\",\"type\":\"ColumnDataSource\"},{\"attributes\":{},\"id\":\"1544\",\"type\":\"UnionRenderers\"},{\"attributes\":{\"range\":{\"id\":\"1335\",\"type\":\"FactorRange\"},\"value\":0.36},\"id\":\"1455\",\"type\":\"Dodge\"},{\"attributes\":{\"range\":{\"id\":\"1335\",\"type\":\"FactorRange\"},\"value\":-0.18},\"id\":\"1395\",\"type\":\"Dodge\"},{\"attributes\":{\"range\":{\"id\":\"1335\",\"type\":\"FactorRange\"},\"value\":-0.36},\"id\":\"1358\",\"type\":\"Dodge\"},{\"attributes\":{\"range\":{\"id\":\"1335\",\"type\":\"FactorRange\"}},\"id\":\"1421\",\"type\":\"Dodge\"},{\"attributes\":{\"fill_alpha\":{\"value\":0.1},\"fill_color\":{\"value\":\"#1f77b4\"},\"line_alpha\":{\"value\":0.1},\"line_color\":{\"value\":\"#1f77b4\"},\"top\":{\"field\":\"counts\"},\"width\":{\"value\":0.16},\"x\":{\"field\":\"x\",\"transform\":{\"id\":\"1425\",\"type\":\"Dodge\"}}},\"id\":\"1429\",\"type\":\"VBar\"},{\"attributes\":{\"callback\":null,\"data\":{\"n\":[\"(28)\",\"(29)\",\"(27)\",\"(29)\",\"(28)\"],\"x\":[\"Dec\",\"Jan\",\"Feb\",\"Mar\",\"Apr\"],\"y\":[130.82142857142858,135.72413793103448,122.66666666666669,143.41379310344828,77.07142857142857]},\"selected\":{\"id\":\"1533\",\"type\":\"Selection\"},\"selection_policy\":{\"id\":\"1534\",\"type\":\"UnionRenderers\"}},\"id\":\"1486\",\"type\":\"ColumnDataSource\"},{\"attributes\":{\"fill_alpha\":{\"value\":0.9},\"fill_color\":{\"value\":\"#00688B\"},\"line_color\":{\"value\":\"#00688B\"},\"top\":{\"field\":\"counts\"},\"width\":{\"value\":0.16},\"x\":{\"field\":\"x\",\"transform\":{\"id\":\"1425\",\"type\":\"Dodge\"}}},\"id\":\"1428\",\"type\":\"VBar\"},{\"attributes\":{\"range\":{\"id\":\"1335\",\"type\":\"FactorRange\"}},\"id\":\"1399\",\"type\":\"Dodge\"},{\"attributes\":{\"fill_alpha\":{\"value\":0.9},\"fill_color\":{\"value\":\"#0BB5FF\"},\"line_color\":{\"value\":\"#0BB5FF\"},\"top\":{\"field\":\"counts\"},\"width\":{\"value\":0.16},\"x\":{\"field\":\"x\",\"transform\":{\"id\":\"1377\",\"type\":\"Dodge\"}}},\"id\":\"1380\",\"type\":\"VBar\"},{\"attributes\":{\"range\":{\"id\":\"1335\",\"type\":\"FactorRange\"},\"value\":-0.36},\"id\":\"1373\",\"type\":\"Dodge\"},{\"attributes\":{\"data_source\":{\"id\":\"1378\",\"type\":\"ColumnDataSource\"},\"glyph\":{\"id\":\"1380\",\"type\":\"VBar\"},\"hover_glyph\":{\"id\":\"1382\",\"type\":\"VBar\"},\"muted_glyph\":null,\"name\":\"LCC Our Lady East\",\"nonselection_glyph\":{\"id\":\"1381\",\"type\":\"VBar\"},\"selection_glyph\":null,\"view\":{\"id\":\"1384\",\"type\":\"CDSView\"}},\"id\":\"1383\",\"type\":\"GlyphRenderer\"},{\"attributes\":{\"data_source\":{\"id\":\"1400\",\"type\":\"ColumnDataSource\"},\"glyph\":{\"id\":\"1402\",\"type\":\"VBar\"},\"hover_glyph\":{\"id\":\"1404\",\"type\":\"VBar\"},\"muted_glyph\":null,\"name\":\"LCC Summer Road\",\"nonselection_glyph\":{\"id\":\"1403\",\"type\":\"VBar\"},\"selection_glyph\":null,\"view\":{\"id\":\"1406\",\"type\":\"CDSView\"}},\"id\":\"1405\",\"type\":\"GlyphRenderer\"},{\"attributes\":{},\"id\":\"1355\",\"type\":\"SaveTool\"},{\"attributes\":{\"callback\":null,\"data\":{\"counts\":[130.82142857142858,135.72413793103448,122.66666666666669,143.41379310344828,77.07142857142857],\"x\":[\"Dec\",\"Jan\",\"Feb\",\"Mar\",\"Apr\"]},\"selected\":{\"id\":\"1543\",\"type\":\"Selection\"},\"selection_policy\":{\"id\":\"1544\",\"type\":\"UnionRenderers\"}},\"id\":\"1456\",\"type\":\"ColumnDataSource\"},{\"attributes\":{\"data_source\":{\"id\":\"1426\",\"type\":\"ColumnDataSource\"},\"glyph\":{\"id\":\"1428\",\"type\":\"VBar\"},\"hover_glyph\":{\"id\":\"1430\",\"type\":\"VBar\"},\"muted_glyph\":null,\"name\":\"LCC Summer Road 2\",\"nonselection_glyph\":{\"id\":\"1429\",\"type\":\"VBar\"},\"selection_glyph\":null,\"view\":{\"id\":\"1432\",\"type\":\"CDSView\"}},\"id\":\"1431\",\"type\":\"GlyphRenderer\"},{\"attributes\":{\"fill_color\":{\"value\":\"#1f77b4\"},\"line_color\":{\"value\":\"#1f77b4\"},\"top\":{\"field\":\"counts\"},\"width\":{\"value\":0.16},\"x\":{\"field\":\"x\",\"transform\":{\"id\":\"1425\",\"type\":\"Dodge\"}}},\"id\":\"1430\",\"type\":\"VBar\"},{\"attributes\":{\"fill_color\":{\"value\":\"#1f77b4\"},\"line_color\":{\"value\":\"#1f77b4\"},\"top\":{\"field\":\"counts\"},\"width\":{\"value\":0.16},\"x\":{\"field\":\"x\",\"transform\":{\"id\":\"1399\",\"type\":\"Dodge\"}}},\"id\":\"1404\",\"type\":\"VBar\"},{\"attributes\":{\"fill_alpha\":{\"value\":0.1},\"fill_color\":{\"value\":\"#1f77b4\"},\"line_alpha\":{\"value\":0.1},\"line_color\":{\"value\":\"#1f77b4\"},\"top\":{\"field\":\"counts\"},\"width\":{\"value\":0.16},\"x\":{\"field\":\"x\",\"transform\":{\"id\":\"1377\",\"type\":\"Dodge\"}}},\"id\":\"1381\",\"type\":\"VBar\"},{\"attributes\":{\"fill_color\":{\"value\":\"#1f77b4\"},\"line_color\":{\"value\":\"#1f77b4\"},\"top\":{\"field\":\"counts\"},\"width\":{\"value\":0.16},\"x\":{\"field\":\"x\",\"transform\":{\"id\":\"1377\",\"type\":\"Dodge\"}}},\"id\":\"1382\",\"type\":\"VBar\"},{\"attributes\":{\"fill_alpha\":{\"value\":0.1},\"fill_color\":{\"value\":\"#1f77b4\"},\"line_alpha\":{\"value\":0.1},\"line_color\":{\"value\":\"#1f77b4\"},\"top\":{\"field\":\"counts\"},\"width\":{\"value\":0.16},\"x\":{\"field\":\"x\",\"transform\":{\"id\":\"1399\",\"type\":\"Dodge\"}}},\"id\":\"1403\",\"type\":\"VBar\"},{\"attributes\":{\"source\":{\"id\":\"1426\",\"type\":\"ColumnDataSource\"}},\"id\":\"1432\",\"type\":\"CDSView\"},{\"attributes\":{},\"id\":\"1449\",\"type\":\"UnionRenderers\"},{\"attributes\":{},\"id\":\"1442\",\"type\":\"Selection\"},{\"attributes\":{\"callback\":null,\"end\":375.1129032258064},\"id\":\"1493\",\"type\":\"Range1d\"},{\"attributes\":{\"source\":{\"id\":\"1378\",\"type\":\"ColumnDataSource\"}},\"id\":\"1384\",\"type\":\"CDSView\"},{\"attributes\":{\"level\":\"glyph\",\"source\":{\"id\":\"1486\",\"type\":\"ColumnDataSource\"},\"text\":{\"field\":\"n\"},\"text_align\":\"center\",\"text_color\":{\"value\":\"#000000\"},\"text_font_size\":{\"value\":\"7pt\"},\"x\":{\"field\":\"x\",\"transform\":{\"id\":\"1485\",\"type\":\"Dodge\"}},\"y\":{\"field\":\"y\"}},\"id\":\"1487\",\"type\":\"LabelSet\"},{\"attributes\":{\"grid_line_color\":null,\"ticker\":{\"id\":\"1347\",\"type\":\"CategoricalTicker\"}},\"id\":\"1349\",\"type\":\"Grid\"},{\"attributes\":{\"source\":{\"id\":\"1400\",\"type\":\"ColumnDataSource\"}},\"id\":\"1406\",\"type\":\"CDSView\"},{\"attributes\":{},\"id\":\"1443\",\"type\":\"UnionRenderers\"},{\"attributes\":{},\"id\":\"1393\",\"type\":\"UnionRenderers\"},{\"attributes\":{\"label\":{\"value\":\"LCC Summer Road 2\"},\"renderers\":[{\"id\":\"1431\",\"type\":\"GlyphRenderer\"}]},\"id\":\"1450\",\"type\":\"LegendItem\"},{\"attributes\":{},\"id\":\"1390\",\"type\":\"Selection\"},{\"attributes\":{},\"id\":\"1419\",\"type\":\"UnionRenderers\"},{\"attributes\":{\"label\":{\"value\":\"LCC Our Lady East\"},\"renderers\":[{\"id\":\"1383\",\"type\":\"GlyphRenderer\"}]},\"id\":\"1394\",\"type\":\"LegendItem\"},{\"attributes\":{},\"id\":\"1448\",\"type\":\"Selection\"},{\"attributes\":{\"callback\":null,\"data\":{\"n\":[\"(22)\",\"(16)\",\"(19)\",\"(27)\",\"(27)\"],\"x\":[\"Dec\",\"Jan\",\"Feb\",\"Mar\",\"Apr\"],\"y\":[10.909090909090908,8.75,91.31578947368419,116.96296296296295,139.03703703703704]},\"selected\":{\"id\":\"1474\",\"type\":\"Selection\"},\"selection_policy\":{\"id\":\"1475\",\"type\":\"UnionRenderers\"}},\"id\":\"1452\",\"type\":\"ColumnDataSource\"},{\"attributes\":{},\"id\":\"1392\",\"type\":\"Selection\"},{\"attributes\":{\"label\":{\"value\":\"LCC Summer Road\"},\"renderers\":[{\"id\":\"1405\",\"type\":\"GlyphRenderer\"}]},\"id\":\"1420\",\"type\":\"LegendItem\"},{\"attributes\":{},\"id\":\"1391\",\"type\":\"UnionRenderers\"},{\"attributes\":{},\"id\":\"1414\",\"type\":\"Selection\"},{\"attributes\":{},\"id\":\"1415\",\"type\":\"UnionRenderers\"},{\"attributes\":{},\"id\":\"1418\",\"type\":\"Selection\"},{\"attributes\":{},\"id\":\"1342\",\"type\":\"CategoricalScale\"},{\"attributes\":{\"dimension\":1,\"ticker\":{\"id\":\"1351\",\"type\":\"BasicTicker\"}},\"id\":\"1354\",\"type\":\"Grid\"},{\"attributes\":{\"range\":{\"id\":\"1335\",\"type\":\"FactorRange\"},\"value\":0.36},\"id\":\"1485\",\"type\":\"Dodge\"},{\"attributes\":{},\"id\":\"1347\",\"type\":\"CategoricalTicker\"},{\"attributes\":{},\"id\":\"1351\",\"type\":\"BasicTicker\"},{\"attributes\":{\"text\":\"\",\"text_font_size\":{\"value\":\"12pt\"}},\"id\":\"1337\",\"type\":\"Title\"},{\"attributes\":{\"formatter\":{\"id\":\"1367\",\"type\":\"CategoricalTickFormatter\"},\"major_label_orientation\":0,\"major_label_standoff\":10,\"major_label_text_font_size\":{\"value\":\"12pt\"},\"major_label_text_font_style\":\"bold\",\"major_tick_line_color\":{\"value\":null},\"minor_tick_line_color\":{\"value\":null},\"ticker\":{\"id\":\"1347\",\"type\":\"CategoricalTicker\"}},\"id\":\"1346\",\"type\":\"CategoricalAxis\"},{\"attributes\":{},\"id\":\"1344\",\"type\":\"LinearScale\"},{\"attributes\":{},\"id\":\"1533\",\"type\":\"Selection\"},{\"attributes\":{},\"id\":\"1534\",\"type\":\"UnionRenderers\"},{\"attributes\":{\"text\":\"Note: (*) is number of days with sensor data\",\"text_font_size\":{\"value\":\"10pt\"},\"text_font_style\":\"normal\"},\"id\":\"1491\",\"type\":\"Title\"},{\"attributes\":{\"fill_alpha\":{\"value\":0.1},\"fill_color\":{\"value\":\"#1f77b4\"},\"line_alpha\":{\"value\":0.1},\"line_color\":{\"value\":\"#1f77b4\"},\"top\":{\"field\":\"counts\"},\"width\":{\"value\":0.16},\"x\":{\"field\":\"x\",\"transform\":{\"id\":\"1455\",\"type\":\"Dodge\"}}},\"id\":\"1459\",\"type\":\"VBar\"},{\"attributes\":{\"level\":\"glyph\",\"source\":{\"id\":\"1452\",\"type\":\"ColumnDataSource\"},\"text\":{\"field\":\"n\"},\"text_align\":\"center\",\"text_color\":{\"value\":\"#000000\"},\"text_font_size\":{\"value\":\"7pt\"},\"x\":{\"field\":\"x\",\"transform\":{\"id\":\"1451\",\"type\":\"Dodge\"}},\"y\":{\"field\":\"y\"}},\"id\":\"1453\",\"type\":\"LabelSet\"},{\"attributes\":{\"range\":{\"id\":\"1335\",\"type\":\"FactorRange\"},\"value\":-0.18},\"id\":\"1377\",\"type\":\"Dodge\"},{\"attributes\":{\"range\":{\"id\":\"1335\",\"type\":\"FactorRange\"},\"value\":0.18},\"id\":\"1425\",\"type\":\"Dodge\"},{\"attributes\":{\"callback\":null,\"data\":{\"n\":[\"(29)\",\"(29)\",\"(23)\",\"(31)\",\"(30)\"],\"x\":[\"Dec\",\"Jan\",\"Feb\",\"Mar\",\"Apr\"],\"y\":[47.58620689655172,56.68965517241379,86.17391304347827,73.5806451612903,41.5]},\"selected\":{\"id\":\"1414\",\"type\":\"Selection\"},\"selection_policy\":{\"id\":\"1415\",\"type\":\"UnionRenderers\"}},\"id\":\"1396\",\"type\":\"ColumnDataSource\"},{\"attributes\":{\"fill_alpha\":{\"value\":0.9},\"fill_color\":{\"value\":\"#0D4F8B\"},\"line_color\":{\"value\":\"#0D4F8B\"},\"top\":{\"field\":\"counts\"},\"width\":{\"value\":0.16},\"x\":{\"field\":\"x\",\"transform\":{\"id\":\"1455\",\"type\":\"Dodge\"}}},\"id\":\"1458\",\"type\":\"VBar\"},{\"attributes\":{\"callback\":null,\"data\":{\"n\":[\"(30)\",\"(31)\",\"(28)\",\"(31)\",\"(30)\"],\"x\":[\"Dec\",\"Jan\",\"Feb\",\"Mar\",\"Apr\"],\"y\":[242.3,250.06451612903226,231.64285714285717,288.54838709677415,175.56666666666663]},\"selected\":{\"id\":\"1442\",\"type\":\"Selection\"},\"selection_policy\":{\"id\":\"1443\",\"type\":\"UnionRenderers\"}},\"id\":\"1422\",\"type\":\"ColumnDataSource\"}],\"root_ids\":[\"1336\"]},\"title\":\"Bokeh Application\",\"version\":\"1.4.0\"}};\n",
       "  var render_items = [{\"docid\":\"5966e3ed-e120-4f18-8058-0bb95d5ed948\",\"roots\":{\"1336\":\"d199c413-97cc-446c-8a3d-ff182457000e\"}}];\n",
       "  root.Bokeh.embed.embed_items_notebook(docs_json, render_items);\n",
       "\n",
       "  }\n",
       "  if (root.Bokeh !== undefined) {\n",
       "    embed_document(root);\n",
       "  } else {\n",
       "    var attempts = 0;\n",
       "    var timer = setInterval(function(root) {\n",
       "      if (root.Bokeh !== undefined) {\n",
       "        clearInterval(timer);\n",
       "        embed_document(root);\n",
       "      } else {\n",
       "        attempts++;\n",
       "        if (attempts > 100) {\n",
       "          clearInterval(timer);\n",
       "          console.log(\"Bokeh: ERROR: Unable to run BokehJS code because BokehJS library is missing\");\n",
       "        }\n",
       "      }\n",
       "    }, 10, root)\n",
       "  }\n",
       "})(window);"
      ],
      "application/vnd.bokehjs_exec.v0+json": ""
     },
     "metadata": {
      "application/vnd.bokehjs_exec.v0+json": {
       "id": "1336"
      }
     },
     "output_type": "display_data"
    }
   ],
   "source": [
    "season = ['2018-2019']\n",
    "sites = [x for x in adu_df.query(\"season == @season\")['site'].unique() if (\"LCC\" in x and \"Gate\" not in x)]\n",
    "dayOfWeek = 'All'\n",
    "src_df = make_data_set(sites, season, dayOfWeek, adu_df)\n",
    "p = make_plot(src_df)\n",
    "show(p)"
   ]
  },
  {
   "cell_type": "code",
   "execution_count": 14,
   "metadata": {},
   "outputs": [
    {
     "data": {
      "text/html": [
       "\n",
       "\n",
       "\n",
       "\n",
       "\n",
       "\n",
       "  <div class=\"bk-root\" id=\"e7b53e8c-fb0b-463d-b832-031a3531ff49\" data-root-id=\"1696\"></div>\n"
      ]
     },
     "metadata": {},
     "output_type": "display_data"
    },
    {
     "data": {
      "application/javascript": [
       "(function(root) {\n",
       "  function embed_document(root) {\n",
       "    \n",
       "  var docs_json = {\"b92cf1a9-52e6-400a-872b-028fb2a8312d\":{\"roots\":{\"references\":[{\"attributes\":{\"above\":[{\"id\":\"1852\",\"type\":\"Title\"}],\"below\":[{\"id\":\"1706\",\"type\":\"CategoricalAxis\"},{\"id\":\"1851\",\"type\":\"Title\"}],\"center\":[{\"id\":\"1709\",\"type\":\"Grid\"},{\"id\":\"1714\",\"type\":\"Grid\"},{\"id\":\"1731\",\"type\":\"Legend\"},{\"id\":\"1735\",\"type\":\"LabelSet\"},{\"id\":\"1757\",\"type\":\"LabelSet\"},{\"id\":\"1783\",\"type\":\"LabelSet\"},{\"id\":\"1813\",\"type\":\"LabelSet\"},{\"id\":\"1847\",\"type\":\"LabelSet\"}],\"left\":[{\"id\":\"1710\",\"type\":\"LinearAxis\"}],\"plot_height\":400,\"plot_width\":800,\"renderers\":[{\"id\":\"1724\",\"type\":\"GlyphRenderer\"},{\"id\":\"1743\",\"type\":\"GlyphRenderer\"},{\"id\":\"1765\",\"type\":\"GlyphRenderer\"},{\"id\":\"1791\",\"type\":\"GlyphRenderer\"},{\"id\":\"1821\",\"type\":\"GlyphRenderer\"}],\"title\":{\"id\":\"1697\",\"type\":\"Title\"},\"toolbar\":{\"id\":\"1716\",\"type\":\"Toolbar\"},\"x_range\":{\"id\":\"1695\",\"type\":\"FactorRange\"},\"x_scale\":{\"id\":\"1702\",\"type\":\"CategoricalScale\"},\"y_range\":{\"id\":\"1853\",\"type\":\"Range1d\"},\"y_scale\":{\"id\":\"1704\",\"type\":\"LinearScale\"}},\"id\":\"1696\",\"subtype\":\"Figure\",\"type\":\"Plot\"},{\"attributes\":{\"source\":{\"id\":\"1760\",\"type\":\"ColumnDataSource\"}},\"id\":\"1766\",\"type\":\"CDSView\"},{\"attributes\":{\"fill_alpha\":{\"value\":0.9},\"fill_color\":{\"value\":\"#009ACD\"},\"line_color\":{\"value\":\"#009ACD\"},\"top\":{\"field\":\"counts\"},\"width\":{\"value\":0.16},\"x\":{\"field\":\"x\",\"transform\":{\"id\":\"1759\",\"type\":\"Dodge\"}}},\"id\":\"1762\",\"type\":\"VBar\"},{\"attributes\":{\"text\":\"\",\"text_font_size\":{\"value\":\"12pt\"}},\"id\":\"1697\",\"type\":\"Title\"},{\"attributes\":{},\"id\":\"1774\",\"type\":\"Selection\"},{\"attributes\":{\"fill_alpha\":{\"value\":0.1},\"fill_color\":{\"value\":\"#1f77b4\"},\"line_alpha\":{\"value\":0.1},\"line_color\":{\"value\":\"#1f77b4\"},\"top\":{\"field\":\"counts\"},\"width\":{\"value\":0.16},\"x\":{\"field\":\"x\",\"transform\":{\"id\":\"1815\",\"type\":\"Dodge\"}}},\"id\":\"1819\",\"type\":\"VBar\"},{\"attributes\":{},\"id\":\"1750\",\"type\":\"Selection\"},{\"attributes\":{},\"id\":\"1775\",\"type\":\"UnionRenderers\"},{\"attributes\":{\"formatter\":{\"id\":\"1727\",\"type\":\"CategoricalTickFormatter\"},\"major_label_orientation\":0,\"major_label_standoff\":10,\"major_label_text_font_size\":{\"value\":\"12pt\"},\"major_label_text_font_style\":\"bold\",\"major_tick_line_color\":{\"value\":null},\"minor_tick_line_color\":{\"value\":null},\"ticker\":{\"id\":\"1707\",\"type\":\"CategoricalTicker\"}},\"id\":\"1706\",\"type\":\"CategoricalAxis\"},{\"attributes\":{\"source\":{\"id\":\"1816\",\"type\":\"ColumnDataSource\"}},\"id\":\"1822\",\"type\":\"CDSView\"},{\"attributes\":{},\"id\":\"1779\",\"type\":\"UnionRenderers\"},{\"attributes\":{\"text\":\"Note: (*) is number of days with sensor data\",\"text_font_size\":{\"value\":\"10pt\"},\"text_font_style\":\"normal\"},\"id\":\"1851\",\"type\":\"Title\"},{\"attributes\":{\"level\":\"glyph\",\"source\":{\"id\":\"1812\",\"type\":\"ColumnDataSource\"},\"text\":{\"field\":\"n\"},\"text_align\":\"center\",\"text_color\":{\"value\":\"#000000\"},\"text_font_size\":{\"value\":\"7pt\"},\"x\":{\"field\":\"x\",\"transform\":{\"id\":\"1811\",\"type\":\"Dodge\"}},\"y\":{\"field\":\"y\"}},\"id\":\"1813\",\"type\":\"LabelSet\"},{\"attributes\":{\"range\":{\"id\":\"1695\",\"type\":\"FactorRange\"},\"value\":-0.18},\"id\":\"1737\",\"type\":\"Dodge\"},{\"attributes\":{},\"id\":\"1702\",\"type\":\"CategoricalScale\"},{\"attributes\":{\"callback\":null,\"data\":{\"counts\":[275.75,319.75,263.75,242.4,173.5],\"x\":[\"Dec\",\"Jan\",\"Feb\",\"Mar\",\"Apr\"]},\"selected\":{\"id\":\"1928\",\"type\":\"Selection\"},\"selection_policy\":{\"id\":\"1929\",\"type\":\"UnionRenderers\"}},\"id\":\"1816\",\"type\":\"ColumnDataSource\"},{\"attributes\":{},\"id\":\"1919\",\"type\":\"UnionRenderers\"},{\"attributes\":{\"text\":\"Season 2018-2019 | Average Daily Trailhead Users Per Month For Saturdays\",\"text_font_size\":{\"value\":\"13pt\"}},\"id\":\"1852\",\"type\":\"Title\"},{\"attributes\":{\"range\":{\"id\":\"1695\",\"type\":\"FactorRange\"},\"value\":0.18},\"id\":\"1785\",\"type\":\"Dodge\"},{\"attributes\":{\"dimension\":1,\"ticker\":{\"id\":\"1711\",\"type\":\"BasicTicker\"}},\"id\":\"1714\",\"type\":\"Grid\"},{\"attributes\":{\"callback\":null,\"data\":{\"n\":[\"(4)\",\"(4)\",\"(4)\",\"(5)\",\"(4)\"],\"x\":[\"Dec\",\"Jan\",\"Feb\",\"Mar\",\"Apr\"],\"y\":[86.25,95.5,112.75,124.8,74.75]},\"selected\":{\"id\":\"1774\",\"type\":\"Selection\"},\"selection_policy\":{\"id\":\"1775\",\"type\":\"UnionRenderers\"}},\"id\":\"1756\",\"type\":\"ColumnDataSource\"},{\"attributes\":{},\"id\":\"1918\",\"type\":\"Selection\"},{\"attributes\":{\"grid_line_color\":null,\"ticker\":{\"id\":\"1707\",\"type\":\"CategoricalTicker\"}},\"id\":\"1709\",\"type\":\"Grid\"},{\"attributes\":{\"callback\":null,\"data\":{\"n\":[\"(4)\",\"(4)\",\"(4)\",\"(5)\",\"(4)\"],\"x\":[\"Dec\",\"Jan\",\"Feb\",\"Mar\",\"Apr\"],\"y\":[361.0,408.25,363.25,372.2,280.0]},\"selected\":{\"id\":\"1802\",\"type\":\"Selection\"},\"selection_policy\":{\"id\":\"1803\",\"type\":\"UnionRenderers\"}},\"id\":\"1782\",\"type\":\"ColumnDataSource\"},{\"attributes\":{\"data_source\":{\"id\":\"1760\",\"type\":\"ColumnDataSource\"},\"glyph\":{\"id\":\"1762\",\"type\":\"VBar\"},\"hover_glyph\":{\"id\":\"1764\",\"type\":\"VBar\"},\"muted_glyph\":null,\"name\":\"LCC Summer Road\",\"nonselection_glyph\":{\"id\":\"1763\",\"type\":\"VBar\"},\"selection_glyph\":null,\"view\":{\"id\":\"1766\",\"type\":\"CDSView\"}},\"id\":\"1765\",\"type\":\"GlyphRenderer\"},{\"attributes\":{\"fill_alpha\":{\"value\":0.9},\"fill_color\":{\"value\":\"#0EBFE9\"},\"line_color\":{\"value\":\"#0EBFE9\"},\"top\":{\"field\":\"counts\"},\"width\":{\"value\":0.16},\"x\":{\"field\":\"x\",\"transform\":{\"id\":\"1718\",\"type\":\"Dodge\"}}},\"id\":\"1721\",\"type\":\"VBar\"},{\"attributes\":{},\"id\":\"1929\",\"type\":\"UnionRenderers\"},{\"attributes\":{\"active_drag\":\"auto\",\"active_inspect\":\"auto\",\"active_multi\":null,\"active_scroll\":\"auto\",\"active_tap\":\"auto\",\"tools\":[{\"id\":\"1715\",\"type\":\"SaveTool\"},{\"id\":\"1849\",\"type\":\"HoverTool\"}]},\"id\":\"1716\",\"type\":\"Toolbar\"},{\"attributes\":{\"level\":\"glyph\",\"source\":{\"id\":\"1734\",\"type\":\"ColumnDataSource\"},\"text\":{\"field\":\"n\"},\"text_align\":\"center\",\"text_color\":{\"value\":\"#000000\"},\"text_font_size\":{\"value\":\"7pt\"},\"x\":{\"field\":\"x\",\"transform\":{\"id\":\"1733\",\"type\":\"Dodge\"}},\"y\":{\"field\":\"y\"}},\"id\":\"1735\",\"type\":\"LabelSet\"},{\"attributes\":{\"level\":\"glyph\",\"source\":{\"id\":\"1756\",\"type\":\"ColumnDataSource\"},\"text\":{\"field\":\"n\"},\"text_align\":\"center\",\"text_color\":{\"value\":\"#000000\"},\"text_font_size\":{\"value\":\"7pt\"},\"x\":{\"field\":\"x\",\"transform\":{\"id\":\"1755\",\"type\":\"Dodge\"}},\"y\":{\"field\":\"y\"}},\"id\":\"1757\",\"type\":\"LabelSet\"},{\"attributes\":{},\"id\":\"1707\",\"type\":\"CategoricalTicker\"},{\"attributes\":{\"fill_color\":{\"value\":\"#1f77b4\"},\"line_color\":{\"value\":\"#1f77b4\"},\"top\":{\"field\":\"counts\"},\"width\":{\"value\":0.16},\"x\":{\"field\":\"x\",\"transform\":{\"id\":\"1815\",\"type\":\"Dodge\"}}},\"id\":\"1820\",\"type\":\"VBar\"},{\"attributes\":{},\"id\":\"1809\",\"type\":\"UnionRenderers\"},{\"attributes\":{\"range\":{\"id\":\"1695\",\"type\":\"FactorRange\"},\"value\":0.36},\"id\":\"1845\",\"type\":\"Dodge\"},{\"attributes\":{\"callback\":null,\"data\":{\"counts\":[361.0,408.25,363.25,372.2,280.0],\"x\":[\"Dec\",\"Jan\",\"Feb\",\"Mar\",\"Apr\"]},\"selected\":{\"id\":\"1808\",\"type\":\"Selection\"},\"selection_policy\":{\"id\":\"1809\",\"type\":\"UnionRenderers\"}},\"id\":\"1760\",\"type\":\"ColumnDataSource\"},{\"attributes\":{\"callback\":null,\"data\":{\"counts\":[86.25,95.5,112.75,124.8,74.75],\"x\":[\"Dec\",\"Jan\",\"Feb\",\"Mar\",\"Apr\"]},\"selected\":{\"id\":\"1778\",\"type\":\"Selection\"},\"selection_policy\":{\"id\":\"1779\",\"type\":\"UnionRenderers\"}},\"id\":\"1738\",\"type\":\"ColumnDataSource\"},{\"attributes\":{},\"id\":\"1715\",\"type\":\"SaveTool\"},{\"attributes\":{\"label\":{\"value\":\"LCC Summer Road\"},\"renderers\":[{\"id\":\"1765\",\"type\":\"GlyphRenderer\"}]},\"id\":\"1780\",\"type\":\"LegendItem\"},{\"attributes\":{\"data_source\":{\"id\":\"1816\",\"type\":\"ColumnDataSource\"},\"glyph\":{\"id\":\"1818\",\"type\":\"VBar\"},\"hover_glyph\":{\"id\":\"1820\",\"type\":\"VBar\"},\"muted_glyph\":null,\"name\":\"LCC White Pine\",\"nonselection_glyph\":{\"id\":\"1819\",\"type\":\"VBar\"},\"selection_glyph\":null,\"view\":{\"id\":\"1822\",\"type\":\"CDSView\"}},\"id\":\"1821\",\"type\":\"GlyphRenderer\"},{\"attributes\":{\"label\":{\"value\":\"LCC Summer Road 2\"},\"renderers\":[{\"id\":\"1791\",\"type\":\"GlyphRenderer\"}]},\"id\":\"1810\",\"type\":\"LegendItem\"},{\"attributes\":{\"range\":{\"id\":\"1695\",\"type\":\"FactorRange\"}},\"id\":\"1781\",\"type\":\"Dodge\"},{\"attributes\":{\"callback\":null,\"data\":{\"counts\":[88.5,114.0,68.5,122.0,65.25],\"x\":[\"Dec\",\"Jan\",\"Feb\",\"Mar\",\"Apr\"]},\"selected\":{\"id\":\"1752\",\"type\":\"Selection\"},\"selection_policy\":{\"id\":\"1753\",\"type\":\"UnionRenderers\"}},\"id\":\"1719\",\"type\":\"ColumnDataSource\"},{\"attributes\":{},\"id\":\"1778\",\"type\":\"Selection\"},{\"attributes\":{\"fill_alpha\":{\"value\":0.9},\"fill_color\":{\"value\":\"#0D4F8B\"},\"line_color\":{\"value\":\"#0D4F8B\"},\"top\":{\"field\":\"counts\"},\"width\":{\"value\":0.16},\"x\":{\"field\":\"x\",\"transform\":{\"id\":\"1815\",\"type\":\"Dodge\"}}},\"id\":\"1818\",\"type\":\"VBar\"},{\"attributes\":{},\"id\":\"1704\",\"type\":\"LinearScale\"},{\"attributes\":{},\"id\":\"1711\",\"type\":\"BasicTicker\"},{\"attributes\":{\"callback\":null,\"tooltips\":[[\"Site\",\"$name\"],[\"Average Daily Users\",\"@counts{int}\"]]},\"id\":\"1849\",\"type\":\"HoverTool\"},{\"attributes\":{\"callback\":null,\"data\":{\"n\":[\"(4)\",\"(4)\",\"(4)\",\"(5)\",\"(4)\"],\"x\":[\"Dec\",\"Jan\",\"Feb\",\"Mar\",\"Apr\"],\"y\":[88.5,114.0,68.5,122.0,65.25]},\"selected\":{\"id\":\"1750\",\"type\":\"Selection\"},\"selection_policy\":{\"id\":\"1751\",\"type\":\"UnionRenderers\"}},\"id\":\"1734\",\"type\":\"ColumnDataSource\"},{\"attributes\":{\"formatter\":{\"id\":\"1729\",\"type\":\"BasicTickFormatter\"},\"major_label_text_font_size\":{\"value\":\"12pt\"},\"major_label_text_font_style\":\"bold\",\"minor_tick_line_color\":{\"value\":null},\"ticker\":{\"id\":\"1711\",\"type\":\"BasicTicker\"}},\"id\":\"1710\",\"type\":\"LinearAxis\"},{\"attributes\":{\"callback\":null,\"data\":{\"n\":[\"(3)\",\"(2)\",\"(3)\",\"(4)\",\"(4)\"],\"x\":[\"Dec\",\"Jan\",\"Feb\",\"Mar\",\"Apr\"],\"y\":[15.0,12.5,111.66666666666669,137.0,200.5]},\"selected\":{\"id\":\"1834\",\"type\":\"Selection\"},\"selection_policy\":{\"id\":\"1835\",\"type\":\"UnionRenderers\"}},\"id\":\"1812\",\"type\":\"ColumnDataSource\"},{\"attributes\":{\"range\":{\"id\":\"1695\",\"type\":\"FactorRange\"},\"value\":0.18},\"id\":\"1811\",\"type\":\"Dodge\"},{\"attributes\":{},\"id\":\"1751\",\"type\":\"UnionRenderers\"},{\"attributes\":{\"fill_color\":{\"value\":\"#1f77b4\"},\"line_color\":{\"value\":\"#1f77b4\"},\"top\":{\"field\":\"counts\"},\"width\":{\"value\":0.16},\"x\":{\"field\":\"x\",\"transform\":{\"id\":\"1718\",\"type\":\"Dodge\"}}},\"id\":\"1723\",\"type\":\"VBar\"},{\"attributes\":{\"fill_alpha\":{\"value\":0.1},\"fill_color\":{\"value\":\"#1f77b4\"},\"line_alpha\":{\"value\":0.1},\"line_color\":{\"value\":\"#1f77b4\"},\"top\":{\"field\":\"counts\"},\"width\":{\"value\":0.16},\"x\":{\"field\":\"x\",\"transform\":{\"id\":\"1718\",\"type\":\"Dodge\"}}},\"id\":\"1722\",\"type\":\"VBar\"},{\"attributes\":{\"source\":{\"id\":\"1786\",\"type\":\"ColumnDataSource\"}},\"id\":\"1792\",\"type\":\"CDSView\"},{\"attributes\":{\"range\":{\"id\":\"1695\",\"type\":\"FactorRange\"},\"value\":-0.36},\"id\":\"1718\",\"type\":\"Dodge\"},{\"attributes\":{\"fill_color\":{\"value\":\"#1f77b4\"},\"line_color\":{\"value\":\"#1f77b4\"},\"top\":{\"field\":\"counts\"},\"width\":{\"value\":0.16},\"x\":{\"field\":\"x\",\"transform\":{\"id\":\"1759\",\"type\":\"Dodge\"}}},\"id\":\"1764\",\"type\":\"VBar\"},{\"attributes\":{\"fill_alpha\":{\"value\":0.1},\"fill_color\":{\"value\":\"#1f77b4\"},\"line_alpha\":{\"value\":0.1},\"line_color\":{\"value\":\"#1f77b4\"},\"top\":{\"field\":\"counts\"},\"width\":{\"value\":0.16},\"x\":{\"field\":\"x\",\"transform\":{\"id\":\"1737\",\"type\":\"Dodge\"}}},\"id\":\"1741\",\"type\":\"VBar\"},{\"attributes\":{\"callback\":null,\"data\":{\"n\":[\"(4)\",\"(4)\",\"(4)\",\"(5)\",\"(4)\"],\"x\":[\"Dec\",\"Jan\",\"Feb\",\"Mar\",\"Apr\"],\"y\":[275.75,319.75,263.75,242.4,173.5]},\"selected\":{\"id\":\"1918\",\"type\":\"Selection\"},\"selection_policy\":{\"id\":\"1919\",\"type\":\"UnionRenderers\"}},\"id\":\"1846\",\"type\":\"ColumnDataSource\"},{\"attributes\":{\"fill_alpha\":{\"value\":0.9},\"fill_color\":{\"value\":\"#00688B\"},\"line_color\":{\"value\":\"#00688B\"},\"top\":{\"field\":\"counts\"},\"width\":{\"value\":0.16},\"x\":{\"field\":\"x\",\"transform\":{\"id\":\"1785\",\"type\":\"Dodge\"}}},\"id\":\"1788\",\"type\":\"VBar\"},{\"attributes\":{\"fill_alpha\":{\"value\":0.1},\"fill_color\":{\"value\":\"#1f77b4\"},\"line_alpha\":{\"value\":0.1},\"line_color\":{\"value\":\"#1f77b4\"},\"top\":{\"field\":\"counts\"},\"width\":{\"value\":0.16},\"x\":{\"field\":\"x\",\"transform\":{\"id\":\"1785\",\"type\":\"Dodge\"}}},\"id\":\"1789\",\"type\":\"VBar\"},{\"attributes\":{\"data_source\":{\"id\":\"1719\",\"type\":\"ColumnDataSource\"},\"glyph\":{\"id\":\"1721\",\"type\":\"VBar\"},\"hover_glyph\":{\"id\":\"1723\",\"type\":\"VBar\"},\"muted_glyph\":null,\"name\":\"LCC Our Lady\",\"nonselection_glyph\":{\"id\":\"1722\",\"type\":\"VBar\"},\"selection_glyph\":null,\"view\":{\"id\":\"1725\",\"type\":\"CDSView\"}},\"id\":\"1724\",\"type\":\"GlyphRenderer\"},{\"attributes\":{\"data_source\":{\"id\":\"1786\",\"type\":\"ColumnDataSource\"},\"glyph\":{\"id\":\"1788\",\"type\":\"VBar\"},\"hover_glyph\":{\"id\":\"1790\",\"type\":\"VBar\"},\"muted_glyph\":null,\"name\":\"LCC Summer Road 2\",\"nonselection_glyph\":{\"id\":\"1789\",\"type\":\"VBar\"},\"selection_glyph\":null,\"view\":{\"id\":\"1792\",\"type\":\"CDSView\"}},\"id\":\"1791\",\"type\":\"GlyphRenderer\"},{\"attributes\":{\"range\":{\"id\":\"1695\",\"type\":\"FactorRange\"},\"value\":0.36},\"id\":\"1815\",\"type\":\"Dodge\"},{\"attributes\":{\"label\":{\"value\":\"LCC Our Lady\"},\"renderers\":[{\"id\":\"1724\",\"type\":\"GlyphRenderer\"}]},\"id\":\"1732\",\"type\":\"LegendItem\"},{\"attributes\":{\"callback\":null,\"factors\":[\"Dec\",\"Jan\",\"Feb\",\"Mar\",\"Apr\"],\"range_padding\":0.1},\"id\":\"1695\",\"type\":\"FactorRange\"},{\"attributes\":{\"fill_color\":{\"value\":\"#1f77b4\"},\"line_color\":{\"value\":\"#1f77b4\"},\"top\":{\"field\":\"counts\"},\"width\":{\"value\":0.16},\"x\":{\"field\":\"x\",\"transform\":{\"id\":\"1785\",\"type\":\"Dodge\"}}},\"id\":\"1790\",\"type\":\"VBar\"},{\"attributes\":{\"data_source\":{\"id\":\"1738\",\"type\":\"ColumnDataSource\"},\"glyph\":{\"id\":\"1740\",\"type\":\"VBar\"},\"hover_glyph\":{\"id\":\"1742\",\"type\":\"VBar\"},\"muted_glyph\":null,\"name\":\"LCC Our Lady East\",\"nonselection_glyph\":{\"id\":\"1741\",\"type\":\"VBar\"},\"selection_glyph\":null,\"view\":{\"id\":\"1744\",\"type\":\"CDSView\"}},\"id\":\"1743\",\"type\":\"GlyphRenderer\"},{\"attributes\":{\"level\":\"glyph\",\"source\":{\"id\":\"1782\",\"type\":\"ColumnDataSource\"},\"text\":{\"field\":\"n\"},\"text_align\":\"center\",\"text_color\":{\"value\":\"#000000\"},\"text_font_size\":{\"value\":\"7pt\"},\"x\":{\"field\":\"x\",\"transform\":{\"id\":\"1781\",\"type\":\"Dodge\"}},\"y\":{\"field\":\"y\"}},\"id\":\"1783\",\"type\":\"LabelSet\"},{\"attributes\":{},\"id\":\"1802\",\"type\":\"Selection\"},{\"attributes\":{},\"id\":\"1729\",\"type\":\"BasicTickFormatter\"},{\"attributes\":{\"range\":{\"id\":\"1695\",\"type\":\"FactorRange\"}},\"id\":\"1759\",\"type\":\"Dodge\"},{\"attributes\":{\"source\":{\"id\":\"1719\",\"type\":\"ColumnDataSource\"}},\"id\":\"1725\",\"type\":\"CDSView\"},{\"attributes\":{},\"id\":\"1752\",\"type\":\"Selection\"},{\"attributes\":{\"level\":\"glyph\",\"source\":{\"id\":\"1846\",\"type\":\"ColumnDataSource\"},\"text\":{\"field\":\"n\"},\"text_align\":\"center\",\"text_color\":{\"value\":\"#000000\"},\"text_font_size\":{\"value\":\"7pt\"},\"x\":{\"field\":\"x\",\"transform\":{\"id\":\"1845\",\"type\":\"Dodge\"}},\"y\":{\"field\":\"y\"}},\"id\":\"1847\",\"type\":\"LabelSet\"},{\"attributes\":{\"range\":{\"id\":\"1695\",\"type\":\"FactorRange\"},\"value\":-0.18},\"id\":\"1755\",\"type\":\"Dodge\"},{\"attributes\":{\"fill_alpha\":{\"value\":0.9},\"fill_color\":{\"value\":\"#0BB5FF\"},\"line_color\":{\"value\":\"#0BB5FF\"},\"top\":{\"field\":\"counts\"},\"width\":{\"value\":0.16},\"x\":{\"field\":\"x\",\"transform\":{\"id\":\"1737\",\"type\":\"Dodge\"}}},\"id\":\"1740\",\"type\":\"VBar\"},{\"attributes\":{\"fill_color\":{\"value\":\"#1f77b4\"},\"line_color\":{\"value\":\"#1f77b4\"},\"top\":{\"field\":\"counts\"},\"width\":{\"value\":0.16},\"x\":{\"field\":\"x\",\"transform\":{\"id\":\"1737\",\"type\":\"Dodge\"}}},\"id\":\"1742\",\"type\":\"VBar\"},{\"attributes\":{},\"id\":\"1803\",\"type\":\"UnionRenderers\"},{\"attributes\":{\"source\":{\"id\":\"1738\",\"type\":\"ColumnDataSource\"}},\"id\":\"1744\",\"type\":\"CDSView\"},{\"attributes\":{\"label\":{\"value\":\"LCC White Pine\"},\"renderers\":[{\"id\":\"1821\",\"type\":\"GlyphRenderer\"}]},\"id\":\"1844\",\"type\":\"LegendItem\"},{\"attributes\":{\"fill_alpha\":{\"value\":0.1},\"fill_color\":{\"value\":\"#1f77b4\"},\"line_alpha\":{\"value\":0.1},\"line_color\":{\"value\":\"#1f77b4\"},\"top\":{\"field\":\"counts\"},\"width\":{\"value\":0.16},\"x\":{\"field\":\"x\",\"transform\":{\"id\":\"1759\",\"type\":\"Dodge\"}}},\"id\":\"1763\",\"type\":\"VBar\"},{\"attributes\":{},\"id\":\"1928\",\"type\":\"Selection\"},{\"attributes\":{},\"id\":\"1842\",\"type\":\"Selection\"},{\"attributes\":{},\"id\":\"1727\",\"type\":\"CategoricalTickFormatter\"},{\"attributes\":{},\"id\":\"1808\",\"type\":\"Selection\"},{\"attributes\":{},\"id\":\"1843\",\"type\":\"UnionRenderers\"},{\"attributes\":{\"callback\":null,\"end\":530.725},\"id\":\"1853\",\"type\":\"Range1d\"},{\"attributes\":{\"label\":{\"value\":\"LCC Our Lady East\"},\"renderers\":[{\"id\":\"1743\",\"type\":\"GlyphRenderer\"}]},\"id\":\"1754\",\"type\":\"LegendItem\"},{\"attributes\":{},\"id\":\"1753\",\"type\":\"UnionRenderers\"},{\"attributes\":{},\"id\":\"1835\",\"type\":\"UnionRenderers\"},{\"attributes\":{\"callback\":null,\"data\":{\"counts\":[15.0,12.5,111.66666666666669,137.0,200.5],\"x\":[\"Dec\",\"Jan\",\"Feb\",\"Mar\",\"Apr\"]},\"selected\":{\"id\":\"1842\",\"type\":\"Selection\"},\"selection_policy\":{\"id\":\"1843\",\"type\":\"UnionRenderers\"}},\"id\":\"1786\",\"type\":\"ColumnDataSource\"},{\"attributes\":{\"items\":[{\"id\":\"1732\",\"type\":\"LegendItem\"},{\"id\":\"1754\",\"type\":\"LegendItem\"},{\"id\":\"1780\",\"type\":\"LegendItem\"},{\"id\":\"1810\",\"type\":\"LegendItem\"},{\"id\":\"1844\",\"type\":\"LegendItem\"}],\"location\":\"top_left\",\"orientation\":\"horizontal\"},\"id\":\"1731\",\"type\":\"Legend\"},{\"attributes\":{\"range\":{\"id\":\"1695\",\"type\":\"FactorRange\"},\"value\":-0.36},\"id\":\"1733\",\"type\":\"Dodge\"},{\"attributes\":{},\"id\":\"1834\",\"type\":\"Selection\"}],\"root_ids\":[\"1696\"]},\"title\":\"Bokeh Application\",\"version\":\"1.4.0\"}};\n",
       "  var render_items = [{\"docid\":\"b92cf1a9-52e6-400a-872b-028fb2a8312d\",\"roots\":{\"1696\":\"e7b53e8c-fb0b-463d-b832-031a3531ff49\"}}];\n",
       "  root.Bokeh.embed.embed_items_notebook(docs_json, render_items);\n",
       "\n",
       "  }\n",
       "  if (root.Bokeh !== undefined) {\n",
       "    embed_document(root);\n",
       "  } else {\n",
       "    var attempts = 0;\n",
       "    var timer = setInterval(function(root) {\n",
       "      if (root.Bokeh !== undefined) {\n",
       "        clearInterval(timer);\n",
       "        embed_document(root);\n",
       "      } else {\n",
       "        attempts++;\n",
       "        if (attempts > 100) {\n",
       "          clearInterval(timer);\n",
       "          console.log(\"Bokeh: ERROR: Unable to run BokehJS code because BokehJS library is missing\");\n",
       "        }\n",
       "      }\n",
       "    }, 10, root)\n",
       "  }\n",
       "})(window);"
      ],
      "application/vnd.bokehjs_exec.v0+json": ""
     },
     "metadata": {
      "application/vnd.bokehjs_exec.v0+json": {
       "id": "1696"
      }
     },
     "output_type": "display_data"
    }
   ],
   "source": [
    "season = ['2018-2019']\n",
    "sites = [x for x in adu_df.query(\"season == @season\")['site'].unique() if (\"LCC\" in x and \"Gate\" not in x)]\n",
    "dayOfWeek = 'Saturday'\n",
    "src_df = make_data_set(sites, season, dayOfWeek, adu_df)\n",
    "p = make_plot(src_df)\n",
    "show(p)"
   ]
  },
  {
   "cell_type": "markdown",
   "metadata": {},
   "source": [
    "## BCC Plots"
   ]
  },
  {
   "cell_type": "code",
   "execution_count": 15,
   "metadata": {},
   "outputs": [
    {
     "data": {
      "text/html": [
       "\n",
       "\n",
       "\n",
       "\n",
       "\n",
       "\n",
       "  <div class=\"bk-root\" id=\"3534ae9a-b055-4273-bd26-801d7972e15a\" data-root-id=\"2081\"></div>\n"
      ]
     },
     "metadata": {},
     "output_type": "display_data"
    },
    {
     "data": {
      "application/javascript": [
       "(function(root) {\n",
       "  function embed_document(root) {\n",
       "    \n",
       "  var docs_json = {\"52b5f1a0-41e8-4012-a4b6-0e2a77b24cc7\":{\"roots\":{\"references\":[{\"attributes\":{\"above\":[{\"id\":\"2173\",\"type\":\"Title\"}],\"below\":[{\"id\":\"2091\",\"type\":\"CategoricalAxis\"},{\"id\":\"2172\",\"type\":\"Title\"}],\"center\":[{\"id\":\"2094\",\"type\":\"Grid\"},{\"id\":\"2099\",\"type\":\"Grid\"},{\"id\":\"2116\",\"type\":\"Legend\"},{\"id\":\"2120\",\"type\":\"LabelSet\"},{\"id\":\"2142\",\"type\":\"LabelSet\"},{\"id\":\"2168\",\"type\":\"LabelSet\"}],\"left\":[{\"id\":\"2095\",\"type\":\"LinearAxis\"}],\"plot_height\":400,\"plot_width\":800,\"renderers\":[{\"id\":\"2109\",\"type\":\"GlyphRenderer\"},{\"id\":\"2128\",\"type\":\"GlyphRenderer\"},{\"id\":\"2150\",\"type\":\"GlyphRenderer\"}],\"title\":{\"id\":\"2082\",\"type\":\"Title\"},\"toolbar\":{\"id\":\"2101\",\"type\":\"Toolbar\"},\"x_range\":{\"id\":\"2080\",\"type\":\"FactorRange\"},\"x_scale\":{\"id\":\"2087\",\"type\":\"CategoricalScale\"},\"y_range\":{\"id\":\"2174\",\"type\":\"Range1d\"},\"y_scale\":{\"id\":\"2089\",\"type\":\"LinearScale\"}},\"id\":\"2081\",\"subtype\":\"Figure\",\"type\":\"Plot\"},{\"attributes\":{\"active_drag\":\"auto\",\"active_inspect\":\"auto\",\"active_multi\":null,\"active_scroll\":\"auto\",\"active_tap\":\"auto\",\"tools\":[{\"id\":\"2100\",\"type\":\"SaveTool\"},{\"id\":\"2170\",\"type\":\"HoverTool\"}]},\"id\":\"2101\",\"type\":\"Toolbar\"},{\"attributes\":{},\"id\":\"2114\",\"type\":\"BasicTickFormatter\"},{\"attributes\":{},\"id\":\"2160\",\"type\":\"UnionRenderers\"},{\"attributes\":{\"items\":[{\"id\":\"2117\",\"type\":\"LegendItem\"},{\"id\":\"2139\",\"type\":\"LegendItem\"},{\"id\":\"2165\",\"type\":\"LegendItem\"}],\"location\":\"top_left\",\"orientation\":\"horizontal\"},\"id\":\"2116\",\"type\":\"Legend\"},{\"attributes\":{\"label\":{\"value\":\"BCC Mill D\"},\"renderers\":[{\"id\":\"2150\",\"type\":\"GlyphRenderer\"}]},\"id\":\"2165\",\"type\":\"LegendItem\"},{\"attributes\":{},\"id\":\"2138\",\"type\":\"UnionRenderers\"},{\"attributes\":{},\"id\":\"2092\",\"type\":\"CategoricalTicker\"},{\"attributes\":{\"source\":{\"id\":\"2123\",\"type\":\"ColumnDataSource\"}},\"id\":\"2129\",\"type\":\"CDSView\"},{\"attributes\":{\"label\":{\"value\":\"BCC Cardiff\"},\"renderers\":[{\"id\":\"2128\",\"type\":\"GlyphRenderer\"}]},\"id\":\"2139\",\"type\":\"LegendItem\"},{\"attributes\":{\"range\":{\"id\":\"2080\",\"type\":\"FactorRange\"},\"value\":0.30666666666666664},\"id\":\"2166\",\"type\":\"Dodge\"},{\"attributes\":{},\"id\":\"2136\",\"type\":\"UnionRenderers\"},{\"attributes\":{},\"id\":\"2112\",\"type\":\"CategoricalTickFormatter\"},{\"attributes\":{},\"id\":\"2137\",\"type\":\"Selection\"},{\"attributes\":{},\"id\":\"2096\",\"type\":\"BasicTicker\"},{\"attributes\":{\"callback\":null,\"data\":{\"counts\":[38.42857142857143,53.42857142857143,50.32142857142857,34.41935483870968,46.230769230769226],\"x\":[\"Dec\",\"Jan\",\"Feb\",\"Mar\",\"Apr\"]},\"selected\":{\"id\":\"2137\",\"type\":\"Selection\"},\"selection_policy\":{\"id\":\"2138\",\"type\":\"UnionRenderers\"}},\"id\":\"2104\",\"type\":\"ColumnDataSource\"},{\"attributes\":{\"fill_alpha\":{\"value\":0.1},\"fill_color\":{\"value\":\"#1f77b4\"},\"line_alpha\":{\"value\":0.1},\"line_color\":{\"value\":\"#1f77b4\"},\"top\":{\"field\":\"counts\"},\"width\":{\"value\":0.26666666666666666},\"x\":{\"field\":\"x\",\"transform\":{\"id\":\"2103\",\"type\":\"Dodge\"}}},\"id\":\"2107\",\"type\":\"VBar\"},{\"attributes\":{\"fill_color\":{\"value\":\"#1f77b4\"},\"line_color\":{\"value\":\"#1f77b4\"},\"top\":{\"field\":\"counts\"},\"width\":{\"value\":0.26666666666666666},\"x\":{\"field\":\"x\",\"transform\":{\"id\":\"2122\",\"type\":\"Dodge\"}}},\"id\":\"2127\",\"type\":\"VBar\"},{\"attributes\":{\"text\":\"Season 2017-2018 | Average Daily Trailhead Users Per Month\",\"text_font_size\":{\"value\":\"13pt\"}},\"id\":\"2173\",\"type\":\"Title\"},{\"attributes\":{},\"id\":\"2135\",\"type\":\"Selection\"},{\"attributes\":{\"range\":{\"id\":\"2080\",\"type\":\"FactorRange\"}},\"id\":\"2122\",\"type\":\"Dodge\"},{\"attributes\":{},\"id\":\"2089\",\"type\":\"LinearScale\"},{\"attributes\":{\"dimension\":1,\"ticker\":{\"id\":\"2096\",\"type\":\"BasicTicker\"}},\"id\":\"2099\",\"type\":\"Grid\"},{\"attributes\":{\"data_source\":{\"id\":\"2123\",\"type\":\"ColumnDataSource\"},\"glyph\":{\"id\":\"2125\",\"type\":\"VBar\"},\"hover_glyph\":{\"id\":\"2127\",\"type\":\"VBar\"},\"muted_glyph\":null,\"name\":\"BCC Cardiff\",\"nonselection_glyph\":{\"id\":\"2126\",\"type\":\"VBar\"},\"selection_glyph\":null,\"view\":{\"id\":\"2129\",\"type\":\"CDSView\"}},\"id\":\"2128\",\"type\":\"GlyphRenderer\"},{\"attributes\":{\"data_source\":{\"id\":\"2104\",\"type\":\"ColumnDataSource\"},\"glyph\":{\"id\":\"2106\",\"type\":\"VBar\"},\"hover_glyph\":{\"id\":\"2108\",\"type\":\"VBar\"},\"muted_glyph\":null,\"name\":\"BCC Butler\",\"nonselection_glyph\":{\"id\":\"2107\",\"type\":\"VBar\"},\"selection_glyph\":null,\"view\":{\"id\":\"2110\",\"type\":\"CDSView\"}},\"id\":\"2109\",\"type\":\"GlyphRenderer\"},{\"attributes\":{\"callback\":null,\"data\":{\"counts\":[157.24137931034485,216.1,177.0714285714286,213.28571428571428,421.8571428571428],\"x\":[\"Dec\",\"Jan\",\"Feb\",\"Mar\",\"Apr\"]},\"selected\":{\"id\":\"2163\",\"type\":\"Selection\"},\"selection_policy\":{\"id\":\"2164\",\"type\":\"UnionRenderers\"}},\"id\":\"2123\",\"type\":\"ColumnDataSource\"},{\"attributes\":{},\"id\":\"2266\",\"type\":\"Selection\"},{\"attributes\":{},\"id\":\"2164\",\"type\":\"UnionRenderers\"},{\"attributes\":{\"level\":\"glyph\",\"source\":{\"id\":\"2141\",\"type\":\"ColumnDataSource\"},\"text\":{\"field\":\"n\"},\"text_align\":\"center\",\"text_color\":{\"value\":\"#000000\"},\"text_font_size\":{\"value\":\"7pt\"},\"x\":{\"field\":\"x\",\"transform\":{\"id\":\"2140\",\"type\":\"Dodge\"}},\"y\":{\"field\":\"y\"}},\"id\":\"2142\",\"type\":\"LabelSet\"},{\"attributes\":{\"level\":\"glyph\",\"source\":{\"id\":\"2167\",\"type\":\"ColumnDataSource\"},\"text\":{\"field\":\"n\"},\"text_align\":\"center\",\"text_color\":{\"value\":\"#000000\"},\"text_font_size\":{\"value\":\"7pt\"},\"x\":{\"field\":\"x\",\"transform\":{\"id\":\"2166\",\"type\":\"Dodge\"}},\"y\":{\"field\":\"y\"}},\"id\":\"2168\",\"type\":\"LabelSet\"},{\"attributes\":{\"fill_alpha\":{\"value\":0.9},\"fill_color\":{\"value\":\"#009ACD\"},\"line_color\":{\"value\":\"#009ACD\"},\"top\":{\"field\":\"counts\"},\"width\":{\"value\":0.26666666666666666},\"x\":{\"field\":\"x\",\"transform\":{\"id\":\"2144\",\"type\":\"Dodge\"}}},\"id\":\"2147\",\"type\":\"VBar\"},{\"attributes\":{},\"id\":\"2159\",\"type\":\"Selection\"},{\"attributes\":{\"callback\":null,\"factors\":[\"Dec\",\"Jan\",\"Feb\",\"Mar\",\"Apr\"],\"range_padding\":0.1},\"id\":\"2080\",\"type\":\"FactorRange\"},{\"attributes\":{\"data_source\":{\"id\":\"2145\",\"type\":\"ColumnDataSource\"},\"glyph\":{\"id\":\"2147\",\"type\":\"VBar\"},\"hover_glyph\":{\"id\":\"2149\",\"type\":\"VBar\"},\"muted_glyph\":null,\"name\":\"BCC Mill D\",\"nonselection_glyph\":{\"id\":\"2148\",\"type\":\"VBar\"},\"selection_glyph\":null,\"view\":{\"id\":\"2151\",\"type\":\"CDSView\"}},\"id\":\"2150\",\"type\":\"GlyphRenderer\"},{\"attributes\":{\"text\":\"\",\"text_font_size\":{\"value\":\"12pt\"}},\"id\":\"2082\",\"type\":\"Title\"},{\"attributes\":{\"callback\":null,\"tooltips\":[[\"Site\",\"$name\"],[\"Average Daily Users\",\"@counts{int}\"]]},\"id\":\"2170\",\"type\":\"HoverTool\"},{\"attributes\":{\"fill_alpha\":{\"value\":0.1},\"fill_color\":{\"value\":\"#1f77b4\"},\"line_alpha\":{\"value\":0.1},\"line_color\":{\"value\":\"#1f77b4\"},\"top\":{\"field\":\"counts\"},\"width\":{\"value\":0.26666666666666666},\"x\":{\"field\":\"x\",\"transform\":{\"id\":\"2122\",\"type\":\"Dodge\"}}},\"id\":\"2126\",\"type\":\"VBar\"},{\"attributes\":{\"range\":{\"id\":\"2080\",\"type\":\"FactorRange\"}},\"id\":\"2140\",\"type\":\"Dodge\"},{\"attributes\":{\"range\":{\"id\":\"2080\",\"type\":\"FactorRange\"},\"value\":0.30666666666666664},\"id\":\"2144\",\"type\":\"Dodge\"},{\"attributes\":{\"callback\":null,\"data\":{\"counts\":[46.96551724137931,105.35483870967742,105.46428571428572,74.06896551724137,17.541666666666668],\"x\":[\"Dec\",\"Jan\",\"Feb\",\"Mar\",\"Apr\"]},\"selected\":{\"id\":\"2266\",\"type\":\"Selection\"},\"selection_policy\":{\"id\":\"2267\",\"type\":\"UnionRenderers\"}},\"id\":\"2145\",\"type\":\"ColumnDataSource\"},{\"attributes\":{},\"id\":\"2087\",\"type\":\"CategoricalScale\"},{\"attributes\":{\"label\":{\"value\":\"BCC Butler\"},\"renderers\":[{\"id\":\"2109\",\"type\":\"GlyphRenderer\"}]},\"id\":\"2117\",\"type\":\"LegendItem\"},{\"attributes\":{\"range\":{\"id\":\"2080\",\"type\":\"FactorRange\"},\"value\":-0.30666666666666664},\"id\":\"2118\",\"type\":\"Dodge\"},{\"attributes\":{\"source\":{\"id\":\"2104\",\"type\":\"ColumnDataSource\"}},\"id\":\"2110\",\"type\":\"CDSView\"},{\"attributes\":{\"fill_alpha\":{\"value\":0.9},\"fill_color\":{\"value\":\"#0EBFE9\"},\"line_color\":{\"value\":\"#0EBFE9\"},\"top\":{\"field\":\"counts\"},\"width\":{\"value\":0.26666666666666666},\"x\":{\"field\":\"x\",\"transform\":{\"id\":\"2103\",\"type\":\"Dodge\"}}},\"id\":\"2106\",\"type\":\"VBar\"},{\"attributes\":{\"source\":{\"id\":\"2145\",\"type\":\"ColumnDataSource\"}},\"id\":\"2151\",\"type\":\"CDSView\"},{\"attributes\":{},\"id\":\"2163\",\"type\":\"Selection\"},{\"attributes\":{\"grid_line_color\":null,\"ticker\":{\"id\":\"2092\",\"type\":\"CategoricalTicker\"}},\"id\":\"2094\",\"type\":\"Grid\"},{\"attributes\":{},\"id\":\"2100\",\"type\":\"SaveTool\"},{\"attributes\":{\"fill_alpha\":{\"value\":0.9},\"fill_color\":{\"value\":\"#0BB5FF\"},\"line_color\":{\"value\":\"#0BB5FF\"},\"top\":{\"field\":\"counts\"},\"width\":{\"value\":0.26666666666666666},\"x\":{\"field\":\"x\",\"transform\":{\"id\":\"2122\",\"type\":\"Dodge\"}}},\"id\":\"2125\",\"type\":\"VBar\"},{\"attributes\":{\"fill_alpha\":{\"value\":0.1},\"fill_color\":{\"value\":\"#1f77b4\"},\"line_alpha\":{\"value\":0.1},\"line_color\":{\"value\":\"#1f77b4\"},\"top\":{\"field\":\"counts\"},\"width\":{\"value\":0.26666666666666666},\"x\":{\"field\":\"x\",\"transform\":{\"id\":\"2144\",\"type\":\"Dodge\"}}},\"id\":\"2148\",\"type\":\"VBar\"},{\"attributes\":{\"callback\":null,\"data\":{\"n\":[\"(29)\",\"(31)\",\"(28)\",\"(29)\",\"(24)\"],\"x\":[\"Dec\",\"Jan\",\"Feb\",\"Mar\",\"Apr\"],\"y\":[46.96551724137931,105.35483870967742,105.46428571428572,74.06896551724137,17.541666666666668]},\"selected\":{\"id\":\"2260\",\"type\":\"Selection\"},\"selection_policy\":{\"id\":\"2261\",\"type\":\"UnionRenderers\"}},\"id\":\"2167\",\"type\":\"ColumnDataSource\"},{\"attributes\":{\"fill_color\":{\"value\":\"#1f77b4\"},\"line_color\":{\"value\":\"#1f77b4\"},\"top\":{\"field\":\"counts\"},\"width\":{\"value\":0.26666666666666666},\"x\":{\"field\":\"x\",\"transform\":{\"id\":\"2144\",\"type\":\"Dodge\"}}},\"id\":\"2149\",\"type\":\"VBar\"},{\"attributes\":{},\"id\":\"2261\",\"type\":\"UnionRenderers\"},{\"attributes\":{\"fill_color\":{\"value\":\"#1f77b4\"},\"line_color\":{\"value\":\"#1f77b4\"},\"top\":{\"field\":\"counts\"},\"width\":{\"value\":0.26666666666666666},\"x\":{\"field\":\"x\",\"transform\":{\"id\":\"2103\",\"type\":\"Dodge\"}}},\"id\":\"2108\",\"type\":\"VBar\"},{\"attributes\":{\"callback\":null,\"end\":548.4142857142856},\"id\":\"2174\",\"type\":\"Range1d\"},{\"attributes\":{\"formatter\":{\"id\":\"2112\",\"type\":\"CategoricalTickFormatter\"},\"major_label_orientation\":0,\"major_label_standoff\":10,\"major_label_text_font_size\":{\"value\":\"12pt\"},\"major_label_text_font_style\":\"bold\",\"major_tick_line_color\":{\"value\":null},\"minor_tick_line_color\":{\"value\":null},\"ticker\":{\"id\":\"2092\",\"type\":\"CategoricalTicker\"}},\"id\":\"2091\",\"type\":\"CategoricalAxis\"},{\"attributes\":{\"callback\":null,\"data\":{\"n\":[\"(29)\",\"(30)\",\"(28)\",\"(28)\",\"(28)\"],\"x\":[\"Dec\",\"Jan\",\"Feb\",\"Mar\",\"Apr\"],\"y\":[157.24137931034485,216.1,177.0714285714286,213.28571428571428,421.8571428571428]},\"selected\":{\"id\":\"2159\",\"type\":\"Selection\"},\"selection_policy\":{\"id\":\"2160\",\"type\":\"UnionRenderers\"}},\"id\":\"2141\",\"type\":\"ColumnDataSource\"},{\"attributes\":{\"range\":{\"id\":\"2080\",\"type\":\"FactorRange\"},\"value\":-0.30666666666666664},\"id\":\"2103\",\"type\":\"Dodge\"},{\"attributes\":{},\"id\":\"2267\",\"type\":\"UnionRenderers\"},{\"attributes\":{\"text\":\"Note: (*) is number of days with sensor data\",\"text_font_size\":{\"value\":\"10pt\"},\"text_font_style\":\"normal\"},\"id\":\"2172\",\"type\":\"Title\"},{\"attributes\":{\"level\":\"glyph\",\"source\":{\"id\":\"2119\",\"type\":\"ColumnDataSource\"},\"text\":{\"field\":\"n\"},\"text_align\":\"center\",\"text_color\":{\"value\":\"#000000\"},\"text_font_size\":{\"value\":\"7pt\"},\"x\":{\"field\":\"x\",\"transform\":{\"id\":\"2118\",\"type\":\"Dodge\"}},\"y\":{\"field\":\"y\"}},\"id\":\"2120\",\"type\":\"LabelSet\"},{\"attributes\":{},\"id\":\"2260\",\"type\":\"Selection\"},{\"attributes\":{\"callback\":null,\"data\":{\"n\":[\"(14)\",\"(14)\",\"(28)\",\"(31)\",\"(26)\"],\"x\":[\"Dec\",\"Jan\",\"Feb\",\"Mar\",\"Apr\"],\"y\":[38.42857142857143,53.42857142857143,50.32142857142857,34.41935483870968,46.230769230769226]},\"selected\":{\"id\":\"2135\",\"type\":\"Selection\"},\"selection_policy\":{\"id\":\"2136\",\"type\":\"UnionRenderers\"}},\"id\":\"2119\",\"type\":\"ColumnDataSource\"},{\"attributes\":{\"formatter\":{\"id\":\"2114\",\"type\":\"BasicTickFormatter\"},\"major_label_text_font_size\":{\"value\":\"12pt\"},\"major_label_text_font_style\":\"bold\",\"minor_tick_line_color\":{\"value\":null},\"ticker\":{\"id\":\"2096\",\"type\":\"BasicTicker\"}},\"id\":\"2095\",\"type\":\"LinearAxis\"}],\"root_ids\":[\"2081\"]},\"title\":\"Bokeh Application\",\"version\":\"1.4.0\"}};\n",
       "  var render_items = [{\"docid\":\"52b5f1a0-41e8-4012-a4b6-0e2a77b24cc7\",\"roots\":{\"2081\":\"3534ae9a-b055-4273-bd26-801d7972e15a\"}}];\n",
       "  root.Bokeh.embed.embed_items_notebook(docs_json, render_items);\n",
       "\n",
       "  }\n",
       "  if (root.Bokeh !== undefined) {\n",
       "    embed_document(root);\n",
       "  } else {\n",
       "    var attempts = 0;\n",
       "    var timer = setInterval(function(root) {\n",
       "      if (root.Bokeh !== undefined) {\n",
       "        clearInterval(timer);\n",
       "        embed_document(root);\n",
       "      } else {\n",
       "        attempts++;\n",
       "        if (attempts > 100) {\n",
       "          clearInterval(timer);\n",
       "          console.log(\"Bokeh: ERROR: Unable to run BokehJS code because BokehJS library is missing\");\n",
       "        }\n",
       "      }\n",
       "    }, 10, root)\n",
       "  }\n",
       "})(window);"
      ],
      "application/vnd.bokehjs_exec.v0+json": ""
     },
     "metadata": {
      "application/vnd.bokehjs_exec.v0+json": {
       "id": "2081"
      }
     },
     "output_type": "display_data"
    }
   ],
   "source": [
    "season = ['2017-2018']\n",
    "sites = [x for x in adu_df.query(\"season == @season\")['site'].unique() if \"BCC\" in x]\n",
    "dayOfWeek = 'All'\n",
    "src_df = make_data_set(sites, season, dayOfWeek, adu_df)\n",
    "p = make_plot(src_df)\n",
    "show(p)"
   ]
  },
  {
   "cell_type": "code",
   "execution_count": 16,
   "metadata": {},
   "outputs": [
    {
     "data": {
      "text/html": [
       "\n",
       "\n",
       "\n",
       "\n",
       "\n",
       "\n",
       "  <div class=\"bk-root\" id=\"8e6afa70-e581-40ca-97c8-3ce446bcaf30\" data-root-id=\"2371\"></div>\n"
      ]
     },
     "metadata": {},
     "output_type": "display_data"
    },
    {
     "data": {
      "application/javascript": [
       "(function(root) {\n",
       "  function embed_document(root) {\n",
       "    \n",
       "  var docs_json = {\"4b360a17-423c-4c88-b6e2-74a4325c8349\":{\"roots\":{\"references\":[{\"attributes\":{\"above\":[{\"id\":\"2463\",\"type\":\"Title\"}],\"below\":[{\"id\":\"2381\",\"type\":\"CategoricalAxis\"},{\"id\":\"2462\",\"type\":\"Title\"}],\"center\":[{\"id\":\"2384\",\"type\":\"Grid\"},{\"id\":\"2389\",\"type\":\"Grid\"},{\"id\":\"2406\",\"type\":\"Legend\"},{\"id\":\"2410\",\"type\":\"LabelSet\"},{\"id\":\"2432\",\"type\":\"LabelSet\"},{\"id\":\"2458\",\"type\":\"LabelSet\"}],\"left\":[{\"id\":\"2385\",\"type\":\"LinearAxis\"}],\"plot_height\":400,\"plot_width\":800,\"renderers\":[{\"id\":\"2399\",\"type\":\"GlyphRenderer\"},{\"id\":\"2418\",\"type\":\"GlyphRenderer\"},{\"id\":\"2440\",\"type\":\"GlyphRenderer\"}],\"title\":{\"id\":\"2372\",\"type\":\"Title\"},\"toolbar\":{\"id\":\"2391\",\"type\":\"Toolbar\"},\"x_range\":{\"id\":\"2370\",\"type\":\"FactorRange\"},\"x_scale\":{\"id\":\"2377\",\"type\":\"CategoricalScale\"},\"y_range\":{\"id\":\"2464\",\"type\":\"Range1d\"},\"y_scale\":{\"id\":\"2379\",\"type\":\"LinearScale\"}},\"id\":\"2371\",\"subtype\":\"Figure\",\"type\":\"Plot\"},{\"attributes\":{},\"id\":\"2390\",\"type\":\"SaveTool\"},{\"attributes\":{\"source\":{\"id\":\"2435\",\"type\":\"ColumnDataSource\"}},\"id\":\"2441\",\"type\":\"CDSView\"},{\"attributes\":{\"range\":{\"id\":\"2370\",\"type\":\"FactorRange\"},\"value\":0.30666666666666664},\"id\":\"2434\",\"type\":\"Dodge\"},{\"attributes\":{\"grid_line_color\":null,\"ticker\":{\"id\":\"2382\",\"type\":\"CategoricalTicker\"}},\"id\":\"2384\",\"type\":\"Grid\"},{\"attributes\":{},\"id\":\"2386\",\"type\":\"BasicTicker\"},{\"attributes\":{\"callback\":null,\"data\":{\"n\":[\"(4)\",\"(4)\",\"(4)\",\"(4)\",\"(3)\"],\"x\":[\"Dec\",\"Jan\",\"Feb\",\"Mar\",\"Apr\"],\"y\":[64.75,216.25,174.25,81.0,27.0]},\"selected\":{\"id\":\"2567\",\"type\":\"Selection\"},\"selection_policy\":{\"id\":\"2568\",\"type\":\"UnionRenderers\"}},\"id\":\"2457\",\"type\":\"ColumnDataSource\"},{\"attributes\":{},\"id\":\"2568\",\"type\":\"UnionRenderers\"},{\"attributes\":{},\"id\":\"2377\",\"type\":\"CategoricalScale\"},{\"attributes\":{\"formatter\":{\"id\":\"2404\",\"type\":\"BasicTickFormatter\"},\"major_label_text_font_size\":{\"value\":\"12pt\"},\"major_label_text_font_style\":\"bold\",\"minor_tick_line_color\":{\"value\":null},\"ticker\":{\"id\":\"2386\",\"type\":\"BasicTicker\"}},\"id\":\"2385\",\"type\":\"LinearAxis\"},{\"attributes\":{\"level\":\"glyph\",\"source\":{\"id\":\"2457\",\"type\":\"ColumnDataSource\"},\"text\":{\"field\":\"n\"},\"text_align\":\"center\",\"text_color\":{\"value\":\"#000000\"},\"text_font_size\":{\"value\":\"7pt\"},\"x\":{\"field\":\"x\",\"transform\":{\"id\":\"2456\",\"type\":\"Dodge\"}},\"y\":{\"field\":\"y\"}},\"id\":\"2458\",\"type\":\"LabelSet\"},{\"attributes\":{\"fill_alpha\":{\"value\":0.9},\"fill_color\":{\"value\":\"#0BB5FF\"},\"line_color\":{\"value\":\"#0BB5FF\"},\"top\":{\"field\":\"counts\"},\"width\":{\"value\":0.26666666666666666},\"x\":{\"field\":\"x\",\"transform\":{\"id\":\"2412\",\"type\":\"Dodge\"}}},\"id\":\"2415\",\"type\":\"VBar\"},{\"attributes\":{\"fill_color\":{\"value\":\"#1f77b4\"},\"line_color\":{\"value\":\"#1f77b4\"},\"top\":{\"field\":\"counts\"},\"width\":{\"value\":0.26666666666666666},\"x\":{\"field\":\"x\",\"transform\":{\"id\":\"2434\",\"type\":\"Dodge\"}}},\"id\":\"2439\",\"type\":\"VBar\"},{\"attributes\":{},\"id\":\"2428\",\"type\":\"UnionRenderers\"},{\"attributes\":{},\"id\":\"2567\",\"type\":\"Selection\"},{\"attributes\":{},\"id\":\"2454\",\"type\":\"UnionRenderers\"},{\"attributes\":{\"dimension\":1,\"ticker\":{\"id\":\"2386\",\"type\":\"BasicTicker\"}},\"id\":\"2389\",\"type\":\"Grid\"},{\"attributes\":{\"fill_alpha\":{\"value\":0.1},\"fill_color\":{\"value\":\"#1f77b4\"},\"line_alpha\":{\"value\":0.1},\"line_color\":{\"value\":\"#1f77b4\"},\"top\":{\"field\":\"counts\"},\"width\":{\"value\":0.26666666666666666},\"x\":{\"field\":\"x\",\"transform\":{\"id\":\"2412\",\"type\":\"Dodge\"}}},\"id\":\"2416\",\"type\":\"VBar\"},{\"attributes\":{},\"id\":\"2449\",\"type\":\"Selection\"},{\"attributes\":{\"level\":\"glyph\",\"source\":{\"id\":\"2409\",\"type\":\"ColumnDataSource\"},\"text\":{\"field\":\"n\"},\"text_align\":\"center\",\"text_color\":{\"value\":\"#000000\"},\"text_font_size\":{\"value\":\"7pt\"},\"x\":{\"field\":\"x\",\"transform\":{\"id\":\"2408\",\"type\":\"Dodge\"}},\"y\":{\"field\":\"y\"}},\"id\":\"2410\",\"type\":\"LabelSet\"},{\"attributes\":{\"callback\":null,\"data\":{\"n\":[\"(4)\",\"(4)\",\"(4)\",\"(5)\",\"(4)\"],\"x\":[\"Dec\",\"Jan\",\"Feb\",\"Mar\",\"Apr\"],\"y\":[179.0,380.0,477.75,434.2,1003.5]},\"selected\":{\"id\":\"2449\",\"type\":\"Selection\"},\"selection_policy\":{\"id\":\"2450\",\"type\":\"UnionRenderers\"}},\"id\":\"2431\",\"type\":\"ColumnDataSource\"},{\"attributes\":{},\"id\":\"2426\",\"type\":\"UnionRenderers\"},{\"attributes\":{\"callback\":null,\"data\":{\"counts\":[64.75,216.25,174.25,81.0,27.0],\"x\":[\"Dec\",\"Jan\",\"Feb\",\"Mar\",\"Apr\"]},\"selected\":{\"id\":\"2573\",\"type\":\"Selection\"},\"selection_policy\":{\"id\":\"2574\",\"type\":\"UnionRenderers\"}},\"id\":\"2435\",\"type\":\"ColumnDataSource\"},{\"attributes\":{\"source\":{\"id\":\"2394\",\"type\":\"ColumnDataSource\"}},\"id\":\"2400\",\"type\":\"CDSView\"},{\"attributes\":{\"fill_color\":{\"value\":\"#1f77b4\"},\"line_color\":{\"value\":\"#1f77b4\"},\"top\":{\"field\":\"counts\"},\"width\":{\"value\":0.26666666666666666},\"x\":{\"field\":\"x\",\"transform\":{\"id\":\"2412\",\"type\":\"Dodge\"}}},\"id\":\"2417\",\"type\":\"VBar\"},{\"attributes\":{\"active_drag\":\"auto\",\"active_inspect\":\"auto\",\"active_multi\":null,\"active_scroll\":\"auto\",\"active_tap\":\"auto\",\"tools\":[{\"id\":\"2390\",\"type\":\"SaveTool\"},{\"id\":\"2460\",\"type\":\"HoverTool\"}]},\"id\":\"2391\",\"type\":\"Toolbar\"},{\"attributes\":{\"text\":\"Season 2017-2018 | Average Daily Trailhead Users Per Month For Saturdays\",\"text_font_size\":{\"value\":\"13pt\"}},\"id\":\"2463\",\"type\":\"Title\"},{\"attributes\":{\"text\":\"\",\"text_font_size\":{\"value\":\"12pt\"}},\"id\":\"2372\",\"type\":\"Title\"},{\"attributes\":{\"label\":{\"value\":\"BCC Cardiff\"},\"renderers\":[{\"id\":\"2418\",\"type\":\"GlyphRenderer\"}]},\"id\":\"2429\",\"type\":\"LegendItem\"},{\"attributes\":{\"callback\":null,\"factors\":[\"Dec\",\"Jan\",\"Feb\",\"Mar\",\"Apr\"],\"range_padding\":0.1},\"id\":\"2370\",\"type\":\"FactorRange\"},{\"attributes\":{\"source\":{\"id\":\"2413\",\"type\":\"ColumnDataSource\"}},\"id\":\"2419\",\"type\":\"CDSView\"},{\"attributes\":{\"label\":{\"value\":\"BCC Mill D\"},\"renderers\":[{\"id\":\"2440\",\"type\":\"GlyphRenderer\"}]},\"id\":\"2455\",\"type\":\"LegendItem\"},{\"attributes\":{\"callback\":null,\"data\":{\"counts\":[54.0,109.5,118.0,45.0,91.25],\"x\":[\"Dec\",\"Jan\",\"Feb\",\"Mar\",\"Apr\"]},\"selected\":{\"id\":\"2427\",\"type\":\"Selection\"},\"selection_policy\":{\"id\":\"2428\",\"type\":\"UnionRenderers\"}},\"id\":\"2394\",\"type\":\"ColumnDataSource\"},{\"attributes\":{\"level\":\"glyph\",\"source\":{\"id\":\"2431\",\"type\":\"ColumnDataSource\"},\"text\":{\"field\":\"n\"},\"text_align\":\"center\",\"text_color\":{\"value\":\"#000000\"},\"text_font_size\":{\"value\":\"7pt\"},\"x\":{\"field\":\"x\",\"transform\":{\"id\":\"2430\",\"type\":\"Dodge\"}},\"y\":{\"field\":\"y\"}},\"id\":\"2432\",\"type\":\"LabelSet\"},{\"attributes\":{\"fill_alpha\":{\"value\":0.1},\"fill_color\":{\"value\":\"#1f77b4\"},\"line_alpha\":{\"value\":0.1},\"line_color\":{\"value\":\"#1f77b4\"},\"top\":{\"field\":\"counts\"},\"width\":{\"value\":0.26666666666666666},\"x\":{\"field\":\"x\",\"transform\":{\"id\":\"2393\",\"type\":\"Dodge\"}}},\"id\":\"2397\",\"type\":\"VBar\"},{\"attributes\":{\"callback\":null,\"data\":{\"counts\":[179.0,380.0,477.75,434.2,1003.5],\"x\":[\"Dec\",\"Jan\",\"Feb\",\"Mar\",\"Apr\"]},\"selected\":{\"id\":\"2453\",\"type\":\"Selection\"},\"selection_policy\":{\"id\":\"2454\",\"type\":\"UnionRenderers\"}},\"id\":\"2413\",\"type\":\"ColumnDataSource\"},{\"attributes\":{\"data_source\":{\"id\":\"2435\",\"type\":\"ColumnDataSource\"},\"glyph\":{\"id\":\"2437\",\"type\":\"VBar\"},\"hover_glyph\":{\"id\":\"2439\",\"type\":\"VBar\"},\"muted_glyph\":null,\"name\":\"BCC Mill D\",\"nonselection_glyph\":{\"id\":\"2438\",\"type\":\"VBar\"},\"selection_glyph\":null,\"view\":{\"id\":\"2441\",\"type\":\"CDSView\"}},\"id\":\"2440\",\"type\":\"GlyphRenderer\"},{\"attributes\":{\"data_source\":{\"id\":\"2394\",\"type\":\"ColumnDataSource\"},\"glyph\":{\"id\":\"2396\",\"type\":\"VBar\"},\"hover_glyph\":{\"id\":\"2398\",\"type\":\"VBar\"},\"muted_glyph\":null,\"name\":\"BCC Butler\",\"nonselection_glyph\":{\"id\":\"2397\",\"type\":\"VBar\"},\"selection_glyph\":null,\"view\":{\"id\":\"2400\",\"type\":\"CDSView\"}},\"id\":\"2399\",\"type\":\"GlyphRenderer\"},{\"attributes\":{},\"id\":\"2574\",\"type\":\"UnionRenderers\"},{\"attributes\":{\"items\":[{\"id\":\"2407\",\"type\":\"LegendItem\"},{\"id\":\"2429\",\"type\":\"LegendItem\"},{\"id\":\"2455\",\"type\":\"LegendItem\"}],\"location\":\"top_left\",\"orientation\":\"horizontal\"},\"id\":\"2406\",\"type\":\"Legend\"},{\"attributes\":{\"callback\":null,\"tooltips\":[[\"Site\",\"$name\"],[\"Average Daily Users\",\"@counts{int}\"]]},\"id\":\"2460\",\"type\":\"HoverTool\"},{\"attributes\":{\"fill_alpha\":{\"value\":0.1},\"fill_color\":{\"value\":\"#1f77b4\"},\"line_alpha\":{\"value\":0.1},\"line_color\":{\"value\":\"#1f77b4\"},\"top\":{\"field\":\"counts\"},\"width\":{\"value\":0.26666666666666666},\"x\":{\"field\":\"x\",\"transform\":{\"id\":\"2434\",\"type\":\"Dodge\"}}},\"id\":\"2438\",\"type\":\"VBar\"},{\"attributes\":{\"formatter\":{\"id\":\"2402\",\"type\":\"CategoricalTickFormatter\"},\"major_label_orientation\":0,\"major_label_standoff\":10,\"major_label_text_font_size\":{\"value\":\"12pt\"},\"major_label_text_font_style\":\"bold\",\"major_tick_line_color\":{\"value\":null},\"minor_tick_line_color\":{\"value\":null},\"ticker\":{\"id\":\"2382\",\"type\":\"CategoricalTicker\"}},\"id\":\"2381\",\"type\":\"CategoricalAxis\"},{\"attributes\":{\"fill_alpha\":{\"value\":0.9},\"fill_color\":{\"value\":\"#0EBFE9\"},\"line_color\":{\"value\":\"#0EBFE9\"},\"top\":{\"field\":\"counts\"},\"width\":{\"value\":0.26666666666666666},\"x\":{\"field\":\"x\",\"transform\":{\"id\":\"2393\",\"type\":\"Dodge\"}}},\"id\":\"2396\",\"type\":\"VBar\"},{\"attributes\":{\"data_source\":{\"id\":\"2413\",\"type\":\"ColumnDataSource\"},\"glyph\":{\"id\":\"2415\",\"type\":\"VBar\"},\"hover_glyph\":{\"id\":\"2417\",\"type\":\"VBar\"},\"muted_glyph\":null,\"name\":\"BCC Cardiff\",\"nonselection_glyph\":{\"id\":\"2416\",\"type\":\"VBar\"},\"selection_glyph\":null,\"view\":{\"id\":\"2419\",\"type\":\"CDSView\"}},\"id\":\"2418\",\"type\":\"GlyphRenderer\"},{\"attributes\":{},\"id\":\"2379\",\"type\":\"LinearScale\"},{\"attributes\":{\"fill_color\":{\"value\":\"#1f77b4\"},\"line_color\":{\"value\":\"#1f77b4\"},\"top\":{\"field\":\"counts\"},\"width\":{\"value\":0.26666666666666666},\"x\":{\"field\":\"x\",\"transform\":{\"id\":\"2393\",\"type\":\"Dodge\"}}},\"id\":\"2398\",\"type\":\"VBar\"},{\"attributes\":{},\"id\":\"2427\",\"type\":\"Selection\"},{\"attributes\":{\"range\":{\"id\":\"2370\",\"type\":\"FactorRange\"}},\"id\":\"2412\",\"type\":\"Dodge\"},{\"attributes\":{},\"id\":\"2402\",\"type\":\"CategoricalTickFormatter\"},{\"attributes\":{\"callback\":null,\"end\":1304.55},\"id\":\"2464\",\"type\":\"Range1d\"},{\"attributes\":{\"label\":{\"value\":\"BCC Butler\"},\"renderers\":[{\"id\":\"2399\",\"type\":\"GlyphRenderer\"}]},\"id\":\"2407\",\"type\":\"LegendItem\"},{\"attributes\":{\"range\":{\"id\":\"2370\",\"type\":\"FactorRange\"},\"value\":0.30666666666666664},\"id\":\"2456\",\"type\":\"Dodge\"},{\"attributes\":{},\"id\":\"2573\",\"type\":\"Selection\"},{\"attributes\":{\"text\":\"Note: (*) is number of days with sensor data\",\"text_font_size\":{\"value\":\"10pt\"},\"text_font_style\":\"normal\"},\"id\":\"2462\",\"type\":\"Title\"},{\"attributes\":{},\"id\":\"2404\",\"type\":\"BasicTickFormatter\"},{\"attributes\":{\"range\":{\"id\":\"2370\",\"type\":\"FactorRange\"},\"value\":-0.30666666666666664},\"id\":\"2408\",\"type\":\"Dodge\"},{\"attributes\":{},\"id\":\"2453\",\"type\":\"Selection\"},{\"attributes\":{\"callback\":null,\"data\":{\"n\":[\"(2)\",\"(2)\",\"(4)\",\"(5)\",\"(4)\"],\"x\":[\"Dec\",\"Jan\",\"Feb\",\"Mar\",\"Apr\"],\"y\":[54.0,109.5,118.0,45.0,91.25]},\"selected\":{\"id\":\"2425\",\"type\":\"Selection\"},\"selection_policy\":{\"id\":\"2426\",\"type\":\"UnionRenderers\"}},\"id\":\"2409\",\"type\":\"ColumnDataSource\"},{\"attributes\":{},\"id\":\"2425\",\"type\":\"Selection\"},{\"attributes\":{\"range\":{\"id\":\"2370\",\"type\":\"FactorRange\"},\"value\":-0.30666666666666664},\"id\":\"2393\",\"type\":\"Dodge\"},{\"attributes\":{\"range\":{\"id\":\"2370\",\"type\":\"FactorRange\"}},\"id\":\"2430\",\"type\":\"Dodge\"},{\"attributes\":{\"fill_alpha\":{\"value\":0.9},\"fill_color\":{\"value\":\"#009ACD\"},\"line_color\":{\"value\":\"#009ACD\"},\"top\":{\"field\":\"counts\"},\"width\":{\"value\":0.26666666666666666},\"x\":{\"field\":\"x\",\"transform\":{\"id\":\"2434\",\"type\":\"Dodge\"}}},\"id\":\"2437\",\"type\":\"VBar\"},{\"attributes\":{},\"id\":\"2450\",\"type\":\"UnionRenderers\"},{\"attributes\":{},\"id\":\"2382\",\"type\":\"CategoricalTicker\"}],\"root_ids\":[\"2371\"]},\"title\":\"Bokeh Application\",\"version\":\"1.4.0\"}};\n",
       "  var render_items = [{\"docid\":\"4b360a17-423c-4c88-b6e2-74a4325c8349\",\"roots\":{\"2371\":\"8e6afa70-e581-40ca-97c8-3ce446bcaf30\"}}];\n",
       "  root.Bokeh.embed.embed_items_notebook(docs_json, render_items);\n",
       "\n",
       "  }\n",
       "  if (root.Bokeh !== undefined) {\n",
       "    embed_document(root);\n",
       "  } else {\n",
       "    var attempts = 0;\n",
       "    var timer = setInterval(function(root) {\n",
       "      if (root.Bokeh !== undefined) {\n",
       "        clearInterval(timer);\n",
       "        embed_document(root);\n",
       "      } else {\n",
       "        attempts++;\n",
       "        if (attempts > 100) {\n",
       "          clearInterval(timer);\n",
       "          console.log(\"Bokeh: ERROR: Unable to run BokehJS code because BokehJS library is missing\");\n",
       "        }\n",
       "      }\n",
       "    }, 10, root)\n",
       "  }\n",
       "})(window);"
      ],
      "application/vnd.bokehjs_exec.v0+json": ""
     },
     "metadata": {
      "application/vnd.bokehjs_exec.v0+json": {
       "id": "2371"
      }
     },
     "output_type": "display_data"
    }
   ],
   "source": [
    "season = ['2017-2018']\n",
    "sites = [x for x in adu_df.query(\"season == @season\")['site'].unique() if \"BCC\" in x]\n",
    "dayOfWeek = 'Saturday'\n",
    "src_df = make_data_set(sites, season, dayOfWeek, adu_df)\n",
    "p = make_plot(src_df)\n",
    "show(p)"
   ]
  },
  {
   "cell_type": "code",
   "execution_count": 17,
   "metadata": {},
   "outputs": [
    {
     "data": {
      "text/html": [
       "\n",
       "\n",
       "\n",
       "\n",
       "\n",
       "\n",
       "  <div class=\"bk-root\" id=\"060d5e5a-1ce0-4fb1-bc89-fd06f862feeb\" data-root-id=\"2678\"></div>\n"
      ]
     },
     "metadata": {},
     "output_type": "display_data"
    },
    {
     "data": {
      "application/javascript": [
       "(function(root) {\n",
       "  function embed_document(root) {\n",
       "    \n",
       "  var docs_json = {\"5c6e7092-5b68-4be5-9a8d-bc1c4147b8ec\":{\"roots\":{\"references\":[{\"attributes\":{\"above\":[{\"id\":\"2770\",\"type\":\"Title\"}],\"below\":[{\"id\":\"2688\",\"type\":\"CategoricalAxis\"},{\"id\":\"2769\",\"type\":\"Title\"}],\"center\":[{\"id\":\"2691\",\"type\":\"Grid\"},{\"id\":\"2696\",\"type\":\"Grid\"},{\"id\":\"2713\",\"type\":\"Legend\"},{\"id\":\"2717\",\"type\":\"LabelSet\"},{\"id\":\"2739\",\"type\":\"LabelSet\"},{\"id\":\"2765\",\"type\":\"LabelSet\"}],\"left\":[{\"id\":\"2692\",\"type\":\"LinearAxis\"}],\"plot_height\":400,\"plot_width\":800,\"renderers\":[{\"id\":\"2706\",\"type\":\"GlyphRenderer\"},{\"id\":\"2725\",\"type\":\"GlyphRenderer\"},{\"id\":\"2747\",\"type\":\"GlyphRenderer\"}],\"title\":{\"id\":\"2679\",\"type\":\"Title\"},\"toolbar\":{\"id\":\"2698\",\"type\":\"Toolbar\"},\"x_range\":{\"id\":\"2677\",\"type\":\"FactorRange\"},\"x_scale\":{\"id\":\"2684\",\"type\":\"CategoricalScale\"},\"y_range\":{\"id\":\"2771\",\"type\":\"Range1d\"},\"y_scale\":{\"id\":\"2686\",\"type\":\"LinearScale\"}},\"id\":\"2678\",\"subtype\":\"Figure\",\"type\":\"Plot\"},{\"attributes\":{\"formatter\":{\"id\":\"2709\",\"type\":\"CategoricalTickFormatter\"},\"major_label_orientation\":0,\"major_label_standoff\":10,\"major_label_text_font_size\":{\"value\":\"12pt\"},\"major_label_text_font_style\":\"bold\",\"major_tick_line_color\":{\"value\":null},\"minor_tick_line_color\":{\"value\":null},\"ticker\":{\"id\":\"2689\",\"type\":\"CategoricalTicker\"}},\"id\":\"2688\",\"type\":\"CategoricalAxis\"},{\"attributes\":{\"data_source\":{\"id\":\"2720\",\"type\":\"ColumnDataSource\"},\"glyph\":{\"id\":\"2722\",\"type\":\"VBar\"},\"hover_glyph\":{\"id\":\"2724\",\"type\":\"VBar\"},\"muted_glyph\":null,\"name\":\"BCC Cardiff\",\"nonselection_glyph\":{\"id\":\"2723\",\"type\":\"VBar\"},\"selection_glyph\":null,\"view\":{\"id\":\"2726\",\"type\":\"CDSView\"}},\"id\":\"2725\",\"type\":\"GlyphRenderer\"},{\"attributes\":{},\"id\":\"2697\",\"type\":\"SaveTool\"},{\"attributes\":{\"callback\":null,\"data\":{\"n\":[\"(30)\",\"(30)\",\"(28)\",\"(31)\",\"(27)\"],\"x\":[\"Dec\",\"Jan\",\"Feb\",\"Mar\",\"Apr\"],\"y\":[123.36666666666666,129.63333333333333,118.71428571428572,60.29032258064516,23.407407407407412]},\"selected\":{\"id\":\"2891\",\"type\":\"Selection\"},\"selection_policy\":{\"id\":\"2892\",\"type\":\"UnionRenderers\"}},\"id\":\"2764\",\"type\":\"ColumnDataSource\"},{\"attributes\":{\"level\":\"glyph\",\"source\":{\"id\":\"2764\",\"type\":\"ColumnDataSource\"},\"text\":{\"field\":\"n\"},\"text_align\":\"center\",\"text_color\":{\"value\":\"#000000\"},\"text_font_size\":{\"value\":\"7pt\"},\"x\":{\"field\":\"x\",\"transform\":{\"id\":\"2763\",\"type\":\"Dodge\"}},\"y\":{\"field\":\"y\"}},\"id\":\"2765\",\"type\":\"LabelSet\"},{\"attributes\":{\"callback\":null,\"data\":{\"n\":[\"(29)\",\"(31)\",\"(28)\",\"(28)\",\"(28)\"],\"x\":[\"Dec\",\"Jan\",\"Feb\",\"Mar\",\"Apr\"],\"y\":[121.41379310344827,186.29032258064515,200.4642857142857,192.39285714285717,63.14285714285714]},\"selected\":{\"id\":\"2756\",\"type\":\"Selection\"},\"selection_policy\":{\"id\":\"2757\",\"type\":\"UnionRenderers\"}},\"id\":\"2738\",\"type\":\"ColumnDataSource\"},{\"attributes\":{\"callback\":null,\"data\":{\"counts\":[121.41379310344827,186.29032258064515,200.4642857142857,192.39285714285717,63.14285714285714],\"x\":[\"Dec\",\"Jan\",\"Feb\",\"Mar\",\"Apr\"]},\"selected\":{\"id\":\"2760\",\"type\":\"Selection\"},\"selection_policy\":{\"id\":\"2761\",\"type\":\"UnionRenderers\"}},\"id\":\"2720\",\"type\":\"ColumnDataSource\"},{\"attributes\":{\"fill_alpha\":{\"value\":0.9},\"fill_color\":{\"value\":\"#009ACD\"},\"line_color\":{\"value\":\"#009ACD\"},\"top\":{\"field\":\"counts\"},\"width\":{\"value\":0.26666666666666666},\"x\":{\"field\":\"x\",\"transform\":{\"id\":\"2741\",\"type\":\"Dodge\"}}},\"id\":\"2744\",\"type\":\"VBar\"},{\"attributes\":{\"callback\":null,\"factors\":[\"Dec\",\"Jan\",\"Feb\",\"Mar\",\"Apr\"],\"range_padding\":0.1},\"id\":\"2677\",\"type\":\"FactorRange\"},{\"attributes\":{\"fill_color\":{\"value\":\"#1f77b4\"},\"line_color\":{\"value\":\"#1f77b4\"},\"top\":{\"field\":\"counts\"},\"width\":{\"value\":0.26666666666666666},\"x\":{\"field\":\"x\",\"transform\":{\"id\":\"2700\",\"type\":\"Dodge\"}}},\"id\":\"2705\",\"type\":\"VBar\"},{\"attributes\":{\"fill_alpha\":{\"value\":0.1},\"fill_color\":{\"value\":\"#1f77b4\"},\"line_alpha\":{\"value\":0.1},\"line_color\":{\"value\":\"#1f77b4\"},\"top\":{\"field\":\"counts\"},\"width\":{\"value\":0.26666666666666666},\"x\":{\"field\":\"x\",\"transform\":{\"id\":\"2719\",\"type\":\"Dodge\"}}},\"id\":\"2723\",\"type\":\"VBar\"},{\"attributes\":{\"level\":\"glyph\",\"source\":{\"id\":\"2716\",\"type\":\"ColumnDataSource\"},\"text\":{\"field\":\"n\"},\"text_align\":\"center\",\"text_color\":{\"value\":\"#000000\"},\"text_font_size\":{\"value\":\"7pt\"},\"x\":{\"field\":\"x\",\"transform\":{\"id\":\"2715\",\"type\":\"Dodge\"}},\"y\":{\"field\":\"y\"}},\"id\":\"2717\",\"type\":\"LabelSet\"},{\"attributes\":{\"data_source\":{\"id\":\"2701\",\"type\":\"ColumnDataSource\"},\"glyph\":{\"id\":\"2703\",\"type\":\"VBar\"},\"hover_glyph\":{\"id\":\"2705\",\"type\":\"VBar\"},\"muted_glyph\":null,\"name\":\"BCC Butler\",\"nonselection_glyph\":{\"id\":\"2704\",\"type\":\"VBar\"},\"selection_glyph\":null,\"view\":{\"id\":\"2707\",\"type\":\"CDSView\"}},\"id\":\"2706\",\"type\":\"GlyphRenderer\"},{\"attributes\":{\"range\":{\"id\":\"2677\",\"type\":\"FactorRange\"},\"value\":-0.30666666666666664},\"id\":\"2715\",\"type\":\"Dodge\"},{\"attributes\":{\"fill_alpha\":{\"value\":0.1},\"fill_color\":{\"value\":\"#1f77b4\"},\"line_alpha\":{\"value\":0.1},\"line_color\":{\"value\":\"#1f77b4\"},\"top\":{\"field\":\"counts\"},\"width\":{\"value\":0.26666666666666666},\"x\":{\"field\":\"x\",\"transform\":{\"id\":\"2700\",\"type\":\"Dodge\"}}},\"id\":\"2704\",\"type\":\"VBar\"},{\"attributes\":{},\"id\":\"2686\",\"type\":\"LinearScale\"},{\"attributes\":{\"active_drag\":\"auto\",\"active_inspect\":\"auto\",\"active_multi\":null,\"active_scroll\":\"auto\",\"active_tap\":\"auto\",\"tools\":[{\"id\":\"2697\",\"type\":\"SaveTool\"},{\"id\":\"2767\",\"type\":\"HoverTool\"}]},\"id\":\"2698\",\"type\":\"Toolbar\"},{\"attributes\":{\"source\":{\"id\":\"2720\",\"type\":\"ColumnDataSource\"}},\"id\":\"2726\",\"type\":\"CDSView\"},{\"attributes\":{},\"id\":\"2892\",\"type\":\"UnionRenderers\"},{\"attributes\":{\"dimension\":1,\"ticker\":{\"id\":\"2693\",\"type\":\"BasicTicker\"}},\"id\":\"2696\",\"type\":\"Grid\"},{\"attributes\":{\"callback\":null,\"tooltips\":[[\"Site\",\"$name\"],[\"Average Daily Users\",\"@counts{int}\"]]},\"id\":\"2767\",\"type\":\"HoverTool\"},{\"attributes\":{},\"id\":\"2760\",\"type\":\"Selection\"},{\"attributes\":{\"callback\":null,\"end\":260.6035714285714},\"id\":\"2771\",\"type\":\"Range1d\"},{\"attributes\":{\"source\":{\"id\":\"2701\",\"type\":\"ColumnDataSource\"}},\"id\":\"2707\",\"type\":\"CDSView\"},{\"attributes\":{\"fill_color\":{\"value\":\"#1f77b4\"},\"line_color\":{\"value\":\"#1f77b4\"},\"top\":{\"field\":\"counts\"},\"width\":{\"value\":0.26666666666666666},\"x\":{\"field\":\"x\",\"transform\":{\"id\":\"2719\",\"type\":\"Dodge\"}}},\"id\":\"2724\",\"type\":\"VBar\"},{\"attributes\":{\"fill_color\":{\"value\":\"#1f77b4\"},\"line_color\":{\"value\":\"#1f77b4\"},\"top\":{\"field\":\"counts\"},\"width\":{\"value\":0.26666666666666666},\"x\":{\"field\":\"x\",\"transform\":{\"id\":\"2741\",\"type\":\"Dodge\"}}},\"id\":\"2746\",\"type\":\"VBar\"},{\"attributes\":{},\"id\":\"2732\",\"type\":\"Selection\"},{\"attributes\":{\"label\":{\"value\":\"BCC Butler\"},\"renderers\":[{\"id\":\"2706\",\"type\":\"GlyphRenderer\"}]},\"id\":\"2714\",\"type\":\"LegendItem\"},{\"attributes\":{},\"id\":\"2733\",\"type\":\"UnionRenderers\"},{\"attributes\":{},\"id\":\"2761\",\"type\":\"UnionRenderers\"},{\"attributes\":{},\"id\":\"2734\",\"type\":\"Selection\"},{\"attributes\":{\"data_source\":{\"id\":\"2742\",\"type\":\"ColumnDataSource\"},\"glyph\":{\"id\":\"2744\",\"type\":\"VBar\"},\"hover_glyph\":{\"id\":\"2746\",\"type\":\"VBar\"},\"muted_glyph\":null,\"name\":\"BCC Mill D\",\"nonselection_glyph\":{\"id\":\"2745\",\"type\":\"VBar\"},\"selection_glyph\":null,\"view\":{\"id\":\"2748\",\"type\":\"CDSView\"}},\"id\":\"2747\",\"type\":\"GlyphRenderer\"},{\"attributes\":{\"label\":{\"value\":\"BCC Cardiff\"},\"renderers\":[{\"id\":\"2725\",\"type\":\"GlyphRenderer\"}]},\"id\":\"2736\",\"type\":\"LegendItem\"},{\"attributes\":{},\"id\":\"2684\",\"type\":\"CategoricalScale\"},{\"attributes\":{\"formatter\":{\"id\":\"2711\",\"type\":\"BasicTickFormatter\"},\"major_label_text_font_size\":{\"value\":\"12pt\"},\"major_label_text_font_style\":\"bold\",\"minor_tick_line_color\":{\"value\":null},\"ticker\":{\"id\":\"2693\",\"type\":\"BasicTicker\"}},\"id\":\"2692\",\"type\":\"LinearAxis\"},{\"attributes\":{},\"id\":\"2711\",\"type\":\"BasicTickFormatter\"},{\"attributes\":{\"callback\":null,\"data\":{\"counts\":[123.36666666666666,129.63333333333333,118.71428571428572,60.29032258064516,23.407407407407412],\"x\":[\"Dec\",\"Jan\",\"Feb\",\"Mar\",\"Apr\"]},\"selected\":{\"id\":\"2897\",\"type\":\"Selection\"},\"selection_policy\":{\"id\":\"2898\",\"type\":\"UnionRenderers\"}},\"id\":\"2742\",\"type\":\"ColumnDataSource\"},{\"attributes\":{},\"id\":\"2709\",\"type\":\"CategoricalTickFormatter\"},{\"attributes\":{\"range\":{\"id\":\"2677\",\"type\":\"FactorRange\"},\"value\":-0.30666666666666664},\"id\":\"2700\",\"type\":\"Dodge\"},{\"attributes\":{\"range\":{\"id\":\"2677\",\"type\":\"FactorRange\"}},\"id\":\"2719\",\"type\":\"Dodge\"},{\"attributes\":{},\"id\":\"2898\",\"type\":\"UnionRenderers\"},{\"attributes\":{\"items\":[{\"id\":\"2714\",\"type\":\"LegendItem\"},{\"id\":\"2736\",\"type\":\"LegendItem\"},{\"id\":\"2762\",\"type\":\"LegendItem\"}],\"location\":\"top_left\",\"orientation\":\"horizontal\"},\"id\":\"2713\",\"type\":\"Legend\"},{\"attributes\":{},\"id\":\"2693\",\"type\":\"BasicTicker\"},{\"attributes\":{\"label\":{\"value\":\"BCC Mill D\"},\"renderers\":[{\"id\":\"2747\",\"type\":\"GlyphRenderer\"}]},\"id\":\"2762\",\"type\":\"LegendItem\"},{\"attributes\":{\"grid_line_color\":null,\"ticker\":{\"id\":\"2689\",\"type\":\"CategoricalTicker\"}},\"id\":\"2691\",\"type\":\"Grid\"},{\"attributes\":{\"source\":{\"id\":\"2742\",\"type\":\"ColumnDataSource\"}},\"id\":\"2748\",\"type\":\"CDSView\"},{\"attributes\":{},\"id\":\"2757\",\"type\":\"UnionRenderers\"},{\"attributes\":{\"range\":{\"id\":\"2677\",\"type\":\"FactorRange\"}},\"id\":\"2737\",\"type\":\"Dodge\"},{\"attributes\":{\"callback\":null,\"data\":{\"counts\":[45.96551724137931,44.17857142857143,33.53846153846154,18.28,9.6],\"x\":[\"Dec\",\"Jan\",\"Feb\",\"Mar\",\"Apr\"]},\"selected\":{\"id\":\"2734\",\"type\":\"Selection\"},\"selection_policy\":{\"id\":\"2735\",\"type\":\"UnionRenderers\"}},\"id\":\"2701\",\"type\":\"ColumnDataSource\"},{\"attributes\":{\"fill_alpha\":{\"value\":0.1},\"fill_color\":{\"value\":\"#1f77b4\"},\"line_alpha\":{\"value\":0.1},\"line_color\":{\"value\":\"#1f77b4\"},\"top\":{\"field\":\"counts\"},\"width\":{\"value\":0.26666666666666666},\"x\":{\"field\":\"x\",\"transform\":{\"id\":\"2741\",\"type\":\"Dodge\"}}},\"id\":\"2745\",\"type\":\"VBar\"},{\"attributes\":{\"text\":\"Season 2018-2019 | Average Daily Trailhead Users Per Month\",\"text_font_size\":{\"value\":\"13pt\"}},\"id\":\"2770\",\"type\":\"Title\"},{\"attributes\":{},\"id\":\"2689\",\"type\":\"CategoricalTicker\"},{\"attributes\":{\"range\":{\"id\":\"2677\",\"type\":\"FactorRange\"},\"value\":0.30666666666666664},\"id\":\"2741\",\"type\":\"Dodge\"},{\"attributes\":{},\"id\":\"2756\",\"type\":\"Selection\"},{\"attributes\":{\"fill_alpha\":{\"value\":0.9},\"fill_color\":{\"value\":\"#0BB5FF\"},\"line_color\":{\"value\":\"#0BB5FF\"},\"top\":{\"field\":\"counts\"},\"width\":{\"value\":0.26666666666666666},\"x\":{\"field\":\"x\",\"transform\":{\"id\":\"2719\",\"type\":\"Dodge\"}}},\"id\":\"2722\",\"type\":\"VBar\"},{\"attributes\":{\"callback\":null,\"data\":{\"n\":[\"(29)\",\"(28)\",\"(26)\",\"(25)\",\"(25)\"],\"x\":[\"Dec\",\"Jan\",\"Feb\",\"Mar\",\"Apr\"],\"y\":[45.96551724137931,44.17857142857143,33.53846153846154,18.28,9.6]},\"selected\":{\"id\":\"2732\",\"type\":\"Selection\"},\"selection_policy\":{\"id\":\"2733\",\"type\":\"UnionRenderers\"}},\"id\":\"2716\",\"type\":\"ColumnDataSource\"},{\"attributes\":{\"fill_alpha\":{\"value\":0.9},\"fill_color\":{\"value\":\"#0EBFE9\"},\"line_color\":{\"value\":\"#0EBFE9\"},\"top\":{\"field\":\"counts\"},\"width\":{\"value\":0.26666666666666666},\"x\":{\"field\":\"x\",\"transform\":{\"id\":\"2700\",\"type\":\"Dodge\"}}},\"id\":\"2703\",\"type\":\"VBar\"},{\"attributes\":{},\"id\":\"2735\",\"type\":\"UnionRenderers\"},{\"attributes\":{\"range\":{\"id\":\"2677\",\"type\":\"FactorRange\"},\"value\":0.30666666666666664},\"id\":\"2763\",\"type\":\"Dodge\"},{\"attributes\":{},\"id\":\"2897\",\"type\":\"Selection\"},{\"attributes\":{\"level\":\"glyph\",\"source\":{\"id\":\"2738\",\"type\":\"ColumnDataSource\"},\"text\":{\"field\":\"n\"},\"text_align\":\"center\",\"text_color\":{\"value\":\"#000000\"},\"text_font_size\":{\"value\":\"7pt\"},\"x\":{\"field\":\"x\",\"transform\":{\"id\":\"2737\",\"type\":\"Dodge\"}},\"y\":{\"field\":\"y\"}},\"id\":\"2739\",\"type\":\"LabelSet\"},{\"attributes\":{},\"id\":\"2891\",\"type\":\"Selection\"},{\"attributes\":{\"text\":\"\",\"text_font_size\":{\"value\":\"12pt\"}},\"id\":\"2679\",\"type\":\"Title\"},{\"attributes\":{\"text\":\"Note: (*) is number of days with sensor data\",\"text_font_size\":{\"value\":\"10pt\"},\"text_font_style\":\"normal\"},\"id\":\"2769\",\"type\":\"Title\"}],\"root_ids\":[\"2678\"]},\"title\":\"Bokeh Application\",\"version\":\"1.4.0\"}};\n",
       "  var render_items = [{\"docid\":\"5c6e7092-5b68-4be5-9a8d-bc1c4147b8ec\",\"roots\":{\"2678\":\"060d5e5a-1ce0-4fb1-bc89-fd06f862feeb\"}}];\n",
       "  root.Bokeh.embed.embed_items_notebook(docs_json, render_items);\n",
       "\n",
       "  }\n",
       "  if (root.Bokeh !== undefined) {\n",
       "    embed_document(root);\n",
       "  } else {\n",
       "    var attempts = 0;\n",
       "    var timer = setInterval(function(root) {\n",
       "      if (root.Bokeh !== undefined) {\n",
       "        clearInterval(timer);\n",
       "        embed_document(root);\n",
       "      } else {\n",
       "        attempts++;\n",
       "        if (attempts > 100) {\n",
       "          clearInterval(timer);\n",
       "          console.log(\"Bokeh: ERROR: Unable to run BokehJS code because BokehJS library is missing\");\n",
       "        }\n",
       "      }\n",
       "    }, 10, root)\n",
       "  }\n",
       "})(window);"
      ],
      "application/vnd.bokehjs_exec.v0+json": ""
     },
     "metadata": {
      "application/vnd.bokehjs_exec.v0+json": {
       "id": "2678"
      }
     },
     "output_type": "display_data"
    }
   ],
   "source": [
    "season = ['2018-2019']\n",
    "sites = [x for x in adu_df.query(\"season == @season\")['site'].unique() if \"BCC\" in x]\n",
    "dayOfWeek = 'All'\n",
    "src_df = make_data_set(sites, season, dayOfWeek, adu_df)\n",
    "p = make_plot(src_df)\n",
    "show(p)"
   ]
  },
  {
   "cell_type": "code",
   "execution_count": 18,
   "metadata": {},
   "outputs": [
    {
     "data": {
      "text/html": [
       "\n",
       "\n",
       "\n",
       "\n",
       "\n",
       "\n",
       "  <div class=\"bk-root\" id=\"0cce876b-61fc-4371-bcc6-08c3583d4c31\" data-root-id=\"3002\"></div>\n"
      ]
     },
     "metadata": {},
     "output_type": "display_data"
    },
    {
     "data": {
      "application/javascript": [
       "(function(root) {\n",
       "  function embed_document(root) {\n",
       "    \n",
       "  var docs_json = {\"f5404f3f-5f6c-4d9e-b00e-088f8675d9ce\":{\"roots\":{\"references\":[{\"attributes\":{\"above\":[{\"id\":\"3094\",\"type\":\"Title\"}],\"below\":[{\"id\":\"3012\",\"type\":\"CategoricalAxis\"},{\"id\":\"3093\",\"type\":\"Title\"}],\"center\":[{\"id\":\"3015\",\"type\":\"Grid\"},{\"id\":\"3020\",\"type\":\"Grid\"},{\"id\":\"3037\",\"type\":\"Legend\"},{\"id\":\"3041\",\"type\":\"LabelSet\"},{\"id\":\"3063\",\"type\":\"LabelSet\"},{\"id\":\"3089\",\"type\":\"LabelSet\"}],\"left\":[{\"id\":\"3016\",\"type\":\"LinearAxis\"}],\"plot_height\":400,\"plot_width\":800,\"renderers\":[{\"id\":\"3030\",\"type\":\"GlyphRenderer\"},{\"id\":\"3049\",\"type\":\"GlyphRenderer\"},{\"id\":\"3071\",\"type\":\"GlyphRenderer\"}],\"title\":{\"id\":\"3003\",\"type\":\"Title\"},\"toolbar\":{\"id\":\"3022\",\"type\":\"Toolbar\"},\"x_range\":{\"id\":\"3001\",\"type\":\"FactorRange\"},\"x_scale\":{\"id\":\"3008\",\"type\":\"CategoricalScale\"},\"y_range\":{\"id\":\"3095\",\"type\":\"Range1d\"},\"y_scale\":{\"id\":\"3010\",\"type\":\"LinearScale\"}},\"id\":\"3002\",\"subtype\":\"Figure\",\"type\":\"Plot\"},{\"attributes\":{\"fill_alpha\":{\"value\":0.9},\"fill_color\":{\"value\":\"#0BB5FF\"},\"line_color\":{\"value\":\"#0BB5FF\"},\"top\":{\"field\":\"counts\"},\"width\":{\"value\":0.26666666666666666},\"x\":{\"field\":\"x\",\"transform\":{\"id\":\"3043\",\"type\":\"Dodge\"}}},\"id\":\"3046\",\"type\":\"VBar\"},{\"attributes\":{\"fill_alpha\":{\"value\":0.9},\"fill_color\":{\"value\":\"#009ACD\"},\"line_color\":{\"value\":\"#009ACD\"},\"top\":{\"field\":\"counts\"},\"width\":{\"value\":0.26666666666666666},\"x\":{\"field\":\"x\",\"transform\":{\"id\":\"3065\",\"type\":\"Dodge\"}}},\"id\":\"3068\",\"type\":\"VBar\"},{\"attributes\":{\"active_drag\":\"auto\",\"active_inspect\":\"auto\",\"active_multi\":null,\"active_scroll\":\"auto\",\"active_tap\":\"auto\",\"tools\":[{\"id\":\"3021\",\"type\":\"SaveTool\"},{\"id\":\"3091\",\"type\":\"HoverTool\"}]},\"id\":\"3022\",\"type\":\"Toolbar\"},{\"attributes\":{\"dimension\":1,\"ticker\":{\"id\":\"3017\",\"type\":\"BasicTicker\"}},\"id\":\"3020\",\"type\":\"Grid\"},{\"attributes\":{\"data_source\":{\"id\":\"3025\",\"type\":\"ColumnDataSource\"},\"glyph\":{\"id\":\"3027\",\"type\":\"VBar\"},\"hover_glyph\":{\"id\":\"3029\",\"type\":\"VBar\"},\"muted_glyph\":null,\"name\":\"BCC Butler\",\"nonselection_glyph\":{\"id\":\"3028\",\"type\":\"VBar\"},\"selection_glyph\":null,\"view\":{\"id\":\"3031\",\"type\":\"CDSView\"}},\"id\":\"3030\",\"type\":\"GlyphRenderer\"},{\"attributes\":{\"callback\":null,\"data\":{\"counts\":[195.0,209.25,164.75,109.6,35.0],\"x\":[\"Dec\",\"Jan\",\"Feb\",\"Mar\",\"Apr\"]},\"selected\":{\"id\":\"3238\",\"type\":\"Selection\"},\"selection_policy\":{\"id\":\"3239\",\"type\":\"UnionRenderers\"}},\"id\":\"3066\",\"type\":\"ColumnDataSource\"},{\"attributes\":{},\"id\":\"3010\",\"type\":\"LinearScale\"},{\"attributes\":{\"fill_color\":{\"value\":\"#1f77b4\"},\"line_color\":{\"value\":\"#1f77b4\"},\"top\":{\"field\":\"counts\"},\"width\":{\"value\":0.26666666666666666},\"x\":{\"field\":\"x\",\"transform\":{\"id\":\"3043\",\"type\":\"Dodge\"}}},\"id\":\"3048\",\"type\":\"VBar\"},{\"attributes\":{\"callback\":null,\"data\":{\"n\":[\"(4)\",\"(4)\",\"(4)\",\"(5)\",\"(3)\"],\"x\":[\"Dec\",\"Jan\",\"Feb\",\"Mar\",\"Apr\"],\"y\":[195.0,209.25,164.75,109.6,35.0]},\"selected\":{\"id\":\"3232\",\"type\":\"Selection\"},\"selection_policy\":{\"id\":\"3233\",\"type\":\"UnionRenderers\"}},\"id\":\"3088\",\"type\":\"ColumnDataSource\"},{\"attributes\":{},\"id\":\"3056\",\"type\":\"Selection\"},{\"attributes\":{},\"id\":\"3239\",\"type\":\"UnionRenderers\"},{\"attributes\":{\"callback\":null,\"factors\":[\"Dec\",\"Jan\",\"Feb\",\"Mar\",\"Apr\"],\"range_padding\":0.1},\"id\":\"3001\",\"type\":\"FactorRange\"},{\"attributes\":{\"fill_alpha\":{\"value\":0.1},\"fill_color\":{\"value\":\"#1f77b4\"},\"line_alpha\":{\"value\":0.1},\"line_color\":{\"value\":\"#1f77b4\"},\"top\":{\"field\":\"counts\"},\"width\":{\"value\":0.26666666666666666},\"x\":{\"field\":\"x\",\"transform\":{\"id\":\"3065\",\"type\":\"Dodge\"}}},\"id\":\"3069\",\"type\":\"VBar\"},{\"attributes\":{\"text\":\"Season 2018-2019 | Average Daily Trailhead Users Per Month For Saturdays\",\"text_font_size\":{\"value\":\"13pt\"}},\"id\":\"3094\",\"type\":\"Title\"},{\"attributes\":{},\"id\":\"3013\",\"type\":\"CategoricalTicker\"},{\"attributes\":{},\"id\":\"3081\",\"type\":\"UnionRenderers\"},{\"attributes\":{\"grid_line_color\":null,\"ticker\":{\"id\":\"3013\",\"type\":\"CategoricalTicker\"}},\"id\":\"3015\",\"type\":\"Grid\"},{\"attributes\":{\"range\":{\"id\":\"3001\",\"type\":\"FactorRange\"}},\"id\":\"3061\",\"type\":\"Dodge\"},{\"attributes\":{\"level\":\"glyph\",\"source\":{\"id\":\"3040\",\"type\":\"ColumnDataSource\"},\"text\":{\"field\":\"n\"},\"text_align\":\"center\",\"text_color\":{\"value\":\"#000000\"},\"text_font_size\":{\"value\":\"7pt\"},\"x\":{\"field\":\"x\",\"transform\":{\"id\":\"3039\",\"type\":\"Dodge\"}},\"y\":{\"field\":\"y\"}},\"id\":\"3041\",\"type\":\"LabelSet\"},{\"attributes\":{},\"id\":\"3059\",\"type\":\"UnionRenderers\"},{\"attributes\":{},\"id\":\"3017\",\"type\":\"BasicTicker\"},{\"attributes\":{\"source\":{\"id\":\"3044\",\"type\":\"ColumnDataSource\"}},\"id\":\"3050\",\"type\":\"CDSView\"},{\"attributes\":{\"level\":\"glyph\",\"source\":{\"id\":\"3088\",\"type\":\"ColumnDataSource\"},\"text\":{\"field\":\"n\"},\"text_align\":\"center\",\"text_color\":{\"value\":\"#000000\"},\"text_font_size\":{\"value\":\"7pt\"},\"x\":{\"field\":\"x\",\"transform\":{\"id\":\"3087\",\"type\":\"Dodge\"}},\"y\":{\"field\":\"y\"}},\"id\":\"3089\",\"type\":\"LabelSet\"},{\"attributes\":{},\"id\":\"3033\",\"type\":\"CategoricalTickFormatter\"},{\"attributes\":{},\"id\":\"3080\",\"type\":\"Selection\"},{\"attributes\":{},\"id\":\"3008\",\"type\":\"CategoricalScale\"},{\"attributes\":{\"label\":{\"value\":\"BCC Cardiff\"},\"renderers\":[{\"id\":\"3049\",\"type\":\"GlyphRenderer\"}]},\"id\":\"3060\",\"type\":\"LegendItem\"},{\"attributes\":{\"fill_alpha\":{\"value\":0.9},\"fill_color\":{\"value\":\"#0EBFE9\"},\"line_color\":{\"value\":\"#0EBFE9\"},\"top\":{\"field\":\"counts\"},\"width\":{\"value\":0.26666666666666666},\"x\":{\"field\":\"x\",\"transform\":{\"id\":\"3024\",\"type\":\"Dodge\"}}},\"id\":\"3027\",\"type\":\"VBar\"},{\"attributes\":{},\"id\":\"3232\",\"type\":\"Selection\"},{\"attributes\":{\"label\":{\"value\":\"BCC Mill D\"},\"renderers\":[{\"id\":\"3071\",\"type\":\"GlyphRenderer\"}]},\"id\":\"3086\",\"type\":\"LegendItem\"},{\"attributes\":{\"callback\":null,\"data\":{\"n\":[\"(4)\",\"(3)\",\"(3)\",\"(5)\",\"(4)\"],\"x\":[\"Dec\",\"Jan\",\"Feb\",\"Mar\",\"Apr\"],\"y\":[87.75,122.33333333333331,72.66666666666667,21.6,19.75]},\"selected\":{\"id\":\"3056\",\"type\":\"Selection\"},\"selection_policy\":{\"id\":\"3057\",\"type\":\"UnionRenderers\"}},\"id\":\"3040\",\"type\":\"ColumnDataSource\"},{\"attributes\":{\"range\":{\"id\":\"3001\",\"type\":\"FactorRange\"},\"value\":-0.30666666666666664},\"id\":\"3024\",\"type\":\"Dodge\"},{\"attributes\":{},\"id\":\"3057\",\"type\":\"UnionRenderers\"},{\"attributes\":{\"range\":{\"id\":\"3001\",\"type\":\"FactorRange\"},\"value\":-0.30666666666666664},\"id\":\"3039\",\"type\":\"Dodge\"},{\"attributes\":{},\"id\":\"3233\",\"type\":\"UnionRenderers\"},{\"attributes\":{},\"id\":\"3238\",\"type\":\"Selection\"},{\"attributes\":{\"range\":{\"id\":\"3001\",\"type\":\"FactorRange\"},\"value\":0.30666666666666664},\"id\":\"3087\",\"type\":\"Dodge\"},{\"attributes\":{},\"id\":\"3035\",\"type\":\"BasicTickFormatter\"},{\"attributes\":{\"source\":{\"id\":\"3025\",\"type\":\"ColumnDataSource\"}},\"id\":\"3031\",\"type\":\"CDSView\"},{\"attributes\":{\"fill_alpha\":{\"value\":0.1},\"fill_color\":{\"value\":\"#1f77b4\"},\"line_alpha\":{\"value\":0.1},\"line_color\":{\"value\":\"#1f77b4\"},\"top\":{\"field\":\"counts\"},\"width\":{\"value\":0.26666666666666666},\"x\":{\"field\":\"x\",\"transform\":{\"id\":\"3043\",\"type\":\"Dodge\"}}},\"id\":\"3047\",\"type\":\"VBar\"},{\"attributes\":{\"label\":{\"value\":\"BCC Butler\"},\"renderers\":[{\"id\":\"3030\",\"type\":\"GlyphRenderer\"}]},\"id\":\"3038\",\"type\":\"LegendItem\"},{\"attributes\":{\"data_source\":{\"id\":\"3044\",\"type\":\"ColumnDataSource\"},\"glyph\":{\"id\":\"3046\",\"type\":\"VBar\"},\"hover_glyph\":{\"id\":\"3048\",\"type\":\"VBar\"},\"muted_glyph\":null,\"name\":\"BCC Cardiff\",\"nonselection_glyph\":{\"id\":\"3047\",\"type\":\"VBar\"},\"selection_glyph\":null,\"view\":{\"id\":\"3050\",\"type\":\"CDSView\"}},\"id\":\"3049\",\"type\":\"GlyphRenderer\"},{\"attributes\":{\"data_source\":{\"id\":\"3066\",\"type\":\"ColumnDataSource\"},\"glyph\":{\"id\":\"3068\",\"type\":\"VBar\"},\"hover_glyph\":{\"id\":\"3070\",\"type\":\"VBar\"},\"muted_glyph\":null,\"name\":\"BCC Mill D\",\"nonselection_glyph\":{\"id\":\"3069\",\"type\":\"VBar\"},\"selection_glyph\":null,\"view\":{\"id\":\"3072\",\"type\":\"CDSView\"}},\"id\":\"3071\",\"type\":\"GlyphRenderer\"},{\"attributes\":{\"source\":{\"id\":\"3066\",\"type\":\"ColumnDataSource\"}},\"id\":\"3072\",\"type\":\"CDSView\"},{\"attributes\":{\"range\":{\"id\":\"3001\",\"type\":\"FactorRange\"},\"value\":0.30666666666666664},\"id\":\"3065\",\"type\":\"Dodge\"},{\"attributes\":{\"text\":\"Note: (*) is number of days with sensor data\",\"text_font_size\":{\"value\":\"10pt\"},\"text_font_style\":\"normal\"},\"id\":\"3093\",\"type\":\"Title\"},{\"attributes\":{\"text\":\"\",\"text_font_size\":{\"value\":\"12pt\"}},\"id\":\"3003\",\"type\":\"Title\"},{\"attributes\":{\"fill_alpha\":{\"value\":0.1},\"fill_color\":{\"value\":\"#1f77b4\"},\"line_alpha\":{\"value\":0.1},\"line_color\":{\"value\":\"#1f77b4\"},\"top\":{\"field\":\"counts\"},\"width\":{\"value\":0.26666666666666666},\"x\":{\"field\":\"x\",\"transform\":{\"id\":\"3024\",\"type\":\"Dodge\"}}},\"id\":\"3028\",\"type\":\"VBar\"},{\"attributes\":{},\"id\":\"3058\",\"type\":\"Selection\"},{\"attributes\":{\"callback\":null,\"data\":{\"counts\":[87.75,122.33333333333331,72.66666666666667,21.6,19.75],\"x\":[\"Dec\",\"Jan\",\"Feb\",\"Mar\",\"Apr\"]},\"selected\":{\"id\":\"3058\",\"type\":\"Selection\"},\"selection_policy\":{\"id\":\"3059\",\"type\":\"UnionRenderers\"}},\"id\":\"3025\",\"type\":\"ColumnDataSource\"},{\"attributes\":{\"formatter\":{\"id\":\"3035\",\"type\":\"BasicTickFormatter\"},\"major_label_text_font_size\":{\"value\":\"12pt\"},\"major_label_text_font_style\":\"bold\",\"minor_tick_line_color\":{\"value\":null},\"ticker\":{\"id\":\"3017\",\"type\":\"BasicTicker\"}},\"id\":\"3016\",\"type\":\"LinearAxis\"},{\"attributes\":{\"formatter\":{\"id\":\"3033\",\"type\":\"CategoricalTickFormatter\"},\"major_label_orientation\":0,\"major_label_standoff\":10,\"major_label_text_font_size\":{\"value\":\"12pt\"},\"major_label_text_font_style\":\"bold\",\"major_tick_line_color\":{\"value\":null},\"minor_tick_line_color\":{\"value\":null},\"ticker\":{\"id\":\"3013\",\"type\":\"CategoricalTicker\"}},\"id\":\"3012\",\"type\":\"CategoricalAxis\"},{\"attributes\":{\"callback\":null,\"tooltips\":[[\"Site\",\"$name\"],[\"Average Daily Users\",\"@counts{int}\"]]},\"id\":\"3091\",\"type\":\"HoverTool\"},{\"attributes\":{\"fill_color\":{\"value\":\"#1f77b4\"},\"line_color\":{\"value\":\"#1f77b4\"},\"top\":{\"field\":\"counts\"},\"width\":{\"value\":0.26666666666666666},\"x\":{\"field\":\"x\",\"transform\":{\"id\":\"3065\",\"type\":\"Dodge\"}}},\"id\":\"3070\",\"type\":\"VBar\"},{\"attributes\":{},\"id\":\"3084\",\"type\":\"Selection\"},{\"attributes\":{\"callback\":null,\"data\":{\"n\":[\"(4)\",\"(4)\",\"(4)\",\"(5)\",\"(4)\"],\"x\":[\"Dec\",\"Jan\",\"Feb\",\"Mar\",\"Apr\"],\"y\":[248.5,527.0,437.0,332.8,133.75]},\"selected\":{\"id\":\"3080\",\"type\":\"Selection\"},\"selection_policy\":{\"id\":\"3081\",\"type\":\"UnionRenderers\"}},\"id\":\"3062\",\"type\":\"ColumnDataSource\"},{\"attributes\":{},\"id\":\"3085\",\"type\":\"UnionRenderers\"},{\"attributes\":{\"level\":\"glyph\",\"source\":{\"id\":\"3062\",\"type\":\"ColumnDataSource\"},\"text\":{\"field\":\"n\"},\"text_align\":\"center\",\"text_color\":{\"value\":\"#000000\"},\"text_font_size\":{\"value\":\"7pt\"},\"x\":{\"field\":\"x\",\"transform\":{\"id\":\"3061\",\"type\":\"Dodge\"}},\"y\":{\"field\":\"y\"}},\"id\":\"3063\",\"type\":\"LabelSet\"},{\"attributes\":{\"callback\":null,\"data\":{\"counts\":[248.5,527.0,437.0,332.8,133.75],\"x\":[\"Dec\",\"Jan\",\"Feb\",\"Mar\",\"Apr\"]},\"selected\":{\"id\":\"3084\",\"type\":\"Selection\"},\"selection_policy\":{\"id\":\"3085\",\"type\":\"UnionRenderers\"}},\"id\":\"3044\",\"type\":\"ColumnDataSource\"},{\"attributes\":{\"callback\":null,\"end\":685.1},\"id\":\"3095\",\"type\":\"Range1d\"},{\"attributes\":{},\"id\":\"3021\",\"type\":\"SaveTool\"},{\"attributes\":{\"items\":[{\"id\":\"3038\",\"type\":\"LegendItem\"},{\"id\":\"3060\",\"type\":\"LegendItem\"},{\"id\":\"3086\",\"type\":\"LegendItem\"}],\"location\":\"top_left\",\"orientation\":\"horizontal\"},\"id\":\"3037\",\"type\":\"Legend\"},{\"attributes\":{\"range\":{\"id\":\"3001\",\"type\":\"FactorRange\"}},\"id\":\"3043\",\"type\":\"Dodge\"},{\"attributes\":{\"fill_color\":{\"value\":\"#1f77b4\"},\"line_color\":{\"value\":\"#1f77b4\"},\"top\":{\"field\":\"counts\"},\"width\":{\"value\":0.26666666666666666},\"x\":{\"field\":\"x\",\"transform\":{\"id\":\"3024\",\"type\":\"Dodge\"}}},\"id\":\"3029\",\"type\":\"VBar\"}],\"root_ids\":[\"3002\"]},\"title\":\"Bokeh Application\",\"version\":\"1.4.0\"}};\n",
       "  var render_items = [{\"docid\":\"f5404f3f-5f6c-4d9e-b00e-088f8675d9ce\",\"roots\":{\"3002\":\"0cce876b-61fc-4371-bcc6-08c3583d4c31\"}}];\n",
       "  root.Bokeh.embed.embed_items_notebook(docs_json, render_items);\n",
       "\n",
       "  }\n",
       "  if (root.Bokeh !== undefined) {\n",
       "    embed_document(root);\n",
       "  } else {\n",
       "    var attempts = 0;\n",
       "    var timer = setInterval(function(root) {\n",
       "      if (root.Bokeh !== undefined) {\n",
       "        clearInterval(timer);\n",
       "        embed_document(root);\n",
       "      } else {\n",
       "        attempts++;\n",
       "        if (attempts > 100) {\n",
       "          clearInterval(timer);\n",
       "          console.log(\"Bokeh: ERROR: Unable to run BokehJS code because BokehJS library is missing\");\n",
       "        }\n",
       "      }\n",
       "    }, 10, root)\n",
       "  }\n",
       "})(window);"
      ],
      "application/vnd.bokehjs_exec.v0+json": ""
     },
     "metadata": {
      "application/vnd.bokehjs_exec.v0+json": {
       "id": "3002"
      }
     },
     "output_type": "display_data"
    }
   ],
   "source": [
    "season = ['2018-2019']\n",
    "sites = [x for x in adu_df.query(\"season == @season\")['site'].unique() if \"BCC\" in x]\n",
    "dayOfWeek = 'Saturday'\n",
    "src_df = make_data_set(sites, season, dayOfWeek, adu_df)\n",
    "p = make_plot(src_df)\n",
    "show(p)"
   ]
  },
  {
   "cell_type": "markdown",
   "metadata": {},
   "source": [
    "## MCC Plots"
   ]
  },
  {
   "cell_type": "code",
   "execution_count": 20,
   "metadata": {},
   "outputs": [
    {
     "data": {
      "text/html": [
       "\n",
       "\n",
       "\n",
       "\n",
       "\n",
       "\n",
       "  <div class=\"bk-root\" id=\"8fd58fa4-9efa-48d3-8a52-d2997ada78f9\" data-root-id=\"3366\"></div>\n"
      ]
     },
     "metadata": {},
     "output_type": "display_data"
    },
    {
     "data": {
      "application/javascript": [
       "(function(root) {\n",
       "  function embed_document(root) {\n",
       "    \n",
       "  var docs_json = {\"ed215c78-defb-485a-829b-1689c880a278\":{\"roots\":{\"references\":[{\"attributes\":{\"above\":[{\"id\":\"3432\",\"type\":\"Title\"}],\"below\":[{\"id\":\"3376\",\"type\":\"CategoricalAxis\"},{\"id\":\"3431\",\"type\":\"Title\"}],\"center\":[{\"id\":\"3379\",\"type\":\"Grid\"},{\"id\":\"3384\",\"type\":\"Grid\"},{\"id\":\"3401\",\"type\":\"Legend\"},{\"id\":\"3405\",\"type\":\"LabelSet\"},{\"id\":\"3427\",\"type\":\"LabelSet\"}],\"left\":[{\"id\":\"3380\",\"type\":\"LinearAxis\"}],\"plot_height\":400,\"plot_width\":800,\"renderers\":[{\"id\":\"3394\",\"type\":\"GlyphRenderer\"},{\"id\":\"3413\",\"type\":\"GlyphRenderer\"}],\"title\":{\"id\":\"3367\",\"type\":\"Title\"},\"toolbar\":{\"id\":\"3386\",\"type\":\"Toolbar\"},\"x_range\":{\"id\":\"3365\",\"type\":\"FactorRange\"},\"x_scale\":{\"id\":\"3372\",\"type\":\"CategoricalScale\"},\"y_range\":{\"id\":\"3433\",\"type\":\"Range1d\"},\"y_scale\":{\"id\":\"3374\",\"type\":\"LinearScale\"}},\"id\":\"3366\",\"subtype\":\"Figure\",\"type\":\"Plot\"},{\"attributes\":{\"range\":{\"id\":\"3365\",\"type\":\"FactorRange\"},\"value\":-0.24000000000000002},\"id\":\"3403\",\"type\":\"Dodge\"},{\"attributes\":{},\"id\":\"3420\",\"type\":\"Selection\"},{\"attributes\":{\"callback\":null,\"end\":710.4066666666668},\"id\":\"3433\",\"type\":\"Range1d\"},{\"attributes\":{\"range\":{\"id\":\"3365\",\"type\":\"FactorRange\"},\"value\":0.24000000000000002},\"id\":\"3425\",\"type\":\"Dodge\"},{\"attributes\":{\"level\":\"glyph\",\"source\":{\"id\":\"3404\",\"type\":\"ColumnDataSource\"},\"text\":{\"field\":\"n\"},\"text_align\":\"center\",\"text_color\":{\"value\":\"#000000\"},\"text_font_size\":{\"value\":\"7pt\"},\"x\":{\"field\":\"x\",\"transform\":{\"id\":\"3403\",\"type\":\"Dodge\"}},\"y\":{\"field\":\"y\"}},\"id\":\"3405\",\"type\":\"LabelSet\"},{\"attributes\":{\"label\":{\"value\":\"MCC Porter\"},\"renderers\":[{\"id\":\"3394\",\"type\":\"GlyphRenderer\"}]},\"id\":\"3402\",\"type\":\"LegendItem\"},{\"attributes\":{\"range\":{\"id\":\"3365\",\"type\":\"FactorRange\"},\"value\":-0.24000000000000002},\"id\":\"3388\",\"type\":\"Dodge\"},{\"attributes\":{\"level\":\"glyph\",\"source\":{\"id\":\"3426\",\"type\":\"ColumnDataSource\"},\"text\":{\"field\":\"n\"},\"text_align\":\"center\",\"text_color\":{\"value\":\"#000000\"},\"text_font_size\":{\"value\":\"7pt\"},\"x\":{\"field\":\"x\",\"transform\":{\"id\":\"3425\",\"type\":\"Dodge\"}},\"y\":{\"field\":\"y\"}},\"id\":\"3427\",\"type\":\"LabelSet\"},{\"attributes\":{},\"id\":\"3385\",\"type\":\"SaveTool\"},{\"attributes\":{\"fill_alpha\":{\"value\":0.1},\"fill_color\":{\"value\":\"#1f77b4\"},\"line_alpha\":{\"value\":0.1},\"line_color\":{\"value\":\"#1f77b4\"},\"top\":{\"field\":\"counts\"},\"width\":{\"value\":0.4},\"x\":{\"field\":\"x\",\"transform\":{\"id\":\"3407\",\"type\":\"Dodge\"}}},\"id\":\"3411\",\"type\":\"VBar\"},{\"attributes\":{\"formatter\":{\"id\":\"3399\",\"type\":\"BasicTickFormatter\"},\"major_label_text_font_size\":{\"value\":\"12pt\"},\"major_label_text_font_style\":\"bold\",\"minor_tick_line_color\":{\"value\":null},\"ticker\":{\"id\":\"3381\",\"type\":\"BasicTicker\"}},\"id\":\"3380\",\"type\":\"LinearAxis\"},{\"attributes\":{\"callback\":null,\"factors\":[\"Dec\",\"Jan\",\"Feb\",\"Mar\",\"Apr\"],\"range_padding\":0.1},\"id\":\"3365\",\"type\":\"FactorRange\"},{\"attributes\":{\"grid_line_color\":null,\"ticker\":{\"id\":\"3377\",\"type\":\"CategoricalTicker\"}},\"id\":\"3379\",\"type\":\"Grid\"},{\"attributes\":{},\"id\":\"3590\",\"type\":\"UnionRenderers\"},{\"attributes\":{\"label\":{\"value\":\"MCC Road\"},\"renderers\":[{\"id\":\"3413\",\"type\":\"GlyphRenderer\"}]},\"id\":\"3424\",\"type\":\"LegendItem\"},{\"attributes\":{\"fill_color\":{\"value\":\"#1f77b4\"},\"line_color\":{\"value\":\"#1f77b4\"},\"top\":{\"field\":\"counts\"},\"width\":{\"value\":0.4},\"x\":{\"field\":\"x\",\"transform\":{\"id\":\"3407\",\"type\":\"Dodge\"}}},\"id\":\"3412\",\"type\":\"VBar\"},{\"attributes\":{},\"id\":\"3585\",\"type\":\"Selection\"},{\"attributes\":{\"callback\":null,\"tooltips\":[[\"Site\",\"$name\"],[\"Average Daily Users\",\"@counts{int}\"]]},\"id\":\"3429\",\"type\":\"HoverTool\"},{\"attributes\":{\"callback\":null,\"data\":{\"counts\":[131.7,153.67741935483872,123.89285714285714,104.32258064516131,35.4],\"x\":[\"Dec\",\"Jan\",\"Feb\",\"Mar\",\"Apr\"]},\"selected\":{\"id\":\"3422\",\"type\":\"Selection\"},\"selection_policy\":{\"id\":\"3423\",\"type\":\"UnionRenderers\"}},\"id\":\"3389\",\"type\":\"ColumnDataSource\"},{\"attributes\":{\"fill_alpha\":{\"value\":0.1},\"fill_color\":{\"value\":\"#1f77b4\"},\"line_alpha\":{\"value\":0.1},\"line_color\":{\"value\":\"#1f77b4\"},\"top\":{\"field\":\"counts\"},\"width\":{\"value\":0.4},\"x\":{\"field\":\"x\",\"transform\":{\"id\":\"3388\",\"type\":\"Dodge\"}}},\"id\":\"3392\",\"type\":\"VBar\"},{\"attributes\":{},\"id\":\"3372\",\"type\":\"CategoricalScale\"},{\"attributes\":{},\"id\":\"3421\",\"type\":\"UnionRenderers\"},{\"attributes\":{\"text\":\"Season 2018-2019 | Average Daily Trailhead Users Per Month\",\"text_font_size\":{\"value\":\"13pt\"}},\"id\":\"3432\",\"type\":\"Title\"},{\"attributes\":{\"active_drag\":\"auto\",\"active_inspect\":\"auto\",\"active_multi\":null,\"active_scroll\":\"auto\",\"active_tap\":\"auto\",\"tools\":[{\"id\":\"3385\",\"type\":\"SaveTool\"},{\"id\":\"3429\",\"type\":\"HoverTool\"}]},\"id\":\"3386\",\"type\":\"Toolbar\"},{\"attributes\":{},\"id\":\"3399\",\"type\":\"BasicTickFormatter\"},{\"attributes\":{},\"id\":\"3381\",\"type\":\"BasicTicker\"},{\"attributes\":{\"callback\":null,\"data\":{\"n\":[\"(30)\",\"(31)\",\"(28)\",\"(31)\",\"(30)\"],\"x\":[\"Dec\",\"Jan\",\"Feb\",\"Mar\",\"Apr\"],\"y\":[131.7,153.67741935483872,123.89285714285714,104.32258064516131,35.4]},\"selected\":{\"id\":\"3420\",\"type\":\"Selection\"},\"selection_policy\":{\"id\":\"3421\",\"type\":\"UnionRenderers\"}},\"id\":\"3404\",\"type\":\"ColumnDataSource\"},{\"attributes\":{\"source\":{\"id\":\"3408\",\"type\":\"ColumnDataSource\"}},\"id\":\"3414\",\"type\":\"CDSView\"},{\"attributes\":{\"fill_alpha\":{\"value\":0.9},\"fill_color\":{\"value\":\"#0BB5FF\"},\"line_color\":{\"value\":\"#0BB5FF\"},\"top\":{\"field\":\"counts\"},\"width\":{\"value\":0.4},\"x\":{\"field\":\"x\",\"transform\":{\"id\":\"3407\",\"type\":\"Dodge\"}}},\"id\":\"3410\",\"type\":\"VBar\"},{\"attributes\":{\"dimension\":1,\"ticker\":{\"id\":\"3381\",\"type\":\"BasicTicker\"}},\"id\":\"3384\",\"type\":\"Grid\"},{\"attributes\":{},\"id\":\"3423\",\"type\":\"UnionRenderers\"},{\"attributes\":{},\"id\":\"3374\",\"type\":\"LinearScale\"},{\"attributes\":{\"text\":\"Note: (*) is number of days with sensor data\",\"text_font_size\":{\"value\":\"10pt\"},\"text_font_style\":\"normal\"},\"id\":\"3431\",\"type\":\"Title\"},{\"attributes\":{\"data_source\":{\"id\":\"3389\",\"type\":\"ColumnDataSource\"},\"glyph\":{\"id\":\"3391\",\"type\":\"VBar\"},\"hover_glyph\":{\"id\":\"3393\",\"type\":\"VBar\"},\"muted_glyph\":null,\"name\":\"MCC Porter\",\"nonselection_glyph\":{\"id\":\"3392\",\"type\":\"VBar\"},\"selection_glyph\":null,\"view\":{\"id\":\"3395\",\"type\":\"CDSView\"}},\"id\":\"3394\",\"type\":\"GlyphRenderer\"},{\"attributes\":{\"formatter\":{\"id\":\"3397\",\"type\":\"CategoricalTickFormatter\"},\"major_label_orientation\":0,\"major_label_standoff\":10,\"major_label_text_font_size\":{\"value\":\"12pt\"},\"major_label_text_font_style\":\"bold\",\"major_tick_line_color\":{\"value\":null},\"minor_tick_line_color\":{\"value\":null},\"ticker\":{\"id\":\"3377\",\"type\":\"CategoricalTicker\"}},\"id\":\"3376\",\"type\":\"CategoricalAxis\"},{\"attributes\":{},\"id\":\"3422\",\"type\":\"Selection\"},{\"attributes\":{\"data_source\":{\"id\":\"3408\",\"type\":\"ColumnDataSource\"},\"glyph\":{\"id\":\"3410\",\"type\":\"VBar\"},\"hover_glyph\":{\"id\":\"3412\",\"type\":\"VBar\"},\"muted_glyph\":null,\"name\":\"MCC Road\",\"nonselection_glyph\":{\"id\":\"3411\",\"type\":\"VBar\"},\"selection_glyph\":null,\"view\":{\"id\":\"3414\",\"type\":\"CDSView\"}},\"id\":\"3413\",\"type\":\"GlyphRenderer\"},{\"attributes\":{},\"id\":\"3397\",\"type\":\"CategoricalTickFormatter\"},{\"attributes\":{\"fill_alpha\":{\"value\":0.9},\"fill_color\":{\"value\":\"#0EBFE9\"},\"line_color\":{\"value\":\"#0EBFE9\"},\"top\":{\"field\":\"counts\"},\"width\":{\"value\":0.4},\"x\":{\"field\":\"x\",\"transform\":{\"id\":\"3388\",\"type\":\"Dodge\"}}},\"id\":\"3391\",\"type\":\"VBar\"},{\"attributes\":{\"callback\":null,\"data\":{\"counts\":[546.4666666666667,512.9677419354839,481.07142857142856,365.8709677419355,151.6],\"x\":[\"Dec\",\"Jan\",\"Feb\",\"Mar\",\"Apr\"]},\"selected\":{\"id\":\"3589\",\"type\":\"Selection\"},\"selection_policy\":{\"id\":\"3590\",\"type\":\"UnionRenderers\"}},\"id\":\"3408\",\"type\":\"ColumnDataSource\"},{\"attributes\":{\"range\":{\"id\":\"3365\",\"type\":\"FactorRange\"},\"value\":0.24000000000000002},\"id\":\"3407\",\"type\":\"Dodge\"},{\"attributes\":{\"source\":{\"id\":\"3389\",\"type\":\"ColumnDataSource\"}},\"id\":\"3395\",\"type\":\"CDSView\"},{\"attributes\":{},\"id\":\"3589\",\"type\":\"Selection\"},{\"attributes\":{\"text\":\"\",\"text_font_size\":{\"value\":\"12pt\"}},\"id\":\"3367\",\"type\":\"Title\"},{\"attributes\":{\"callback\":null,\"data\":{\"n\":[\"(30)\",\"(31)\",\"(28)\",\"(31)\",\"(30)\"],\"x\":[\"Dec\",\"Jan\",\"Feb\",\"Mar\",\"Apr\"],\"y\":[546.4666666666667,512.9677419354839,481.07142857142856,365.8709677419355,151.6]},\"selected\":{\"id\":\"3585\",\"type\":\"Selection\"},\"selection_policy\":{\"id\":\"3586\",\"type\":\"UnionRenderers\"}},\"id\":\"3426\",\"type\":\"ColumnDataSource\"},{\"attributes\":{},\"id\":\"3377\",\"type\":\"CategoricalTicker\"},{\"attributes\":{\"fill_color\":{\"value\":\"#1f77b4\"},\"line_color\":{\"value\":\"#1f77b4\"},\"top\":{\"field\":\"counts\"},\"width\":{\"value\":0.4},\"x\":{\"field\":\"x\",\"transform\":{\"id\":\"3388\",\"type\":\"Dodge\"}}},\"id\":\"3393\",\"type\":\"VBar\"},{\"attributes\":{},\"id\":\"3586\",\"type\":\"UnionRenderers\"},{\"attributes\":{\"items\":[{\"id\":\"3402\",\"type\":\"LegendItem\"},{\"id\":\"3424\",\"type\":\"LegendItem\"}],\"location\":\"top_left\",\"orientation\":\"horizontal\"},\"id\":\"3401\",\"type\":\"Legend\"}],\"root_ids\":[\"3366\"]},\"title\":\"Bokeh Application\",\"version\":\"1.4.0\"}};\n",
       "  var render_items = [{\"docid\":\"ed215c78-defb-485a-829b-1689c880a278\",\"roots\":{\"3366\":\"8fd58fa4-9efa-48d3-8a52-d2997ada78f9\"}}];\n",
       "  root.Bokeh.embed.embed_items_notebook(docs_json, render_items);\n",
       "\n",
       "  }\n",
       "  if (root.Bokeh !== undefined) {\n",
       "    embed_document(root);\n",
       "  } else {\n",
       "    var attempts = 0;\n",
       "    var timer = setInterval(function(root) {\n",
       "      if (root.Bokeh !== undefined) {\n",
       "        clearInterval(timer);\n",
       "        embed_document(root);\n",
       "      } else {\n",
       "        attempts++;\n",
       "        if (attempts > 100) {\n",
       "          clearInterval(timer);\n",
       "          console.log(\"Bokeh: ERROR: Unable to run BokehJS code because BokehJS library is missing\");\n",
       "        }\n",
       "      }\n",
       "    }, 10, root)\n",
       "  }\n",
       "})(window);"
      ],
      "application/vnd.bokehjs_exec.v0+json": ""
     },
     "metadata": {
      "application/vnd.bokehjs_exec.v0+json": {
       "id": "3366"
      }
     },
     "output_type": "display_data"
    }
   ],
   "source": [
    "season = ['2018-2019']\n",
    "sites = [x for x in adu_df.query(\"season == @season\")['site'].unique() if \"MCC\" in x]\n",
    "dayOfWeek = 'All'\n",
    "src_df = make_data_set(sites, season, dayOfWeek, adu_df)\n",
    "p = make_plot(src_df)\n",
    "show(p)"
   ]
  },
  {
   "cell_type": "code",
   "execution_count": 21,
   "metadata": {},
   "outputs": [
    {
     "data": {
      "text/html": [
       "\n",
       "\n",
       "\n",
       "\n",
       "\n",
       "\n",
       "  <div class=\"bk-root\" id=\"7b7ffe55-44be-4357-b0bf-ba2db67fa8be\" data-root-id=\"3670\"></div>\n"
      ]
     },
     "metadata": {},
     "output_type": "display_data"
    },
    {
     "data": {
      "application/javascript": [
       "(function(root) {\n",
       "  function embed_document(root) {\n",
       "    \n",
       "  var docs_json = {\"f78ca4f9-b2bc-4ebe-a421-9a7c2a6c8a8e\":{\"roots\":{\"references\":[{\"attributes\":{\"above\":[{\"id\":\"3736\",\"type\":\"Title\"}],\"below\":[{\"id\":\"3680\",\"type\":\"CategoricalAxis\"},{\"id\":\"3735\",\"type\":\"Title\"}],\"center\":[{\"id\":\"3683\",\"type\":\"Grid\"},{\"id\":\"3688\",\"type\":\"Grid\"},{\"id\":\"3705\",\"type\":\"Legend\"},{\"id\":\"3709\",\"type\":\"LabelSet\"},{\"id\":\"3731\",\"type\":\"LabelSet\"}],\"left\":[{\"id\":\"3684\",\"type\":\"LinearAxis\"}],\"plot_height\":400,\"plot_width\":800,\"renderers\":[{\"id\":\"3698\",\"type\":\"GlyphRenderer\"},{\"id\":\"3717\",\"type\":\"GlyphRenderer\"}],\"title\":{\"id\":\"3671\",\"type\":\"Title\"},\"toolbar\":{\"id\":\"3690\",\"type\":\"Toolbar\"},\"x_range\":{\"id\":\"3669\",\"type\":\"FactorRange\"},\"x_scale\":{\"id\":\"3676\",\"type\":\"CategoricalScale\"},\"y_range\":{\"id\":\"3737\",\"type\":\"Range1d\"},\"y_scale\":{\"id\":\"3678\",\"type\":\"LinearScale\"}},\"id\":\"3670\",\"subtype\":\"Figure\",\"type\":\"Plot\"},{\"attributes\":{\"range\":{\"id\":\"3669\",\"type\":\"FactorRange\"},\"value\":0.24000000000000002},\"id\":\"3729\",\"type\":\"Dodge\"},{\"attributes\":{\"fill_alpha\":{\"value\":0.9},\"fill_color\":{\"value\":\"#0EBFE9\"},\"line_color\":{\"value\":\"#0EBFE9\"},\"top\":{\"field\":\"counts\"},\"width\":{\"value\":0.4},\"x\":{\"field\":\"x\",\"transform\":{\"id\":\"3692\",\"type\":\"Dodge\"}}},\"id\":\"3695\",\"type\":\"VBar\"},{\"attributes\":{},\"id\":\"3907\",\"type\":\"UnionRenderers\"},{\"attributes\":{},\"id\":\"3681\",\"type\":\"CategoricalTicker\"},{\"attributes\":{\"source\":{\"id\":\"3693\",\"type\":\"ColumnDataSource\"}},\"id\":\"3699\",\"type\":\"CDSView\"},{\"attributes\":{\"callback\":null,\"data\":{\"counts\":[190.0,268.5,237.75,197.6,53.0],\"x\":[\"Dec\",\"Jan\",\"Feb\",\"Mar\",\"Apr\"]},\"selected\":{\"id\":\"3726\",\"type\":\"Selection\"},\"selection_policy\":{\"id\":\"3727\",\"type\":\"UnionRenderers\"}},\"id\":\"3693\",\"type\":\"ColumnDataSource\"},{\"attributes\":{\"grid_line_color\":null,\"ticker\":{\"id\":\"3681\",\"type\":\"CategoricalTicker\"}},\"id\":\"3683\",\"type\":\"Grid\"},{\"attributes\":{},\"id\":\"3903\",\"type\":\"UnionRenderers\"},{\"attributes\":{\"label\":{\"value\":\"MCC Road\"},\"renderers\":[{\"id\":\"3717\",\"type\":\"GlyphRenderer\"}]},\"id\":\"3728\",\"type\":\"LegendItem\"},{\"attributes\":{\"callback\":null,\"factors\":[\"Dec\",\"Jan\",\"Feb\",\"Mar\",\"Apr\"],\"range_padding\":0.1},\"id\":\"3669\",\"type\":\"FactorRange\"},{\"attributes\":{\"callback\":null,\"tooltips\":[[\"Site\",\"$name\"],[\"Average Daily Users\",\"@counts{int}\"]]},\"id\":\"3733\",\"type\":\"HoverTool\"},{\"attributes\":{\"fill_color\":{\"value\":\"#1f77b4\"},\"line_color\":{\"value\":\"#1f77b4\"},\"top\":{\"field\":\"counts\"},\"width\":{\"value\":0.4},\"x\":{\"field\":\"x\",\"transform\":{\"id\":\"3692\",\"type\":\"Dodge\"}}},\"id\":\"3697\",\"type\":\"VBar\"},{\"attributes\":{\"data_source\":{\"id\":\"3693\",\"type\":\"ColumnDataSource\"},\"glyph\":{\"id\":\"3695\",\"type\":\"VBar\"},\"hover_glyph\":{\"id\":\"3697\",\"type\":\"VBar\"},\"muted_glyph\":null,\"name\":\"MCC Porter\",\"nonselection_glyph\":{\"id\":\"3696\",\"type\":\"VBar\"},\"selection_glyph\":null,\"view\":{\"id\":\"3699\",\"type\":\"CDSView\"}},\"id\":\"3698\",\"type\":\"GlyphRenderer\"},{\"attributes\":{\"callback\":null,\"data\":{\"n\":[\"(4)\",\"(4)\",\"(4)\",\"(5)\",\"(4)\"],\"x\":[\"Dec\",\"Jan\",\"Feb\",\"Mar\",\"Apr\"],\"y\":[190.0,268.5,237.75,197.6,53.0]},\"selected\":{\"id\":\"3724\",\"type\":\"Selection\"},\"selection_policy\":{\"id\":\"3725\",\"type\":\"UnionRenderers\"}},\"id\":\"3708\",\"type\":\"ColumnDataSource\"},{\"attributes\":{\"text\":\"Note: (*) is number of days with sensor data\",\"text_font_size\":{\"value\":\"10pt\"},\"text_font_style\":\"normal\"},\"id\":\"3735\",\"type\":\"Title\"},{\"attributes\":{\"formatter\":{\"id\":\"3703\",\"type\":\"BasicTickFormatter\"},\"major_label_text_font_size\":{\"value\":\"12pt\"},\"major_label_text_font_style\":\"bold\",\"minor_tick_line_color\":{\"value\":null},\"ticker\":{\"id\":\"3685\",\"type\":\"BasicTicker\"}},\"id\":\"3684\",\"type\":\"LinearAxis\"},{\"attributes\":{\"callback\":null,\"data\":{\"counts\":[724.5,877.75,796.25,502.8,214.25],\"x\":[\"Dec\",\"Jan\",\"Feb\",\"Mar\",\"Apr\"]},\"selected\":{\"id\":\"3906\",\"type\":\"Selection\"},\"selection_policy\":{\"id\":\"3907\",\"type\":\"UnionRenderers\"}},\"id\":\"3712\",\"type\":\"ColumnDataSource\"},{\"attributes\":{},\"id\":\"3689\",\"type\":\"SaveTool\"},{\"attributes\":{\"callback\":null,\"data\":{\"n\":[\"(4)\",\"(4)\",\"(4)\",\"(5)\",\"(4)\"],\"x\":[\"Dec\",\"Jan\",\"Feb\",\"Mar\",\"Apr\"],\"y\":[724.5,877.75,796.25,502.8,214.25]},\"selected\":{\"id\":\"3902\",\"type\":\"Selection\"},\"selection_policy\":{\"id\":\"3903\",\"type\":\"UnionRenderers\"}},\"id\":\"3730\",\"type\":\"ColumnDataSource\"},{\"attributes\":{\"text\":\"Season 2018-2019 | Average Daily Trailhead Users Per Month For Saturdays\",\"text_font_size\":{\"value\":\"13pt\"}},\"id\":\"3736\",\"type\":\"Title\"},{\"attributes\":{\"source\":{\"id\":\"3712\",\"type\":\"ColumnDataSource\"}},\"id\":\"3718\",\"type\":\"CDSView\"},{\"attributes\":{},\"id\":\"3724\",\"type\":\"Selection\"},{\"attributes\":{},\"id\":\"3906\",\"type\":\"Selection\"},{\"attributes\":{},\"id\":\"3701\",\"type\":\"CategoricalTickFormatter\"},{\"attributes\":{\"fill_color\":{\"value\":\"#1f77b4\"},\"line_color\":{\"value\":\"#1f77b4\"},\"top\":{\"field\":\"counts\"},\"width\":{\"value\":0.4},\"x\":{\"field\":\"x\",\"transform\":{\"id\":\"3711\",\"type\":\"Dodge\"}}},\"id\":\"3716\",\"type\":\"VBar\"},{\"attributes\":{},\"id\":\"3676\",\"type\":\"CategoricalScale\"},{\"attributes\":{\"text\":\"\",\"text_font_size\":{\"value\":\"12pt\"}},\"id\":\"3671\",\"type\":\"Title\"},{\"attributes\":{\"fill_alpha\":{\"value\":0.9},\"fill_color\":{\"value\":\"#0BB5FF\"},\"line_color\":{\"value\":\"#0BB5FF\"},\"top\":{\"field\":\"counts\"},\"width\":{\"value\":0.4},\"x\":{\"field\":\"x\",\"transform\":{\"id\":\"3711\",\"type\":\"Dodge\"}}},\"id\":\"3714\",\"type\":\"VBar\"},{\"attributes\":{},\"id\":\"3703\",\"type\":\"BasicTickFormatter\"},{\"attributes\":{\"level\":\"glyph\",\"source\":{\"id\":\"3708\",\"type\":\"ColumnDataSource\"},\"text\":{\"field\":\"n\"},\"text_align\":\"center\",\"text_color\":{\"value\":\"#000000\"},\"text_font_size\":{\"value\":\"7pt\"},\"x\":{\"field\":\"x\",\"transform\":{\"id\":\"3707\",\"type\":\"Dodge\"}},\"y\":{\"field\":\"y\"}},\"id\":\"3709\",\"type\":\"LabelSet\"},{\"attributes\":{},\"id\":\"3902\",\"type\":\"Selection\"},{\"attributes\":{},\"id\":\"3685\",\"type\":\"BasicTicker\"},{\"attributes\":{},\"id\":\"3725\",\"type\":\"UnionRenderers\"},{\"attributes\":{},\"id\":\"3727\",\"type\":\"UnionRenderers\"},{\"attributes\":{\"range\":{\"id\":\"3669\",\"type\":\"FactorRange\"},\"value\":0.24000000000000002},\"id\":\"3711\",\"type\":\"Dodge\"},{\"attributes\":{\"label\":{\"value\":\"MCC Porter\"},\"renderers\":[{\"id\":\"3698\",\"type\":\"GlyphRenderer\"}]},\"id\":\"3706\",\"type\":\"LegendItem\"},{\"attributes\":{\"range\":{\"id\":\"3669\",\"type\":\"FactorRange\"},\"value\":-0.24000000000000002},\"id\":\"3692\",\"type\":\"Dodge\"},{\"attributes\":{\"data_source\":{\"id\":\"3712\",\"type\":\"ColumnDataSource\"},\"glyph\":{\"id\":\"3714\",\"type\":\"VBar\"},\"hover_glyph\":{\"id\":\"3716\",\"type\":\"VBar\"},\"muted_glyph\":null,\"name\":\"MCC Road\",\"nonselection_glyph\":{\"id\":\"3715\",\"type\":\"VBar\"},\"selection_glyph\":null,\"view\":{\"id\":\"3718\",\"type\":\"CDSView\"}},\"id\":\"3717\",\"type\":\"GlyphRenderer\"},{\"attributes\":{\"range\":{\"id\":\"3669\",\"type\":\"FactorRange\"},\"value\":-0.24000000000000002},\"id\":\"3707\",\"type\":\"Dodge\"},{\"attributes\":{\"items\":[{\"id\":\"3706\",\"type\":\"LegendItem\"},{\"id\":\"3728\",\"type\":\"LegendItem\"}],\"location\":\"top_left\",\"orientation\":\"horizontal\"},\"id\":\"3705\",\"type\":\"Legend\"},{\"attributes\":{},\"id\":\"3678\",\"type\":\"LinearScale\"},{\"attributes\":{},\"id\":\"3726\",\"type\":\"Selection\"},{\"attributes\":{\"fill_alpha\":{\"value\":0.1},\"fill_color\":{\"value\":\"#1f77b4\"},\"line_alpha\":{\"value\":0.1},\"line_color\":{\"value\":\"#1f77b4\"},\"top\":{\"field\":\"counts\"},\"width\":{\"value\":0.4},\"x\":{\"field\":\"x\",\"transform\":{\"id\":\"3711\",\"type\":\"Dodge\"}}},\"id\":\"3715\",\"type\":\"VBar\"},{\"attributes\":{\"fill_alpha\":{\"value\":0.1},\"fill_color\":{\"value\":\"#1f77b4\"},\"line_alpha\":{\"value\":0.1},\"line_color\":{\"value\":\"#1f77b4\"},\"top\":{\"field\":\"counts\"},\"width\":{\"value\":0.4},\"x\":{\"field\":\"x\",\"transform\":{\"id\":\"3692\",\"type\":\"Dodge\"}}},\"id\":\"3696\",\"type\":\"VBar\"},{\"attributes\":{\"formatter\":{\"id\":\"3701\",\"type\":\"CategoricalTickFormatter\"},\"major_label_orientation\":0,\"major_label_standoff\":10,\"major_label_text_font_size\":{\"value\":\"12pt\"},\"major_label_text_font_style\":\"bold\",\"major_tick_line_color\":{\"value\":null},\"minor_tick_line_color\":{\"value\":null},\"ticker\":{\"id\":\"3681\",\"type\":\"CategoricalTicker\"}},\"id\":\"3680\",\"type\":\"CategoricalAxis\"},{\"attributes\":{\"active_drag\":\"auto\",\"active_inspect\":\"auto\",\"active_multi\":null,\"active_scroll\":\"auto\",\"active_tap\":\"auto\",\"tools\":[{\"id\":\"3689\",\"type\":\"SaveTool\"},{\"id\":\"3733\",\"type\":\"HoverTool\"}]},\"id\":\"3690\",\"type\":\"Toolbar\"},{\"attributes\":{\"level\":\"glyph\",\"source\":{\"id\":\"3730\",\"type\":\"ColumnDataSource\"},\"text\":{\"field\":\"n\"},\"text_align\":\"center\",\"text_color\":{\"value\":\"#000000\"},\"text_font_size\":{\"value\":\"7pt\"},\"x\":{\"field\":\"x\",\"transform\":{\"id\":\"3729\",\"type\":\"Dodge\"}},\"y\":{\"field\":\"y\"}},\"id\":\"3731\",\"type\":\"LabelSet\"},{\"attributes\":{\"dimension\":1,\"ticker\":{\"id\":\"3685\",\"type\":\"BasicTicker\"}},\"id\":\"3688\",\"type\":\"Grid\"},{\"attributes\":{\"callback\":null,\"end\":1141.075},\"id\":\"3737\",\"type\":\"Range1d\"}],\"root_ids\":[\"3670\"]},\"title\":\"Bokeh Application\",\"version\":\"1.4.0\"}};\n",
       "  var render_items = [{\"docid\":\"f78ca4f9-b2bc-4ebe-a421-9a7c2a6c8a8e\",\"roots\":{\"3670\":\"7b7ffe55-44be-4357-b0bf-ba2db67fa8be\"}}];\n",
       "  root.Bokeh.embed.embed_items_notebook(docs_json, render_items);\n",
       "\n",
       "  }\n",
       "  if (root.Bokeh !== undefined) {\n",
       "    embed_document(root);\n",
       "  } else {\n",
       "    var attempts = 0;\n",
       "    var timer = setInterval(function(root) {\n",
       "      if (root.Bokeh !== undefined) {\n",
       "        clearInterval(timer);\n",
       "        embed_document(root);\n",
       "      } else {\n",
       "        attempts++;\n",
       "        if (attempts > 100) {\n",
       "          clearInterval(timer);\n",
       "          console.log(\"Bokeh: ERROR: Unable to run BokehJS code because BokehJS library is missing\");\n",
       "        }\n",
       "      }\n",
       "    }, 10, root)\n",
       "  }\n",
       "})(window);"
      ],
      "application/vnd.bokehjs_exec.v0+json": ""
     },
     "metadata": {
      "application/vnd.bokehjs_exec.v0+json": {
       "id": "3670"
      }
     },
     "output_type": "display_data"
    }
   ],
   "source": [
    "season = ['2018-2019']\n",
    "sites = [x for x in adu_df.query(\"season == @season\")['site'].unique() if \"MCC\" in x]\n",
    "dayOfWeek = 'Saturday'\n",
    "src_df = make_data_set(sites, season, dayOfWeek, adu_df)\n",
    "p = make_plot(src_df)\n",
    "show(p)"
   ]
  },
  {
   "cell_type": "code",
   "execution_count": null,
   "metadata": {},
   "outputs": [],
   "source": []
  },
  {
   "cell_type": "code",
   "execution_count": null,
   "metadata": {},
   "outputs": [],
   "source": []
  },
  {
   "cell_type": "code",
   "execution_count": null,
   "metadata": {},
   "outputs": [],
   "source": []
  },
  {
   "cell_type": "code",
   "execution_count": null,
   "metadata": {},
   "outputs": [],
   "source": []
  },
  {
   "cell_type": "code",
   "execution_count": null,
   "metadata": {},
   "outputs": [],
   "source": []
  },
  {
   "cell_type": "code",
   "execution_count": null,
   "metadata": {},
   "outputs": [],
   "source": []
  },
  {
   "cell_type": "code",
   "execution_count": null,
   "metadata": {},
   "outputs": [],
   "source": []
  },
  {
   "cell_type": "code",
   "execution_count": null,
   "metadata": {},
   "outputs": [],
   "source": []
  },
  {
   "cell_type": "code",
   "execution_count": null,
   "metadata": {},
   "outputs": [],
   "source": []
  }
 ],
 "metadata": {
  "kernelspec": {
   "display_name": "Python 3",
   "language": "python",
   "name": "python3"
  },
  "language_info": {
   "codemirror_mode": {
    "name": "ipython",
    "version": 3
   },
   "file_extension": ".py",
   "mimetype": "text/x-python",
   "name": "python",
   "nbconvert_exporter": "python",
   "pygments_lexer": "ipython3",
   "version": "3.7.5"
  },
  "varInspector": {
   "cols": {
    "lenName": 16,
    "lenType": 16,
    "lenVar": 40
   },
   "kernels_config": {
    "python": {
     "delete_cmd_postfix": "",
     "delete_cmd_prefix": "del ",
     "library": "var_list.py",
     "varRefreshCmd": "print(var_dic_list())"
    },
    "r": {
     "delete_cmd_postfix": ") ",
     "delete_cmd_prefix": "rm(",
     "library": "var_list.r",
     "varRefreshCmd": "cat(var_dic_list()) "
    }
   },
   "position": {
    "height": "431.667px",
    "left": "909px",
    "right": "20px",
    "top": "120px",
    "width": "350px"
   },
   "types_to_exclude": [
    "module",
    "function",
    "builtin_function_or_method",
    "instance",
    "_Feature"
   ],
   "window_display": false
  }
 },
 "nbformat": 4,
 "nbformat_minor": 2
}
