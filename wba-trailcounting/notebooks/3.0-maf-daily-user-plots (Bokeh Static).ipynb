{
 "cells": [
  {
   "cell_type": "markdown",
   "metadata": {
    "cell_style": "split"
   },
   "source": [
    "# Daily User Plots (Bokeh Static)"
   ]
  },
  {
   "cell_type": "markdown",
   "metadata": {},
   "source": [
    "### Imports"
   ]
  },
  {
   "cell_type": "code",
   "execution_count": 1,
   "metadata": {},
   "outputs": [
    {
     "data": {
      "text/html": [
       "\n",
       "    <div class=\"bk-root\">\n",
       "        <a href=\"https://bokeh.org\" target=\"_blank\" class=\"bk-logo bk-logo-small bk-logo-notebook\"></a>\n",
       "        <span id=\"1001\">Loading BokehJS ...</span>\n",
       "    </div>"
      ]
     },
     "metadata": {},
     "output_type": "display_data"
    },
    {
     "data": {
      "application/javascript": [
       "\n",
       "(function(root) {\n",
       "  function now() {\n",
       "    return new Date();\n",
       "  }\n",
       "\n",
       "  var force = true;\n",
       "\n",
       "  if (typeof root._bokeh_onload_callbacks === \"undefined\" || force === true) {\n",
       "    root._bokeh_onload_callbacks = [];\n",
       "    root._bokeh_is_loading = undefined;\n",
       "  }\n",
       "\n",
       "  var JS_MIME_TYPE = 'application/javascript';\n",
       "  var HTML_MIME_TYPE = 'text/html';\n",
       "  var EXEC_MIME_TYPE = 'application/vnd.bokehjs_exec.v0+json';\n",
       "  var CLASS_NAME = 'output_bokeh rendered_html';\n",
       "\n",
       "  /**\n",
       "   * Render data to the DOM node\n",
       "   */\n",
       "  function render(props, node) {\n",
       "    var script = document.createElement(\"script\");\n",
       "    node.appendChild(script);\n",
       "  }\n",
       "\n",
       "  /**\n",
       "   * Handle when an output is cleared or removed\n",
       "   */\n",
       "  function handleClearOutput(event, handle) {\n",
       "    var cell = handle.cell;\n",
       "\n",
       "    var id = cell.output_area._bokeh_element_id;\n",
       "    var server_id = cell.output_area._bokeh_server_id;\n",
       "    // Clean up Bokeh references\n",
       "    if (id != null && id in Bokeh.index) {\n",
       "      Bokeh.index[id].model.document.clear();\n",
       "      delete Bokeh.index[id];\n",
       "    }\n",
       "\n",
       "    if (server_id !== undefined) {\n",
       "      // Clean up Bokeh references\n",
       "      var cmd = \"from bokeh.io.state import curstate; print(curstate().uuid_to_server['\" + server_id + \"'].get_sessions()[0].document.roots[0]._id)\";\n",
       "      cell.notebook.kernel.execute(cmd, {\n",
       "        iopub: {\n",
       "          output: function(msg) {\n",
       "            var id = msg.content.text.trim();\n",
       "            if (id in Bokeh.index) {\n",
       "              Bokeh.index[id].model.document.clear();\n",
       "              delete Bokeh.index[id];\n",
       "            }\n",
       "          }\n",
       "        }\n",
       "      });\n",
       "      // Destroy server and session\n",
       "      var cmd = \"import bokeh.io.notebook as ion; ion.destroy_server('\" + server_id + \"')\";\n",
       "      cell.notebook.kernel.execute(cmd);\n",
       "    }\n",
       "  }\n",
       "\n",
       "  /**\n",
       "   * Handle when a new output is added\n",
       "   */\n",
       "  function handleAddOutput(event, handle) {\n",
       "    var output_area = handle.output_area;\n",
       "    var output = handle.output;\n",
       "\n",
       "    // limit handleAddOutput to display_data with EXEC_MIME_TYPE content only\n",
       "    if ((output.output_type != \"display_data\") || (!output.data.hasOwnProperty(EXEC_MIME_TYPE))) {\n",
       "      return\n",
       "    }\n",
       "\n",
       "    var toinsert = output_area.element.find(\".\" + CLASS_NAME.split(' ')[0]);\n",
       "\n",
       "    if (output.metadata[EXEC_MIME_TYPE][\"id\"] !== undefined) {\n",
       "      toinsert[toinsert.length - 1].firstChild.textContent = output.data[JS_MIME_TYPE];\n",
       "      // store reference to embed id on output_area\n",
       "      output_area._bokeh_element_id = output.metadata[EXEC_MIME_TYPE][\"id\"];\n",
       "    }\n",
       "    if (output.metadata[EXEC_MIME_TYPE][\"server_id\"] !== undefined) {\n",
       "      var bk_div = document.createElement(\"div\");\n",
       "      bk_div.innerHTML = output.data[HTML_MIME_TYPE];\n",
       "      var script_attrs = bk_div.children[0].attributes;\n",
       "      for (var i = 0; i < script_attrs.length; i++) {\n",
       "        toinsert[toinsert.length - 1].firstChild.setAttribute(script_attrs[i].name, script_attrs[i].value);\n",
       "      }\n",
       "      // store reference to server id on output_area\n",
       "      output_area._bokeh_server_id = output.metadata[EXEC_MIME_TYPE][\"server_id\"];\n",
       "    }\n",
       "  }\n",
       "\n",
       "  function register_renderer(events, OutputArea) {\n",
       "\n",
       "    function append_mime(data, metadata, element) {\n",
       "      // create a DOM node to render to\n",
       "      var toinsert = this.create_output_subarea(\n",
       "        metadata,\n",
       "        CLASS_NAME,\n",
       "        EXEC_MIME_TYPE\n",
       "      );\n",
       "      this.keyboard_manager.register_events(toinsert);\n",
       "      // Render to node\n",
       "      var props = {data: data, metadata: metadata[EXEC_MIME_TYPE]};\n",
       "      render(props, toinsert[toinsert.length - 1]);\n",
       "      element.append(toinsert);\n",
       "      return toinsert\n",
       "    }\n",
       "\n",
       "    /* Handle when an output is cleared or removed */\n",
       "    events.on('clear_output.CodeCell', handleClearOutput);\n",
       "    events.on('delete.Cell', handleClearOutput);\n",
       "\n",
       "    /* Handle when a new output is added */\n",
       "    events.on('output_added.OutputArea', handleAddOutput);\n",
       "\n",
       "    /**\n",
       "     * Register the mime type and append_mime function with output_area\n",
       "     */\n",
       "    OutputArea.prototype.register_mime_type(EXEC_MIME_TYPE, append_mime, {\n",
       "      /* Is output safe? */\n",
       "      safe: true,\n",
       "      /* Index of renderer in `output_area.display_order` */\n",
       "      index: 0\n",
       "    });\n",
       "  }\n",
       "\n",
       "  // register the mime type if in Jupyter Notebook environment and previously unregistered\n",
       "  if (root.Jupyter !== undefined) {\n",
       "    var events = require('base/js/events');\n",
       "    var OutputArea = require('notebook/js/outputarea').OutputArea;\n",
       "\n",
       "    if (OutputArea.prototype.mime_types().indexOf(EXEC_MIME_TYPE) == -1) {\n",
       "      register_renderer(events, OutputArea);\n",
       "    }\n",
       "  }\n",
       "\n",
       "  \n",
       "  if (typeof (root._bokeh_timeout) === \"undefined\" || force === true) {\n",
       "    root._bokeh_timeout = Date.now() + 5000;\n",
       "    root._bokeh_failed_load = false;\n",
       "  }\n",
       "\n",
       "  var NB_LOAD_WARNING = {'data': {'text/html':\n",
       "     \"<div style='background-color: #fdd'>\\n\"+\n",
       "     \"<p>\\n\"+\n",
       "     \"BokehJS does not appear to have successfully loaded. If loading BokehJS from CDN, this \\n\"+\n",
       "     \"may be due to a slow or bad network connection. Possible fixes:\\n\"+\n",
       "     \"</p>\\n\"+\n",
       "     \"<ul>\\n\"+\n",
       "     \"<li>re-rerun `output_notebook()` to attempt to load from CDN again, or</li>\\n\"+\n",
       "     \"<li>use INLINE resources instead, as so:</li>\\n\"+\n",
       "     \"</ul>\\n\"+\n",
       "     \"<code>\\n\"+\n",
       "     \"from bokeh.resources import INLINE\\n\"+\n",
       "     \"output_notebook(resources=INLINE)\\n\"+\n",
       "     \"</code>\\n\"+\n",
       "     \"</div>\"}};\n",
       "\n",
       "  function display_loaded() {\n",
       "    var el = document.getElementById(\"1001\");\n",
       "    if (el != null) {\n",
       "      el.textContent = \"BokehJS is loading...\";\n",
       "    }\n",
       "    if (root.Bokeh !== undefined) {\n",
       "      if (el != null) {\n",
       "        el.textContent = \"BokehJS \" + root.Bokeh.version + \" successfully loaded.\";\n",
       "      }\n",
       "    } else if (Date.now() < root._bokeh_timeout) {\n",
       "      setTimeout(display_loaded, 100)\n",
       "    }\n",
       "  }\n",
       "\n",
       "\n",
       "  function run_callbacks() {\n",
       "    try {\n",
       "      root._bokeh_onload_callbacks.forEach(function(callback) {\n",
       "        if (callback != null)\n",
       "          callback();\n",
       "      });\n",
       "    } finally {\n",
       "      delete root._bokeh_onload_callbacks\n",
       "    }\n",
       "    console.debug(\"Bokeh: all callbacks have finished\");\n",
       "  }\n",
       "\n",
       "  function load_libs(css_urls, js_urls, callback) {\n",
       "    if (css_urls == null) css_urls = [];\n",
       "    if (js_urls == null) js_urls = [];\n",
       "\n",
       "    root._bokeh_onload_callbacks.push(callback);\n",
       "    if (root._bokeh_is_loading > 0) {\n",
       "      console.debug(\"Bokeh: BokehJS is being loaded, scheduling callback at\", now());\n",
       "      return null;\n",
       "    }\n",
       "    if (js_urls == null || js_urls.length === 0) {\n",
       "      run_callbacks();\n",
       "      return null;\n",
       "    }\n",
       "    console.debug(\"Bokeh: BokehJS not loaded, scheduling load and callback at\", now());\n",
       "    root._bokeh_is_loading = css_urls.length + js_urls.length;\n",
       "\n",
       "    function on_load() {\n",
       "      root._bokeh_is_loading--;\n",
       "      if (root._bokeh_is_loading === 0) {\n",
       "        console.debug(\"Bokeh: all BokehJS libraries/stylesheets loaded\");\n",
       "        run_callbacks()\n",
       "      }\n",
       "    }\n",
       "\n",
       "    function on_error() {\n",
       "      console.error(\"failed to load \" + url);\n",
       "    }\n",
       "\n",
       "    for (var i = 0; i < css_urls.length; i++) {\n",
       "      var url = css_urls[i];\n",
       "      const element = document.createElement(\"link\");\n",
       "      element.onload = on_load;\n",
       "      element.onerror = on_error;\n",
       "      element.rel = \"stylesheet\";\n",
       "      element.type = \"text/css\";\n",
       "      element.href = url;\n",
       "      console.debug(\"Bokeh: injecting link tag for BokehJS stylesheet: \", url);\n",
       "      document.body.appendChild(element);\n",
       "    }\n",
       "\n",
       "    for (var i = 0; i < js_urls.length; i++) {\n",
       "      var url = js_urls[i];\n",
       "      var element = document.createElement('script');\n",
       "      element.onload = on_load;\n",
       "      element.onerror = on_error;\n",
       "      element.async = false;\n",
       "      element.src = url;\n",
       "      console.debug(\"Bokeh: injecting script tag for BokehJS library: \", url);\n",
       "      document.head.appendChild(element);\n",
       "    }\n",
       "  };var element = document.getElementById(\"1001\");\n",
       "  if (element == null) {\n",
       "    console.error(\"Bokeh: ERROR: autoload.js configured with elementid '1001' but no matching script tag was found. \")\n",
       "    return false;\n",
       "  }\n",
       "\n",
       "  function inject_raw_css(css) {\n",
       "    const element = document.createElement(\"style\");\n",
       "    element.appendChild(document.createTextNode(css));\n",
       "    document.body.appendChild(element);\n",
       "  }\n",
       "\n",
       "  \n",
       "  var js_urls = [\"https://cdn.pydata.org/bokeh/release/bokeh-1.4.0.min.js\", \"https://cdn.pydata.org/bokeh/release/bokeh-widgets-1.4.0.min.js\", \"https://cdn.pydata.org/bokeh/release/bokeh-tables-1.4.0.min.js\", \"https://cdn.pydata.org/bokeh/release/bokeh-gl-1.4.0.min.js\"];\n",
       "  var css_urls = [];\n",
       "  \n",
       "\n",
       "  var inline_js = [\n",
       "    function(Bokeh) {\n",
       "      Bokeh.set_log_level(\"info\");\n",
       "    },\n",
       "    function(Bokeh) {\n",
       "    \n",
       "    \n",
       "    }\n",
       "  ];\n",
       "\n",
       "  function run_inline_js() {\n",
       "    \n",
       "    if (root.Bokeh !== undefined || force === true) {\n",
       "      \n",
       "    for (var i = 0; i < inline_js.length; i++) {\n",
       "      inline_js[i].call(root, root.Bokeh);\n",
       "    }\n",
       "    if (force === true) {\n",
       "        display_loaded();\n",
       "      }} else if (Date.now() < root._bokeh_timeout) {\n",
       "      setTimeout(run_inline_js, 100);\n",
       "    } else if (!root._bokeh_failed_load) {\n",
       "      console.log(\"Bokeh: BokehJS failed to load within specified timeout.\");\n",
       "      root._bokeh_failed_load = true;\n",
       "    } else if (force !== true) {\n",
       "      var cell = $(document.getElementById(\"1001\")).parents('.cell').data().cell;\n",
       "      cell.output_area.append_execute_result(NB_LOAD_WARNING)\n",
       "    }\n",
       "\n",
       "  }\n",
       "\n",
       "  if (root._bokeh_is_loading === 0) {\n",
       "    console.debug(\"Bokeh: BokehJS loaded, going straight to plotting\");\n",
       "    run_inline_js();\n",
       "  } else {\n",
       "    load_libs(css_urls, js_urls, function() {\n",
       "      console.debug(\"Bokeh: BokehJS plotting callback run at\", now());\n",
       "      run_inline_js();\n",
       "    });\n",
       "  }\n",
       "}(window));"
      ],
      "application/vnd.bokehjs_load.v0+json": "\n(function(root) {\n  function now() {\n    return new Date();\n  }\n\n  var force = true;\n\n  if (typeof root._bokeh_onload_callbacks === \"undefined\" || force === true) {\n    root._bokeh_onload_callbacks = [];\n    root._bokeh_is_loading = undefined;\n  }\n\n  \n\n  \n  if (typeof (root._bokeh_timeout) === \"undefined\" || force === true) {\n    root._bokeh_timeout = Date.now() + 5000;\n    root._bokeh_failed_load = false;\n  }\n\n  var NB_LOAD_WARNING = {'data': {'text/html':\n     \"<div style='background-color: #fdd'>\\n\"+\n     \"<p>\\n\"+\n     \"BokehJS does not appear to have successfully loaded. If loading BokehJS from CDN, this \\n\"+\n     \"may be due to a slow or bad network connection. Possible fixes:\\n\"+\n     \"</p>\\n\"+\n     \"<ul>\\n\"+\n     \"<li>re-rerun `output_notebook()` to attempt to load from CDN again, or</li>\\n\"+\n     \"<li>use INLINE resources instead, as so:</li>\\n\"+\n     \"</ul>\\n\"+\n     \"<code>\\n\"+\n     \"from bokeh.resources import INLINE\\n\"+\n     \"output_notebook(resources=INLINE)\\n\"+\n     \"</code>\\n\"+\n     \"</div>\"}};\n\n  function display_loaded() {\n    var el = document.getElementById(\"1001\");\n    if (el != null) {\n      el.textContent = \"BokehJS is loading...\";\n    }\n    if (root.Bokeh !== undefined) {\n      if (el != null) {\n        el.textContent = \"BokehJS \" + root.Bokeh.version + \" successfully loaded.\";\n      }\n    } else if (Date.now() < root._bokeh_timeout) {\n      setTimeout(display_loaded, 100)\n    }\n  }\n\n\n  function run_callbacks() {\n    try {\n      root._bokeh_onload_callbacks.forEach(function(callback) {\n        if (callback != null)\n          callback();\n      });\n    } finally {\n      delete root._bokeh_onload_callbacks\n    }\n    console.debug(\"Bokeh: all callbacks have finished\");\n  }\n\n  function load_libs(css_urls, js_urls, callback) {\n    if (css_urls == null) css_urls = [];\n    if (js_urls == null) js_urls = [];\n\n    root._bokeh_onload_callbacks.push(callback);\n    if (root._bokeh_is_loading > 0) {\n      console.debug(\"Bokeh: BokehJS is being loaded, scheduling callback at\", now());\n      return null;\n    }\n    if (js_urls == null || js_urls.length === 0) {\n      run_callbacks();\n      return null;\n    }\n    console.debug(\"Bokeh: BokehJS not loaded, scheduling load and callback at\", now());\n    root._bokeh_is_loading = css_urls.length + js_urls.length;\n\n    function on_load() {\n      root._bokeh_is_loading--;\n      if (root._bokeh_is_loading === 0) {\n        console.debug(\"Bokeh: all BokehJS libraries/stylesheets loaded\");\n        run_callbacks()\n      }\n    }\n\n    function on_error() {\n      console.error(\"failed to load \" + url);\n    }\n\n    for (var i = 0; i < css_urls.length; i++) {\n      var url = css_urls[i];\n      const element = document.createElement(\"link\");\n      element.onload = on_load;\n      element.onerror = on_error;\n      element.rel = \"stylesheet\";\n      element.type = \"text/css\";\n      element.href = url;\n      console.debug(\"Bokeh: injecting link tag for BokehJS stylesheet: \", url);\n      document.body.appendChild(element);\n    }\n\n    for (var i = 0; i < js_urls.length; i++) {\n      var url = js_urls[i];\n      var element = document.createElement('script');\n      element.onload = on_load;\n      element.onerror = on_error;\n      element.async = false;\n      element.src = url;\n      console.debug(\"Bokeh: injecting script tag for BokehJS library: \", url);\n      document.head.appendChild(element);\n    }\n  };var element = document.getElementById(\"1001\");\n  if (element == null) {\n    console.error(\"Bokeh: ERROR: autoload.js configured with elementid '1001' but no matching script tag was found. \")\n    return false;\n  }\n\n  function inject_raw_css(css) {\n    const element = document.createElement(\"style\");\n    element.appendChild(document.createTextNode(css));\n    document.body.appendChild(element);\n  }\n\n  \n  var js_urls = [\"https://cdn.pydata.org/bokeh/release/bokeh-1.4.0.min.js\", \"https://cdn.pydata.org/bokeh/release/bokeh-widgets-1.4.0.min.js\", \"https://cdn.pydata.org/bokeh/release/bokeh-tables-1.4.0.min.js\", \"https://cdn.pydata.org/bokeh/release/bokeh-gl-1.4.0.min.js\"];\n  var css_urls = [];\n  \n\n  var inline_js = [\n    function(Bokeh) {\n      Bokeh.set_log_level(\"info\");\n    },\n    function(Bokeh) {\n    \n    \n    }\n  ];\n\n  function run_inline_js() {\n    \n    if (root.Bokeh !== undefined || force === true) {\n      \n    for (var i = 0; i < inline_js.length; i++) {\n      inline_js[i].call(root, root.Bokeh);\n    }\n    if (force === true) {\n        display_loaded();\n      }} else if (Date.now() < root._bokeh_timeout) {\n      setTimeout(run_inline_js, 100);\n    } else if (!root._bokeh_failed_load) {\n      console.log(\"Bokeh: BokehJS failed to load within specified timeout.\");\n      root._bokeh_failed_load = true;\n    } else if (force !== true) {\n      var cell = $(document.getElementById(\"1001\")).parents('.cell').data().cell;\n      cell.output_area.append_execute_result(NB_LOAD_WARNING)\n    }\n\n  }\n\n  if (root._bokeh_is_loading === 0) {\n    console.debug(\"Bokeh: BokehJS loaded, going straight to plotting\");\n    run_inline_js();\n  } else {\n    load_libs(css_urls, js_urls, function() {\n      console.debug(\"Bokeh: BokehJS plotting callback run at\", now());\n      run_inline_js();\n    });\n  }\n}(window));"
     },
     "metadata": {},
     "output_type": "display_data"
    }
   ],
   "source": [
    "import os\n",
    "import pandas as pd\n",
    "from bokeh.io import output_notebook\n",
    "from bokeh.plotting import show\n",
    "from IPython.display import clear_output\n",
    "\n",
    "import sys\n",
    "sys.path.append(os.path.abspath(os.path.join(os.getcwd(), \"..\", \"src\", \"visualization\")))\n",
    "import daily_user_bokeh_fxns as dub\n",
    "\n",
    "output_notebook()"
   ]
  },
  {
   "cell_type": "markdown",
   "metadata": {},
   "source": [
    "### Load raw data"
   ]
  },
  {
   "cell_type": "code",
   "execution_count": 2,
   "metadata": {},
   "outputs": [],
   "source": [
    "file_path = os.path.abspath(os.path.join(os.getcwd(), \"..\", \"data\", \"processed\", \"daily_user_averages.csv\"))\n",
    "adu_df = pd.read_csv(file_path)\n",
    "\n",
    "# Convert month to categorical\n",
    "adu_df['month'] = pd.Categorical(adu_df['month'], dub.MONTHS)"
   ]
  },
  {
   "cell_type": "markdown",
   "metadata": {},
   "source": [
    "## LCC Plots"
   ]
  },
  {
   "cell_type": "code",
   "execution_count": 3,
   "metadata": {},
   "outputs": [
    {
     "data": {
      "text/html": [
       "\n",
       "\n",
       "\n",
       "\n",
       "\n",
       "\n",
       "  <div class=\"bk-root\" id=\"492feb39-7f5d-46b3-8e8c-f73b82442993\" data-root-id=\"1003\"></div>\n"
      ]
     },
     "metadata": {},
     "output_type": "display_data"
    },
    {
     "data": {
      "application/javascript": [
       "(function(root) {\n",
       "  function embed_document(root) {\n",
       "    \n",
       "  var docs_json = {\"12810819-20e9-4d10-9a45-b962fdcaa8f0\":{\"roots\":{\"references\":[{\"attributes\":{\"above\":[{\"id\":\"1068\",\"type\":\"Title\"}],\"below\":[{\"id\":\"1013\",\"type\":\"CategoricalAxis\"},{\"id\":\"1070\",\"type\":\"Title\"}],\"center\":[{\"id\":\"1016\",\"type\":\"Grid\"},{\"id\":\"1021\",\"type\":\"Grid\"},{\"id\":\"1038\",\"type\":\"Legend\"},{\"id\":\"1042\",\"type\":\"LabelSet\"},{\"id\":\"1064\",\"type\":\"LabelSet\"}],\"left\":[{\"id\":\"1017\",\"type\":\"LinearAxis\"}],\"plot_height\":400,\"plot_width\":800,\"renderers\":[{\"id\":\"1031\",\"type\":\"GlyphRenderer\"},{\"id\":\"1050\",\"type\":\"GlyphRenderer\"}],\"title\":{\"id\":\"1004\",\"type\":\"Title\"},\"toolbar\":{\"id\":\"1023\",\"type\":\"Toolbar\"},\"x_range\":{\"id\":\"1002\",\"type\":\"FactorRange\"},\"x_scale\":{\"id\":\"1009\",\"type\":\"CategoricalScale\"},\"y_range\":{\"id\":\"1069\",\"type\":\"Range1d\"},\"y_scale\":{\"id\":\"1011\",\"type\":\"LinearScale\"}},\"id\":\"1003\",\"subtype\":\"Figure\",\"type\":\"Plot\"},{\"attributes\":{},\"id\":\"1014\",\"type\":\"CategoricalTicker\"},{\"attributes\":{\"data_source\":{\"id\":\"1045\",\"type\":\"ColumnDataSource\"},\"glyph\":{\"id\":\"1047\",\"type\":\"VBar\"},\"hover_glyph\":{\"id\":\"1049\",\"type\":\"VBar\"},\"muted_glyph\":null,\"name\":\"LCC Summer Road\",\"nonselection_glyph\":{\"id\":\"1048\",\"type\":\"VBar\"},\"selection_glyph\":null,\"view\":{\"id\":\"1051\",\"type\":\"CDSView\"}},\"id\":\"1050\",\"type\":\"GlyphRenderer\"},{\"attributes\":{\"range\":{\"id\":\"1002\",\"type\":\"FactorRange\"},\"value\":0.225},\"id\":\"1044\",\"type\":\"Dodge\"},{\"attributes\":{\"callback\":null,\"factors\":[\"Dec\",\"Jan\",\"Feb\",\"Mar\",\"Apr\"],\"range_padding\":0.1},\"id\":\"1002\",\"type\":\"FactorRange\"},{\"attributes\":{\"range\":{\"id\":\"1002\",\"type\":\"FactorRange\"},\"value\":-0.225},\"id\":\"1040\",\"type\":\"Dodge\"},{\"attributes\":{\"callback\":null,\"data\":{\"n\":[\"\",\"(18)\",\"(10)\",\"(31)\",\"(30)\"],\"x\":[\"Dec\",\"Jan\",\"Feb\",\"Mar\",\"Apr\"],\"y\":[0,248.83333333333331,152.2,183.4838709677419,123.86666666666666]},\"selected\":{\"id\":\"1079\",\"type\":\"Selection\"},\"selection_policy\":{\"id\":\"1078\",\"type\":\"UnionRenderers\"}},\"id\":\"1063\",\"type\":\"ColumnDataSource\"},{\"attributes\":{\"text\":\"Season 2017-2018 | Average Daily Trailhead Users Per Month\",\"text_font_size\":{\"value\":\"13pt\"}},\"id\":\"1068\",\"type\":\"Title\"},{\"attributes\":{\"text\":\"Note: (*) is number of days with sensor data\",\"text_font_size\":{\"value\":\"10pt\"},\"text_font_style\":\"normal\"},\"id\":\"1070\",\"type\":\"Title\"},{\"attributes\":{},\"id\":\"1022\",\"type\":\"SaveTool\"},{\"attributes\":{\"callback\":null,\"data\":{\"counts\":[0,248.83333333333331,152.2,183.4838709677419,123.86666666666666],\"x\":[\"Dec\",\"Jan\",\"Feb\",\"Mar\",\"Apr\"]},\"selected\":{\"id\":\"1083\",\"type\":\"Selection\"},\"selection_policy\":{\"id\":\"1082\",\"type\":\"UnionRenderers\"}},\"id\":\"1045\",\"type\":\"ColumnDataSource\"},{\"attributes\":{\"level\":\"glyph\",\"source\":{\"id\":\"1041\",\"type\":\"ColumnDataSource\"},\"text\":{\"field\":\"n\"},\"text_align\":\"center\",\"text_color\":{\"value\":\"#000000\"},\"text_font_size\":{\"value\":\"7pt\"},\"x\":{\"field\":\"x\",\"transform\":{\"id\":\"1040\",\"type\":\"Dodge\"}},\"y\":{\"field\":\"y\"}},\"id\":\"1042\",\"type\":\"LabelSet\"},{\"attributes\":{\"dimension\":1,\"ticker\":{\"id\":\"1018\",\"type\":\"BasicTicker\"}},\"id\":\"1021\",\"type\":\"Grid\"},{\"attributes\":{},\"id\":\"1057\",\"type\":\"UnionRenderers\"},{\"attributes\":{\"grid_line_color\":null,\"ticker\":{\"id\":\"1014\",\"type\":\"CategoricalTicker\"}},\"id\":\"1016\",\"type\":\"Grid\"},{\"attributes\":{\"active_drag\":\"auto\",\"active_inspect\":\"auto\",\"active_multi\":null,\"active_scroll\":\"auto\",\"active_tap\":\"auto\",\"tools\":[{\"id\":\"1022\",\"type\":\"SaveTool\"},{\"id\":\"1066\",\"type\":\"HoverTool\"}]},\"id\":\"1023\",\"type\":\"Toolbar\"},{\"attributes\":{\"source\":{\"id\":\"1026\",\"type\":\"ColumnDataSource\"}},\"id\":\"1032\",\"type\":\"CDSView\"},{\"attributes\":{\"source\":{\"id\":\"1045\",\"type\":\"ColumnDataSource\"}},\"id\":\"1051\",\"type\":\"CDSView\"},{\"attributes\":{},\"id\":\"1078\",\"type\":\"UnionRenderers\"},{\"attributes\":{},\"id\":\"1036\",\"type\":\"BasicTickFormatter\"},{\"attributes\":{},\"id\":\"1060\",\"type\":\"Selection\"},{\"attributes\":{\"fill_color\":{\"value\":\"#1f77b4\"},\"line_color\":{\"value\":\"#1f77b4\"},\"top\":{\"field\":\"counts\"},\"width\":{\"value\":0.4},\"x\":{\"field\":\"x\",\"transform\":{\"id\":\"1025\",\"type\":\"Dodge\"}}},\"id\":\"1030\",\"type\":\"VBar\"},{\"attributes\":{},\"id\":\"1058\",\"type\":\"Selection\"},{\"attributes\":{\"label\":{\"value\":\"LCC Summer Road\"},\"renderers\":[{\"id\":\"1050\",\"type\":\"GlyphRenderer\"}]},\"id\":\"1061\",\"type\":\"LegendItem\"},{\"attributes\":{\"callback\":null,\"data\":{\"n\":[\"(26)\",\"(26)\",\"(10)\",\"(6)\",\"\"],\"x\":[\"Dec\",\"Jan\",\"Feb\",\"Mar\",\"Apr\"],\"y\":[31.57692307692308,50.230769230769226,45.8,36.833333333333336,0]},\"selected\":{\"id\":\"1058\",\"type\":\"Selection\"},\"selection_policy\":{\"id\":\"1057\",\"type\":\"UnionRenderers\"}},\"id\":\"1041\",\"type\":\"ColumnDataSource\"},{\"attributes\":{\"range\":{\"id\":\"1002\",\"type\":\"FactorRange\"},\"value\":0.225},\"id\":\"1062\",\"type\":\"Dodge\"},{\"attributes\":{\"fill_alpha\":{\"value\":0.9},\"fill_color\":{\"value\":\"#0EBFE9\"},\"line_color\":{\"value\":\"#0EBFE9\"},\"top\":{\"field\":\"counts\"},\"width\":{\"value\":0.4},\"x\":{\"field\":\"x\",\"transform\":{\"id\":\"1025\",\"type\":\"Dodge\"}}},\"id\":\"1028\",\"type\":\"VBar\"},{\"attributes\":{\"text\":\"\",\"text_font_size\":{\"value\":\"12pt\"}},\"id\":\"1004\",\"type\":\"Title\"},{\"attributes\":{},\"id\":\"1034\",\"type\":\"CategoricalTickFormatter\"},{\"attributes\":{\"fill_color\":{\"value\":\"#1f77b4\"},\"line_color\":{\"value\":\"#1f77b4\"},\"top\":{\"field\":\"counts\"},\"width\":{\"value\":0.4},\"x\":{\"field\":\"x\",\"transform\":{\"id\":\"1044\",\"type\":\"Dodge\"}}},\"id\":\"1049\",\"type\":\"VBar\"},{\"attributes\":{\"label\":{\"value\":\"LCC Our Lady\"},\"renderers\":[{\"id\":\"1031\",\"type\":\"GlyphRenderer\"}]},\"id\":\"1039\",\"type\":\"LegendItem\"},{\"attributes\":{\"callback\":null,\"tooltips\":[[\"Site\",\"$name\"],[\"Average Daily Users\",\"@counts{int}\"]]},\"id\":\"1066\",\"type\":\"HoverTool\"},{\"attributes\":{\"callback\":null,\"end\":323.4833333333333},\"id\":\"1069\",\"type\":\"Range1d\"},{\"attributes\":{},\"id\":\"1059\",\"type\":\"UnionRenderers\"},{\"attributes\":{\"items\":[{\"id\":\"1039\",\"type\":\"LegendItem\"},{\"id\":\"1061\",\"type\":\"LegendItem\"}],\"location\":\"top_left\",\"orientation\":\"horizontal\"},\"id\":\"1038\",\"type\":\"Legend\"},{\"attributes\":{\"level\":\"glyph\",\"source\":{\"id\":\"1063\",\"type\":\"ColumnDataSource\"},\"text\":{\"field\":\"n\"},\"text_align\":\"center\",\"text_color\":{\"value\":\"#000000\"},\"text_font_size\":{\"value\":\"7pt\"},\"x\":{\"field\":\"x\",\"transform\":{\"id\":\"1062\",\"type\":\"Dodge\"}},\"y\":{\"field\":\"y\"}},\"id\":\"1064\",\"type\":\"LabelSet\"},{\"attributes\":{},\"id\":\"1011\",\"type\":\"LinearScale\"},{\"attributes\":{\"formatter\":{\"id\":\"1034\",\"type\":\"CategoricalTickFormatter\"},\"major_label_orientation\":0,\"major_label_standoff\":10,\"major_label_text_font_size\":{\"value\":\"12pt\"},\"major_label_text_font_style\":\"bold\",\"major_tick_line_color\":{\"value\":null},\"minor_tick_line_color\":{\"value\":null},\"ticker\":{\"id\":\"1014\",\"type\":\"CategoricalTicker\"}},\"id\":\"1013\",\"type\":\"CategoricalAxis\"},{\"attributes\":{\"fill_alpha\":{\"value\":0.1},\"fill_color\":{\"value\":\"#1f77b4\"},\"line_alpha\":{\"value\":0.1},\"line_color\":{\"value\":\"#1f77b4\"},\"top\":{\"field\":\"counts\"},\"width\":{\"value\":0.4},\"x\":{\"field\":\"x\",\"transform\":{\"id\":\"1025\",\"type\":\"Dodge\"}}},\"id\":\"1029\",\"type\":\"VBar\"},{\"attributes\":{\"fill_alpha\":{\"value\":0.9},\"fill_color\":{\"value\":\"#0BB5FF\"},\"line_color\":{\"value\":\"#0BB5FF\"},\"top\":{\"field\":\"counts\"},\"width\":{\"value\":0.4},\"x\":{\"field\":\"x\",\"transform\":{\"id\":\"1044\",\"type\":\"Dodge\"}}},\"id\":\"1047\",\"type\":\"VBar\"},{\"attributes\":{},\"id\":\"1083\",\"type\":\"Selection\"},{\"attributes\":{\"formatter\":{\"id\":\"1036\",\"type\":\"BasicTickFormatter\"},\"major_label_text_font_size\":{\"value\":\"12pt\"},\"major_label_text_font_style\":\"bold\",\"minor_tick_line_color\":{\"value\":null},\"ticker\":{\"id\":\"1018\",\"type\":\"BasicTicker\"}},\"id\":\"1017\",\"type\":\"LinearAxis\"},{\"attributes\":{\"callback\":null,\"data\":{\"counts\":[31.57692307692308,50.230769230769226,45.8,36.833333333333336,0],\"x\":[\"Dec\",\"Jan\",\"Feb\",\"Mar\",\"Apr\"]},\"selected\":{\"id\":\"1060\",\"type\":\"Selection\"},\"selection_policy\":{\"id\":\"1059\",\"type\":\"UnionRenderers\"}},\"id\":\"1026\",\"type\":\"ColumnDataSource\"},{\"attributes\":{},\"id\":\"1079\",\"type\":\"Selection\"},{\"attributes\":{},\"id\":\"1082\",\"type\":\"UnionRenderers\"},{\"attributes\":{\"data_source\":{\"id\":\"1026\",\"type\":\"ColumnDataSource\"},\"glyph\":{\"id\":\"1028\",\"type\":\"VBar\"},\"hover_glyph\":{\"id\":\"1030\",\"type\":\"VBar\"},\"muted_glyph\":null,\"name\":\"LCC Our Lady\",\"nonselection_glyph\":{\"id\":\"1029\",\"type\":\"VBar\"},\"selection_glyph\":null,\"view\":{\"id\":\"1032\",\"type\":\"CDSView\"}},\"id\":\"1031\",\"type\":\"GlyphRenderer\"},{\"attributes\":{},\"id\":\"1018\",\"type\":\"BasicTicker\"},{\"attributes\":{\"range\":{\"id\":\"1002\",\"type\":\"FactorRange\"},\"value\":-0.225},\"id\":\"1025\",\"type\":\"Dodge\"},{\"attributes\":{},\"id\":\"1009\",\"type\":\"CategoricalScale\"},{\"attributes\":{\"fill_alpha\":{\"value\":0.1},\"fill_color\":{\"value\":\"#1f77b4\"},\"line_alpha\":{\"value\":0.1},\"line_color\":{\"value\":\"#1f77b4\"},\"top\":{\"field\":\"counts\"},\"width\":{\"value\":0.4},\"x\":{\"field\":\"x\",\"transform\":{\"id\":\"1044\",\"type\":\"Dodge\"}}},\"id\":\"1048\",\"type\":\"VBar\"}],\"root_ids\":[\"1003\"]},\"title\":\"Bokeh Application\",\"version\":\"1.4.0\"}};\n",
       "  var render_items = [{\"docid\":\"12810819-20e9-4d10-9a45-b962fdcaa8f0\",\"roots\":{\"1003\":\"492feb39-7f5d-46b3-8e8c-f73b82442993\"}}];\n",
       "  root.Bokeh.embed.embed_items_notebook(docs_json, render_items);\n",
       "\n",
       "  }\n",
       "  if (root.Bokeh !== undefined) {\n",
       "    embed_document(root);\n",
       "  } else {\n",
       "    var attempts = 0;\n",
       "    var timer = setInterval(function(root) {\n",
       "      if (root.Bokeh !== undefined) {\n",
       "        clearInterval(timer);\n",
       "        embed_document(root);\n",
       "      } else {\n",
       "        attempts++;\n",
       "        if (attempts > 100) {\n",
       "          clearInterval(timer);\n",
       "          console.log(\"Bokeh: ERROR: Unable to run BokehJS code because BokehJS library is missing\");\n",
       "        }\n",
       "      }\n",
       "    }, 10, root)\n",
       "  }\n",
       "})(window);"
      ],
      "application/vnd.bokehjs_exec.v0+json": ""
     },
     "metadata": {
      "application/vnd.bokehjs_exec.v0+json": {
       "id": "1003"
      }
     },
     "output_type": "display_data"
    }
   ],
   "source": [
    "season = ['2017-2018']\n",
    "sites = [x for x in adu_df.query(\"season == @season\")['site'].unique() if (\"LCC\" in x and \"Gate\" not in x)]\n",
    "dayOfWeek = 'All'\n",
    "src_df = dub.make_data_set(season, sites, dayOfWeek, adu_df)\n",
    "p = dub.make_plot(src_df, show_sensor_n=True)\n",
    "show(p)"
   ]
  },
  {
   "cell_type": "code",
   "execution_count": 4,
   "metadata": {},
   "outputs": [
    {
     "data": {
      "text/html": [
       "\n",
       "\n",
       "\n",
       "\n",
       "\n",
       "\n",
       "  <div class=\"bk-root\" id=\"04fffa29-dd80-4bb3-97d0-32983493e21d\" data-root-id=\"1163\"></div>\n"
      ]
     },
     "metadata": {},
     "output_type": "display_data"
    },
    {
     "data": {
      "application/javascript": [
       "(function(root) {\n",
       "  function embed_document(root) {\n",
       "    \n",
       "  var docs_json = {\"f0234ba2-9b52-45a1-b6a3-400908a12c1b\":{\"roots\":{\"references\":[{\"attributes\":{\"above\":[{\"id\":\"1228\",\"type\":\"Title\"}],\"below\":[{\"id\":\"1173\",\"type\":\"CategoricalAxis\"},{\"id\":\"1230\",\"type\":\"Title\"}],\"center\":[{\"id\":\"1176\",\"type\":\"Grid\"},{\"id\":\"1181\",\"type\":\"Grid\"},{\"id\":\"1198\",\"type\":\"Legend\"},{\"id\":\"1202\",\"type\":\"LabelSet\"},{\"id\":\"1224\",\"type\":\"LabelSet\"}],\"left\":[{\"id\":\"1177\",\"type\":\"LinearAxis\"}],\"plot_height\":400,\"plot_width\":800,\"renderers\":[{\"id\":\"1191\",\"type\":\"GlyphRenderer\"},{\"id\":\"1210\",\"type\":\"GlyphRenderer\"}],\"title\":{\"id\":\"1164\",\"type\":\"Title\"},\"toolbar\":{\"id\":\"1183\",\"type\":\"Toolbar\"},\"x_range\":{\"id\":\"1162\",\"type\":\"FactorRange\"},\"x_scale\":{\"id\":\"1169\",\"type\":\"CategoricalScale\"},\"y_range\":{\"id\":\"1229\",\"type\":\"Range1d\"},\"y_scale\":{\"id\":\"1171\",\"type\":\"LinearScale\"}},\"id\":\"1163\",\"subtype\":\"Figure\",\"type\":\"Plot\"},{\"attributes\":{\"fill_alpha\":{\"value\":0.1},\"fill_color\":{\"value\":\"#1f77b4\"},\"line_alpha\":{\"value\":0.1},\"line_color\":{\"value\":\"#1f77b4\"},\"top\":{\"field\":\"counts\"},\"width\":{\"value\":0.4},\"x\":{\"field\":\"x\",\"transform\":{\"id\":\"1204\",\"type\":\"Dodge\"}}},\"id\":\"1208\",\"type\":\"VBar\"},{\"attributes\":{\"label\":{\"value\":\"LCC Our Lady\"},\"renderers\":[{\"id\":\"1191\",\"type\":\"GlyphRenderer\"}]},\"id\":\"1199\",\"type\":\"LegendItem\"},{\"attributes\":{\"fill_alpha\":{\"value\":0.9},\"fill_color\":{\"value\":\"#0BB5FF\"},\"line_color\":{\"value\":\"#0BB5FF\"},\"top\":{\"field\":\"counts\"},\"width\":{\"value\":0.4},\"x\":{\"field\":\"x\",\"transform\":{\"id\":\"1204\",\"type\":\"Dodge\"}}},\"id\":\"1207\",\"type\":\"VBar\"},{\"attributes\":{\"source\":{\"id\":\"1205\",\"type\":\"ColumnDataSource\"}},\"id\":\"1211\",\"type\":\"CDSView\"},{\"attributes\":{},\"id\":\"1171\",\"type\":\"LinearScale\"},{\"attributes\":{\"items\":[{\"id\":\"1199\",\"type\":\"LegendItem\"},{\"id\":\"1221\",\"type\":\"LegendItem\"}],\"location\":\"top_left\",\"orientation\":\"horizontal\"},\"id\":\"1198\",\"type\":\"Legend\"},{\"attributes\":{\"text\":\"Note: (*) is number of days with sensor data\",\"text_font_size\":{\"value\":\"10pt\"},\"text_font_style\":\"normal\"},\"id\":\"1230\",\"type\":\"Title\"},{\"attributes\":{\"callback\":null,\"data\":{\"n\":[\"(3)\",\"(3)\",\"(1)\",\"(1)\",\"\"],\"x\":[\"Dec\",\"Jan\",\"Feb\",\"Mar\",\"Apr\"],\"y\":[26.33333333333333,63.66666666666666,96.0,30.0,0]},\"selected\":{\"id\":\"1218\",\"type\":\"Selection\"},\"selection_policy\":{\"id\":\"1217\",\"type\":\"UnionRenderers\"}},\"id\":\"1201\",\"type\":\"ColumnDataSource\"},{\"attributes\":{\"text\":\"\",\"text_font_size\":{\"value\":\"12pt\"}},\"id\":\"1164\",\"type\":\"Title\"},{\"attributes\":{\"data_source\":{\"id\":\"1186\",\"type\":\"ColumnDataSource\"},\"glyph\":{\"id\":\"1188\",\"type\":\"VBar\"},\"hover_glyph\":{\"id\":\"1190\",\"type\":\"VBar\"},\"muted_glyph\":null,\"name\":\"LCC Our Lady\",\"nonselection_glyph\":{\"id\":\"1189\",\"type\":\"VBar\"},\"selection_glyph\":null,\"view\":{\"id\":\"1192\",\"type\":\"CDSView\"}},\"id\":\"1191\",\"type\":\"GlyphRenderer\"},{\"attributes\":{},\"id\":\"1217\",\"type\":\"UnionRenderers\"},{\"attributes\":{},\"id\":\"1219\",\"type\":\"UnionRenderers\"},{\"attributes\":{},\"id\":\"1252\",\"type\":\"Selection\"},{\"attributes\":{\"label\":{\"value\":\"LCC Summer Road\"},\"renderers\":[{\"id\":\"1210\",\"type\":\"GlyphRenderer\"}]},\"id\":\"1221\",\"type\":\"LegendItem\"},{\"attributes\":{\"callback\":null,\"data\":{\"n\":[\"\",\"(2)\",\"(1)\",\"(5)\",\"(4)\"],\"x\":[\"Dec\",\"Jan\",\"Feb\",\"Mar\",\"Apr\"],\"y\":[0,279.0,207.0,244.2,181.5]},\"selected\":{\"id\":\"1252\",\"type\":\"Selection\"},\"selection_policy\":{\"id\":\"1251\",\"type\":\"UnionRenderers\"}},\"id\":\"1223\",\"type\":\"ColumnDataSource\"},{\"attributes\":{\"level\":\"glyph\",\"source\":{\"id\":\"1223\",\"type\":\"ColumnDataSource\"},\"text\":{\"field\":\"n\"},\"text_align\":\"center\",\"text_color\":{\"value\":\"#000000\"},\"text_font_size\":{\"value\":\"7pt\"},\"x\":{\"field\":\"x\",\"transform\":{\"id\":\"1222\",\"type\":\"Dodge\"}},\"y\":{\"field\":\"y\"}},\"id\":\"1224\",\"type\":\"LabelSet\"},{\"attributes\":{},\"id\":\"1218\",\"type\":\"Selection\"},{\"attributes\":{},\"id\":\"1220\",\"type\":\"Selection\"},{\"attributes\":{\"fill_color\":{\"value\":\"#1f77b4\"},\"line_color\":{\"value\":\"#1f77b4\"},\"top\":{\"field\":\"counts\"},\"width\":{\"value\":0.4},\"x\":{\"field\":\"x\",\"transform\":{\"id\":\"1185\",\"type\":\"Dodge\"}}},\"id\":\"1190\",\"type\":\"VBar\"},{\"attributes\":{\"callback\":null,\"data\":{\"counts\":[26.33333333333333,63.66666666666666,96.0,30.0,0],\"x\":[\"Dec\",\"Jan\",\"Feb\",\"Mar\",\"Apr\"]},\"selected\":{\"id\":\"1220\",\"type\":\"Selection\"},\"selection_policy\":{\"id\":\"1219\",\"type\":\"UnionRenderers\"}},\"id\":\"1186\",\"type\":\"ColumnDataSource\"},{\"attributes\":{\"formatter\":{\"id\":\"1196\",\"type\":\"BasicTickFormatter\"},\"major_label_text_font_size\":{\"value\":\"12pt\"},\"major_label_text_font_style\":\"bold\",\"minor_tick_line_color\":{\"value\":null},\"ticker\":{\"id\":\"1178\",\"type\":\"BasicTicker\"}},\"id\":\"1177\",\"type\":\"LinearAxis\"},{\"attributes\":{},\"id\":\"1182\",\"type\":\"SaveTool\"},{\"attributes\":{},\"id\":\"1255\",\"type\":\"UnionRenderers\"},{\"attributes\":{\"level\":\"glyph\",\"source\":{\"id\":\"1201\",\"type\":\"ColumnDataSource\"},\"text\":{\"field\":\"n\"},\"text_align\":\"center\",\"text_color\":{\"value\":\"#000000\"},\"text_font_size\":{\"value\":\"7pt\"},\"x\":{\"field\":\"x\",\"transform\":{\"id\":\"1200\",\"type\":\"Dodge\"}},\"y\":{\"field\":\"y\"}},\"id\":\"1202\",\"type\":\"LabelSet\"},{\"attributes\":{\"formatter\":{\"id\":\"1194\",\"type\":\"CategoricalTickFormatter\"},\"major_label_orientation\":0,\"major_label_standoff\":10,\"major_label_text_font_size\":{\"value\":\"12pt\"},\"major_label_text_font_style\":\"bold\",\"major_tick_line_color\":{\"value\":null},\"minor_tick_line_color\":{\"value\":null},\"ticker\":{\"id\":\"1174\",\"type\":\"CategoricalTicker\"}},\"id\":\"1173\",\"type\":\"CategoricalAxis\"},{\"attributes\":{\"range\":{\"id\":\"1162\",\"type\":\"FactorRange\"},\"value\":-0.225},\"id\":\"1185\",\"type\":\"Dodge\"},{\"attributes\":{\"grid_line_color\":null,\"ticker\":{\"id\":\"1174\",\"type\":\"CategoricalTicker\"}},\"id\":\"1176\",\"type\":\"Grid\"},{\"attributes\":{},\"id\":\"1251\",\"type\":\"UnionRenderers\"},{\"attributes\":{\"text\":\"Season 2017-2018 | Average Daily Trailhead Users Per Month For Saturdays\",\"text_font_size\":{\"value\":\"13pt\"}},\"id\":\"1228\",\"type\":\"Title\"},{\"attributes\":{\"range\":{\"id\":\"1162\",\"type\":\"FactorRange\"},\"value\":-0.225},\"id\":\"1200\",\"type\":\"Dodge\"},{\"attributes\":{\"fill_color\":{\"value\":\"#1f77b4\"},\"line_color\":{\"value\":\"#1f77b4\"},\"top\":{\"field\":\"counts\"},\"width\":{\"value\":0.4},\"x\":{\"field\":\"x\",\"transform\":{\"id\":\"1204\",\"type\":\"Dodge\"}}},\"id\":\"1209\",\"type\":\"VBar\"},{\"attributes\":{\"fill_alpha\":{\"value\":0.1},\"fill_color\":{\"value\":\"#1f77b4\"},\"line_alpha\":{\"value\":0.1},\"line_color\":{\"value\":\"#1f77b4\"},\"top\":{\"field\":\"counts\"},\"width\":{\"value\":0.4},\"x\":{\"field\":\"x\",\"transform\":{\"id\":\"1185\",\"type\":\"Dodge\"}}},\"id\":\"1189\",\"type\":\"VBar\"},{\"attributes\":{\"active_drag\":\"auto\",\"active_inspect\":\"auto\",\"active_multi\":null,\"active_scroll\":\"auto\",\"active_tap\":\"auto\",\"tools\":[{\"id\":\"1182\",\"type\":\"SaveTool\"},{\"id\":\"1226\",\"type\":\"HoverTool\"}]},\"id\":\"1183\",\"type\":\"Toolbar\"},{\"attributes\":{\"callback\":null,\"tooltips\":[[\"Site\",\"$name\"],[\"Average Daily Users\",\"@counts{int}\"]]},\"id\":\"1226\",\"type\":\"HoverTool\"},{\"attributes\":{\"callback\":null,\"data\":{\"counts\":[0,279.0,207.0,244.2,181.5],\"x\":[\"Dec\",\"Jan\",\"Feb\",\"Mar\",\"Apr\"]},\"selected\":{\"id\":\"1256\",\"type\":\"Selection\"},\"selection_policy\":{\"id\":\"1255\",\"type\":\"UnionRenderers\"}},\"id\":\"1205\",\"type\":\"ColumnDataSource\"},{\"attributes\":{\"fill_alpha\":{\"value\":0.9},\"fill_color\":{\"value\":\"#0EBFE9\"},\"line_color\":{\"value\":\"#0EBFE9\"},\"top\":{\"field\":\"counts\"},\"width\":{\"value\":0.4},\"x\":{\"field\":\"x\",\"transform\":{\"id\":\"1185\",\"type\":\"Dodge\"}}},\"id\":\"1188\",\"type\":\"VBar\"},{\"attributes\":{},\"id\":\"1174\",\"type\":\"CategoricalTicker\"},{\"attributes\":{},\"id\":\"1169\",\"type\":\"CategoricalScale\"},{\"attributes\":{\"range\":{\"id\":\"1162\",\"type\":\"FactorRange\"},\"value\":0.225},\"id\":\"1222\",\"type\":\"Dodge\"},{\"attributes\":{\"callback\":null,\"factors\":[\"Dec\",\"Jan\",\"Feb\",\"Mar\",\"Apr\"],\"range_padding\":0.1},\"id\":\"1162\",\"type\":\"FactorRange\"},{\"attributes\":{\"callback\":null,\"end\":362.7},\"id\":\"1229\",\"type\":\"Range1d\"},{\"attributes\":{},\"id\":\"1178\",\"type\":\"BasicTicker\"},{\"attributes\":{\"range\":{\"id\":\"1162\",\"type\":\"FactorRange\"},\"value\":0.225},\"id\":\"1204\",\"type\":\"Dodge\"},{\"attributes\":{\"source\":{\"id\":\"1186\",\"type\":\"ColumnDataSource\"}},\"id\":\"1192\",\"type\":\"CDSView\"},{\"attributes\":{\"dimension\":1,\"ticker\":{\"id\":\"1178\",\"type\":\"BasicTicker\"}},\"id\":\"1181\",\"type\":\"Grid\"},{\"attributes\":{},\"id\":\"1196\",\"type\":\"BasicTickFormatter\"},{\"attributes\":{},\"id\":\"1256\",\"type\":\"Selection\"},{\"attributes\":{\"data_source\":{\"id\":\"1205\",\"type\":\"ColumnDataSource\"},\"glyph\":{\"id\":\"1207\",\"type\":\"VBar\"},\"hover_glyph\":{\"id\":\"1209\",\"type\":\"VBar\"},\"muted_glyph\":null,\"name\":\"LCC Summer Road\",\"nonselection_glyph\":{\"id\":\"1208\",\"type\":\"VBar\"},\"selection_glyph\":null,\"view\":{\"id\":\"1211\",\"type\":\"CDSView\"}},\"id\":\"1210\",\"type\":\"GlyphRenderer\"},{\"attributes\":{},\"id\":\"1194\",\"type\":\"CategoricalTickFormatter\"}],\"root_ids\":[\"1163\"]},\"title\":\"Bokeh Application\",\"version\":\"1.4.0\"}};\n",
       "  var render_items = [{\"docid\":\"f0234ba2-9b52-45a1-b6a3-400908a12c1b\",\"roots\":{\"1163\":\"04fffa29-dd80-4bb3-97d0-32983493e21d\"}}];\n",
       "  root.Bokeh.embed.embed_items_notebook(docs_json, render_items);\n",
       "\n",
       "  }\n",
       "  if (root.Bokeh !== undefined) {\n",
       "    embed_document(root);\n",
       "  } else {\n",
       "    var attempts = 0;\n",
       "    var timer = setInterval(function(root) {\n",
       "      if (root.Bokeh !== undefined) {\n",
       "        clearInterval(timer);\n",
       "        embed_document(root);\n",
       "      } else {\n",
       "        attempts++;\n",
       "        if (attempts > 100) {\n",
       "          clearInterval(timer);\n",
       "          console.log(\"Bokeh: ERROR: Unable to run BokehJS code because BokehJS library is missing\");\n",
       "        }\n",
       "      }\n",
       "    }, 10, root)\n",
       "  }\n",
       "})(window);"
      ],
      "application/vnd.bokehjs_exec.v0+json": ""
     },
     "metadata": {
      "application/vnd.bokehjs_exec.v0+json": {
       "id": "1163"
      }
     },
     "output_type": "display_data"
    }
   ],
   "source": [
    "season = ['2017-2018']\n",
    "sites = [x for x in adu_df.query(\"season == @season\")['site'].unique() if (\"LCC\" in x and \"Gate\" not in x)]\n",
    "dayOfWeek = 'Saturday'\n",
    "src_df = dub.make_data_set(season, sites, dayOfWeek, adu_df)\n",
    "p = dub.make_plot(src_df, show_sensor_n=True)\n",
    "show(p)"
   ]
  },
  {
   "cell_type": "code",
   "execution_count": 5,
   "metadata": {},
   "outputs": [
    {
     "data": {
      "text/html": [
       "\n",
       "\n",
       "\n",
       "\n",
       "\n",
       "\n",
       "  <div class=\"bk-root\" id=\"b7e7af6e-6b3e-4ed9-baea-67f9582737c5\" data-root-id=\"1336\"></div>\n"
      ]
     },
     "metadata": {},
     "output_type": "display_data"
    },
    {
     "data": {
      "application/javascript": [
       "(function(root) {\n",
       "  function embed_document(root) {\n",
       "    \n",
       "  var docs_json = {\"2b130600-e164-46fd-ab4c-3c2ae4536aa1\":{\"roots\":{\"references\":[{\"attributes\":{\"above\":[{\"id\":\"1491\",\"type\":\"Title\"}],\"below\":[{\"id\":\"1346\",\"type\":\"CategoricalAxis\"},{\"id\":\"1493\",\"type\":\"Title\"}],\"center\":[{\"id\":\"1349\",\"type\":\"Grid\"},{\"id\":\"1354\",\"type\":\"Grid\"},{\"id\":\"1371\",\"type\":\"Legend\"},{\"id\":\"1375\",\"type\":\"LabelSet\"},{\"id\":\"1397\",\"type\":\"LabelSet\"},{\"id\":\"1423\",\"type\":\"LabelSet\"},{\"id\":\"1453\",\"type\":\"LabelSet\"},{\"id\":\"1487\",\"type\":\"LabelSet\"}],\"left\":[{\"id\":\"1350\",\"type\":\"LinearAxis\"}],\"plot_height\":400,\"plot_width\":800,\"renderers\":[{\"id\":\"1364\",\"type\":\"GlyphRenderer\"},{\"id\":\"1383\",\"type\":\"GlyphRenderer\"},{\"id\":\"1405\",\"type\":\"GlyphRenderer\"},{\"id\":\"1431\",\"type\":\"GlyphRenderer\"},{\"id\":\"1461\",\"type\":\"GlyphRenderer\"}],\"title\":{\"id\":\"1337\",\"type\":\"Title\"},\"toolbar\":{\"id\":\"1356\",\"type\":\"Toolbar\"},\"x_range\":{\"id\":\"1335\",\"type\":\"FactorRange\"},\"x_scale\":{\"id\":\"1342\",\"type\":\"CategoricalScale\"},\"y_range\":{\"id\":\"1492\",\"type\":\"Range1d\"},\"y_scale\":{\"id\":\"1344\",\"type\":\"LinearScale\"}},\"id\":\"1336\",\"subtype\":\"Figure\",\"type\":\"Plot\"},{\"attributes\":{\"data_source\":{\"id\":\"1359\",\"type\":\"ColumnDataSource\"},\"glyph\":{\"id\":\"1361\",\"type\":\"VBar\"},\"hover_glyph\":{\"id\":\"1363\",\"type\":\"VBar\"},\"muted_glyph\":null,\"name\":\"LCC Our Lady\",\"nonselection_glyph\":{\"id\":\"1362\",\"type\":\"VBar\"},\"selection_glyph\":null,\"view\":{\"id\":\"1365\",\"type\":\"CDSView\"}},\"id\":\"1364\",\"type\":\"GlyphRenderer\"},{\"attributes\":{\"data_source\":{\"id\":\"1378\",\"type\":\"ColumnDataSource\"},\"glyph\":{\"id\":\"1380\",\"type\":\"VBar\"},\"hover_glyph\":{\"id\":\"1382\",\"type\":\"VBar\"},\"muted_glyph\":null,\"name\":\"LCC Our Lady East\",\"nonselection_glyph\":{\"id\":\"1381\",\"type\":\"VBar\"},\"selection_glyph\":null,\"view\":{\"id\":\"1384\",\"type\":\"CDSView\"}},\"id\":\"1383\",\"type\":\"GlyphRenderer\"},{\"attributes\":{},\"id\":\"1442\",\"type\":\"UnionRenderers\"},{\"attributes\":{},\"id\":\"1443\",\"type\":\"Selection\"},{\"attributes\":{\"source\":{\"id\":\"1378\",\"type\":\"ColumnDataSource\"}},\"id\":\"1384\",\"type\":\"CDSView\"},{\"attributes\":{\"data_source\":{\"id\":\"1400\",\"type\":\"ColumnDataSource\"},\"glyph\":{\"id\":\"1402\",\"type\":\"VBar\"},\"hover_glyph\":{\"id\":\"1404\",\"type\":\"VBar\"},\"muted_glyph\":null,\"name\":\"LCC Summer Road\",\"nonselection_glyph\":{\"id\":\"1403\",\"type\":\"VBar\"},\"selection_glyph\":null,\"view\":{\"id\":\"1406\",\"type\":\"CDSView\"}},\"id\":\"1405\",\"type\":\"GlyphRenderer\"},{\"attributes\":{\"source\":{\"id\":\"1400\",\"type\":\"ColumnDataSource\"}},\"id\":\"1406\",\"type\":\"CDSView\"},{\"attributes\":{},\"id\":\"1390\",\"type\":\"UnionRenderers\"},{\"attributes\":{},\"id\":\"1449\",\"type\":\"Selection\"},{\"attributes\":{\"fill_color\":{\"value\":\"#1f77b4\"},\"line_color\":{\"value\":\"#1f77b4\"},\"top\":{\"field\":\"counts\"},\"width\":{\"value\":0.16},\"x\":{\"field\":\"x\",\"transform\":{\"id\":\"1358\",\"type\":\"Dodge\"}}},\"id\":\"1363\",\"type\":\"VBar\"},{\"attributes\":{},\"id\":\"1392\",\"type\":\"UnionRenderers\"},{\"attributes\":{\"label\":{\"value\":\"LCC Summer Road 2\"},\"renderers\":[{\"id\":\"1431\",\"type\":\"GlyphRenderer\"}]},\"id\":\"1450\",\"type\":\"LegendItem\"},{\"attributes\":{},\"id\":\"1414\",\"type\":\"UnionRenderers\"},{\"attributes\":{\"label\":{\"value\":\"LCC Our Lady East\"},\"renderers\":[{\"id\":\"1383\",\"type\":\"GlyphRenderer\"}]},\"id\":\"1394\",\"type\":\"LegendItem\"},{\"attributes\":{\"fill_alpha\":{\"value\":0.1},\"fill_color\":{\"value\":\"#1f77b4\"},\"line_alpha\":{\"value\":0.1},\"line_color\":{\"value\":\"#1f77b4\"},\"top\":{\"field\":\"counts\"},\"width\":{\"value\":0.16},\"x\":{\"field\":\"x\",\"transform\":{\"id\":\"1358\",\"type\":\"Dodge\"}}},\"id\":\"1362\",\"type\":\"VBar\"},{\"attributes\":{},\"id\":\"1415\",\"type\":\"Selection\"},{\"attributes\":{},\"id\":\"1448\",\"type\":\"UnionRenderers\"},{\"attributes\":{\"label\":{\"value\":\"LCC Summer Road\"},\"renderers\":[{\"id\":\"1405\",\"type\":\"GlyphRenderer\"}]},\"id\":\"1420\",\"type\":\"LegendItem\"},{\"attributes\":{},\"id\":\"1391\",\"type\":\"Selection\"},{\"attributes\":{},\"id\":\"1393\",\"type\":\"Selection\"},{\"attributes\":{},\"id\":\"1419\",\"type\":\"Selection\"},{\"attributes\":{\"source\":{\"id\":\"1359\",\"type\":\"ColumnDataSource\"}},\"id\":\"1365\",\"type\":\"CDSView\"},{\"attributes\":{},\"id\":\"1418\",\"type\":\"UnionRenderers\"},{\"attributes\":{},\"id\":\"1369\",\"type\":\"BasicTickFormatter\"},{\"attributes\":{\"grid_line_color\":null,\"ticker\":{\"id\":\"1347\",\"type\":\"CategoricalTicker\"}},\"id\":\"1349\",\"type\":\"Grid\"},{\"attributes\":{\"level\":\"glyph\",\"source\":{\"id\":\"1422\",\"type\":\"ColumnDataSource\"},\"text\":{\"field\":\"n\"},\"text_align\":\"center\",\"text_color\":{\"value\":\"#000000\"},\"text_font_size\":{\"value\":\"7pt\"},\"x\":{\"field\":\"x\",\"transform\":{\"id\":\"1421\",\"type\":\"Dodge\"}},\"y\":{\"field\":\"y\"}},\"id\":\"1423\",\"type\":\"LabelSet\"},{\"attributes\":{},\"id\":\"1367\",\"type\":\"CategoricalTickFormatter\"},{\"attributes\":{\"label\":{\"value\":\"LCC Our Lady\"},\"renderers\":[{\"id\":\"1364\",\"type\":\"GlyphRenderer\"}]},\"id\":\"1372\",\"type\":\"LegendItem\"},{\"attributes\":{\"items\":[{\"id\":\"1372\",\"type\":\"LegendItem\"},{\"id\":\"1394\",\"type\":\"LegendItem\"},{\"id\":\"1420\",\"type\":\"LegendItem\"},{\"id\":\"1450\",\"type\":\"LegendItem\"},{\"id\":\"1484\",\"type\":\"LegendItem\"}],\"location\":\"top_left\",\"orientation\":\"horizontal\"},\"id\":\"1371\",\"type\":\"Legend\"},{\"attributes\":{},\"id\":\"1351\",\"type\":\"BasicTicker\"},{\"attributes\":{\"level\":\"glyph\",\"source\":{\"id\":\"1374\",\"type\":\"ColumnDataSource\"},\"text\":{\"field\":\"n\"},\"text_align\":\"center\",\"text_color\":{\"value\":\"#000000\"},\"text_font_size\":{\"value\":\"7pt\"},\"x\":{\"field\":\"x\",\"transform\":{\"id\":\"1373\",\"type\":\"Dodge\"}},\"y\":{\"field\":\"y\"}},\"id\":\"1375\",\"type\":\"LabelSet\"},{\"attributes\":{\"level\":\"glyph\",\"source\":{\"id\":\"1452\",\"type\":\"ColumnDataSource\"},\"text\":{\"field\":\"n\"},\"text_align\":\"center\",\"text_color\":{\"value\":\"#000000\"},\"text_font_size\":{\"value\":\"7pt\"},\"x\":{\"field\":\"x\",\"transform\":{\"id\":\"1451\",\"type\":\"Dodge\"}},\"y\":{\"field\":\"y\"}},\"id\":\"1453\",\"type\":\"LabelSet\"},{\"attributes\":{\"level\":\"glyph\",\"source\":{\"id\":\"1396\",\"type\":\"ColumnDataSource\"},\"text\":{\"field\":\"n\"},\"text_align\":\"center\",\"text_color\":{\"value\":\"#000000\"},\"text_font_size\":{\"value\":\"7pt\"},\"x\":{\"field\":\"x\",\"transform\":{\"id\":\"1395\",\"type\":\"Dodge\"}},\"y\":{\"field\":\"y\"}},\"id\":\"1397\",\"type\":\"LabelSet\"},{\"attributes\":{},\"id\":\"1543\",\"type\":\"UnionRenderers\"},{\"attributes\":{\"callback\":null,\"data\":{\"n\":[\"(30)\",\"(31)\",\"(28)\",\"(31)\",\"(30)\"],\"x\":[\"Dec\",\"Jan\",\"Feb\",\"Mar\",\"Apr\"],\"y\":[242.3,250.06451612903226,231.64285714285717,288.54838709677415,175.56666666666663]},\"selected\":{\"id\":\"1443\",\"type\":\"Selection\"},\"selection_policy\":{\"id\":\"1442\",\"type\":\"UnionRenderers\"}},\"id\":\"1422\",\"type\":\"ColumnDataSource\"},{\"attributes\":{\"range\":{\"id\":\"1335\",\"type\":\"FactorRange\"},\"value\":0.17250000000000001},\"id\":\"1425\",\"type\":\"Dodge\"},{\"attributes\":{\"formatter\":{\"id\":\"1369\",\"type\":\"BasicTickFormatter\"},\"major_label_text_font_size\":{\"value\":\"12pt\"},\"major_label_text_font_style\":\"bold\",\"minor_tick_line_color\":{\"value\":null},\"ticker\":{\"id\":\"1351\",\"type\":\"BasicTicker\"}},\"id\":\"1350\",\"type\":\"LinearAxis\"},{\"attributes\":{\"callback\":null,\"data\":{\"n\":[\"(30)\",\"(29)\",\"(20)\",\"(29)\",\"(29)\"],\"x\":[\"Dec\",\"Jan\",\"Feb\",\"Mar\",\"Apr\"],\"y\":[74.2,75.10344827586206,74.3,81.65517241379311,57.24137931034482]},\"selected\":{\"id\":\"1391\",\"type\":\"Selection\"},\"selection_policy\":{\"id\":\"1390\",\"type\":\"UnionRenderers\"}},\"id\":\"1374\",\"type\":\"ColumnDataSource\"},{\"attributes\":{\"range\":{\"id\":\"1335\",\"type\":\"FactorRange\"},\"value\":-0.17250000000000001},\"id\":\"1377\",\"type\":\"Dodge\"},{\"attributes\":{\"callback\":null,\"data\":{\"n\":[\"(29)\",\"(29)\",\"(23)\",\"(31)\",\"(30)\"],\"x\":[\"Dec\",\"Jan\",\"Feb\",\"Mar\",\"Apr\"],\"y\":[47.58620689655172,56.68965517241379,86.17391304347827,73.5806451612903,41.5]},\"selected\":{\"id\":\"1415\",\"type\":\"Selection\"},\"selection_policy\":{\"id\":\"1414\",\"type\":\"UnionRenderers\"}},\"id\":\"1396\",\"type\":\"ColumnDataSource\"},{\"attributes\":{\"range\":{\"id\":\"1335\",\"type\":\"FactorRange\"},\"value\":-0.34500000000000003},\"id\":\"1358\",\"type\":\"Dodge\"},{\"attributes\":{\"callback\":null,\"data\":{\"n\":[\"(22)\",\"(16)\",\"(19)\",\"(27)\",\"(27)\"],\"x\":[\"Dec\",\"Jan\",\"Feb\",\"Mar\",\"Apr\"],\"y\":[10.909090909090908,8.75,91.31578947368419,116.96296296296295,139.03703703703704]},\"selected\":{\"id\":\"1475\",\"type\":\"Selection\"},\"selection_policy\":{\"id\":\"1474\",\"type\":\"UnionRenderers\"}},\"id\":\"1452\",\"type\":\"ColumnDataSource\"},{\"attributes\":{},\"id\":\"1475\",\"type\":\"Selection\"},{\"attributes\":{},\"id\":\"1474\",\"type\":\"UnionRenderers\"},{\"attributes\":{\"fill_color\":{\"value\":\"#1f77b4\"},\"line_color\":{\"value\":\"#1f77b4\"},\"top\":{\"field\":\"counts\"},\"width\":{\"value\":0.16},\"x\":{\"field\":\"x\",\"transform\":{\"id\":\"1399\",\"type\":\"Dodge\"}}},\"id\":\"1404\",\"type\":\"VBar\"},{\"attributes\":{},\"id\":\"1482\",\"type\":\"UnionRenderers\"},{\"attributes\":{\"callback\":null,\"factors\":[\"Dec\",\"Jan\",\"Feb\",\"Mar\",\"Apr\"],\"range_padding\":0.1},\"id\":\"1335\",\"type\":\"FactorRange\"},{\"attributes\":{\"active_drag\":\"auto\",\"active_inspect\":\"auto\",\"active_multi\":null,\"active_scroll\":\"auto\",\"active_tap\":\"auto\",\"tools\":[{\"id\":\"1355\",\"type\":\"SaveTool\"},{\"id\":\"1489\",\"type\":\"HoverTool\"}]},\"id\":\"1356\",\"type\":\"Toolbar\"},{\"attributes\":{},\"id\":\"1483\",\"type\":\"Selection\"},{\"attributes\":{\"text\":\"Note: (*) is number of days with sensor data\",\"text_font_size\":{\"value\":\"10pt\"},\"text_font_style\":\"normal\"},\"id\":\"1493\",\"type\":\"Title\"},{\"attributes\":{\"range\":{\"id\":\"1335\",\"type\":\"FactorRange\"},\"value\":0.34500000000000003},\"id\":\"1455\",\"type\":\"Dodge\"},{\"attributes\":{\"label\":{\"value\":\"LCC White Pine\"},\"renderers\":[{\"id\":\"1461\",\"type\":\"GlyphRenderer\"}]},\"id\":\"1484\",\"type\":\"LegendItem\"},{\"attributes\":{\"fill_alpha\":{\"value\":0.1},\"fill_color\":{\"value\":\"#1f77b4\"},\"line_alpha\":{\"value\":0.1},\"line_color\":{\"value\":\"#1f77b4\"},\"top\":{\"field\":\"counts\"},\"width\":{\"value\":0.16},\"x\":{\"field\":\"x\",\"transform\":{\"id\":\"1425\",\"type\":\"Dodge\"}}},\"id\":\"1429\",\"type\":\"VBar\"},{\"attributes\":{\"fill_alpha\":{\"value\":0.1},\"fill_color\":{\"value\":\"#1f77b4\"},\"line_alpha\":{\"value\":0.1},\"line_color\":{\"value\":\"#1f77b4\"},\"top\":{\"field\":\"counts\"},\"width\":{\"value\":0.16},\"x\":{\"field\":\"x\",\"transform\":{\"id\":\"1455\",\"type\":\"Dodge\"}}},\"id\":\"1459\",\"type\":\"VBar\"},{\"attributes\":{\"callback\":null,\"tooltips\":[[\"Site\",\"$name\"],[\"Average Daily Users\",\"@counts{int}\"]]},\"id\":\"1489\",\"type\":\"HoverTool\"},{\"attributes\":{\"range\":{\"id\":\"1335\",\"type\":\"FactorRange\"}},\"id\":\"1399\",\"type\":\"Dodge\"},{\"attributes\":{},\"id\":\"1544\",\"type\":\"Selection\"},{\"attributes\":{},\"id\":\"1347\",\"type\":\"CategoricalTicker\"},{\"attributes\":{},\"id\":\"1534\",\"type\":\"Selection\"},{\"attributes\":{\"formatter\":{\"id\":\"1367\",\"type\":\"CategoricalTickFormatter\"},\"major_label_orientation\":0,\"major_label_standoff\":10,\"major_label_text_font_size\":{\"value\":\"12pt\"},\"major_label_text_font_style\":\"bold\",\"major_tick_line_color\":{\"value\":null},\"minor_tick_line_color\":{\"value\":null},\"ticker\":{\"id\":\"1347\",\"type\":\"CategoricalTicker\"}},\"id\":\"1346\",\"type\":\"CategoricalAxis\"},{\"attributes\":{\"text\":\"\",\"text_font_size\":{\"value\":\"12pt\"}},\"id\":\"1337\",\"type\":\"Title\"},{\"attributes\":{\"data_source\":{\"id\":\"1426\",\"type\":\"ColumnDataSource\"},\"glyph\":{\"id\":\"1428\",\"type\":\"VBar\"},\"hover_glyph\":{\"id\":\"1430\",\"type\":\"VBar\"},\"muted_glyph\":null,\"name\":\"LCC Summer Road 2\",\"nonselection_glyph\":{\"id\":\"1429\",\"type\":\"VBar\"},\"selection_glyph\":null,\"view\":{\"id\":\"1432\",\"type\":\"CDSView\"}},\"id\":\"1431\",\"type\":\"GlyphRenderer\"},{\"attributes\":{\"data_source\":{\"id\":\"1456\",\"type\":\"ColumnDataSource\"},\"glyph\":{\"id\":\"1458\",\"type\":\"VBar\"},\"hover_glyph\":{\"id\":\"1460\",\"type\":\"VBar\"},\"muted_glyph\":null,\"name\":\"LCC White Pine\",\"nonselection_glyph\":{\"id\":\"1459\",\"type\":\"VBar\"},\"selection_glyph\":null,\"view\":{\"id\":\"1462\",\"type\":\"CDSView\"}},\"id\":\"1461\",\"type\":\"GlyphRenderer\"},{\"attributes\":{\"fill_alpha\":{\"value\":0.9},\"fill_color\":{\"value\":\"#0EBFE9\"},\"line_color\":{\"value\":\"#0EBFE9\"},\"top\":{\"field\":\"counts\"},\"width\":{\"value\":0.16},\"x\":{\"field\":\"x\",\"transform\":{\"id\":\"1358\",\"type\":\"Dodge\"}}},\"id\":\"1361\",\"type\":\"VBar\"},{\"attributes\":{\"text\":\"Season 2018-2019 | Average Daily Trailhead Users Per Month\",\"text_font_size\":{\"value\":\"13pt\"}},\"id\":\"1491\",\"type\":\"Title\"},{\"attributes\":{\"fill_alpha\":{\"value\":0.9},\"fill_color\":{\"value\":\"#0BB5FF\"},\"line_color\":{\"value\":\"#0BB5FF\"},\"top\":{\"field\":\"counts\"},\"width\":{\"value\":0.16},\"x\":{\"field\":\"x\",\"transform\":{\"id\":\"1377\",\"type\":\"Dodge\"}}},\"id\":\"1380\",\"type\":\"VBar\"},{\"attributes\":{},\"id\":\"1533\",\"type\":\"UnionRenderers\"},{\"attributes\":{\"fill_alpha\":{\"value\":0.9},\"fill_color\":{\"value\":\"#0D4F8B\"},\"line_color\":{\"value\":\"#0D4F8B\"},\"top\":{\"field\":\"counts\"},\"width\":{\"value\":0.16},\"x\":{\"field\":\"x\",\"transform\":{\"id\":\"1455\",\"type\":\"Dodge\"}}},\"id\":\"1458\",\"type\":\"VBar\"},{\"attributes\":{\"fill_alpha\":{\"value\":0.1},\"fill_color\":{\"value\":\"#1f77b4\"},\"line_alpha\":{\"value\":0.1},\"line_color\":{\"value\":\"#1f77b4\"},\"top\":{\"field\":\"counts\"},\"width\":{\"value\":0.16},\"x\":{\"field\":\"x\",\"transform\":{\"id\":\"1377\",\"type\":\"Dodge\"}}},\"id\":\"1381\",\"type\":\"VBar\"},{\"attributes\":{\"fill_alpha\":{\"value\":0.9},\"fill_color\":{\"value\":\"#00688B\"},\"line_color\":{\"value\":\"#00688B\"},\"top\":{\"field\":\"counts\"},\"width\":{\"value\":0.16},\"x\":{\"field\":\"x\",\"transform\":{\"id\":\"1425\",\"type\":\"Dodge\"}}},\"id\":\"1428\",\"type\":\"VBar\"},{\"attributes\":{\"level\":\"glyph\",\"source\":{\"id\":\"1486\",\"type\":\"ColumnDataSource\"},\"text\":{\"field\":\"n\"},\"text_align\":\"center\",\"text_color\":{\"value\":\"#000000\"},\"text_font_size\":{\"value\":\"7pt\"},\"x\":{\"field\":\"x\",\"transform\":{\"id\":\"1485\",\"type\":\"Dodge\"}},\"y\":{\"field\":\"y\"}},\"id\":\"1487\",\"type\":\"LabelSet\"},{\"attributes\":{},\"id\":\"1355\",\"type\":\"SaveTool\"},{\"attributes\":{\"fill_alpha\":{\"value\":0.1},\"fill_color\":{\"value\":\"#1f77b4\"},\"line_alpha\":{\"value\":0.1},\"line_color\":{\"value\":\"#1f77b4\"},\"top\":{\"field\":\"counts\"},\"width\":{\"value\":0.16},\"x\":{\"field\":\"x\",\"transform\":{\"id\":\"1399\",\"type\":\"Dodge\"}}},\"id\":\"1403\",\"type\":\"VBar\"},{\"attributes\":{\"fill_alpha\":{\"value\":0.9},\"fill_color\":{\"value\":\"#009ACD\"},\"line_color\":{\"value\":\"#009ACD\"},\"top\":{\"field\":\"counts\"},\"width\":{\"value\":0.16},\"x\":{\"field\":\"x\",\"transform\":{\"id\":\"1399\",\"type\":\"Dodge\"}}},\"id\":\"1402\",\"type\":\"VBar\"},{\"attributes\":{\"range\":{\"id\":\"1335\",\"type\":\"FactorRange\"},\"value\":-0.34500000000000003},\"id\":\"1373\",\"type\":\"Dodge\"},{\"attributes\":{\"callback\":null,\"end\":375.1129032258064},\"id\":\"1492\",\"type\":\"Range1d\"},{\"attributes\":{\"fill_color\":{\"value\":\"#1f77b4\"},\"line_color\":{\"value\":\"#1f77b4\"},\"top\":{\"field\":\"counts\"},\"width\":{\"value\":0.16},\"x\":{\"field\":\"x\",\"transform\":{\"id\":\"1425\",\"type\":\"Dodge\"}}},\"id\":\"1430\",\"type\":\"VBar\"},{\"attributes\":{\"fill_color\":{\"value\":\"#1f77b4\"},\"line_color\":{\"value\":\"#1f77b4\"},\"top\":{\"field\":\"counts\"},\"width\":{\"value\":0.16},\"x\":{\"field\":\"x\",\"transform\":{\"id\":\"1455\",\"type\":\"Dodge\"}}},\"id\":\"1460\",\"type\":\"VBar\"},{\"attributes\":{\"callback\":null,\"data\":{\"counts\":[10.909090909090908,8.75,91.31578947368419,116.96296296296295,139.03703703703704],\"x\":[\"Dec\",\"Jan\",\"Feb\",\"Mar\",\"Apr\"]},\"selected\":{\"id\":\"1483\",\"type\":\"Selection\"},\"selection_policy\":{\"id\":\"1482\",\"type\":\"UnionRenderers\"}},\"id\":\"1426\",\"type\":\"ColumnDataSource\"},{\"attributes\":{\"callback\":null,\"data\":{\"counts\":[130.82142857142858,135.72413793103448,122.66666666666669,143.41379310344828,77.07142857142857],\"x\":[\"Dec\",\"Jan\",\"Feb\",\"Mar\",\"Apr\"]},\"selected\":{\"id\":\"1544\",\"type\":\"Selection\"},\"selection_policy\":{\"id\":\"1543\",\"type\":\"UnionRenderers\"}},\"id\":\"1456\",\"type\":\"ColumnDataSource\"},{\"attributes\":{\"range\":{\"id\":\"1335\",\"type\":\"FactorRange\"},\"value\":0.17250000000000001},\"id\":\"1451\",\"type\":\"Dodge\"},{\"attributes\":{},\"id\":\"1342\",\"type\":\"CategoricalScale\"},{\"attributes\":{\"range\":{\"id\":\"1335\",\"type\":\"FactorRange\"},\"value\":0.34500000000000003},\"id\":\"1485\",\"type\":\"Dodge\"},{\"attributes\":{\"callback\":null,\"data\":{\"counts\":[47.58620689655172,56.68965517241379,86.17391304347827,73.5806451612903,41.5],\"x\":[\"Dec\",\"Jan\",\"Feb\",\"Mar\",\"Apr\"]},\"selected\":{\"id\":\"1419\",\"type\":\"Selection\"},\"selection_policy\":{\"id\":\"1418\",\"type\":\"UnionRenderers\"}},\"id\":\"1378\",\"type\":\"ColumnDataSource\"},{\"attributes\":{\"callback\":null,\"data\":{\"counts\":[74.2,75.10344827586206,74.3,81.65517241379311,57.24137931034482],\"x\":[\"Dec\",\"Jan\",\"Feb\",\"Mar\",\"Apr\"]},\"selected\":{\"id\":\"1393\",\"type\":\"Selection\"},\"selection_policy\":{\"id\":\"1392\",\"type\":\"UnionRenderers\"}},\"id\":\"1359\",\"type\":\"ColumnDataSource\"},{\"attributes\":{\"callback\":null,\"data\":{\"counts\":[242.3,250.06451612903226,231.64285714285717,288.54838709677415,175.56666666666663],\"x\":[\"Dec\",\"Jan\",\"Feb\",\"Mar\",\"Apr\"]},\"selected\":{\"id\":\"1449\",\"type\":\"Selection\"},\"selection_policy\":{\"id\":\"1448\",\"type\":\"UnionRenderers\"}},\"id\":\"1400\",\"type\":\"ColumnDataSource\"},{\"attributes\":{},\"id\":\"1344\",\"type\":\"LinearScale\"},{\"attributes\":{\"range\":{\"id\":\"1335\",\"type\":\"FactorRange\"},\"value\":-0.17250000000000001},\"id\":\"1395\",\"type\":\"Dodge\"},{\"attributes\":{\"dimension\":1,\"ticker\":{\"id\":\"1351\",\"type\":\"BasicTicker\"}},\"id\":\"1354\",\"type\":\"Grid\"},{\"attributes\":{\"range\":{\"id\":\"1335\",\"type\":\"FactorRange\"}},\"id\":\"1421\",\"type\":\"Dodge\"},{\"attributes\":{\"callback\":null,\"data\":{\"n\":[\"(28)\",\"(29)\",\"(27)\",\"(29)\",\"(28)\"],\"x\":[\"Dec\",\"Jan\",\"Feb\",\"Mar\",\"Apr\"],\"y\":[130.82142857142858,135.72413793103448,122.66666666666669,143.41379310344828,77.07142857142857]},\"selected\":{\"id\":\"1534\",\"type\":\"Selection\"},\"selection_policy\":{\"id\":\"1533\",\"type\":\"UnionRenderers\"}},\"id\":\"1486\",\"type\":\"ColumnDataSource\"},{\"attributes\":{\"source\":{\"id\":\"1456\",\"type\":\"ColumnDataSource\"}},\"id\":\"1462\",\"type\":\"CDSView\"},{\"attributes\":{\"fill_color\":{\"value\":\"#1f77b4\"},\"line_color\":{\"value\":\"#1f77b4\"},\"top\":{\"field\":\"counts\"},\"width\":{\"value\":0.16},\"x\":{\"field\":\"x\",\"transform\":{\"id\":\"1377\",\"type\":\"Dodge\"}}},\"id\":\"1382\",\"type\":\"VBar\"},{\"attributes\":{\"source\":{\"id\":\"1426\",\"type\":\"ColumnDataSource\"}},\"id\":\"1432\",\"type\":\"CDSView\"}],\"root_ids\":[\"1336\"]},\"title\":\"Bokeh Application\",\"version\":\"1.4.0\"}};\n",
       "  var render_items = [{\"docid\":\"2b130600-e164-46fd-ab4c-3c2ae4536aa1\",\"roots\":{\"1336\":\"b7e7af6e-6b3e-4ed9-baea-67f9582737c5\"}}];\n",
       "  root.Bokeh.embed.embed_items_notebook(docs_json, render_items);\n",
       "\n",
       "  }\n",
       "  if (root.Bokeh !== undefined) {\n",
       "    embed_document(root);\n",
       "  } else {\n",
       "    var attempts = 0;\n",
       "    var timer = setInterval(function(root) {\n",
       "      if (root.Bokeh !== undefined) {\n",
       "        clearInterval(timer);\n",
       "        embed_document(root);\n",
       "      } else {\n",
       "        attempts++;\n",
       "        if (attempts > 100) {\n",
       "          clearInterval(timer);\n",
       "          console.log(\"Bokeh: ERROR: Unable to run BokehJS code because BokehJS library is missing\");\n",
       "        }\n",
       "      }\n",
       "    }, 10, root)\n",
       "  }\n",
       "})(window);"
      ],
      "application/vnd.bokehjs_exec.v0+json": ""
     },
     "metadata": {
      "application/vnd.bokehjs_exec.v0+json": {
       "id": "1336"
      }
     },
     "output_type": "display_data"
    }
   ],
   "source": [
    "season = ['2018-2019']\n",
    "sites = [x for x in adu_df.query(\"season == @season\")['site'].unique() if (\"LCC\" in x and \"Gate\" not in x)]\n",
    "dayOfWeek = 'All'\n",
    "src_df = dub.make_data_set(season, sites, dayOfWeek, adu_df)\n",
    "p = dub.make_plot(src_df, show_sensor_n=True)\n",
    "show(p)"
   ]
  },
  {
   "cell_type": "code",
   "execution_count": 6,
   "metadata": {},
   "outputs": [
    {
     "data": {
      "text/html": [
       "\n",
       "\n",
       "\n",
       "\n",
       "\n",
       "\n",
       "  <div class=\"bk-root\" id=\"e8bff5b5-82f3-4346-b2de-2b3dae7777e5\" data-root-id=\"1696\"></div>\n"
      ]
     },
     "metadata": {},
     "output_type": "display_data"
    },
    {
     "data": {
      "application/javascript": [
       "(function(root) {\n",
       "  function embed_document(root) {\n",
       "    \n",
       "  var docs_json = {\"bf071664-312d-4df5-95ca-3ec08438f116\":{\"roots\":{\"references\":[{\"attributes\":{\"above\":[{\"id\":\"1851\",\"type\":\"Title\"}],\"below\":[{\"id\":\"1706\",\"type\":\"CategoricalAxis\"},{\"id\":\"1853\",\"type\":\"Title\"}],\"center\":[{\"id\":\"1709\",\"type\":\"Grid\"},{\"id\":\"1714\",\"type\":\"Grid\"},{\"id\":\"1731\",\"type\":\"Legend\"},{\"id\":\"1735\",\"type\":\"LabelSet\"},{\"id\":\"1757\",\"type\":\"LabelSet\"},{\"id\":\"1783\",\"type\":\"LabelSet\"},{\"id\":\"1813\",\"type\":\"LabelSet\"},{\"id\":\"1847\",\"type\":\"LabelSet\"}],\"left\":[{\"id\":\"1710\",\"type\":\"LinearAxis\"}],\"plot_height\":400,\"plot_width\":800,\"renderers\":[{\"id\":\"1724\",\"type\":\"GlyphRenderer\"},{\"id\":\"1743\",\"type\":\"GlyphRenderer\"},{\"id\":\"1765\",\"type\":\"GlyphRenderer\"},{\"id\":\"1791\",\"type\":\"GlyphRenderer\"},{\"id\":\"1821\",\"type\":\"GlyphRenderer\"}],\"title\":{\"id\":\"1697\",\"type\":\"Title\"},\"toolbar\":{\"id\":\"1716\",\"type\":\"Toolbar\"},\"x_range\":{\"id\":\"1695\",\"type\":\"FactorRange\"},\"x_scale\":{\"id\":\"1702\",\"type\":\"CategoricalScale\"},\"y_range\":{\"id\":\"1852\",\"type\":\"Range1d\"},\"y_scale\":{\"id\":\"1704\",\"type\":\"LinearScale\"}},\"id\":\"1696\",\"subtype\":\"Figure\",\"type\":\"Plot\"},{\"attributes\":{\"range\":{\"id\":\"1695\",\"type\":\"FactorRange\"},\"value\":0.17250000000000001},\"id\":\"1785\",\"type\":\"Dodge\"},{\"attributes\":{\"text\":\"\",\"text_font_size\":{\"value\":\"12pt\"}},\"id\":\"1697\",\"type\":\"Title\"},{\"attributes\":{\"fill_alpha\":{\"value\":0.1},\"fill_color\":{\"value\":\"#1f77b4\"},\"line_alpha\":{\"value\":0.1},\"line_color\":{\"value\":\"#1f77b4\"},\"top\":{\"field\":\"counts\"},\"width\":{\"value\":0.16},\"x\":{\"field\":\"x\",\"transform\":{\"id\":\"1815\",\"type\":\"Dodge\"}}},\"id\":\"1819\",\"type\":\"VBar\"},{\"attributes\":{\"text\":\"Note: (*) is number of days with sensor data\",\"text_font_size\":{\"value\":\"10pt\"},\"text_font_style\":\"normal\"},\"id\":\"1853\",\"type\":\"Title\"},{\"attributes\":{\"range\":{\"id\":\"1695\",\"type\":\"FactorRange\"},\"value\":-0.34500000000000003},\"id\":\"1718\",\"type\":\"Dodge\"},{\"attributes\":{\"callback\":null,\"data\":{\"counts\":[88.5,114.0,68.5,122.0,65.25],\"x\":[\"Dec\",\"Jan\",\"Feb\",\"Mar\",\"Apr\"]},\"selected\":{\"id\":\"1753\",\"type\":\"Selection\"},\"selection_policy\":{\"id\":\"1752\",\"type\":\"UnionRenderers\"}},\"id\":\"1719\",\"type\":\"ColumnDataSource\"},{\"attributes\":{\"range\":{\"id\":\"1695\",\"type\":\"FactorRange\"}},\"id\":\"1759\",\"type\":\"Dodge\"},{\"attributes\":{\"fill_alpha\":{\"value\":0.9},\"fill_color\":{\"value\":\"#0EBFE9\"},\"line_color\":{\"value\":\"#0EBFE9\"},\"top\":{\"field\":\"counts\"},\"width\":{\"value\":0.16},\"x\":{\"field\":\"x\",\"transform\":{\"id\":\"1718\",\"type\":\"Dodge\"}}},\"id\":\"1721\",\"type\":\"VBar\"},{\"attributes\":{\"fill_alpha\":{\"value\":0.9},\"fill_color\":{\"value\":\"#0BB5FF\"},\"line_color\":{\"value\":\"#0BB5FF\"},\"top\":{\"field\":\"counts\"},\"width\":{\"value\":0.16},\"x\":{\"field\":\"x\",\"transform\":{\"id\":\"1737\",\"type\":\"Dodge\"}}},\"id\":\"1740\",\"type\":\"VBar\"},{\"attributes\":{\"range\":{\"id\":\"1695\",\"type\":\"FactorRange\"},\"value\":-0.17250000000000001},\"id\":\"1737\",\"type\":\"Dodge\"},{\"attributes\":{\"data_source\":{\"id\":\"1816\",\"type\":\"ColumnDataSource\"},\"glyph\":{\"id\":\"1818\",\"type\":\"VBar\"},\"hover_glyph\":{\"id\":\"1820\",\"type\":\"VBar\"},\"muted_glyph\":null,\"name\":\"LCC White Pine\",\"nonselection_glyph\":{\"id\":\"1819\",\"type\":\"VBar\"},\"selection_glyph\":null,\"view\":{\"id\":\"1822\",\"type\":\"CDSView\"}},\"id\":\"1821\",\"type\":\"GlyphRenderer\"},{\"attributes\":{\"text\":\"Season 2018-2019 | Average Daily Trailhead Users Per Month For Saturdays\",\"text_font_size\":{\"value\":\"13pt\"}},\"id\":\"1851\",\"type\":\"Title\"},{\"attributes\":{\"label\":{\"value\":\"LCC Summer Road\"},\"renderers\":[{\"id\":\"1765\",\"type\":\"GlyphRenderer\"}]},\"id\":\"1780\",\"type\":\"LegendItem\"},{\"attributes\":{\"fill_alpha\":{\"value\":0.9},\"fill_color\":{\"value\":\"#0D4F8B\"},\"line_color\":{\"value\":\"#0D4F8B\"},\"top\":{\"field\":\"counts\"},\"width\":{\"value\":0.16},\"x\":{\"field\":\"x\",\"transform\":{\"id\":\"1815\",\"type\":\"Dodge\"}}},\"id\":\"1818\",\"type\":\"VBar\"},{\"attributes\":{\"callback\":null,\"factors\":[\"Dec\",\"Jan\",\"Feb\",\"Mar\",\"Apr\"],\"range_padding\":0.1},\"id\":\"1695\",\"type\":\"FactorRange\"},{\"attributes\":{\"fill_alpha\":{\"value\":0.1},\"fill_color\":{\"value\":\"#1f77b4\"},\"line_alpha\":{\"value\":0.1},\"line_color\":{\"value\":\"#1f77b4\"},\"top\":{\"field\":\"counts\"},\"width\":{\"value\":0.16},\"x\":{\"field\":\"x\",\"transform\":{\"id\":\"1759\",\"type\":\"Dodge\"}}},\"id\":\"1763\",\"type\":\"VBar\"},{\"attributes\":{\"fill_alpha\":{\"value\":0.1},\"fill_color\":{\"value\":\"#1f77b4\"},\"line_alpha\":{\"value\":0.1},\"line_color\":{\"value\":\"#1f77b4\"},\"top\":{\"field\":\"counts\"},\"width\":{\"value\":0.16},\"x\":{\"field\":\"x\",\"transform\":{\"id\":\"1737\",\"type\":\"Dodge\"}}},\"id\":\"1741\",\"type\":\"VBar\"},{\"attributes\":{\"fill_alpha\":{\"value\":0.9},\"fill_color\":{\"value\":\"#009ACD\"},\"line_color\":{\"value\":\"#009ACD\"},\"top\":{\"field\":\"counts\"},\"width\":{\"value\":0.16},\"x\":{\"field\":\"x\",\"transform\":{\"id\":\"1759\",\"type\":\"Dodge\"}}},\"id\":\"1762\",\"type\":\"VBar\"},{\"attributes\":{\"items\":[{\"id\":\"1732\",\"type\":\"LegendItem\"},{\"id\":\"1754\",\"type\":\"LegendItem\"},{\"id\":\"1780\",\"type\":\"LegendItem\"},{\"id\":\"1810\",\"type\":\"LegendItem\"},{\"id\":\"1844\",\"type\":\"LegendItem\"}],\"location\":\"top_left\",\"orientation\":\"horizontal\"},\"id\":\"1731\",\"type\":\"Legend\"},{\"attributes\":{\"fill_color\":{\"value\":\"#1f77b4\"},\"line_color\":{\"value\":\"#1f77b4\"},\"top\":{\"field\":\"counts\"},\"width\":{\"value\":0.16},\"x\":{\"field\":\"x\",\"transform\":{\"id\":\"1815\",\"type\":\"Dodge\"}}},\"id\":\"1820\",\"type\":\"VBar\"},{\"attributes\":{},\"id\":\"1918\",\"type\":\"UnionRenderers\"},{\"attributes\":{\"fill_color\":{\"value\":\"#1f77b4\"},\"line_color\":{\"value\":\"#1f77b4\"},\"top\":{\"field\":\"counts\"},\"width\":{\"value\":0.16},\"x\":{\"field\":\"x\",\"transform\":{\"id\":\"1737\",\"type\":\"Dodge\"}}},\"id\":\"1742\",\"type\":\"VBar\"},{\"attributes\":{\"callback\":null,\"data\":{\"counts\":[275.75,319.75,263.75,242.4,173.5],\"x\":[\"Dec\",\"Jan\",\"Feb\",\"Mar\",\"Apr\"]},\"selected\":{\"id\":\"1929\",\"type\":\"Selection\"},\"selection_policy\":{\"id\":\"1928\",\"type\":\"UnionRenderers\"}},\"id\":\"1816\",\"type\":\"ColumnDataSource\"},{\"attributes\":{\"range\":{\"id\":\"1695\",\"type\":\"FactorRange\"},\"value\":-0.17250000000000001},\"id\":\"1755\",\"type\":\"Dodge\"},{\"attributes\":{\"range\":{\"id\":\"1695\",\"type\":\"FactorRange\"},\"value\":0.34500000000000003},\"id\":\"1845\",\"type\":\"Dodge\"},{\"attributes\":{\"callback\":null,\"data\":{\"counts\":[361.0,408.25,363.25,372.2,280.0],\"x\":[\"Dec\",\"Jan\",\"Feb\",\"Mar\",\"Apr\"]},\"selected\":{\"id\":\"1809\",\"type\":\"Selection\"},\"selection_policy\":{\"id\":\"1808\",\"type\":\"UnionRenderers\"}},\"id\":\"1760\",\"type\":\"ColumnDataSource\"},{\"attributes\":{\"callback\":null,\"data\":{\"counts\":[86.25,95.5,112.75,124.8,74.75],\"x\":[\"Dec\",\"Jan\",\"Feb\",\"Mar\",\"Apr\"]},\"selected\":{\"id\":\"1779\",\"type\":\"Selection\"},\"selection_policy\":{\"id\":\"1778\",\"type\":\"UnionRenderers\"}},\"id\":\"1738\",\"type\":\"ColumnDataSource\"},{\"attributes\":{\"range\":{\"id\":\"1695\",\"type\":\"FactorRange\"}},\"id\":\"1781\",\"type\":\"Dodge\"},{\"attributes\":{\"callback\":null,\"tooltips\":[[\"Site\",\"$name\"],[\"Average Daily Users\",\"@counts{int}\"]]},\"id\":\"1849\",\"type\":\"HoverTool\"},{\"attributes\":{\"source\":{\"id\":\"1816\",\"type\":\"ColumnDataSource\"}},\"id\":\"1822\",\"type\":\"CDSView\"},{\"attributes\":{\"fill_color\":{\"value\":\"#1f77b4\"},\"line_color\":{\"value\":\"#1f77b4\"},\"top\":{\"field\":\"counts\"},\"width\":{\"value\":0.16},\"x\":{\"field\":\"x\",\"transform\":{\"id\":\"1759\",\"type\":\"Dodge\"}}},\"id\":\"1764\",\"type\":\"VBar\"},{\"attributes\":{},\"id\":\"1715\",\"type\":\"SaveTool\"},{\"attributes\":{},\"id\":\"1834\",\"type\":\"UnionRenderers\"},{\"attributes\":{\"data_source\":{\"id\":\"1719\",\"type\":\"ColumnDataSource\"},\"glyph\":{\"id\":\"1721\",\"type\":\"VBar\"},\"hover_glyph\":{\"id\":\"1723\",\"type\":\"VBar\"},\"muted_glyph\":null,\"name\":\"LCC Our Lady\",\"nonselection_glyph\":{\"id\":\"1722\",\"type\":\"VBar\"},\"selection_glyph\":null,\"view\":{\"id\":\"1725\",\"type\":\"CDSView\"}},\"id\":\"1724\",\"type\":\"GlyphRenderer\"},{\"attributes\":{\"data_source\":{\"id\":\"1738\",\"type\":\"ColumnDataSource\"},\"glyph\":{\"id\":\"1740\",\"type\":\"VBar\"},\"hover_glyph\":{\"id\":\"1742\",\"type\":\"VBar\"},\"muted_glyph\":null,\"name\":\"LCC Our Lady East\",\"nonselection_glyph\":{\"id\":\"1741\",\"type\":\"VBar\"},\"selection_glyph\":null,\"view\":{\"id\":\"1744\",\"type\":\"CDSView\"}},\"id\":\"1743\",\"type\":\"GlyphRenderer\"},{\"attributes\":{},\"id\":\"1803\",\"type\":\"Selection\"},{\"attributes\":{},\"id\":\"1842\",\"type\":\"UnionRenderers\"},{\"attributes\":{\"data_source\":{\"id\":\"1760\",\"type\":\"ColumnDataSource\"},\"glyph\":{\"id\":\"1762\",\"type\":\"VBar\"},\"hover_glyph\":{\"id\":\"1764\",\"type\":\"VBar\"},\"muted_glyph\":null,\"name\":\"LCC Summer Road\",\"nonselection_glyph\":{\"id\":\"1763\",\"type\":\"VBar\"},\"selection_glyph\":null,\"view\":{\"id\":\"1766\",\"type\":\"CDSView\"}},\"id\":\"1765\",\"type\":\"GlyphRenderer\"},{\"attributes\":{\"source\":{\"id\":\"1738\",\"type\":\"ColumnDataSource\"}},\"id\":\"1744\",\"type\":\"CDSView\"},{\"attributes\":{},\"id\":\"1835\",\"type\":\"Selection\"},{\"attributes\":{\"source\":{\"id\":\"1760\",\"type\":\"ColumnDataSource\"}},\"id\":\"1766\",\"type\":\"CDSView\"},{\"attributes\":{},\"id\":\"1750\",\"type\":\"UnionRenderers\"},{\"attributes\":{},\"id\":\"1809\",\"type\":\"Selection\"},{\"attributes\":{\"range\":{\"id\":\"1695\",\"type\":\"FactorRange\"},\"value\":0.34500000000000003},\"id\":\"1815\",\"type\":\"Dodge\"},{\"attributes\":{},\"id\":\"1704\",\"type\":\"LinearScale\"},{\"attributes\":{},\"id\":\"1752\",\"type\":\"UnionRenderers\"},{\"attributes\":{},\"id\":\"1843\",\"type\":\"Selection\"},{\"attributes\":{\"label\":{\"value\":\"LCC Summer Road 2\"},\"renderers\":[{\"id\":\"1791\",\"type\":\"GlyphRenderer\"}]},\"id\":\"1810\",\"type\":\"LegendItem\"},{\"attributes\":{},\"id\":\"1774\",\"type\":\"UnionRenderers\"},{\"attributes\":{\"label\":{\"value\":\"LCC Our Lady East\"},\"renderers\":[{\"id\":\"1743\",\"type\":\"GlyphRenderer\"}]},\"id\":\"1754\",\"type\":\"LegendItem\"},{\"attributes\":{\"fill_alpha\":{\"value\":0.1},\"fill_color\":{\"value\":\"#1f77b4\"},\"line_alpha\":{\"value\":0.1},\"line_color\":{\"value\":\"#1f77b4\"},\"top\":{\"field\":\"counts\"},\"width\":{\"value\":0.16},\"x\":{\"field\":\"x\",\"transform\":{\"id\":\"1785\",\"type\":\"Dodge\"}}},\"id\":\"1789\",\"type\":\"VBar\"},{\"attributes\":{},\"id\":\"1775\",\"type\":\"Selection\"},{\"attributes\":{},\"id\":\"1808\",\"type\":\"UnionRenderers\"},{\"attributes\":{\"label\":{\"value\":\"LCC White Pine\"},\"renderers\":[{\"id\":\"1821\",\"type\":\"GlyphRenderer\"}]},\"id\":\"1844\",\"type\":\"LegendItem\"},{\"attributes\":{\"fill_color\":{\"value\":\"#1f77b4\"},\"line_color\":{\"value\":\"#1f77b4\"},\"top\":{\"field\":\"counts\"},\"width\":{\"value\":0.16},\"x\":{\"field\":\"x\",\"transform\":{\"id\":\"1718\",\"type\":\"Dodge\"}}},\"id\":\"1723\",\"type\":\"VBar\"},{\"attributes\":{},\"id\":\"1751\",\"type\":\"Selection\"},{\"attributes\":{},\"id\":\"1753\",\"type\":\"Selection\"},{\"attributes\":{},\"id\":\"1779\",\"type\":\"Selection\"},{\"attributes\":{},\"id\":\"1702\",\"type\":\"CategoricalScale\"},{\"attributes\":{\"fill_alpha\":{\"value\":0.1},\"fill_color\":{\"value\":\"#1f77b4\"},\"line_alpha\":{\"value\":0.1},\"line_color\":{\"value\":\"#1f77b4\"},\"top\":{\"field\":\"counts\"},\"width\":{\"value\":0.16},\"x\":{\"field\":\"x\",\"transform\":{\"id\":\"1718\",\"type\":\"Dodge\"}}},\"id\":\"1722\",\"type\":\"VBar\"},{\"attributes\":{},\"id\":\"1778\",\"type\":\"UnionRenderers\"},{\"attributes\":{\"source\":{\"id\":\"1719\",\"type\":\"ColumnDataSource\"}},\"id\":\"1725\",\"type\":\"CDSView\"},{\"attributes\":{\"data_source\":{\"id\":\"1786\",\"type\":\"ColumnDataSource\"},\"glyph\":{\"id\":\"1788\",\"type\":\"VBar\"},\"hover_glyph\":{\"id\":\"1790\",\"type\":\"VBar\"},\"muted_glyph\":null,\"name\":\"LCC Summer Road 2\",\"nonselection_glyph\":{\"id\":\"1789\",\"type\":\"VBar\"},\"selection_glyph\":null,\"view\":{\"id\":\"1792\",\"type\":\"CDSView\"}},\"id\":\"1791\",\"type\":\"GlyphRenderer\"},{\"attributes\":{},\"id\":\"1729\",\"type\":\"BasicTickFormatter\"},{\"attributes\":{\"level\":\"glyph\",\"source\":{\"id\":\"1782\",\"type\":\"ColumnDataSource\"},\"text\":{\"field\":\"n\"},\"text_align\":\"center\",\"text_color\":{\"value\":\"#000000\"},\"text_font_size\":{\"value\":\"7pt\"},\"x\":{\"field\":\"x\",\"transform\":{\"id\":\"1781\",\"type\":\"Dodge\"}},\"y\":{\"field\":\"y\"}},\"id\":\"1783\",\"type\":\"LabelSet\"},{\"attributes\":{},\"id\":\"1711\",\"type\":\"BasicTicker\"},{\"attributes\":{\"label\":{\"value\":\"LCC Our Lady\"},\"renderers\":[{\"id\":\"1724\",\"type\":\"GlyphRenderer\"}]},\"id\":\"1732\",\"type\":\"LegendItem\"},{\"attributes\":{},\"id\":\"1727\",\"type\":\"CategoricalTickFormatter\"},{\"attributes\":{\"fill_alpha\":{\"value\":0.9},\"fill_color\":{\"value\":\"#00688B\"},\"line_color\":{\"value\":\"#00688B\"},\"top\":{\"field\":\"counts\"},\"width\":{\"value\":0.16},\"x\":{\"field\":\"x\",\"transform\":{\"id\":\"1785\",\"type\":\"Dodge\"}}},\"id\":\"1788\",\"type\":\"VBar\"},{\"attributes\":{\"level\":\"glyph\",\"source\":{\"id\":\"1812\",\"type\":\"ColumnDataSource\"},\"text\":{\"field\":\"n\"},\"text_align\":\"center\",\"text_color\":{\"value\":\"#000000\"},\"text_font_size\":{\"value\":\"7pt\"},\"x\":{\"field\":\"x\",\"transform\":{\"id\":\"1811\",\"type\":\"Dodge\"}},\"y\":{\"field\":\"y\"}},\"id\":\"1813\",\"type\":\"LabelSet\"},{\"attributes\":{\"range\":{\"id\":\"1695\",\"type\":\"FactorRange\"},\"value\":-0.34500000000000003},\"id\":\"1733\",\"type\":\"Dodge\"},{\"attributes\":{\"level\":\"glyph\",\"source\":{\"id\":\"1756\",\"type\":\"ColumnDataSource\"},\"text\":{\"field\":\"n\"},\"text_align\":\"center\",\"text_color\":{\"value\":\"#000000\"},\"text_font_size\":{\"value\":\"7pt\"},\"x\":{\"field\":\"x\",\"transform\":{\"id\":\"1755\",\"type\":\"Dodge\"}},\"y\":{\"field\":\"y\"}},\"id\":\"1757\",\"type\":\"LabelSet\"},{\"attributes\":{},\"id\":\"1928\",\"type\":\"UnionRenderers\"},{\"attributes\":{\"level\":\"glyph\",\"source\":{\"id\":\"1846\",\"type\":\"ColumnDataSource\"},\"text\":{\"field\":\"n\"},\"text_align\":\"center\",\"text_color\":{\"value\":\"#000000\"},\"text_font_size\":{\"value\":\"7pt\"},\"x\":{\"field\":\"x\",\"transform\":{\"id\":\"1845\",\"type\":\"Dodge\"}},\"y\":{\"field\":\"y\"}},\"id\":\"1847\",\"type\":\"LabelSet\"},{\"attributes\":{\"fill_color\":{\"value\":\"#1f77b4\"},\"line_color\":{\"value\":\"#1f77b4\"},\"top\":{\"field\":\"counts\"},\"width\":{\"value\":0.16},\"x\":{\"field\":\"x\",\"transform\":{\"id\":\"1785\",\"type\":\"Dodge\"}}},\"id\":\"1790\",\"type\":\"VBar\"},{\"attributes\":{\"active_drag\":\"auto\",\"active_inspect\":\"auto\",\"active_multi\":null,\"active_scroll\":\"auto\",\"active_tap\":\"auto\",\"tools\":[{\"id\":\"1715\",\"type\":\"SaveTool\"},{\"id\":\"1849\",\"type\":\"HoverTool\"}]},\"id\":\"1716\",\"type\":\"Toolbar\"},{\"attributes\":{\"level\":\"glyph\",\"source\":{\"id\":\"1734\",\"type\":\"ColumnDataSource\"},\"text\":{\"field\":\"n\"},\"text_align\":\"center\",\"text_color\":{\"value\":\"#000000\"},\"text_font_size\":{\"value\":\"7pt\"},\"x\":{\"field\":\"x\",\"transform\":{\"id\":\"1733\",\"type\":\"Dodge\"}},\"y\":{\"field\":\"y\"}},\"id\":\"1735\",\"type\":\"LabelSet\"},{\"attributes\":{\"range\":{\"id\":\"1695\",\"type\":\"FactorRange\"},\"value\":0.17250000000000001},\"id\":\"1811\",\"type\":\"Dodge\"},{\"attributes\":{\"callback\":null,\"end\":530.725},\"id\":\"1852\",\"type\":\"Range1d\"},{\"attributes\":{\"formatter\":{\"id\":\"1727\",\"type\":\"CategoricalTickFormatter\"},\"major_label_orientation\":0,\"major_label_standoff\":10,\"major_label_text_font_size\":{\"value\":\"12pt\"},\"major_label_text_font_style\":\"bold\",\"major_tick_line_color\":{\"value\":null},\"minor_tick_line_color\":{\"value\":null},\"ticker\":{\"id\":\"1707\",\"type\":\"CategoricalTicker\"}},\"id\":\"1706\",\"type\":\"CategoricalAxis\"},{\"attributes\":{\"grid_line_color\":null,\"ticker\":{\"id\":\"1707\",\"type\":\"CategoricalTicker\"}},\"id\":\"1709\",\"type\":\"Grid\"},{\"attributes\":{},\"id\":\"1919\",\"type\":\"Selection\"},{\"attributes\":{\"callback\":null,\"data\":{\"counts\":[15.0,12.5,111.66666666666669,137.0,200.5],\"x\":[\"Dec\",\"Jan\",\"Feb\",\"Mar\",\"Apr\"]},\"selected\":{\"id\":\"1843\",\"type\":\"Selection\"},\"selection_policy\":{\"id\":\"1842\",\"type\":\"UnionRenderers\"}},\"id\":\"1786\",\"type\":\"ColumnDataSource\"},{\"attributes\":{\"dimension\":1,\"ticker\":{\"id\":\"1711\",\"type\":\"BasicTicker\"}},\"id\":\"1714\",\"type\":\"Grid\"},{\"attributes\":{\"formatter\":{\"id\":\"1729\",\"type\":\"BasicTickFormatter\"},\"major_label_text_font_size\":{\"value\":\"12pt\"},\"major_label_text_font_style\":\"bold\",\"minor_tick_line_color\":{\"value\":null},\"ticker\":{\"id\":\"1711\",\"type\":\"BasicTicker\"}},\"id\":\"1710\",\"type\":\"LinearAxis\"},{\"attributes\":{\"callback\":null,\"data\":{\"n\":[\"(4)\",\"(4)\",\"(4)\",\"(5)\",\"(4)\"],\"x\":[\"Dec\",\"Jan\",\"Feb\",\"Mar\",\"Apr\"],\"y\":[88.5,114.0,68.5,122.0,65.25]},\"selected\":{\"id\":\"1751\",\"type\":\"Selection\"},\"selection_policy\":{\"id\":\"1750\",\"type\":\"UnionRenderers\"}},\"id\":\"1734\",\"type\":\"ColumnDataSource\"},{\"attributes\":{},\"id\":\"1707\",\"type\":\"CategoricalTicker\"},{\"attributes\":{\"callback\":null,\"data\":{\"n\":[\"(4)\",\"(4)\",\"(4)\",\"(5)\",\"(4)\"],\"x\":[\"Dec\",\"Jan\",\"Feb\",\"Mar\",\"Apr\"],\"y\":[275.75,319.75,263.75,242.4,173.5]},\"selected\":{\"id\":\"1919\",\"type\":\"Selection\"},\"selection_policy\":{\"id\":\"1918\",\"type\":\"UnionRenderers\"}},\"id\":\"1846\",\"type\":\"ColumnDataSource\"},{\"attributes\":{},\"id\":\"1802\",\"type\":\"UnionRenderers\"},{\"attributes\":{},\"id\":\"1929\",\"type\":\"Selection\"},{\"attributes\":{\"callback\":null,\"data\":{\"n\":[\"(4)\",\"(4)\",\"(4)\",\"(5)\",\"(4)\"],\"x\":[\"Dec\",\"Jan\",\"Feb\",\"Mar\",\"Apr\"],\"y\":[86.25,95.5,112.75,124.8,74.75]},\"selected\":{\"id\":\"1775\",\"type\":\"Selection\"},\"selection_policy\":{\"id\":\"1774\",\"type\":\"UnionRenderers\"}},\"id\":\"1756\",\"type\":\"ColumnDataSource\"},{\"attributes\":{\"callback\":null,\"data\":{\"n\":[\"(3)\",\"(2)\",\"(3)\",\"(4)\",\"(4)\"],\"x\":[\"Dec\",\"Jan\",\"Feb\",\"Mar\",\"Apr\"],\"y\":[15.0,12.5,111.66666666666669,137.0,200.5]},\"selected\":{\"id\":\"1835\",\"type\":\"Selection\"},\"selection_policy\":{\"id\":\"1834\",\"type\":\"UnionRenderers\"}},\"id\":\"1812\",\"type\":\"ColumnDataSource\"},{\"attributes\":{\"source\":{\"id\":\"1786\",\"type\":\"ColumnDataSource\"}},\"id\":\"1792\",\"type\":\"CDSView\"},{\"attributes\":{\"callback\":null,\"data\":{\"n\":[\"(4)\",\"(4)\",\"(4)\",\"(5)\",\"(4)\"],\"x\":[\"Dec\",\"Jan\",\"Feb\",\"Mar\",\"Apr\"],\"y\":[361.0,408.25,363.25,372.2,280.0]},\"selected\":{\"id\":\"1803\",\"type\":\"Selection\"},\"selection_policy\":{\"id\":\"1802\",\"type\":\"UnionRenderers\"}},\"id\":\"1782\",\"type\":\"ColumnDataSource\"}],\"root_ids\":[\"1696\"]},\"title\":\"Bokeh Application\",\"version\":\"1.4.0\"}};\n",
       "  var render_items = [{\"docid\":\"bf071664-312d-4df5-95ca-3ec08438f116\",\"roots\":{\"1696\":\"e8bff5b5-82f3-4346-b2de-2b3dae7777e5\"}}];\n",
       "  root.Bokeh.embed.embed_items_notebook(docs_json, render_items);\n",
       "\n",
       "  }\n",
       "  if (root.Bokeh !== undefined) {\n",
       "    embed_document(root);\n",
       "  } else {\n",
       "    var attempts = 0;\n",
       "    var timer = setInterval(function(root) {\n",
       "      if (root.Bokeh !== undefined) {\n",
       "        clearInterval(timer);\n",
       "        embed_document(root);\n",
       "      } else {\n",
       "        attempts++;\n",
       "        if (attempts > 100) {\n",
       "          clearInterval(timer);\n",
       "          console.log(\"Bokeh: ERROR: Unable to run BokehJS code because BokehJS library is missing\");\n",
       "        }\n",
       "      }\n",
       "    }, 10, root)\n",
       "  }\n",
       "})(window);"
      ],
      "application/vnd.bokehjs_exec.v0+json": ""
     },
     "metadata": {
      "application/vnd.bokehjs_exec.v0+json": {
       "id": "1696"
      }
     },
     "output_type": "display_data"
    }
   ],
   "source": [
    "season = ['2018-2019']\n",
    "sites = [x for x in adu_df.query(\"season == @season\")['site'].unique() if (\"LCC\" in x and \"Gate\" not in x)]\n",
    "dayOfWeek = 'Saturday'\n",
    "src_df = dub.make_data_set(season, sites, dayOfWeek, adu_df)\n",
    "p = dub.make_plot(src_df, show_sensor_n=True)\n",
    "show(p)"
   ]
  },
  {
   "cell_type": "markdown",
   "metadata": {},
   "source": [
    "## BCC Plots"
   ]
  },
  {
   "cell_type": "code",
   "execution_count": 7,
   "metadata": {},
   "outputs": [
    {
     "data": {
      "text/html": [
       "\n",
       "\n",
       "\n",
       "\n",
       "\n",
       "\n",
       "  <div class=\"bk-root\" id=\"f13c82ce-fa88-4e78-a54c-99db6751f287\" data-root-id=\"2081\"></div>\n"
      ]
     },
     "metadata": {},
     "output_type": "display_data"
    },
    {
     "data": {
      "application/javascript": [
       "(function(root) {\n",
       "  function embed_document(root) {\n",
       "    \n",
       "  var docs_json = {\"bd7dca38-cb19-4e60-98c2-a64b762a1a2d\":{\"roots\":{\"references\":[{\"attributes\":{\"above\":[{\"id\":\"2172\",\"type\":\"Title\"}],\"below\":[{\"id\":\"2091\",\"type\":\"CategoricalAxis\"},{\"id\":\"2174\",\"type\":\"Title\"}],\"center\":[{\"id\":\"2094\",\"type\":\"Grid\"},{\"id\":\"2099\",\"type\":\"Grid\"},{\"id\":\"2116\",\"type\":\"Legend\"},{\"id\":\"2120\",\"type\":\"LabelSet\"},{\"id\":\"2142\",\"type\":\"LabelSet\"},{\"id\":\"2168\",\"type\":\"LabelSet\"}],\"left\":[{\"id\":\"2095\",\"type\":\"LinearAxis\"}],\"plot_height\":400,\"plot_width\":800,\"renderers\":[{\"id\":\"2109\",\"type\":\"GlyphRenderer\"},{\"id\":\"2128\",\"type\":\"GlyphRenderer\"},{\"id\":\"2150\",\"type\":\"GlyphRenderer\"}],\"title\":{\"id\":\"2082\",\"type\":\"Title\"},\"toolbar\":{\"id\":\"2101\",\"type\":\"Toolbar\"},\"x_range\":{\"id\":\"2080\",\"type\":\"FactorRange\"},\"x_scale\":{\"id\":\"2087\",\"type\":\"CategoricalScale\"},\"y_range\":{\"id\":\"2173\",\"type\":\"Range1d\"},\"y_scale\":{\"id\":\"2089\",\"type\":\"LinearScale\"}},\"id\":\"2081\",\"subtype\":\"Figure\",\"type\":\"Plot\"},{\"attributes\":{\"range\":{\"id\":\"2080\",\"type\":\"FactorRange\"}},\"id\":\"2122\",\"type\":\"Dodge\"},{\"attributes\":{},\"id\":\"2163\",\"type\":\"UnionRenderers\"},{\"attributes\":{\"data_source\":{\"id\":\"2145\",\"type\":\"ColumnDataSource\"},\"glyph\":{\"id\":\"2147\",\"type\":\"VBar\"},\"hover_glyph\":{\"id\":\"2149\",\"type\":\"VBar\"},\"muted_glyph\":null,\"name\":\"BCC Mill D\",\"nonselection_glyph\":{\"id\":\"2148\",\"type\":\"VBar\"},\"selection_glyph\":null,\"view\":{\"id\":\"2151\",\"type\":\"CDSView\"}},\"id\":\"2150\",\"type\":\"GlyphRenderer\"},{\"attributes\":{\"label\":{\"value\":\"BCC Butler\"},\"renderers\":[{\"id\":\"2109\",\"type\":\"GlyphRenderer\"}]},\"id\":\"2117\",\"type\":\"LegendItem\"},{\"attributes\":{},\"id\":\"2261\",\"type\":\"Selection\"},{\"attributes\":{\"active_drag\":\"auto\",\"active_inspect\":\"auto\",\"active_multi\":null,\"active_scroll\":\"auto\",\"active_tap\":\"auto\",\"tools\":[{\"id\":\"2100\",\"type\":\"SaveTool\"},{\"id\":\"2170\",\"type\":\"HoverTool\"}]},\"id\":\"2101\",\"type\":\"Toolbar\"},{\"attributes\":{\"callback\":null,\"data\":{\"n\":[\"(29)\",\"(30)\",\"(28)\",\"(28)\",\"(28)\"],\"x\":[\"Dec\",\"Jan\",\"Feb\",\"Mar\",\"Apr\"],\"y\":[157.24137931034485,216.1,177.0714285714286,213.28571428571428,421.8571428571428]},\"selected\":{\"id\":\"2160\",\"type\":\"Selection\"},\"selection_policy\":{\"id\":\"2159\",\"type\":\"UnionRenderers\"}},\"id\":\"2141\",\"type\":\"ColumnDataSource\"},{\"attributes\":{\"fill_alpha\":{\"value\":0.9},\"fill_color\":{\"value\":\"#0BB5FF\"},\"line_color\":{\"value\":\"#0BB5FF\"},\"top\":{\"field\":\"counts\"},\"width\":{\"value\":0.26666666666666666},\"x\":{\"field\":\"x\",\"transform\":{\"id\":\"2122\",\"type\":\"Dodge\"}}},\"id\":\"2125\",\"type\":\"VBar\"},{\"attributes\":{},\"id\":\"2267\",\"type\":\"Selection\"},{\"attributes\":{\"data_source\":{\"id\":\"2123\",\"type\":\"ColumnDataSource\"},\"glyph\":{\"id\":\"2125\",\"type\":\"VBar\"},\"hover_glyph\":{\"id\":\"2127\",\"type\":\"VBar\"},\"muted_glyph\":null,\"name\":\"BCC Cardiff\",\"nonselection_glyph\":{\"id\":\"2126\",\"type\":\"VBar\"},\"selection_glyph\":null,\"view\":{\"id\":\"2129\",\"type\":\"CDSView\"}},\"id\":\"2128\",\"type\":\"GlyphRenderer\"},{\"attributes\":{\"fill_alpha\":{\"value\":0.9},\"fill_color\":{\"value\":\"#0EBFE9\"},\"line_color\":{\"value\":\"#0EBFE9\"},\"top\":{\"field\":\"counts\"},\"width\":{\"value\":0.26666666666666666},\"x\":{\"field\":\"x\",\"transform\":{\"id\":\"2103\",\"type\":\"Dodge\"}}},\"id\":\"2106\",\"type\":\"VBar\"},{\"attributes\":{\"fill_color\":{\"value\":\"#1f77b4\"},\"line_color\":{\"value\":\"#1f77b4\"},\"top\":{\"field\":\"counts\"},\"width\":{\"value\":0.26666666666666666},\"x\":{\"field\":\"x\",\"transform\":{\"id\":\"2103\",\"type\":\"Dodge\"}}},\"id\":\"2108\",\"type\":\"VBar\"},{\"attributes\":{\"items\":[{\"id\":\"2117\",\"type\":\"LegendItem\"},{\"id\":\"2139\",\"type\":\"LegendItem\"},{\"id\":\"2165\",\"type\":\"LegendItem\"}],\"location\":\"top_left\",\"orientation\":\"horizontal\"},\"id\":\"2116\",\"type\":\"Legend\"},{\"attributes\":{},\"id\":\"2096\",\"type\":\"BasicTicker\"},{\"attributes\":{},\"id\":\"2260\",\"type\":\"UnionRenderers\"},{\"attributes\":{\"callback\":null,\"tooltips\":[[\"Site\",\"$name\"],[\"Average Daily Users\",\"@counts{int}\"]]},\"id\":\"2170\",\"type\":\"HoverTool\"},{\"attributes\":{\"fill_alpha\":{\"value\":0.1},\"fill_color\":{\"value\":\"#1f77b4\"},\"line_alpha\":{\"value\":0.1},\"line_color\":{\"value\":\"#1f77b4\"},\"top\":{\"field\":\"counts\"},\"width\":{\"value\":0.26666666666666666},\"x\":{\"field\":\"x\",\"transform\":{\"id\":\"2103\",\"type\":\"Dodge\"}}},\"id\":\"2107\",\"type\":\"VBar\"},{\"attributes\":{\"fill_color\":{\"value\":\"#1f77b4\"},\"line_color\":{\"value\":\"#1f77b4\"},\"top\":{\"field\":\"counts\"},\"width\":{\"value\":0.26666666666666666},\"x\":{\"field\":\"x\",\"transform\":{\"id\":\"2144\",\"type\":\"Dodge\"}}},\"id\":\"2149\",\"type\":\"VBar\"},{\"attributes\":{\"text\":\"Note: (*) is number of days with sensor data\",\"text_font_size\":{\"value\":\"10pt\"},\"text_font_style\":\"normal\"},\"id\":\"2174\",\"type\":\"Title\"},{\"attributes\":{\"callback\":null,\"data\":{\"counts\":[46.96551724137931,105.35483870967742,105.46428571428572,74.06896551724137,17.541666666666668],\"x\":[\"Dec\",\"Jan\",\"Feb\",\"Mar\",\"Apr\"]},\"selected\":{\"id\":\"2267\",\"type\":\"Selection\"},\"selection_policy\":{\"id\":\"2266\",\"type\":\"UnionRenderers\"}},\"id\":\"2145\",\"type\":\"ColumnDataSource\"},{\"attributes\":{\"text\":\"Season 2017-2018 | Average Daily Trailhead Users Per Month\",\"text_font_size\":{\"value\":\"13pt\"}},\"id\":\"2172\",\"type\":\"Title\"},{\"attributes\":{\"fill_color\":{\"value\":\"#1f77b4\"},\"line_color\":{\"value\":\"#1f77b4\"},\"top\":{\"field\":\"counts\"},\"width\":{\"value\":0.26666666666666666},\"x\":{\"field\":\"x\",\"transform\":{\"id\":\"2122\",\"type\":\"Dodge\"}}},\"id\":\"2127\",\"type\":\"VBar\"},{\"attributes\":{\"callback\":null,\"data\":{\"n\":[\"(29)\",\"(31)\",\"(28)\",\"(29)\",\"(24)\"],\"x\":[\"Dec\",\"Jan\",\"Feb\",\"Mar\",\"Apr\"],\"y\":[46.96551724137931,105.35483870967742,105.46428571428572,74.06896551724137,17.541666666666668]},\"selected\":{\"id\":\"2261\",\"type\":\"Selection\"},\"selection_policy\":{\"id\":\"2260\",\"type\":\"UnionRenderers\"}},\"id\":\"2167\",\"type\":\"ColumnDataSource\"},{\"attributes\":{},\"id\":\"2100\",\"type\":\"SaveTool\"},{\"attributes\":{\"callback\":null,\"data\":{\"counts\":[38.42857142857143,53.42857142857143,50.32142857142857,34.41935483870968,46.230769230769226],\"x\":[\"Dec\",\"Jan\",\"Feb\",\"Mar\",\"Apr\"]},\"selected\":{\"id\":\"2138\",\"type\":\"Selection\"},\"selection_policy\":{\"id\":\"2137\",\"type\":\"UnionRenderers\"}},\"id\":\"2104\",\"type\":\"ColumnDataSource\"},{\"attributes\":{\"fill_alpha\":{\"value\":0.1},\"fill_color\":{\"value\":\"#1f77b4\"},\"line_alpha\":{\"value\":0.1},\"line_color\":{\"value\":\"#1f77b4\"},\"top\":{\"field\":\"counts\"},\"width\":{\"value\":0.26666666666666666},\"x\":{\"field\":\"x\",\"transform\":{\"id\":\"2144\",\"type\":\"Dodge\"}}},\"id\":\"2148\",\"type\":\"VBar\"},{\"attributes\":{},\"id\":\"2266\",\"type\":\"UnionRenderers\"},{\"attributes\":{\"level\":\"glyph\",\"source\":{\"id\":\"2141\",\"type\":\"ColumnDataSource\"},\"text\":{\"field\":\"n\"},\"text_align\":\"center\",\"text_color\":{\"value\":\"#000000\"},\"text_font_size\":{\"value\":\"7pt\"},\"x\":{\"field\":\"x\",\"transform\":{\"id\":\"2140\",\"type\":\"Dodge\"}},\"y\":{\"field\":\"y\"}},\"id\":\"2142\",\"type\":\"LabelSet\"},{\"attributes\":{\"fill_alpha\":{\"value\":0.1},\"fill_color\":{\"value\":\"#1f77b4\"},\"line_alpha\":{\"value\":0.1},\"line_color\":{\"value\":\"#1f77b4\"},\"top\":{\"field\":\"counts\"},\"width\":{\"value\":0.26666666666666666},\"x\":{\"field\":\"x\",\"transform\":{\"id\":\"2122\",\"type\":\"Dodge\"}}},\"id\":\"2126\",\"type\":\"VBar\"},{\"attributes\":{\"dimension\":1,\"ticker\":{\"id\":\"2096\",\"type\":\"BasicTicker\"}},\"id\":\"2099\",\"type\":\"Grid\"},{\"attributes\":{\"level\":\"glyph\",\"source\":{\"id\":\"2167\",\"type\":\"ColumnDataSource\"},\"text\":{\"field\":\"n\"},\"text_align\":\"center\",\"text_color\":{\"value\":\"#000000\"},\"text_font_size\":{\"value\":\"7pt\"},\"x\":{\"field\":\"x\",\"transform\":{\"id\":\"2166\",\"type\":\"Dodge\"}},\"y\":{\"field\":\"y\"}},\"id\":\"2168\",\"type\":\"LabelSet\"},{\"attributes\":{},\"id\":\"2087\",\"type\":\"CategoricalScale\"},{\"attributes\":{\"range\":{\"id\":\"2080\",\"type\":\"FactorRange\"},\"value\":-0.2916666666666667},\"id\":\"2118\",\"type\":\"Dodge\"},{\"attributes\":{\"fill_alpha\":{\"value\":0.9},\"fill_color\":{\"value\":\"#009ACD\"},\"line_color\":{\"value\":\"#009ACD\"},\"top\":{\"field\":\"counts\"},\"width\":{\"value\":0.26666666666666666},\"x\":{\"field\":\"x\",\"transform\":{\"id\":\"2144\",\"type\":\"Dodge\"}}},\"id\":\"2147\",\"type\":\"VBar\"},{\"attributes\":{},\"id\":\"2089\",\"type\":\"LinearScale\"},{\"attributes\":{\"callback\":null,\"data\":{\"counts\":[157.24137931034485,216.1,177.0714285714286,213.28571428571428,421.8571428571428],\"x\":[\"Dec\",\"Jan\",\"Feb\",\"Mar\",\"Apr\"]},\"selected\":{\"id\":\"2164\",\"type\":\"Selection\"},\"selection_policy\":{\"id\":\"2163\",\"type\":\"UnionRenderers\"}},\"id\":\"2123\",\"type\":\"ColumnDataSource\"},{\"attributes\":{\"range\":{\"id\":\"2080\",\"type\":\"FactorRange\"},\"value\":0.2916666666666667},\"id\":\"2144\",\"type\":\"Dodge\"},{\"attributes\":{\"data_source\":{\"id\":\"2104\",\"type\":\"ColumnDataSource\"},\"glyph\":{\"id\":\"2106\",\"type\":\"VBar\"},\"hover_glyph\":{\"id\":\"2108\",\"type\":\"VBar\"},\"muted_glyph\":null,\"name\":\"BCC Butler\",\"nonselection_glyph\":{\"id\":\"2107\",\"type\":\"VBar\"},\"selection_glyph\":null,\"view\":{\"id\":\"2110\",\"type\":\"CDSView\"}},\"id\":\"2109\",\"type\":\"GlyphRenderer\"},{\"attributes\":{\"formatter\":{\"id\":\"2112\",\"type\":\"CategoricalTickFormatter\"},\"major_label_orientation\":0,\"major_label_standoff\":10,\"major_label_text_font_size\":{\"value\":\"12pt\"},\"major_label_text_font_style\":\"bold\",\"major_tick_line_color\":{\"value\":null},\"minor_tick_line_color\":{\"value\":null},\"ticker\":{\"id\":\"2092\",\"type\":\"CategoricalTicker\"}},\"id\":\"2091\",\"type\":\"CategoricalAxis\"},{\"attributes\":{\"formatter\":{\"id\":\"2114\",\"type\":\"BasicTickFormatter\"},\"major_label_text_font_size\":{\"value\":\"12pt\"},\"major_label_text_font_style\":\"bold\",\"minor_tick_line_color\":{\"value\":null},\"ticker\":{\"id\":\"2096\",\"type\":\"BasicTicker\"}},\"id\":\"2095\",\"type\":\"LinearAxis\"},{\"attributes\":{\"range\":{\"id\":\"2080\",\"type\":\"FactorRange\"}},\"id\":\"2140\",\"type\":\"Dodge\"},{\"attributes\":{},\"id\":\"2112\",\"type\":\"CategoricalTickFormatter\"},{\"attributes\":{\"grid_line_color\":null,\"ticker\":{\"id\":\"2092\",\"type\":\"CategoricalTicker\"}},\"id\":\"2094\",\"type\":\"Grid\"},{\"attributes\":{\"source\":{\"id\":\"2123\",\"type\":\"ColumnDataSource\"}},\"id\":\"2129\",\"type\":\"CDSView\"},{\"attributes\":{\"range\":{\"id\":\"2080\",\"type\":\"FactorRange\"},\"value\":-0.2916666666666667},\"id\":\"2103\",\"type\":\"Dodge\"},{\"attributes\":{\"level\":\"glyph\",\"source\":{\"id\":\"2119\",\"type\":\"ColumnDataSource\"},\"text\":{\"field\":\"n\"},\"text_align\":\"center\",\"text_color\":{\"value\":\"#000000\"},\"text_font_size\":{\"value\":\"7pt\"},\"x\":{\"field\":\"x\",\"transform\":{\"id\":\"2118\",\"type\":\"Dodge\"}},\"y\":{\"field\":\"y\"}},\"id\":\"2120\",\"type\":\"LabelSet\"},{\"attributes\":{\"range\":{\"id\":\"2080\",\"type\":\"FactorRange\"},\"value\":0.2916666666666667},\"id\":\"2166\",\"type\":\"Dodge\"},{\"attributes\":{\"source\":{\"id\":\"2145\",\"type\":\"ColumnDataSource\"}},\"id\":\"2151\",\"type\":\"CDSView\"},{\"attributes\":{},\"id\":\"2135\",\"type\":\"UnionRenderers\"},{\"attributes\":{},\"id\":\"2137\",\"type\":\"UnionRenderers\"},{\"attributes\":{},\"id\":\"2159\",\"type\":\"UnionRenderers\"},{\"attributes\":{\"label\":{\"value\":\"BCC Cardiff\"},\"renderers\":[{\"id\":\"2128\",\"type\":\"GlyphRenderer\"}]},\"id\":\"2139\",\"type\":\"LegendItem\"},{\"attributes\":{},\"id\":\"2160\",\"type\":\"Selection\"},{\"attributes\":{\"label\":{\"value\":\"BCC Mill D\"},\"renderers\":[{\"id\":\"2150\",\"type\":\"GlyphRenderer\"}]},\"id\":\"2165\",\"type\":\"LegendItem\"},{\"attributes\":{\"source\":{\"id\":\"2104\",\"type\":\"ColumnDataSource\"}},\"id\":\"2110\",\"type\":\"CDSView\"},{\"attributes\":{},\"id\":\"2136\",\"type\":\"Selection\"},{\"attributes\":{},\"id\":\"2164\",\"type\":\"Selection\"},{\"attributes\":{},\"id\":\"2092\",\"type\":\"CategoricalTicker\"},{\"attributes\":{\"callback\":null,\"data\":{\"n\":[\"(14)\",\"(14)\",\"(28)\",\"(31)\",\"(26)\"],\"x\":[\"Dec\",\"Jan\",\"Feb\",\"Mar\",\"Apr\"],\"y\":[38.42857142857143,53.42857142857143,50.32142857142857,34.41935483870968,46.230769230769226]},\"selected\":{\"id\":\"2136\",\"type\":\"Selection\"},\"selection_policy\":{\"id\":\"2135\",\"type\":\"UnionRenderers\"}},\"id\":\"2119\",\"type\":\"ColumnDataSource\"},{\"attributes\":{},\"id\":\"2138\",\"type\":\"Selection\"},{\"attributes\":{\"callback\":null,\"factors\":[\"Dec\",\"Jan\",\"Feb\",\"Mar\",\"Apr\"],\"range_padding\":0.1},\"id\":\"2080\",\"type\":\"FactorRange\"},{\"attributes\":{},\"id\":\"2114\",\"type\":\"BasicTickFormatter\"},{\"attributes\":{\"callback\":null,\"end\":548.4142857142856},\"id\":\"2173\",\"type\":\"Range1d\"},{\"attributes\":{\"text\":\"\",\"text_font_size\":{\"value\":\"12pt\"}},\"id\":\"2082\",\"type\":\"Title\"}],\"root_ids\":[\"2081\"]},\"title\":\"Bokeh Application\",\"version\":\"1.4.0\"}};\n",
       "  var render_items = [{\"docid\":\"bd7dca38-cb19-4e60-98c2-a64b762a1a2d\",\"roots\":{\"2081\":\"f13c82ce-fa88-4e78-a54c-99db6751f287\"}}];\n",
       "  root.Bokeh.embed.embed_items_notebook(docs_json, render_items);\n",
       "\n",
       "  }\n",
       "  if (root.Bokeh !== undefined) {\n",
       "    embed_document(root);\n",
       "  } else {\n",
       "    var attempts = 0;\n",
       "    var timer = setInterval(function(root) {\n",
       "      if (root.Bokeh !== undefined) {\n",
       "        clearInterval(timer);\n",
       "        embed_document(root);\n",
       "      } else {\n",
       "        attempts++;\n",
       "        if (attempts > 100) {\n",
       "          clearInterval(timer);\n",
       "          console.log(\"Bokeh: ERROR: Unable to run BokehJS code because BokehJS library is missing\");\n",
       "        }\n",
       "      }\n",
       "    }, 10, root)\n",
       "  }\n",
       "})(window);"
      ],
      "application/vnd.bokehjs_exec.v0+json": ""
     },
     "metadata": {
      "application/vnd.bokehjs_exec.v0+json": {
       "id": "2081"
      }
     },
     "output_type": "display_data"
    }
   ],
   "source": [
    "season = ['2017-2018']\n",
    "sites = [x for x in adu_df.query(\"season == @season\")['site'].unique() if \"BCC\" in x]\n",
    "dayOfWeek = 'All'\n",
    "src_df = dub.make_data_set(season, sites, dayOfWeek, adu_df)\n",
    "p = dub.make_plot(src_df, show_sensor_n=True)\n",
    "show(p)"
   ]
  },
  {
   "cell_type": "code",
   "execution_count": 8,
   "metadata": {},
   "outputs": [
    {
     "data": {
      "text/html": [
       "\n",
       "\n",
       "\n",
       "\n",
       "\n",
       "\n",
       "  <div class=\"bk-root\" id=\"671191fd-4847-4a5b-90f9-fd22e267dc6c\" data-root-id=\"2371\"></div>\n"
      ]
     },
     "metadata": {},
     "output_type": "display_data"
    },
    {
     "data": {
      "application/javascript": [
       "(function(root) {\n",
       "  function embed_document(root) {\n",
       "    \n",
       "  var docs_json = {\"42abd331-1bab-4ccc-a898-b534c5b00711\":{\"roots\":{\"references\":[{\"attributes\":{\"above\":[{\"id\":\"2462\",\"type\":\"Title\"}],\"below\":[{\"id\":\"2381\",\"type\":\"CategoricalAxis\"},{\"id\":\"2464\",\"type\":\"Title\"}],\"center\":[{\"id\":\"2384\",\"type\":\"Grid\"},{\"id\":\"2389\",\"type\":\"Grid\"},{\"id\":\"2406\",\"type\":\"Legend\"},{\"id\":\"2410\",\"type\":\"LabelSet\"},{\"id\":\"2432\",\"type\":\"LabelSet\"},{\"id\":\"2458\",\"type\":\"LabelSet\"}],\"left\":[{\"id\":\"2385\",\"type\":\"LinearAxis\"}],\"plot_height\":400,\"plot_width\":800,\"renderers\":[{\"id\":\"2399\",\"type\":\"GlyphRenderer\"},{\"id\":\"2418\",\"type\":\"GlyphRenderer\"},{\"id\":\"2440\",\"type\":\"GlyphRenderer\"}],\"title\":{\"id\":\"2372\",\"type\":\"Title\"},\"toolbar\":{\"id\":\"2391\",\"type\":\"Toolbar\"},\"x_range\":{\"id\":\"2370\",\"type\":\"FactorRange\"},\"x_scale\":{\"id\":\"2377\",\"type\":\"CategoricalScale\"},\"y_range\":{\"id\":\"2463\",\"type\":\"Range1d\"},\"y_scale\":{\"id\":\"2379\",\"type\":\"LinearScale\"}},\"id\":\"2371\",\"subtype\":\"Figure\",\"type\":\"Plot\"},{\"attributes\":{\"range\":{\"id\":\"2370\",\"type\":\"FactorRange\"}},\"id\":\"2430\",\"type\":\"Dodge\"},{\"attributes\":{},\"id\":\"2454\",\"type\":\"Selection\"},{\"attributes\":{\"data_source\":{\"id\":\"2435\",\"type\":\"ColumnDataSource\"},\"glyph\":{\"id\":\"2437\",\"type\":\"VBar\"},\"hover_glyph\":{\"id\":\"2439\",\"type\":\"VBar\"},\"muted_glyph\":null,\"name\":\"BCC Mill D\",\"nonselection_glyph\":{\"id\":\"2438\",\"type\":\"VBar\"},\"selection_glyph\":null,\"view\":{\"id\":\"2441\",\"type\":\"CDSView\"}},\"id\":\"2440\",\"type\":\"GlyphRenderer\"},{\"attributes\":{\"callback\":null,\"data\":{\"n\":[\"(4)\",\"(4)\",\"(4)\",\"(5)\",\"(4)\"],\"x\":[\"Dec\",\"Jan\",\"Feb\",\"Mar\",\"Apr\"],\"y\":[179.0,380.0,477.75,434.2,1003.5]},\"selected\":{\"id\":\"2450\",\"type\":\"Selection\"},\"selection_policy\":{\"id\":\"2449\",\"type\":\"UnionRenderers\"}},\"id\":\"2431\",\"type\":\"ColumnDataSource\"},{\"attributes\":{},\"id\":\"2453\",\"type\":\"UnionRenderers\"},{\"attributes\":{\"data_source\":{\"id\":\"2394\",\"type\":\"ColumnDataSource\"},\"glyph\":{\"id\":\"2396\",\"type\":\"VBar\"},\"hover_glyph\":{\"id\":\"2398\",\"type\":\"VBar\"},\"muted_glyph\":null,\"name\":\"BCC Butler\",\"nonselection_glyph\":{\"id\":\"2397\",\"type\":\"VBar\"},\"selection_glyph\":null,\"view\":{\"id\":\"2400\",\"type\":\"CDSView\"}},\"id\":\"2399\",\"type\":\"GlyphRenderer\"},{\"attributes\":{\"data_source\":{\"id\":\"2413\",\"type\":\"ColumnDataSource\"},\"glyph\":{\"id\":\"2415\",\"type\":\"VBar\"},\"hover_glyph\":{\"id\":\"2417\",\"type\":\"VBar\"},\"muted_glyph\":null,\"name\":\"BCC Cardiff\",\"nonselection_glyph\":{\"id\":\"2416\",\"type\":\"VBar\"},\"selection_glyph\":null,\"view\":{\"id\":\"2419\",\"type\":\"CDSView\"}},\"id\":\"2418\",\"type\":\"GlyphRenderer\"},{\"attributes\":{},\"id\":\"2382\",\"type\":\"CategoricalTicker\"},{\"attributes\":{},\"id\":\"2386\",\"type\":\"BasicTicker\"},{\"attributes\":{\"source\":{\"id\":\"2394\",\"type\":\"ColumnDataSource\"}},\"id\":\"2400\",\"type\":\"CDSView\"},{\"attributes\":{\"callback\":null,\"data\":{\"counts\":[64.75,216.25,174.25,81.0,27.0],\"x\":[\"Dec\",\"Jan\",\"Feb\",\"Mar\",\"Apr\"]},\"selected\":{\"id\":\"2574\",\"type\":\"Selection\"},\"selection_policy\":{\"id\":\"2573\",\"type\":\"UnionRenderers\"}},\"id\":\"2435\",\"type\":\"ColumnDataSource\"},{\"attributes\":{},\"id\":\"2573\",\"type\":\"UnionRenderers\"},{\"attributes\":{},\"id\":\"2404\",\"type\":\"BasicTickFormatter\"},{\"attributes\":{\"callback\":null,\"tooltips\":[[\"Site\",\"$name\"],[\"Average Daily Users\",\"@counts{int}\"]]},\"id\":\"2460\",\"type\":\"HoverTool\"},{\"attributes\":{\"fill_alpha\":{\"value\":0.9},\"fill_color\":{\"value\":\"#009ACD\"},\"line_color\":{\"value\":\"#009ACD\"},\"top\":{\"field\":\"counts\"},\"width\":{\"value\":0.26666666666666666},\"x\":{\"field\":\"x\",\"transform\":{\"id\":\"2434\",\"type\":\"Dodge\"}}},\"id\":\"2437\",\"type\":\"VBar\"},{\"attributes\":{\"level\":\"glyph\",\"source\":{\"id\":\"2457\",\"type\":\"ColumnDataSource\"},\"text\":{\"field\":\"n\"},\"text_align\":\"center\",\"text_color\":{\"value\":\"#000000\"},\"text_font_size\":{\"value\":\"7pt\"},\"x\":{\"field\":\"x\",\"transform\":{\"id\":\"2456\",\"type\":\"Dodge\"}},\"y\":{\"field\":\"y\"}},\"id\":\"2458\",\"type\":\"LabelSet\"},{\"attributes\":{},\"id\":\"2390\",\"type\":\"SaveTool\"},{\"attributes\":{\"formatter\":{\"id\":\"2402\",\"type\":\"CategoricalTickFormatter\"},\"major_label_orientation\":0,\"major_label_standoff\":10,\"major_label_text_font_size\":{\"value\":\"12pt\"},\"major_label_text_font_style\":\"bold\",\"major_tick_line_color\":{\"value\":null},\"minor_tick_line_color\":{\"value\":null},\"ticker\":{\"id\":\"2382\",\"type\":\"CategoricalTicker\"}},\"id\":\"2381\",\"type\":\"CategoricalAxis\"},{\"attributes\":{},\"id\":\"2402\",\"type\":\"CategoricalTickFormatter\"},{\"attributes\":{\"fill_color\":{\"value\":\"#1f77b4\"},\"line_color\":{\"value\":\"#1f77b4\"},\"top\":{\"field\":\"counts\"},\"width\":{\"value\":0.26666666666666666},\"x\":{\"field\":\"x\",\"transform\":{\"id\":\"2393\",\"type\":\"Dodge\"}}},\"id\":\"2398\",\"type\":\"VBar\"},{\"attributes\":{\"fill_color\":{\"value\":\"#1f77b4\"},\"line_color\":{\"value\":\"#1f77b4\"},\"top\":{\"field\":\"counts\"},\"width\":{\"value\":0.26666666666666666},\"x\":{\"field\":\"x\",\"transform\":{\"id\":\"2412\",\"type\":\"Dodge\"}}},\"id\":\"2417\",\"type\":\"VBar\"},{\"attributes\":{\"callback\":null,\"data\":{\"counts\":[54.0,109.5,118.0,45.0,91.25],\"x\":[\"Dec\",\"Jan\",\"Feb\",\"Mar\",\"Apr\"]},\"selected\":{\"id\":\"2428\",\"type\":\"Selection\"},\"selection_policy\":{\"id\":\"2427\",\"type\":\"UnionRenderers\"}},\"id\":\"2394\",\"type\":\"ColumnDataSource\"},{\"attributes\":{\"label\":{\"value\":\"BCC Butler\"},\"renderers\":[{\"id\":\"2399\",\"type\":\"GlyphRenderer\"}]},\"id\":\"2407\",\"type\":\"LegendItem\"},{\"attributes\":{\"range\":{\"id\":\"2370\",\"type\":\"FactorRange\"},\"value\":-0.2916666666666667},\"id\":\"2408\",\"type\":\"Dodge\"},{\"attributes\":{},\"id\":\"2567\",\"type\":\"UnionRenderers\"},{\"attributes\":{\"level\":\"glyph\",\"source\":{\"id\":\"2431\",\"type\":\"ColumnDataSource\"},\"text\":{\"field\":\"n\"},\"text_align\":\"center\",\"text_color\":{\"value\":\"#000000\"},\"text_font_size\":{\"value\":\"7pt\"},\"x\":{\"field\":\"x\",\"transform\":{\"id\":\"2430\",\"type\":\"Dodge\"}},\"y\":{\"field\":\"y\"}},\"id\":\"2432\",\"type\":\"LabelSet\"},{\"attributes\":{\"callback\":null,\"factors\":[\"Dec\",\"Jan\",\"Feb\",\"Mar\",\"Apr\"],\"range_padding\":0.1},\"id\":\"2370\",\"type\":\"FactorRange\"},{\"attributes\":{\"fill_alpha\":{\"value\":0.9},\"fill_color\":{\"value\":\"#0BB5FF\"},\"line_color\":{\"value\":\"#0BB5FF\"},\"top\":{\"field\":\"counts\"},\"width\":{\"value\":0.26666666666666666},\"x\":{\"field\":\"x\",\"transform\":{\"id\":\"2412\",\"type\":\"Dodge\"}}},\"id\":\"2415\",\"type\":\"VBar\"},{\"attributes\":{\"fill_color\":{\"value\":\"#1f77b4\"},\"line_color\":{\"value\":\"#1f77b4\"},\"top\":{\"field\":\"counts\"},\"width\":{\"value\":0.26666666666666666},\"x\":{\"field\":\"x\",\"transform\":{\"id\":\"2434\",\"type\":\"Dodge\"}}},\"id\":\"2439\",\"type\":\"VBar\"},{\"attributes\":{\"items\":[{\"id\":\"2407\",\"type\":\"LegendItem\"},{\"id\":\"2429\",\"type\":\"LegendItem\"},{\"id\":\"2455\",\"type\":\"LegendItem\"}],\"location\":\"top_left\",\"orientation\":\"horizontal\"},\"id\":\"2406\",\"type\":\"Legend\"},{\"attributes\":{\"fill_alpha\":{\"value\":0.1},\"fill_color\":{\"value\":\"#1f77b4\"},\"line_alpha\":{\"value\":0.1},\"line_color\":{\"value\":\"#1f77b4\"},\"top\":{\"field\":\"counts\"},\"width\":{\"value\":0.26666666666666666},\"x\":{\"field\":\"x\",\"transform\":{\"id\":\"2412\",\"type\":\"Dodge\"}}},\"id\":\"2416\",\"type\":\"VBar\"},{\"attributes\":{\"range\":{\"id\":\"2370\",\"type\":\"FactorRange\"},\"value\":0.2916666666666667},\"id\":\"2456\",\"type\":\"Dodge\"},{\"attributes\":{\"text\":\"Season 2017-2018 | Average Daily Trailhead Users Per Month For Saturdays\",\"text_font_size\":{\"value\":\"13pt\"}},\"id\":\"2462\",\"type\":\"Title\"},{\"attributes\":{\"fill_alpha\":{\"value\":0.1},\"fill_color\":{\"value\":\"#1f77b4\"},\"line_alpha\":{\"value\":0.1},\"line_color\":{\"value\":\"#1f77b4\"},\"top\":{\"field\":\"counts\"},\"width\":{\"value\":0.26666666666666666},\"x\":{\"field\":\"x\",\"transform\":{\"id\":\"2434\",\"type\":\"Dodge\"}}},\"id\":\"2438\",\"type\":\"VBar\"},{\"attributes\":{\"active_drag\":\"auto\",\"active_inspect\":\"auto\",\"active_multi\":null,\"active_scroll\":\"auto\",\"active_tap\":\"auto\",\"tools\":[{\"id\":\"2390\",\"type\":\"SaveTool\"},{\"id\":\"2460\",\"type\":\"HoverTool\"}]},\"id\":\"2391\",\"type\":\"Toolbar\"},{\"attributes\":{\"range\":{\"id\":\"2370\",\"type\":\"FactorRange\"}},\"id\":\"2412\",\"type\":\"Dodge\"},{\"attributes\":{\"text\":\"Note: (*) is number of days with sensor data\",\"text_font_size\":{\"value\":\"10pt\"},\"text_font_style\":\"normal\"},\"id\":\"2464\",\"type\":\"Title\"},{\"attributes\":{\"source\":{\"id\":\"2413\",\"type\":\"ColumnDataSource\"}},\"id\":\"2419\",\"type\":\"CDSView\"},{\"attributes\":{\"fill_alpha\":{\"value\":0.9},\"fill_color\":{\"value\":\"#0EBFE9\"},\"line_color\":{\"value\":\"#0EBFE9\"},\"top\":{\"field\":\"counts\"},\"width\":{\"value\":0.26666666666666666},\"x\":{\"field\":\"x\",\"transform\":{\"id\":\"2393\",\"type\":\"Dodge\"}}},\"id\":\"2396\",\"type\":\"VBar\"},{\"attributes\":{\"callback\":null,\"data\":{\"counts\":[179.0,380.0,477.75,434.2,1003.5],\"x\":[\"Dec\",\"Jan\",\"Feb\",\"Mar\",\"Apr\"]},\"selected\":{\"id\":\"2454\",\"type\":\"Selection\"},\"selection_policy\":{\"id\":\"2453\",\"type\":\"UnionRenderers\"}},\"id\":\"2413\",\"type\":\"ColumnDataSource\"},{\"attributes\":{},\"id\":\"2425\",\"type\":\"UnionRenderers\"},{\"attributes\":{},\"id\":\"2574\",\"type\":\"Selection\"},{\"attributes\":{},\"id\":\"2427\",\"type\":\"UnionRenderers\"},{\"attributes\":{\"grid_line_color\":null,\"ticker\":{\"id\":\"2382\",\"type\":\"CategoricalTicker\"}},\"id\":\"2384\",\"type\":\"Grid\"},{\"attributes\":{\"fill_alpha\":{\"value\":0.1},\"fill_color\":{\"value\":\"#1f77b4\"},\"line_alpha\":{\"value\":0.1},\"line_color\":{\"value\":\"#1f77b4\"},\"top\":{\"field\":\"counts\"},\"width\":{\"value\":0.26666666666666666},\"x\":{\"field\":\"x\",\"transform\":{\"id\":\"2393\",\"type\":\"Dodge\"}}},\"id\":\"2397\",\"type\":\"VBar\"},{\"attributes\":{},\"id\":\"2449\",\"type\":\"UnionRenderers\"},{\"attributes\":{},\"id\":\"2568\",\"type\":\"Selection\"},{\"attributes\":{\"label\":{\"value\":\"BCC Cardiff\"},\"renderers\":[{\"id\":\"2418\",\"type\":\"GlyphRenderer\"}]},\"id\":\"2429\",\"type\":\"LegendItem\"},{\"attributes\":{\"source\":{\"id\":\"2435\",\"type\":\"ColumnDataSource\"}},\"id\":\"2441\",\"type\":\"CDSView\"},{\"attributes\":{\"range\":{\"id\":\"2370\",\"type\":\"FactorRange\"},\"value\":0.2916666666666667},\"id\":\"2434\",\"type\":\"Dodge\"},{\"attributes\":{\"callback\":null,\"end\":1304.55},\"id\":\"2463\",\"type\":\"Range1d\"},{\"attributes\":{\"level\":\"glyph\",\"source\":{\"id\":\"2409\",\"type\":\"ColumnDataSource\"},\"text\":{\"field\":\"n\"},\"text_align\":\"center\",\"text_color\":{\"value\":\"#000000\"},\"text_font_size\":{\"value\":\"7pt\"},\"x\":{\"field\":\"x\",\"transform\":{\"id\":\"2408\",\"type\":\"Dodge\"}},\"y\":{\"field\":\"y\"}},\"id\":\"2410\",\"type\":\"LabelSet\"},{\"attributes\":{},\"id\":\"2426\",\"type\":\"Selection\"},{\"attributes\":{\"text\":\"\",\"text_font_size\":{\"value\":\"12pt\"}},\"id\":\"2372\",\"type\":\"Title\"},{\"attributes\":{},\"id\":\"2379\",\"type\":\"LinearScale\"},{\"attributes\":{},\"id\":\"2428\",\"type\":\"Selection\"},{\"attributes\":{\"callback\":null,\"data\":{\"n\":[\"(2)\",\"(2)\",\"(4)\",\"(5)\",\"(4)\"],\"x\":[\"Dec\",\"Jan\",\"Feb\",\"Mar\",\"Apr\"],\"y\":[54.0,109.5,118.0,45.0,91.25]},\"selected\":{\"id\":\"2426\",\"type\":\"Selection\"},\"selection_policy\":{\"id\":\"2425\",\"type\":\"UnionRenderers\"}},\"id\":\"2409\",\"type\":\"ColumnDataSource\"},{\"attributes\":{},\"id\":\"2450\",\"type\":\"Selection\"},{\"attributes\":{\"range\":{\"id\":\"2370\",\"type\":\"FactorRange\"},\"value\":-0.2916666666666667},\"id\":\"2393\",\"type\":\"Dodge\"},{\"attributes\":{},\"id\":\"2377\",\"type\":\"CategoricalScale\"},{\"attributes\":{\"formatter\":{\"id\":\"2404\",\"type\":\"BasicTickFormatter\"},\"major_label_text_font_size\":{\"value\":\"12pt\"},\"major_label_text_font_style\":\"bold\",\"minor_tick_line_color\":{\"value\":null},\"ticker\":{\"id\":\"2386\",\"type\":\"BasicTicker\"}},\"id\":\"2385\",\"type\":\"LinearAxis\"},{\"attributes\":{\"label\":{\"value\":\"BCC Mill D\"},\"renderers\":[{\"id\":\"2440\",\"type\":\"GlyphRenderer\"}]},\"id\":\"2455\",\"type\":\"LegendItem\"},{\"attributes\":{\"callback\":null,\"data\":{\"n\":[\"(4)\",\"(4)\",\"(4)\",\"(4)\",\"(3)\"],\"x\":[\"Dec\",\"Jan\",\"Feb\",\"Mar\",\"Apr\"],\"y\":[64.75,216.25,174.25,81.0,27.0]},\"selected\":{\"id\":\"2568\",\"type\":\"Selection\"},\"selection_policy\":{\"id\":\"2567\",\"type\":\"UnionRenderers\"}},\"id\":\"2457\",\"type\":\"ColumnDataSource\"},{\"attributes\":{\"dimension\":1,\"ticker\":{\"id\":\"2386\",\"type\":\"BasicTicker\"}},\"id\":\"2389\",\"type\":\"Grid\"}],\"root_ids\":[\"2371\"]},\"title\":\"Bokeh Application\",\"version\":\"1.4.0\"}};\n",
       "  var render_items = [{\"docid\":\"42abd331-1bab-4ccc-a898-b534c5b00711\",\"roots\":{\"2371\":\"671191fd-4847-4a5b-90f9-fd22e267dc6c\"}}];\n",
       "  root.Bokeh.embed.embed_items_notebook(docs_json, render_items);\n",
       "\n",
       "  }\n",
       "  if (root.Bokeh !== undefined) {\n",
       "    embed_document(root);\n",
       "  } else {\n",
       "    var attempts = 0;\n",
       "    var timer = setInterval(function(root) {\n",
       "      if (root.Bokeh !== undefined) {\n",
       "        clearInterval(timer);\n",
       "        embed_document(root);\n",
       "      } else {\n",
       "        attempts++;\n",
       "        if (attempts > 100) {\n",
       "          clearInterval(timer);\n",
       "          console.log(\"Bokeh: ERROR: Unable to run BokehJS code because BokehJS library is missing\");\n",
       "        }\n",
       "      }\n",
       "    }, 10, root)\n",
       "  }\n",
       "})(window);"
      ],
      "application/vnd.bokehjs_exec.v0+json": ""
     },
     "metadata": {
      "application/vnd.bokehjs_exec.v0+json": {
       "id": "2371"
      }
     },
     "output_type": "display_data"
    }
   ],
   "source": [
    "season = ['2017-2018']\n",
    "sites = [x for x in adu_df.query(\"season == @season\")['site'].unique() if \"BCC\" in x]\n",
    "dayOfWeek = 'Saturday'\n",
    "src_df = dub.make_data_set(season, sites, dayOfWeek, adu_df)\n",
    "p = dub.make_plot(src_df, show_sensor_n=True)\n",
    "show(p)"
   ]
  },
  {
   "cell_type": "code",
   "execution_count": 9,
   "metadata": {},
   "outputs": [
    {
     "data": {
      "text/html": [
       "\n",
       "\n",
       "\n",
       "\n",
       "\n",
       "\n",
       "  <div class=\"bk-root\" id=\"97235f42-3ef2-4cba-ac97-0e5c0a898e4b\" data-root-id=\"2678\"></div>\n"
      ]
     },
     "metadata": {},
     "output_type": "display_data"
    },
    {
     "data": {
      "application/javascript": [
       "(function(root) {\n",
       "  function embed_document(root) {\n",
       "    \n",
       "  var docs_json = {\"b58a4419-6be2-4fe0-99d3-d491b9d13bc2\":{\"roots\":{\"references\":[{\"attributes\":{\"above\":[{\"id\":\"2769\",\"type\":\"Title\"}],\"below\":[{\"id\":\"2688\",\"type\":\"CategoricalAxis\"},{\"id\":\"2771\",\"type\":\"Title\"}],\"center\":[{\"id\":\"2691\",\"type\":\"Grid\"},{\"id\":\"2696\",\"type\":\"Grid\"},{\"id\":\"2713\",\"type\":\"Legend\"},{\"id\":\"2717\",\"type\":\"LabelSet\"},{\"id\":\"2739\",\"type\":\"LabelSet\"},{\"id\":\"2765\",\"type\":\"LabelSet\"}],\"left\":[{\"id\":\"2692\",\"type\":\"LinearAxis\"}],\"plot_height\":400,\"plot_width\":800,\"renderers\":[{\"id\":\"2706\",\"type\":\"GlyphRenderer\"},{\"id\":\"2725\",\"type\":\"GlyphRenderer\"},{\"id\":\"2747\",\"type\":\"GlyphRenderer\"}],\"title\":{\"id\":\"2679\",\"type\":\"Title\"},\"toolbar\":{\"id\":\"2698\",\"type\":\"Toolbar\"},\"x_range\":{\"id\":\"2677\",\"type\":\"FactorRange\"},\"x_scale\":{\"id\":\"2684\",\"type\":\"CategoricalScale\"},\"y_range\":{\"id\":\"2770\",\"type\":\"Range1d\"},\"y_scale\":{\"id\":\"2686\",\"type\":\"LinearScale\"}},\"id\":\"2678\",\"subtype\":\"Figure\",\"type\":\"Plot\"},{\"attributes\":{},\"id\":\"2733\",\"type\":\"Selection\"},{\"attributes\":{\"callback\":null,\"data\":{\"counts\":[45.96551724137931,44.17857142857143,33.53846153846154,18.28,9.6],\"x\":[\"Dec\",\"Jan\",\"Feb\",\"Mar\",\"Apr\"]},\"selected\":{\"id\":\"2735\",\"type\":\"Selection\"},\"selection_policy\":{\"id\":\"2734\",\"type\":\"UnionRenderers\"}},\"id\":\"2701\",\"type\":\"ColumnDataSource\"},{\"attributes\":{},\"id\":\"2760\",\"type\":\"UnionRenderers\"},{\"attributes\":{\"data_source\":{\"id\":\"2701\",\"type\":\"ColumnDataSource\"},\"glyph\":{\"id\":\"2703\",\"type\":\"VBar\"},\"hover_glyph\":{\"id\":\"2705\",\"type\":\"VBar\"},\"muted_glyph\":null,\"name\":\"BCC Butler\",\"nonselection_glyph\":{\"id\":\"2704\",\"type\":\"VBar\"},\"selection_glyph\":null,\"view\":{\"id\":\"2707\",\"type\":\"CDSView\"}},\"id\":\"2706\",\"type\":\"GlyphRenderer\"},{\"attributes\":{\"data_source\":{\"id\":\"2742\",\"type\":\"ColumnDataSource\"},\"glyph\":{\"id\":\"2744\",\"type\":\"VBar\"},\"hover_glyph\":{\"id\":\"2746\",\"type\":\"VBar\"},\"muted_glyph\":null,\"name\":\"BCC Mill D\",\"nonselection_glyph\":{\"id\":\"2745\",\"type\":\"VBar\"},\"selection_glyph\":null,\"view\":{\"id\":\"2748\",\"type\":\"CDSView\"}},\"id\":\"2747\",\"type\":\"GlyphRenderer\"},{\"attributes\":{\"callback\":null,\"data\":{\"n\":[\"(29)\",\"(31)\",\"(28)\",\"(28)\",\"(28)\"],\"x\":[\"Dec\",\"Jan\",\"Feb\",\"Mar\",\"Apr\"],\"y\":[121.41379310344827,186.29032258064515,200.4642857142857,192.39285714285717,63.14285714285714]},\"selected\":{\"id\":\"2757\",\"type\":\"Selection\"},\"selection_policy\":{\"id\":\"2756\",\"type\":\"UnionRenderers\"}},\"id\":\"2738\",\"type\":\"ColumnDataSource\"},{\"attributes\":{\"fill_alpha\":{\"value\":0.9},\"fill_color\":{\"value\":\"#0BB5FF\"},\"line_color\":{\"value\":\"#0BB5FF\"},\"top\":{\"field\":\"counts\"},\"width\":{\"value\":0.26666666666666666},\"x\":{\"field\":\"x\",\"transform\":{\"id\":\"2719\",\"type\":\"Dodge\"}}},\"id\":\"2722\",\"type\":\"VBar\"},{\"attributes\":{\"formatter\":{\"id\":\"2711\",\"type\":\"BasicTickFormatter\"},\"major_label_text_font_size\":{\"value\":\"12pt\"},\"major_label_text_font_style\":\"bold\",\"minor_tick_line_color\":{\"value\":null},\"ticker\":{\"id\":\"2693\",\"type\":\"BasicTicker\"}},\"id\":\"2692\",\"type\":\"LinearAxis\"},{\"attributes\":{\"fill_alpha\":{\"value\":0.1},\"fill_color\":{\"value\":\"#1f77b4\"},\"line_alpha\":{\"value\":0.1},\"line_color\":{\"value\":\"#1f77b4\"},\"top\":{\"field\":\"counts\"},\"width\":{\"value\":0.26666666666666666},\"x\":{\"field\":\"x\",\"transform\":{\"id\":\"2719\",\"type\":\"Dodge\"}}},\"id\":\"2723\",\"type\":\"VBar\"},{\"attributes\":{},\"id\":\"2892\",\"type\":\"Selection\"},{\"attributes\":{\"range\":{\"id\":\"2677\",\"type\":\"FactorRange\"}},\"id\":\"2719\",\"type\":\"Dodge\"},{\"attributes\":{\"source\":{\"id\":\"2701\",\"type\":\"ColumnDataSource\"}},\"id\":\"2707\",\"type\":\"CDSView\"},{\"attributes\":{\"fill_color\":{\"value\":\"#1f77b4\"},\"line_color\":{\"value\":\"#1f77b4\"},\"top\":{\"field\":\"counts\"},\"width\":{\"value\":0.26666666666666666},\"x\":{\"field\":\"x\",\"transform\":{\"id\":\"2700\",\"type\":\"Dodge\"}}},\"id\":\"2705\",\"type\":\"VBar\"},{\"attributes\":{\"fill_color\":{\"value\":\"#1f77b4\"},\"line_color\":{\"value\":\"#1f77b4\"},\"top\":{\"field\":\"counts\"},\"width\":{\"value\":0.26666666666666666},\"x\":{\"field\":\"x\",\"transform\":{\"id\":\"2741\",\"type\":\"Dodge\"}}},\"id\":\"2746\",\"type\":\"VBar\"},{\"attributes\":{},\"id\":\"2891\",\"type\":\"UnionRenderers\"},{\"attributes\":{},\"id\":\"2693\",\"type\":\"BasicTicker\"},{\"attributes\":{\"callback\":null,\"data\":{\"n\":[\"(30)\",\"(30)\",\"(28)\",\"(31)\",\"(27)\"],\"x\":[\"Dec\",\"Jan\",\"Feb\",\"Mar\",\"Apr\"],\"y\":[123.36666666666666,129.63333333333333,118.71428571428572,60.29032258064516,23.407407407407412]},\"selected\":{\"id\":\"2892\",\"type\":\"Selection\"},\"selection_policy\":{\"id\":\"2891\",\"type\":\"UnionRenderers\"}},\"id\":\"2764\",\"type\":\"ColumnDataSource\"},{\"attributes\":{\"fill_color\":{\"value\":\"#1f77b4\"},\"line_color\":{\"value\":\"#1f77b4\"},\"top\":{\"field\":\"counts\"},\"width\":{\"value\":0.26666666666666666},\"x\":{\"field\":\"x\",\"transform\":{\"id\":\"2719\",\"type\":\"Dodge\"}}},\"id\":\"2724\",\"type\":\"VBar\"},{\"attributes\":{},\"id\":\"2898\",\"type\":\"Selection\"},{\"attributes\":{\"callback\":null,\"end\":260.6035714285714},\"id\":\"2770\",\"type\":\"Range1d\"},{\"attributes\":{\"text\":\"\",\"text_font_size\":{\"value\":\"12pt\"}},\"id\":\"2679\",\"type\":\"Title\"},{\"attributes\":{\"dimension\":1,\"ticker\":{\"id\":\"2693\",\"type\":\"BasicTicker\"}},\"id\":\"2696\",\"type\":\"Grid\"},{\"attributes\":{\"range\":{\"id\":\"2677\",\"type\":\"FactorRange\"},\"value\":-0.2916666666666667},\"id\":\"2715\",\"type\":\"Dodge\"},{\"attributes\":{},\"id\":\"2711\",\"type\":\"BasicTickFormatter\"},{\"attributes\":{},\"id\":\"2686\",\"type\":\"LinearScale\"},{\"attributes\":{\"callback\":null,\"data\":{\"counts\":[123.36666666666666,129.63333333333333,118.71428571428572,60.29032258064516,23.407407407407412],\"x\":[\"Dec\",\"Jan\",\"Feb\",\"Mar\",\"Apr\"]},\"selected\":{\"id\":\"2898\",\"type\":\"Selection\"},\"selection_policy\":{\"id\":\"2897\",\"type\":\"UnionRenderers\"}},\"id\":\"2742\",\"type\":\"ColumnDataSource\"},{\"attributes\":{\"level\":\"glyph\",\"source\":{\"id\":\"2716\",\"type\":\"ColumnDataSource\"},\"text\":{\"field\":\"n\"},\"text_align\":\"center\",\"text_color\":{\"value\":\"#000000\"},\"text_font_size\":{\"value\":\"7pt\"},\"x\":{\"field\":\"x\",\"transform\":{\"id\":\"2715\",\"type\":\"Dodge\"}},\"y\":{\"field\":\"y\"}},\"id\":\"2717\",\"type\":\"LabelSet\"},{\"attributes\":{\"data_source\":{\"id\":\"2720\",\"type\":\"ColumnDataSource\"},\"glyph\":{\"id\":\"2722\",\"type\":\"VBar\"},\"hover_glyph\":{\"id\":\"2724\",\"type\":\"VBar\"},\"muted_glyph\":null,\"name\":\"BCC Cardiff\",\"nonselection_glyph\":{\"id\":\"2723\",\"type\":\"VBar\"},\"selection_glyph\":null,\"view\":{\"id\":\"2726\",\"type\":\"CDSView\"}},\"id\":\"2725\",\"type\":\"GlyphRenderer\"},{\"attributes\":{},\"id\":\"2709\",\"type\":\"CategoricalTickFormatter\"},{\"attributes\":{\"fill_alpha\":{\"value\":0.1},\"fill_color\":{\"value\":\"#1f77b4\"},\"line_alpha\":{\"value\":0.1},\"line_color\":{\"value\":\"#1f77b4\"},\"top\":{\"field\":\"counts\"},\"width\":{\"value\":0.26666666666666666},\"x\":{\"field\":\"x\",\"transform\":{\"id\":\"2741\",\"type\":\"Dodge\"}}},\"id\":\"2745\",\"type\":\"VBar\"},{\"attributes\":{},\"id\":\"2735\",\"type\":\"Selection\"},{\"attributes\":{},\"id\":\"2684\",\"type\":\"CategoricalScale\"},{\"attributes\":{\"label\":{\"value\":\"BCC Butler\"},\"renderers\":[{\"id\":\"2706\",\"type\":\"GlyphRenderer\"}]},\"id\":\"2714\",\"type\":\"LegendItem\"},{\"attributes\":{\"text\":\"Season 2018-2019 | Average Daily Trailhead Users Per Month\",\"text_font_size\":{\"value\":\"13pt\"}},\"id\":\"2769\",\"type\":\"Title\"},{\"attributes\":{\"items\":[{\"id\":\"2714\",\"type\":\"LegendItem\"},{\"id\":\"2736\",\"type\":\"LegendItem\"},{\"id\":\"2762\",\"type\":\"LegendItem\"}],\"location\":\"top_left\",\"orientation\":\"horizontal\"},\"id\":\"2713\",\"type\":\"Legend\"},{\"attributes\":{\"level\":\"glyph\",\"source\":{\"id\":\"2738\",\"type\":\"ColumnDataSource\"},\"text\":{\"field\":\"n\"},\"text_align\":\"center\",\"text_color\":{\"value\":\"#000000\"},\"text_font_size\":{\"value\":\"7pt\"},\"x\":{\"field\":\"x\",\"transform\":{\"id\":\"2737\",\"type\":\"Dodge\"}},\"y\":{\"field\":\"y\"}},\"id\":\"2739\",\"type\":\"LabelSet\"},{\"attributes\":{\"fill_alpha\":{\"value\":0.9},\"fill_color\":{\"value\":\"#0EBFE9\"},\"line_color\":{\"value\":\"#0EBFE9\"},\"top\":{\"field\":\"counts\"},\"width\":{\"value\":0.26666666666666666},\"x\":{\"field\":\"x\",\"transform\":{\"id\":\"2700\",\"type\":\"Dodge\"}}},\"id\":\"2703\",\"type\":\"VBar\"},{\"attributes\":{\"fill_alpha\":{\"value\":0.9},\"fill_color\":{\"value\":\"#009ACD\"},\"line_color\":{\"value\":\"#009ACD\"},\"top\":{\"field\":\"counts\"},\"width\":{\"value\":0.26666666666666666},\"x\":{\"field\":\"x\",\"transform\":{\"id\":\"2741\",\"type\":\"Dodge\"}}},\"id\":\"2744\",\"type\":\"VBar\"},{\"attributes\":{\"callback\":null,\"data\":{\"counts\":[121.41379310344827,186.29032258064515,200.4642857142857,192.39285714285717,63.14285714285714],\"x\":[\"Dec\",\"Jan\",\"Feb\",\"Mar\",\"Apr\"]},\"selected\":{\"id\":\"2761\",\"type\":\"Selection\"},\"selection_policy\":{\"id\":\"2760\",\"type\":\"UnionRenderers\"}},\"id\":\"2720\",\"type\":\"ColumnDataSource\"},{\"attributes\":{\"fill_alpha\":{\"value\":0.1},\"fill_color\":{\"value\":\"#1f77b4\"},\"line_alpha\":{\"value\":0.1},\"line_color\":{\"value\":\"#1f77b4\"},\"top\":{\"field\":\"counts\"},\"width\":{\"value\":0.26666666666666666},\"x\":{\"field\":\"x\",\"transform\":{\"id\":\"2700\",\"type\":\"Dodge\"}}},\"id\":\"2704\",\"type\":\"VBar\"},{\"attributes\":{\"callback\":null,\"factors\":[\"Dec\",\"Jan\",\"Feb\",\"Mar\",\"Apr\"],\"range_padding\":0.1},\"id\":\"2677\",\"type\":\"FactorRange\"},{\"attributes\":{},\"id\":\"2897\",\"type\":\"UnionRenderers\"},{\"attributes\":{\"text\":\"Note: (*) is number of days with sensor data\",\"text_font_size\":{\"value\":\"10pt\"},\"text_font_style\":\"normal\"},\"id\":\"2771\",\"type\":\"Title\"},{\"attributes\":{},\"id\":\"2689\",\"type\":\"CategoricalTicker\"},{\"attributes\":{\"source\":{\"id\":\"2720\",\"type\":\"ColumnDataSource\"}},\"id\":\"2726\",\"type\":\"CDSView\"},{\"attributes\":{},\"id\":\"2761\",\"type\":\"Selection\"},{\"attributes\":{\"level\":\"glyph\",\"source\":{\"id\":\"2764\",\"type\":\"ColumnDataSource\"},\"text\":{\"field\":\"n\"},\"text_align\":\"center\",\"text_color\":{\"value\":\"#000000\"},\"text_font_size\":{\"value\":\"7pt\"},\"x\":{\"field\":\"x\",\"transform\":{\"id\":\"2763\",\"type\":\"Dodge\"}},\"y\":{\"field\":\"y\"}},\"id\":\"2765\",\"type\":\"LabelSet\"},{\"attributes\":{\"active_drag\":\"auto\",\"active_inspect\":\"auto\",\"active_multi\":null,\"active_scroll\":\"auto\",\"active_tap\":\"auto\",\"tools\":[{\"id\":\"2697\",\"type\":\"SaveTool\"},{\"id\":\"2767\",\"type\":\"HoverTool\"}]},\"id\":\"2698\",\"type\":\"Toolbar\"},{\"attributes\":{\"callback\":null,\"data\":{\"n\":[\"(29)\",\"(28)\",\"(26)\",\"(25)\",\"(25)\"],\"x\":[\"Dec\",\"Jan\",\"Feb\",\"Mar\",\"Apr\"],\"y\":[45.96551724137931,44.17857142857143,33.53846153846154,18.28,9.6]},\"selected\":{\"id\":\"2733\",\"type\":\"Selection\"},\"selection_policy\":{\"id\":\"2732\",\"type\":\"UnionRenderers\"}},\"id\":\"2716\",\"type\":\"ColumnDataSource\"},{\"attributes\":{},\"id\":\"2697\",\"type\":\"SaveTool\"},{\"attributes\":{\"source\":{\"id\":\"2742\",\"type\":\"ColumnDataSource\"}},\"id\":\"2748\",\"type\":\"CDSView\"},{\"attributes\":{},\"id\":\"2732\",\"type\":\"UnionRenderers\"},{\"attributes\":{\"grid_line_color\":null,\"ticker\":{\"id\":\"2689\",\"type\":\"CategoricalTicker\"}},\"id\":\"2691\",\"type\":\"Grid\"},{\"attributes\":{\"label\":{\"value\":\"BCC Cardiff\"},\"renderers\":[{\"id\":\"2725\",\"type\":\"GlyphRenderer\"}]},\"id\":\"2736\",\"type\":\"LegendItem\"},{\"attributes\":{\"range\":{\"id\":\"2677\",\"type\":\"FactorRange\"},\"value\":0.2916666666666667},\"id\":\"2763\",\"type\":\"Dodge\"},{\"attributes\":{},\"id\":\"2756\",\"type\":\"UnionRenderers\"},{\"attributes\":{\"callback\":null,\"tooltips\":[[\"Site\",\"$name\"],[\"Average Daily Users\",\"@counts{int}\"]]},\"id\":\"2767\",\"type\":\"HoverTool\"},{\"attributes\":{},\"id\":\"2757\",\"type\":\"Selection\"},{\"attributes\":{\"formatter\":{\"id\":\"2709\",\"type\":\"CategoricalTickFormatter\"},\"major_label_orientation\":0,\"major_label_standoff\":10,\"major_label_text_font_size\":{\"value\":\"12pt\"},\"major_label_text_font_style\":\"bold\",\"major_tick_line_color\":{\"value\":null},\"minor_tick_line_color\":{\"value\":null},\"ticker\":{\"id\":\"2689\",\"type\":\"CategoricalTicker\"}},\"id\":\"2688\",\"type\":\"CategoricalAxis\"},{\"attributes\":{\"label\":{\"value\":\"BCC Mill D\"},\"renderers\":[{\"id\":\"2747\",\"type\":\"GlyphRenderer\"}]},\"id\":\"2762\",\"type\":\"LegendItem\"},{\"attributes\":{},\"id\":\"2734\",\"type\":\"UnionRenderers\"},{\"attributes\":{\"range\":{\"id\":\"2677\",\"type\":\"FactorRange\"},\"value\":0.2916666666666667},\"id\":\"2741\",\"type\":\"Dodge\"},{\"attributes\":{\"range\":{\"id\":\"2677\",\"type\":\"FactorRange\"},\"value\":-0.2916666666666667},\"id\":\"2700\",\"type\":\"Dodge\"},{\"attributes\":{\"range\":{\"id\":\"2677\",\"type\":\"FactorRange\"}},\"id\":\"2737\",\"type\":\"Dodge\"}],\"root_ids\":[\"2678\"]},\"title\":\"Bokeh Application\",\"version\":\"1.4.0\"}};\n",
       "  var render_items = [{\"docid\":\"b58a4419-6be2-4fe0-99d3-d491b9d13bc2\",\"roots\":{\"2678\":\"97235f42-3ef2-4cba-ac97-0e5c0a898e4b\"}}];\n",
       "  root.Bokeh.embed.embed_items_notebook(docs_json, render_items);\n",
       "\n",
       "  }\n",
       "  if (root.Bokeh !== undefined) {\n",
       "    embed_document(root);\n",
       "  } else {\n",
       "    var attempts = 0;\n",
       "    var timer = setInterval(function(root) {\n",
       "      if (root.Bokeh !== undefined) {\n",
       "        clearInterval(timer);\n",
       "        embed_document(root);\n",
       "      } else {\n",
       "        attempts++;\n",
       "        if (attempts > 100) {\n",
       "          clearInterval(timer);\n",
       "          console.log(\"Bokeh: ERROR: Unable to run BokehJS code because BokehJS library is missing\");\n",
       "        }\n",
       "      }\n",
       "    }, 10, root)\n",
       "  }\n",
       "})(window);"
      ],
      "application/vnd.bokehjs_exec.v0+json": ""
     },
     "metadata": {
      "application/vnd.bokehjs_exec.v0+json": {
       "id": "2678"
      }
     },
     "output_type": "display_data"
    }
   ],
   "source": [
    "season = ['2018-2019']\n",
    "sites = [x for x in adu_df.query(\"season == @season\")['site'].unique() if \"BCC\" in x]\n",
    "dayOfWeek = 'All'\n",
    "src_df = dub.make_data_set(season, sites, dayOfWeek, adu_df)\n",
    "p = dub.make_plot(src_df, show_sensor_n=True)\n",
    "show(p)"
   ]
  },
  {
   "cell_type": "code",
   "execution_count": 10,
   "metadata": {},
   "outputs": [
    {
     "data": {
      "text/html": [
       "\n",
       "\n",
       "\n",
       "\n",
       "\n",
       "\n",
       "  <div class=\"bk-root\" id=\"11d4be4b-a303-4684-ac4d-50d49101c6ea\" data-root-id=\"3002\"></div>\n"
      ]
     },
     "metadata": {},
     "output_type": "display_data"
    },
    {
     "data": {
      "application/javascript": [
       "(function(root) {\n",
       "  function embed_document(root) {\n",
       "    \n",
       "  var docs_json = {\"6d7a4f98-5143-43c3-b79b-48e9a2ef01a2\":{\"roots\":{\"references\":[{\"attributes\":{\"above\":[{\"id\":\"3093\",\"type\":\"Title\"}],\"below\":[{\"id\":\"3012\",\"type\":\"CategoricalAxis\"},{\"id\":\"3095\",\"type\":\"Title\"}],\"center\":[{\"id\":\"3015\",\"type\":\"Grid\"},{\"id\":\"3020\",\"type\":\"Grid\"},{\"id\":\"3037\",\"type\":\"Legend\"},{\"id\":\"3041\",\"type\":\"LabelSet\"},{\"id\":\"3063\",\"type\":\"LabelSet\"},{\"id\":\"3089\",\"type\":\"LabelSet\"}],\"left\":[{\"id\":\"3016\",\"type\":\"LinearAxis\"}],\"plot_height\":400,\"plot_width\":800,\"renderers\":[{\"id\":\"3030\",\"type\":\"GlyphRenderer\"},{\"id\":\"3049\",\"type\":\"GlyphRenderer\"},{\"id\":\"3071\",\"type\":\"GlyphRenderer\"}],\"title\":{\"id\":\"3003\",\"type\":\"Title\"},\"toolbar\":{\"id\":\"3022\",\"type\":\"Toolbar\"},\"x_range\":{\"id\":\"3001\",\"type\":\"FactorRange\"},\"x_scale\":{\"id\":\"3008\",\"type\":\"CategoricalScale\"},\"y_range\":{\"id\":\"3094\",\"type\":\"Range1d\"},\"y_scale\":{\"id\":\"3010\",\"type\":\"LinearScale\"}},\"id\":\"3002\",\"subtype\":\"Figure\",\"type\":\"Plot\"},{\"attributes\":{\"formatter\":{\"id\":\"3035\",\"type\":\"BasicTickFormatter\"},\"major_label_text_font_size\":{\"value\":\"12pt\"},\"major_label_text_font_style\":\"bold\",\"minor_tick_line_color\":{\"value\":null},\"ticker\":{\"id\":\"3017\",\"type\":\"BasicTicker\"}},\"id\":\"3016\",\"type\":\"LinearAxis\"},{\"attributes\":{},\"id\":\"3059\",\"type\":\"Selection\"},{\"attributes\":{\"callback\":null,\"tooltips\":[[\"Site\",\"$name\"],[\"Average Daily Users\",\"@counts{int}\"]]},\"id\":\"3091\",\"type\":\"HoverTool\"},{\"attributes\":{\"data_source\":{\"id\":\"3066\",\"type\":\"ColumnDataSource\"},\"glyph\":{\"id\":\"3068\",\"type\":\"VBar\"},\"hover_glyph\":{\"id\":\"3070\",\"type\":\"VBar\"},\"muted_glyph\":null,\"name\":\"BCC Mill D\",\"nonselection_glyph\":{\"id\":\"3069\",\"type\":\"VBar\"},\"selection_glyph\":null,\"view\":{\"id\":\"3072\",\"type\":\"CDSView\"}},\"id\":\"3071\",\"type\":\"GlyphRenderer\"},{\"attributes\":{},\"id\":\"3085\",\"type\":\"Selection\"},{\"attributes\":{\"level\":\"glyph\",\"source\":{\"id\":\"3040\",\"type\":\"ColumnDataSource\"},\"text\":{\"field\":\"n\"},\"text_align\":\"center\",\"text_color\":{\"value\":\"#000000\"},\"text_font_size\":{\"value\":\"7pt\"},\"x\":{\"field\":\"x\",\"transform\":{\"id\":\"3039\",\"type\":\"Dodge\"}},\"y\":{\"field\":\"y\"}},\"id\":\"3041\",\"type\":\"LabelSet\"},{\"attributes\":{\"data_source\":{\"id\":\"3044\",\"type\":\"ColumnDataSource\"},\"glyph\":{\"id\":\"3046\",\"type\":\"VBar\"},\"hover_glyph\":{\"id\":\"3048\",\"type\":\"VBar\"},\"muted_glyph\":null,\"name\":\"BCC Cardiff\",\"nonselection_glyph\":{\"id\":\"3047\",\"type\":\"VBar\"},\"selection_glyph\":null,\"view\":{\"id\":\"3050\",\"type\":\"CDSView\"}},\"id\":\"3049\",\"type\":\"GlyphRenderer\"},{\"attributes\":{\"range\":{\"id\":\"3001\",\"type\":\"FactorRange\"}},\"id\":\"3043\",\"type\":\"Dodge\"},{\"attributes\":{},\"id\":\"3084\",\"type\":\"UnionRenderers\"},{\"attributes\":{\"data_source\":{\"id\":\"3025\",\"type\":\"ColumnDataSource\"},\"glyph\":{\"id\":\"3027\",\"type\":\"VBar\"},\"hover_glyph\":{\"id\":\"3029\",\"type\":\"VBar\"},\"muted_glyph\":null,\"name\":\"BCC Butler\",\"nonselection_glyph\":{\"id\":\"3028\",\"type\":\"VBar\"},\"selection_glyph\":null,\"view\":{\"id\":\"3031\",\"type\":\"CDSView\"}},\"id\":\"3030\",\"type\":\"GlyphRenderer\"},{\"attributes\":{\"fill_alpha\":{\"value\":0.1},\"fill_color\":{\"value\":\"#1f77b4\"},\"line_alpha\":{\"value\":0.1},\"line_color\":{\"value\":\"#1f77b4\"},\"top\":{\"field\":\"counts\"},\"width\":{\"value\":0.26666666666666666},\"x\":{\"field\":\"x\",\"transform\":{\"id\":\"3024\",\"type\":\"Dodge\"}}},\"id\":\"3028\",\"type\":\"VBar\"},{\"attributes\":{\"range\":{\"id\":\"3001\",\"type\":\"FactorRange\"},\"value\":0.2916666666666667},\"id\":\"3065\",\"type\":\"Dodge\"},{\"attributes\":{\"callback\":null,\"data\":{\"n\":[\"(4)\",\"(4)\",\"(4)\",\"(5)\",\"(4)\"],\"x\":[\"Dec\",\"Jan\",\"Feb\",\"Mar\",\"Apr\"],\"y\":[248.5,527.0,437.0,332.8,133.75]},\"selected\":{\"id\":\"3081\",\"type\":\"Selection\"},\"selection_policy\":{\"id\":\"3080\",\"type\":\"UnionRenderers\"}},\"id\":\"3062\",\"type\":\"ColumnDataSource\"},{\"attributes\":{\"callback\":null,\"factors\":[\"Dec\",\"Jan\",\"Feb\",\"Mar\",\"Apr\"],\"range_padding\":0.1},\"id\":\"3001\",\"type\":\"FactorRange\"},{\"attributes\":{\"fill_alpha\":{\"value\":0.9},\"fill_color\":{\"value\":\"#0EBFE9\"},\"line_color\":{\"value\":\"#0EBFE9\"},\"top\":{\"field\":\"counts\"},\"width\":{\"value\":0.26666666666666666},\"x\":{\"field\":\"x\",\"transform\":{\"id\":\"3024\",\"type\":\"Dodge\"}}},\"id\":\"3027\",\"type\":\"VBar\"},{\"attributes\":{\"fill_color\":{\"value\":\"#1f77b4\"},\"line_color\":{\"value\":\"#1f77b4\"},\"top\":{\"field\":\"counts\"},\"width\":{\"value\":0.26666666666666666},\"x\":{\"field\":\"x\",\"transform\":{\"id\":\"3043\",\"type\":\"Dodge\"}}},\"id\":\"3048\",\"type\":\"VBar\"},{\"attributes\":{\"fill_color\":{\"value\":\"#1f77b4\"},\"line_color\":{\"value\":\"#1f77b4\"},\"top\":{\"field\":\"counts\"},\"width\":{\"value\":0.26666666666666666},\"x\":{\"field\":\"x\",\"transform\":{\"id\":\"3065\",\"type\":\"Dodge\"}}},\"id\":\"3070\",\"type\":\"VBar\"},{\"attributes\":{},\"id\":\"3010\",\"type\":\"LinearScale\"},{\"attributes\":{},\"id\":\"3017\",\"type\":\"BasicTicker\"},{\"attributes\":{\"source\":{\"id\":\"3025\",\"type\":\"ColumnDataSource\"}},\"id\":\"3031\",\"type\":\"CDSView\"},{\"attributes\":{},\"id\":\"3233\",\"type\":\"Selection\"},{\"attributes\":{},\"id\":\"3238\",\"type\":\"UnionRenderers\"},{\"attributes\":{\"callback\":null,\"end\":685.1},\"id\":\"3094\",\"type\":\"Range1d\"},{\"attributes\":{\"range\":{\"id\":\"3001\",\"type\":\"FactorRange\"}},\"id\":\"3061\",\"type\":\"Dodge\"},{\"attributes\":{\"range\":{\"id\":\"3001\",\"type\":\"FactorRange\"},\"value\":0.2916666666666667},\"id\":\"3087\",\"type\":\"Dodge\"},{\"attributes\":{},\"id\":\"3035\",\"type\":\"BasicTickFormatter\"},{\"attributes\":{},\"id\":\"3008\",\"type\":\"CategoricalScale\"},{\"attributes\":{\"callback\":null,\"data\":{\"n\":[\"(4)\",\"(4)\",\"(4)\",\"(5)\",\"(3)\"],\"x\":[\"Dec\",\"Jan\",\"Feb\",\"Mar\",\"Apr\"],\"y\":[195.0,209.25,164.75,109.6,35.0]},\"selected\":{\"id\":\"3233\",\"type\":\"Selection\"},\"selection_policy\":{\"id\":\"3232\",\"type\":\"UnionRenderers\"}},\"id\":\"3088\",\"type\":\"ColumnDataSource\"},{\"attributes\":{},\"id\":\"3081\",\"type\":\"Selection\"},{\"attributes\":{\"level\":\"glyph\",\"source\":{\"id\":\"3088\",\"type\":\"ColumnDataSource\"},\"text\":{\"field\":\"n\"},\"text_align\":\"center\",\"text_color\":{\"value\":\"#000000\"},\"text_font_size\":{\"value\":\"7pt\"},\"x\":{\"field\":\"x\",\"transform\":{\"id\":\"3087\",\"type\":\"Dodge\"}},\"y\":{\"field\":\"y\"}},\"id\":\"3089\",\"type\":\"LabelSet\"},{\"attributes\":{\"fill_alpha\":{\"value\":0.1},\"fill_color\":{\"value\":\"#1f77b4\"},\"line_alpha\":{\"value\":0.1},\"line_color\":{\"value\":\"#1f77b4\"},\"top\":{\"field\":\"counts\"},\"width\":{\"value\":0.26666666666666666},\"x\":{\"field\":\"x\",\"transform\":{\"id\":\"3043\",\"type\":\"Dodge\"}}},\"id\":\"3047\",\"type\":\"VBar\"},{\"attributes\":{\"callback\":null,\"data\":{\"counts\":[195.0,209.25,164.75,109.6,35.0],\"x\":[\"Dec\",\"Jan\",\"Feb\",\"Mar\",\"Apr\"]},\"selected\":{\"id\":\"3239\",\"type\":\"Selection\"},\"selection_policy\":{\"id\":\"3238\",\"type\":\"UnionRenderers\"}},\"id\":\"3066\",\"type\":\"ColumnDataSource\"},{\"attributes\":{},\"id\":\"3239\",\"type\":\"Selection\"},{\"attributes\":{\"range\":{\"id\":\"3001\",\"type\":\"FactorRange\"},\"value\":-0.2916666666666667},\"id\":\"3039\",\"type\":\"Dodge\"},{\"attributes\":{\"callback\":null,\"data\":{\"counts\":[248.5,527.0,437.0,332.8,133.75],\"x\":[\"Dec\",\"Jan\",\"Feb\",\"Mar\",\"Apr\"]},\"selected\":{\"id\":\"3085\",\"type\":\"Selection\"},\"selection_policy\":{\"id\":\"3084\",\"type\":\"UnionRenderers\"}},\"id\":\"3044\",\"type\":\"ColumnDataSource\"},{\"attributes\":{},\"id\":\"3033\",\"type\":\"CategoricalTickFormatter\"},{\"attributes\":{\"fill_alpha\":{\"value\":0.9},\"fill_color\":{\"value\":\"#009ACD\"},\"line_color\":{\"value\":\"#009ACD\"},\"top\":{\"field\":\"counts\"},\"width\":{\"value\":0.26666666666666666},\"x\":{\"field\":\"x\",\"transform\":{\"id\":\"3065\",\"type\":\"Dodge\"}}},\"id\":\"3068\",\"type\":\"VBar\"},{\"attributes\":{\"active_drag\":\"auto\",\"active_inspect\":\"auto\",\"active_multi\":null,\"active_scroll\":\"auto\",\"active_tap\":\"auto\",\"tools\":[{\"id\":\"3021\",\"type\":\"SaveTool\"},{\"id\":\"3091\",\"type\":\"HoverTool\"}]},\"id\":\"3022\",\"type\":\"Toolbar\"},{\"attributes\":{\"label\":{\"value\":\"BCC Mill D\"},\"renderers\":[{\"id\":\"3071\",\"type\":\"GlyphRenderer\"}]},\"id\":\"3086\",\"type\":\"LegendItem\"},{\"attributes\":{\"label\":{\"value\":\"BCC Butler\"},\"renderers\":[{\"id\":\"3030\",\"type\":\"GlyphRenderer\"}]},\"id\":\"3038\",\"type\":\"LegendItem\"},{\"attributes\":{\"fill_alpha\":{\"value\":0.9},\"fill_color\":{\"value\":\"#0BB5FF\"},\"line_color\":{\"value\":\"#0BB5FF\"},\"top\":{\"field\":\"counts\"},\"width\":{\"value\":0.26666666666666666},\"x\":{\"field\":\"x\",\"transform\":{\"id\":\"3043\",\"type\":\"Dodge\"}}},\"id\":\"3046\",\"type\":\"VBar\"},{\"attributes\":{\"range\":{\"id\":\"3001\",\"type\":\"FactorRange\"},\"value\":-0.2916666666666667},\"id\":\"3024\",\"type\":\"Dodge\"},{\"attributes\":{\"items\":[{\"id\":\"3038\",\"type\":\"LegendItem\"},{\"id\":\"3060\",\"type\":\"LegendItem\"},{\"id\":\"3086\",\"type\":\"LegendItem\"}],\"location\":\"top_left\",\"orientation\":\"horizontal\"},\"id\":\"3037\",\"type\":\"Legend\"},{\"attributes\":{\"text\":\"Season 2018-2019 | Average Daily Trailhead Users Per Month For Saturdays\",\"text_font_size\":{\"value\":\"13pt\"}},\"id\":\"3093\",\"type\":\"Title\"},{\"attributes\":{\"callback\":null,\"data\":{\"n\":[\"(4)\",\"(3)\",\"(3)\",\"(5)\",\"(4)\"],\"x\":[\"Dec\",\"Jan\",\"Feb\",\"Mar\",\"Apr\"],\"y\":[87.75,122.33333333333331,72.66666666666667,21.6,19.75]},\"selected\":{\"id\":\"3057\",\"type\":\"Selection\"},\"selection_policy\":{\"id\":\"3056\",\"type\":\"UnionRenderers\"}},\"id\":\"3040\",\"type\":\"ColumnDataSource\"},{\"attributes\":{\"text\":\"\",\"text_font_size\":{\"value\":\"12pt\"}},\"id\":\"3003\",\"type\":\"Title\"},{\"attributes\":{\"grid_line_color\":null,\"ticker\":{\"id\":\"3013\",\"type\":\"CategoricalTicker\"}},\"id\":\"3015\",\"type\":\"Grid\"},{\"attributes\":{\"text\":\"Note: (*) is number of days with sensor data\",\"text_font_size\":{\"value\":\"10pt\"},\"text_font_style\":\"normal\"},\"id\":\"3095\",\"type\":\"Title\"},{\"attributes\":{\"callback\":null,\"data\":{\"counts\":[87.75,122.33333333333331,72.66666666666667,21.6,19.75],\"x\":[\"Dec\",\"Jan\",\"Feb\",\"Mar\",\"Apr\"]},\"selected\":{\"id\":\"3059\",\"type\":\"Selection\"},\"selection_policy\":{\"id\":\"3058\",\"type\":\"UnionRenderers\"}},\"id\":\"3025\",\"type\":\"ColumnDataSource\"},{\"attributes\":{\"dimension\":1,\"ticker\":{\"id\":\"3017\",\"type\":\"BasicTicker\"}},\"id\":\"3020\",\"type\":\"Grid\"},{\"attributes\":{\"formatter\":{\"id\":\"3033\",\"type\":\"CategoricalTickFormatter\"},\"major_label_orientation\":0,\"major_label_standoff\":10,\"major_label_text_font_size\":{\"value\":\"12pt\"},\"major_label_text_font_style\":\"bold\",\"major_tick_line_color\":{\"value\":null},\"minor_tick_line_color\":{\"value\":null},\"ticker\":{\"id\":\"3013\",\"type\":\"CategoricalTicker\"}},\"id\":\"3012\",\"type\":\"CategoricalAxis\"},{\"attributes\":{\"source\":{\"id\":\"3044\",\"type\":\"ColumnDataSource\"}},\"id\":\"3050\",\"type\":\"CDSView\"},{\"attributes\":{\"fill_alpha\":{\"value\":0.1},\"fill_color\":{\"value\":\"#1f77b4\"},\"line_alpha\":{\"value\":0.1},\"line_color\":{\"value\":\"#1f77b4\"},\"top\":{\"field\":\"counts\"},\"width\":{\"value\":0.26666666666666666},\"x\":{\"field\":\"x\",\"transform\":{\"id\":\"3065\",\"type\":\"Dodge\"}}},\"id\":\"3069\",\"type\":\"VBar\"},{\"attributes\":{},\"id\":\"3013\",\"type\":\"CategoricalTicker\"},{\"attributes\":{\"source\":{\"id\":\"3066\",\"type\":\"ColumnDataSource\"}},\"id\":\"3072\",\"type\":\"CDSView\"},{\"attributes\":{},\"id\":\"3056\",\"type\":\"UnionRenderers\"},{\"attributes\":{},\"id\":\"3021\",\"type\":\"SaveTool\"},{\"attributes\":{},\"id\":\"3057\",\"type\":\"Selection\"},{\"attributes\":{},\"id\":\"3058\",\"type\":\"UnionRenderers\"},{\"attributes\":{\"fill_color\":{\"value\":\"#1f77b4\"},\"line_color\":{\"value\":\"#1f77b4\"},\"top\":{\"field\":\"counts\"},\"width\":{\"value\":0.26666666666666666},\"x\":{\"field\":\"x\",\"transform\":{\"id\":\"3024\",\"type\":\"Dodge\"}}},\"id\":\"3029\",\"type\":\"VBar\"},{\"attributes\":{},\"id\":\"3080\",\"type\":\"UnionRenderers\"},{\"attributes\":{},\"id\":\"3232\",\"type\":\"UnionRenderers\"},{\"attributes\":{\"label\":{\"value\":\"BCC Cardiff\"},\"renderers\":[{\"id\":\"3049\",\"type\":\"GlyphRenderer\"}]},\"id\":\"3060\",\"type\":\"LegendItem\"},{\"attributes\":{\"level\":\"glyph\",\"source\":{\"id\":\"3062\",\"type\":\"ColumnDataSource\"},\"text\":{\"field\":\"n\"},\"text_align\":\"center\",\"text_color\":{\"value\":\"#000000\"},\"text_font_size\":{\"value\":\"7pt\"},\"x\":{\"field\":\"x\",\"transform\":{\"id\":\"3061\",\"type\":\"Dodge\"}},\"y\":{\"field\":\"y\"}},\"id\":\"3063\",\"type\":\"LabelSet\"}],\"root_ids\":[\"3002\"]},\"title\":\"Bokeh Application\",\"version\":\"1.4.0\"}};\n",
       "  var render_items = [{\"docid\":\"6d7a4f98-5143-43c3-b79b-48e9a2ef01a2\",\"roots\":{\"3002\":\"11d4be4b-a303-4684-ac4d-50d49101c6ea\"}}];\n",
       "  root.Bokeh.embed.embed_items_notebook(docs_json, render_items);\n",
       "\n",
       "  }\n",
       "  if (root.Bokeh !== undefined) {\n",
       "    embed_document(root);\n",
       "  } else {\n",
       "    var attempts = 0;\n",
       "    var timer = setInterval(function(root) {\n",
       "      if (root.Bokeh !== undefined) {\n",
       "        clearInterval(timer);\n",
       "        embed_document(root);\n",
       "      } else {\n",
       "        attempts++;\n",
       "        if (attempts > 100) {\n",
       "          clearInterval(timer);\n",
       "          console.log(\"Bokeh: ERROR: Unable to run BokehJS code because BokehJS library is missing\");\n",
       "        }\n",
       "      }\n",
       "    }, 10, root)\n",
       "  }\n",
       "})(window);"
      ],
      "application/vnd.bokehjs_exec.v0+json": ""
     },
     "metadata": {
      "application/vnd.bokehjs_exec.v0+json": {
       "id": "3002"
      }
     },
     "output_type": "display_data"
    }
   ],
   "source": [
    "season = ['2018-2019']\n",
    "sites = [x for x in adu_df.query(\"season == @season\")['site'].unique() if \"BCC\" in x]\n",
    "dayOfWeek = 'Saturday'\n",
    "src_df = dub.make_data_set(season, sites, dayOfWeek, adu_df)\n",
    "p = dub.make_plot(src_df, show_sensor_n=True)\n",
    "show(p)"
   ]
  },
  {
   "cell_type": "markdown",
   "metadata": {},
   "source": [
    "## MCC Plots"
   ]
  },
  {
   "cell_type": "code",
   "execution_count": 11,
   "metadata": {},
   "outputs": [
    {
     "data": {
      "text/html": [
       "\n",
       "\n",
       "\n",
       "\n",
       "\n",
       "\n",
       "  <div class=\"bk-root\" id=\"b08d4b08-04e3-4159-ae71-8ac8da018648\" data-root-id=\"3343\"></div>\n"
      ]
     },
     "metadata": {},
     "output_type": "display_data"
    },
    {
     "data": {
      "application/javascript": [
       "(function(root) {\n",
       "  function embed_document(root) {\n",
       "    \n",
       "  var docs_json = {\"d5ae8244-a195-4f1a-807c-e32709dee74a\":{\"roots\":{\"references\":[{\"attributes\":{\"above\":[{\"id\":\"3408\",\"type\":\"Title\"}],\"below\":[{\"id\":\"3353\",\"type\":\"CategoricalAxis\"},{\"id\":\"3410\",\"type\":\"Title\"}],\"center\":[{\"id\":\"3356\",\"type\":\"Grid\"},{\"id\":\"3361\",\"type\":\"Grid\"},{\"id\":\"3378\",\"type\":\"Legend\"},{\"id\":\"3382\",\"type\":\"LabelSet\"},{\"id\":\"3404\",\"type\":\"LabelSet\"}],\"left\":[{\"id\":\"3357\",\"type\":\"LinearAxis\"}],\"plot_height\":400,\"plot_width\":800,\"renderers\":[{\"id\":\"3371\",\"type\":\"GlyphRenderer\"},{\"id\":\"3390\",\"type\":\"GlyphRenderer\"}],\"title\":{\"id\":\"3344\",\"type\":\"Title\"},\"toolbar\":{\"id\":\"3363\",\"type\":\"Toolbar\"},\"x_range\":{\"id\":\"3342\",\"type\":\"FactorRange\"},\"x_scale\":{\"id\":\"3349\",\"type\":\"CategoricalScale\"},\"y_range\":{\"id\":\"3409\",\"type\":\"Range1d\"},\"y_scale\":{\"id\":\"3351\",\"type\":\"LinearScale\"}},\"id\":\"3343\",\"subtype\":\"Figure\",\"type\":\"Plot\"},{\"attributes\":{},\"id\":\"3354\",\"type\":\"CategoricalTicker\"},{\"attributes\":{\"label\":{\"value\":\"MCC Road\"},\"renderers\":[{\"id\":\"3390\",\"type\":\"GlyphRenderer\"}]},\"id\":\"3401\",\"type\":\"LegendItem\"},{\"attributes\":{\"dimension\":1,\"ticker\":{\"id\":\"3358\",\"type\":\"BasicTicker\"}},\"id\":\"3361\",\"type\":\"Grid\"},{\"attributes\":{},\"id\":\"3567\",\"type\":\"Selection\"},{\"attributes\":{\"text\":\"\",\"text_font_size\":{\"value\":\"12pt\"}},\"id\":\"3344\",\"type\":\"Title\"},{\"attributes\":{},\"id\":\"3399\",\"type\":\"UnionRenderers\"},{\"attributes\":{},\"id\":\"3351\",\"type\":\"LinearScale\"},{\"attributes\":{\"callback\":null,\"data\":{\"n\":[\"(30)\",\"(31)\",\"(28)\",\"(31)\",\"(30)\"],\"x\":[\"Dec\",\"Jan\",\"Feb\",\"Mar\",\"Apr\"],\"y\":[546.4666666666667,512.9677419354839,481.07142857142856,365.8709677419355,151.6]},\"selected\":{\"id\":\"3563\",\"type\":\"Selection\"},\"selection_policy\":{\"id\":\"3562\",\"type\":\"UnionRenderers\"}},\"id\":\"3403\",\"type\":\"ColumnDataSource\"},{\"attributes\":{\"range\":{\"id\":\"3342\",\"type\":\"FactorRange\"},\"value\":-0.225},\"id\":\"3380\",\"type\":\"Dodge\"},{\"attributes\":{},\"id\":\"3397\",\"type\":\"UnionRenderers\"},{\"attributes\":{\"range\":{\"id\":\"3342\",\"type\":\"FactorRange\"},\"value\":0.225},\"id\":\"3384\",\"type\":\"Dodge\"},{\"attributes\":{\"fill_alpha\":{\"value\":0.9},\"fill_color\":{\"value\":\"#0BB5FF\"},\"line_color\":{\"value\":\"#0BB5FF\"},\"top\":{\"field\":\"counts\"},\"width\":{\"value\":0.4},\"x\":{\"field\":\"x\",\"transform\":{\"id\":\"3384\",\"type\":\"Dodge\"}}},\"id\":\"3387\",\"type\":\"VBar\"},{\"attributes\":{\"source\":{\"id\":\"3385\",\"type\":\"ColumnDataSource\"}},\"id\":\"3391\",\"type\":\"CDSView\"},{\"attributes\":{\"text\":\"Note: (*) is number of days with sensor data\",\"text_font_size\":{\"value\":\"10pt\"},\"text_font_style\":\"normal\"},\"id\":\"3410\",\"type\":\"Title\"},{\"attributes\":{\"callback\":null,\"data\":{\"n\":[\"(30)\",\"(31)\",\"(28)\",\"(31)\",\"(30)\"],\"x\":[\"Dec\",\"Jan\",\"Feb\",\"Mar\",\"Apr\"],\"y\":[131.7,153.67741935483872,123.89285714285714,104.32258064516131,35.4]},\"selected\":{\"id\":\"3398\",\"type\":\"Selection\"},\"selection_policy\":{\"id\":\"3397\",\"type\":\"UnionRenderers\"}},\"id\":\"3381\",\"type\":\"ColumnDataSource\"},{\"attributes\":{\"fill_alpha\":{\"value\":0.1},\"fill_color\":{\"value\":\"#1f77b4\"},\"line_alpha\":{\"value\":0.1},\"line_color\":{\"value\":\"#1f77b4\"},\"top\":{\"field\":\"counts\"},\"width\":{\"value\":0.4},\"x\":{\"field\":\"x\",\"transform\":{\"id\":\"3365\",\"type\":\"Dodge\"}}},\"id\":\"3369\",\"type\":\"VBar\"},{\"attributes\":{\"callback\":null,\"data\":{\"counts\":[131.7,153.67741935483872,123.89285714285714,104.32258064516131,35.4],\"x\":[\"Dec\",\"Jan\",\"Feb\",\"Mar\",\"Apr\"]},\"selected\":{\"id\":\"3400\",\"type\":\"Selection\"},\"selection_policy\":{\"id\":\"3399\",\"type\":\"UnionRenderers\"}},\"id\":\"3366\",\"type\":\"ColumnDataSource\"},{\"attributes\":{},\"id\":\"3562\",\"type\":\"UnionRenderers\"},{\"attributes\":{\"range\":{\"id\":\"3342\",\"type\":\"FactorRange\"},\"value\":-0.225},\"id\":\"3365\",\"type\":\"Dodge\"},{\"attributes\":{\"fill_alpha\":{\"value\":0.9},\"fill_color\":{\"value\":\"#0EBFE9\"},\"line_color\":{\"value\":\"#0EBFE9\"},\"top\":{\"field\":\"counts\"},\"width\":{\"value\":0.4},\"x\":{\"field\":\"x\",\"transform\":{\"id\":\"3365\",\"type\":\"Dodge\"}}},\"id\":\"3368\",\"type\":\"VBar\"},{\"attributes\":{\"callback\":null,\"data\":{\"counts\":[546.4666666666667,512.9677419354839,481.07142857142856,365.8709677419355,151.6],\"x\":[\"Dec\",\"Jan\",\"Feb\",\"Mar\",\"Apr\"]},\"selected\":{\"id\":\"3567\",\"type\":\"Selection\"},\"selection_policy\":{\"id\":\"3566\",\"type\":\"UnionRenderers\"}},\"id\":\"3385\",\"type\":\"ColumnDataSource\"},{\"attributes\":{},\"id\":\"3400\",\"type\":\"Selection\"},{\"attributes\":{\"fill_color\":{\"value\":\"#1f77b4\"},\"line_color\":{\"value\":\"#1f77b4\"},\"top\":{\"field\":\"counts\"},\"width\":{\"value\":0.4},\"x\":{\"field\":\"x\",\"transform\":{\"id\":\"3384\",\"type\":\"Dodge\"}}},\"id\":\"3389\",\"type\":\"VBar\"},{\"attributes\":{\"level\":\"glyph\",\"source\":{\"id\":\"3381\",\"type\":\"ColumnDataSource\"},\"text\":{\"field\":\"n\"},\"text_align\":\"center\",\"text_color\":{\"value\":\"#000000\"},\"text_font_size\":{\"value\":\"7pt\"},\"x\":{\"field\":\"x\",\"transform\":{\"id\":\"3380\",\"type\":\"Dodge\"}},\"y\":{\"field\":\"y\"}},\"id\":\"3382\",\"type\":\"LabelSet\"},{\"attributes\":{\"data_source\":{\"id\":\"3366\",\"type\":\"ColumnDataSource\"},\"glyph\":{\"id\":\"3368\",\"type\":\"VBar\"},\"hover_glyph\":{\"id\":\"3370\",\"type\":\"VBar\"},\"muted_glyph\":null,\"name\":\"MCC Porter\",\"nonselection_glyph\":{\"id\":\"3369\",\"type\":\"VBar\"},\"selection_glyph\":null,\"view\":{\"id\":\"3372\",\"type\":\"CDSView\"}},\"id\":\"3371\",\"type\":\"GlyphRenderer\"},{\"attributes\":{},\"id\":\"3349\",\"type\":\"CategoricalScale\"},{\"attributes\":{\"formatter\":{\"id\":\"3376\",\"type\":\"BasicTickFormatter\"},\"major_label_text_font_size\":{\"value\":\"12pt\"},\"major_label_text_font_style\":\"bold\",\"minor_tick_line_color\":{\"value\":null},\"ticker\":{\"id\":\"3358\",\"type\":\"BasicTicker\"}},\"id\":\"3357\",\"type\":\"LinearAxis\"},{\"attributes\":{\"active_drag\":\"auto\",\"active_inspect\":\"auto\",\"active_multi\":null,\"active_scroll\":\"auto\",\"active_tap\":\"auto\",\"tools\":[{\"id\":\"3362\",\"type\":\"SaveTool\"},{\"id\":\"3406\",\"type\":\"HoverTool\"}]},\"id\":\"3363\",\"type\":\"Toolbar\"},{\"attributes\":{\"range\":{\"id\":\"3342\",\"type\":\"FactorRange\"},\"value\":0.225},\"id\":\"3402\",\"type\":\"Dodge\"},{\"attributes\":{\"source\":{\"id\":\"3366\",\"type\":\"ColumnDataSource\"}},\"id\":\"3372\",\"type\":\"CDSView\"},{\"attributes\":{\"formatter\":{\"id\":\"3374\",\"type\":\"CategoricalTickFormatter\"},\"major_label_orientation\":0,\"major_label_standoff\":10,\"major_label_text_font_size\":{\"value\":\"12pt\"},\"major_label_text_font_style\":\"bold\",\"major_tick_line_color\":{\"value\":null},\"minor_tick_line_color\":{\"value\":null},\"ticker\":{\"id\":\"3354\",\"type\":\"CategoricalTicker\"}},\"id\":\"3353\",\"type\":\"CategoricalAxis\"},{\"attributes\":{\"data_source\":{\"id\":\"3385\",\"type\":\"ColumnDataSource\"},\"glyph\":{\"id\":\"3387\",\"type\":\"VBar\"},\"hover_glyph\":{\"id\":\"3389\",\"type\":\"VBar\"},\"muted_glyph\":null,\"name\":\"MCC Road\",\"nonselection_glyph\":{\"id\":\"3388\",\"type\":\"VBar\"},\"selection_glyph\":null,\"view\":{\"id\":\"3391\",\"type\":\"CDSView\"}},\"id\":\"3390\",\"type\":\"GlyphRenderer\"},{\"attributes\":{\"callback\":null,\"tooltips\":[[\"Site\",\"$name\"],[\"Average Daily Users\",\"@counts{int}\"]]},\"id\":\"3406\",\"type\":\"HoverTool\"},{\"attributes\":{},\"id\":\"3398\",\"type\":\"Selection\"},{\"attributes\":{},\"id\":\"3376\",\"type\":\"BasicTickFormatter\"},{\"attributes\":{\"level\":\"glyph\",\"source\":{\"id\":\"3403\",\"type\":\"ColumnDataSource\"},\"text\":{\"field\":\"n\"},\"text_align\":\"center\",\"text_color\":{\"value\":\"#000000\"},\"text_font_size\":{\"value\":\"7pt\"},\"x\":{\"field\":\"x\",\"transform\":{\"id\":\"3402\",\"type\":\"Dodge\"}},\"y\":{\"field\":\"y\"}},\"id\":\"3404\",\"type\":\"LabelSet\"},{\"attributes\":{\"text\":\"Season 2018-2019 | Average Daily Trailhead Users Per Month\",\"text_font_size\":{\"value\":\"13pt\"}},\"id\":\"3408\",\"type\":\"Title\"},{\"attributes\":{\"fill_alpha\":{\"value\":0.1},\"fill_color\":{\"value\":\"#1f77b4\"},\"line_alpha\":{\"value\":0.1},\"line_color\":{\"value\":\"#1f77b4\"},\"top\":{\"field\":\"counts\"},\"width\":{\"value\":0.4},\"x\":{\"field\":\"x\",\"transform\":{\"id\":\"3384\",\"type\":\"Dodge\"}}},\"id\":\"3388\",\"type\":\"VBar\"},{\"attributes\":{},\"id\":\"3563\",\"type\":\"Selection\"},{\"attributes\":{\"callback\":null,\"end\":710.4066666666668},\"id\":\"3409\",\"type\":\"Range1d\"},{\"attributes\":{},\"id\":\"3358\",\"type\":\"BasicTicker\"},{\"attributes\":{},\"id\":\"3374\",\"type\":\"CategoricalTickFormatter\"},{\"attributes\":{\"fill_color\":{\"value\":\"#1f77b4\"},\"line_color\":{\"value\":\"#1f77b4\"},\"top\":{\"field\":\"counts\"},\"width\":{\"value\":0.4},\"x\":{\"field\":\"x\",\"transform\":{\"id\":\"3365\",\"type\":\"Dodge\"}}},\"id\":\"3370\",\"type\":\"VBar\"},{\"attributes\":{\"grid_line_color\":null,\"ticker\":{\"id\":\"3354\",\"type\":\"CategoricalTicker\"}},\"id\":\"3356\",\"type\":\"Grid\"},{\"attributes\":{},\"id\":\"3566\",\"type\":\"UnionRenderers\"},{\"attributes\":{\"callback\":null,\"factors\":[\"Dec\",\"Jan\",\"Feb\",\"Mar\",\"Apr\"],\"range_padding\":0.1},\"id\":\"3342\",\"type\":\"FactorRange\"},{\"attributes\":{\"label\":{\"value\":\"MCC Porter\"},\"renderers\":[{\"id\":\"3371\",\"type\":\"GlyphRenderer\"}]},\"id\":\"3379\",\"type\":\"LegendItem\"},{\"attributes\":{},\"id\":\"3362\",\"type\":\"SaveTool\"},{\"attributes\":{\"items\":[{\"id\":\"3379\",\"type\":\"LegendItem\"},{\"id\":\"3401\",\"type\":\"LegendItem\"}],\"location\":\"top_left\",\"orientation\":\"horizontal\"},\"id\":\"3378\",\"type\":\"Legend\"}],\"root_ids\":[\"3343\"]},\"title\":\"Bokeh Application\",\"version\":\"1.4.0\"}};\n",
       "  var render_items = [{\"docid\":\"d5ae8244-a195-4f1a-807c-e32709dee74a\",\"roots\":{\"3343\":\"b08d4b08-04e3-4159-ae71-8ac8da018648\"}}];\n",
       "  root.Bokeh.embed.embed_items_notebook(docs_json, render_items);\n",
       "\n",
       "  }\n",
       "  if (root.Bokeh !== undefined) {\n",
       "    embed_document(root);\n",
       "  } else {\n",
       "    var attempts = 0;\n",
       "    var timer = setInterval(function(root) {\n",
       "      if (root.Bokeh !== undefined) {\n",
       "        clearInterval(timer);\n",
       "        embed_document(root);\n",
       "      } else {\n",
       "        attempts++;\n",
       "        if (attempts > 100) {\n",
       "          clearInterval(timer);\n",
       "          console.log(\"Bokeh: ERROR: Unable to run BokehJS code because BokehJS library is missing\");\n",
       "        }\n",
       "      }\n",
       "    }, 10, root)\n",
       "  }\n",
       "})(window);"
      ],
      "application/vnd.bokehjs_exec.v0+json": ""
     },
     "metadata": {
      "application/vnd.bokehjs_exec.v0+json": {
       "id": "3343"
      }
     },
     "output_type": "display_data"
    }
   ],
   "source": [
    "season = ['2018-2019']\n",
    "sites = [x for x in adu_df.query(\"season == @season\")['site'].unique() if \"MCC\" in x]\n",
    "dayOfWeek = 'All'\n",
    "src_df = dub.make_data_set(season, sites, dayOfWeek, adu_df)\n",
    "p = dub.make_plot(src_df, show_sensor_n=True)\n",
    "show(p)"
   ]
  },
  {
   "cell_type": "code",
   "execution_count": 12,
   "metadata": {},
   "outputs": [
    {
     "data": {
      "text/html": [
       "\n",
       "\n",
       "\n",
       "\n",
       "\n",
       "\n",
       "  <div class=\"bk-root\" id=\"70b01565-93ea-46fa-b89a-b8a5f1f89268\" data-root-id=\"3647\"></div>\n"
      ]
     },
     "metadata": {},
     "output_type": "display_data"
    },
    {
     "data": {
      "application/javascript": [
       "(function(root) {\n",
       "  function embed_document(root) {\n",
       "    \n",
       "  var docs_json = {\"892c6e4a-caf6-4c77-b8d1-1a0484cc7abf\":{\"roots\":{\"references\":[{\"attributes\":{\"above\":[{\"id\":\"3712\",\"type\":\"Title\"}],\"below\":[{\"id\":\"3657\",\"type\":\"CategoricalAxis\"},{\"id\":\"3714\",\"type\":\"Title\"}],\"center\":[{\"id\":\"3660\",\"type\":\"Grid\"},{\"id\":\"3665\",\"type\":\"Grid\"},{\"id\":\"3682\",\"type\":\"Legend\"},{\"id\":\"3686\",\"type\":\"LabelSet\"},{\"id\":\"3708\",\"type\":\"LabelSet\"}],\"left\":[{\"id\":\"3661\",\"type\":\"LinearAxis\"}],\"plot_height\":400,\"plot_width\":800,\"renderers\":[{\"id\":\"3675\",\"type\":\"GlyphRenderer\"},{\"id\":\"3694\",\"type\":\"GlyphRenderer\"}],\"title\":{\"id\":\"3648\",\"type\":\"Title\"},\"toolbar\":{\"id\":\"3667\",\"type\":\"Toolbar\"},\"x_range\":{\"id\":\"3646\",\"type\":\"FactorRange\"},\"x_scale\":{\"id\":\"3653\",\"type\":\"CategoricalScale\"},\"y_range\":{\"id\":\"3713\",\"type\":\"Range1d\"},\"y_scale\":{\"id\":\"3655\",\"type\":\"LinearScale\"}},\"id\":\"3647\",\"subtype\":\"Figure\",\"type\":\"Plot\"},{\"attributes\":{\"data_source\":{\"id\":\"3689\",\"type\":\"ColumnDataSource\"},\"glyph\":{\"id\":\"3691\",\"type\":\"VBar\"},\"hover_glyph\":{\"id\":\"3693\",\"type\":\"VBar\"},\"muted_glyph\":null,\"name\":\"MCC Road\",\"nonselection_glyph\":{\"id\":\"3692\",\"type\":\"VBar\"},\"selection_glyph\":null,\"view\":{\"id\":\"3695\",\"type\":\"CDSView\"}},\"id\":\"3694\",\"type\":\"GlyphRenderer\"},{\"attributes\":{\"callback\":null,\"data\":{\"counts\":[190.0,268.5,237.75,197.6,53.0],\"x\":[\"Dec\",\"Jan\",\"Feb\",\"Mar\",\"Apr\"]},\"selected\":{\"id\":\"3704\",\"type\":\"Selection\"},\"selection_policy\":{\"id\":\"3703\",\"type\":\"UnionRenderers\"}},\"id\":\"3670\",\"type\":\"ColumnDataSource\"},{\"attributes\":{\"dimension\":1,\"ticker\":{\"id\":\"3662\",\"type\":\"BasicTicker\"}},\"id\":\"3665\",\"type\":\"Grid\"},{\"attributes\":{},\"id\":\"3655\",\"type\":\"LinearScale\"},{\"attributes\":{\"level\":\"glyph\",\"source\":{\"id\":\"3685\",\"type\":\"ColumnDataSource\"},\"text\":{\"field\":\"n\"},\"text_align\":\"center\",\"text_color\":{\"value\":\"#000000\"},\"text_font_size\":{\"value\":\"7pt\"},\"x\":{\"field\":\"x\",\"transform\":{\"id\":\"3684\",\"type\":\"Dodge\"}},\"y\":{\"field\":\"y\"}},\"id\":\"3686\",\"type\":\"LabelSet\"},{\"attributes\":{},\"id\":\"3658\",\"type\":\"CategoricalTicker\"},{\"attributes\":{\"fill_alpha\":{\"value\":0.9},\"fill_color\":{\"value\":\"#0EBFE9\"},\"line_color\":{\"value\":\"#0EBFE9\"},\"top\":{\"field\":\"counts\"},\"width\":{\"value\":0.4},\"x\":{\"field\":\"x\",\"transform\":{\"id\":\"3669\",\"type\":\"Dodge\"}}},\"id\":\"3672\",\"type\":\"VBar\"},{\"attributes\":{\"active_drag\":\"auto\",\"active_inspect\":\"auto\",\"active_multi\":null,\"active_scroll\":\"auto\",\"active_tap\":\"auto\",\"tools\":[{\"id\":\"3666\",\"type\":\"SaveTool\"},{\"id\":\"3710\",\"type\":\"HoverTool\"}]},\"id\":\"3667\",\"type\":\"Toolbar\"},{\"attributes\":{\"source\":{\"id\":\"3689\",\"type\":\"ColumnDataSource\"}},\"id\":\"3695\",\"type\":\"CDSView\"},{\"attributes\":{\"fill_color\":{\"value\":\"#1f77b4\"},\"line_color\":{\"value\":\"#1f77b4\"},\"top\":{\"field\":\"counts\"},\"width\":{\"value\":0.4},\"x\":{\"field\":\"x\",\"transform\":{\"id\":\"3688\",\"type\":\"Dodge\"}}},\"id\":\"3693\",\"type\":\"VBar\"},{\"attributes\":{\"grid_line_color\":null,\"ticker\":{\"id\":\"3658\",\"type\":\"CategoricalTicker\"}},\"id\":\"3660\",\"type\":\"Grid\"},{\"attributes\":{\"fill_alpha\":{\"value\":0.1},\"fill_color\":{\"value\":\"#1f77b4\"},\"line_alpha\":{\"value\":0.1},\"line_color\":{\"value\":\"#1f77b4\"},\"top\":{\"field\":\"counts\"},\"width\":{\"value\":0.4},\"x\":{\"field\":\"x\",\"transform\":{\"id\":\"3669\",\"type\":\"Dodge\"}}},\"id\":\"3673\",\"type\":\"VBar\"},{\"attributes\":{},\"id\":\"3701\",\"type\":\"UnionRenderers\"},{\"attributes\":{},\"id\":\"3880\",\"type\":\"Selection\"},{\"attributes\":{},\"id\":\"3703\",\"type\":\"UnionRenderers\"},{\"attributes\":{},\"id\":\"3666\",\"type\":\"SaveTool\"},{\"attributes\":{\"label\":{\"value\":\"MCC Road\"},\"renderers\":[{\"id\":\"3694\",\"type\":\"GlyphRenderer\"}]},\"id\":\"3705\",\"type\":\"LegendItem\"},{\"attributes\":{\"range\":{\"id\":\"3646\",\"type\":\"FactorRange\"},\"value\":0.225},\"id\":\"3688\",\"type\":\"Dodge\"},{\"attributes\":{\"text\":\"Note: (*) is number of days with sensor data\",\"text_font_size\":{\"value\":\"10pt\"},\"text_font_style\":\"normal\"},\"id\":\"3714\",\"type\":\"Title\"},{\"attributes\":{},\"id\":\"3702\",\"type\":\"Selection\"},{\"attributes\":{},\"id\":\"3704\",\"type\":\"Selection\"},{\"attributes\":{},\"id\":\"3884\",\"type\":\"Selection\"},{\"attributes\":{\"range\":{\"id\":\"3646\",\"type\":\"FactorRange\"},\"value\":-0.225},\"id\":\"3669\",\"type\":\"Dodge\"},{\"attributes\":{\"fill_color\":{\"value\":\"#1f77b4\"},\"line_color\":{\"value\":\"#1f77b4\"},\"top\":{\"field\":\"counts\"},\"width\":{\"value\":0.4},\"x\":{\"field\":\"x\",\"transform\":{\"id\":\"3669\",\"type\":\"Dodge\"}}},\"id\":\"3674\",\"type\":\"VBar\"},{\"attributes\":{\"fill_alpha\":{\"value\":0.9},\"fill_color\":{\"value\":\"#0BB5FF\"},\"line_color\":{\"value\":\"#0BB5FF\"},\"top\":{\"field\":\"counts\"},\"width\":{\"value\":0.4},\"x\":{\"field\":\"x\",\"transform\":{\"id\":\"3688\",\"type\":\"Dodge\"}}},\"id\":\"3691\",\"type\":\"VBar\"},{\"attributes\":{\"source\":{\"id\":\"3670\",\"type\":\"ColumnDataSource\"}},\"id\":\"3676\",\"type\":\"CDSView\"},{\"attributes\":{\"text\":\"\",\"text_font_size\":{\"value\":\"12pt\"}},\"id\":\"3648\",\"type\":\"Title\"},{\"attributes\":{\"level\":\"glyph\",\"source\":{\"id\":\"3707\",\"type\":\"ColumnDataSource\"},\"text\":{\"field\":\"n\"},\"text_align\":\"center\",\"text_color\":{\"value\":\"#000000\"},\"text_font_size\":{\"value\":\"7pt\"},\"x\":{\"field\":\"x\",\"transform\":{\"id\":\"3706\",\"type\":\"Dodge\"}},\"y\":{\"field\":\"y\"}},\"id\":\"3708\",\"type\":\"LabelSet\"},{\"attributes\":{\"callback\":null,\"factors\":[\"Dec\",\"Jan\",\"Feb\",\"Mar\",\"Apr\"],\"range_padding\":0.1},\"id\":\"3646\",\"type\":\"FactorRange\"},{\"attributes\":{\"callback\":null,\"data\":{\"n\":[\"(4)\",\"(4)\",\"(4)\",\"(5)\",\"(4)\"],\"x\":[\"Dec\",\"Jan\",\"Feb\",\"Mar\",\"Apr\"],\"y\":[190.0,268.5,237.75,197.6,53.0]},\"selected\":{\"id\":\"3702\",\"type\":\"Selection\"},\"selection_policy\":{\"id\":\"3701\",\"type\":\"UnionRenderers\"}},\"id\":\"3685\",\"type\":\"ColumnDataSource\"},{\"attributes\":{\"callback\":null,\"data\":{\"n\":[\"(4)\",\"(4)\",\"(4)\",\"(5)\",\"(4)\"],\"x\":[\"Dec\",\"Jan\",\"Feb\",\"Mar\",\"Apr\"],\"y\":[724.5,877.75,796.25,502.8,214.25]},\"selected\":{\"id\":\"3880\",\"type\":\"Selection\"},\"selection_policy\":{\"id\":\"3879\",\"type\":\"UnionRenderers\"}},\"id\":\"3707\",\"type\":\"ColumnDataSource\"},{\"attributes\":{},\"id\":\"3680\",\"type\":\"BasicTickFormatter\"},{\"attributes\":{\"fill_alpha\":{\"value\":0.1},\"fill_color\":{\"value\":\"#1f77b4\"},\"line_alpha\":{\"value\":0.1},\"line_color\":{\"value\":\"#1f77b4\"},\"top\":{\"field\":\"counts\"},\"width\":{\"value\":0.4},\"x\":{\"field\":\"x\",\"transform\":{\"id\":\"3688\",\"type\":\"Dodge\"}}},\"id\":\"3692\",\"type\":\"VBar\"},{\"attributes\":{\"range\":{\"id\":\"3646\",\"type\":\"FactorRange\"},\"value\":-0.225},\"id\":\"3684\",\"type\":\"Dodge\"},{\"attributes\":{\"formatter\":{\"id\":\"3678\",\"type\":\"CategoricalTickFormatter\"},\"major_label_orientation\":0,\"major_label_standoff\":10,\"major_label_text_font_size\":{\"value\":\"12pt\"},\"major_label_text_font_style\":\"bold\",\"major_tick_line_color\":{\"value\":null},\"minor_tick_line_color\":{\"value\":null},\"ticker\":{\"id\":\"3658\",\"type\":\"CategoricalTicker\"}},\"id\":\"3657\",\"type\":\"CategoricalAxis\"},{\"attributes\":{},\"id\":\"3678\",\"type\":\"CategoricalTickFormatter\"},{\"attributes\":{},\"id\":\"3879\",\"type\":\"UnionRenderers\"},{\"attributes\":{\"formatter\":{\"id\":\"3680\",\"type\":\"BasicTickFormatter\"},\"major_label_text_font_size\":{\"value\":\"12pt\"},\"major_label_text_font_style\":\"bold\",\"minor_tick_line_color\":{\"value\":null},\"ticker\":{\"id\":\"3662\",\"type\":\"BasicTicker\"}},\"id\":\"3661\",\"type\":\"LinearAxis\"},{\"attributes\":{\"data_source\":{\"id\":\"3670\",\"type\":\"ColumnDataSource\"},\"glyph\":{\"id\":\"3672\",\"type\":\"VBar\"},\"hover_glyph\":{\"id\":\"3674\",\"type\":\"VBar\"},\"muted_glyph\":null,\"name\":\"MCC Porter\",\"nonselection_glyph\":{\"id\":\"3673\",\"type\":\"VBar\"},\"selection_glyph\":null,\"view\":{\"id\":\"3676\",\"type\":\"CDSView\"}},\"id\":\"3675\",\"type\":\"GlyphRenderer\"},{\"attributes\":{\"range\":{\"id\":\"3646\",\"type\":\"FactorRange\"},\"value\":0.225},\"id\":\"3706\",\"type\":\"Dodge\"},{\"attributes\":{\"label\":{\"value\":\"MCC Porter\"},\"renderers\":[{\"id\":\"3675\",\"type\":\"GlyphRenderer\"}]},\"id\":\"3683\",\"type\":\"LegendItem\"},{\"attributes\":{},\"id\":\"3883\",\"type\":\"UnionRenderers\"},{\"attributes\":{\"callback\":null,\"tooltips\":[[\"Site\",\"$name\"],[\"Average Daily Users\",\"@counts{int}\"]]},\"id\":\"3710\",\"type\":\"HoverTool\"},{\"attributes\":{\"callback\":null,\"end\":1141.075},\"id\":\"3713\",\"type\":\"Range1d\"},{\"attributes\":{\"items\":[{\"id\":\"3683\",\"type\":\"LegendItem\"},{\"id\":\"3705\",\"type\":\"LegendItem\"}],\"location\":\"top_left\",\"orientation\":\"horizontal\"},\"id\":\"3682\",\"type\":\"Legend\"},{\"attributes\":{\"text\":\"Season 2018-2019 | Average Daily Trailhead Users Per Month For Saturdays\",\"text_font_size\":{\"value\":\"13pt\"}},\"id\":\"3712\",\"type\":\"Title\"},{\"attributes\":{},\"id\":\"3653\",\"type\":\"CategoricalScale\"},{\"attributes\":{\"callback\":null,\"data\":{\"counts\":[724.5,877.75,796.25,502.8,214.25],\"x\":[\"Dec\",\"Jan\",\"Feb\",\"Mar\",\"Apr\"]},\"selected\":{\"id\":\"3884\",\"type\":\"Selection\"},\"selection_policy\":{\"id\":\"3883\",\"type\":\"UnionRenderers\"}},\"id\":\"3689\",\"type\":\"ColumnDataSource\"},{\"attributes\":{},\"id\":\"3662\",\"type\":\"BasicTicker\"}],\"root_ids\":[\"3647\"]},\"title\":\"Bokeh Application\",\"version\":\"1.4.0\"}};\n",
       "  var render_items = [{\"docid\":\"892c6e4a-caf6-4c77-b8d1-1a0484cc7abf\",\"roots\":{\"3647\":\"70b01565-93ea-46fa-b89a-b8a5f1f89268\"}}];\n",
       "  root.Bokeh.embed.embed_items_notebook(docs_json, render_items);\n",
       "\n",
       "  }\n",
       "  if (root.Bokeh !== undefined) {\n",
       "    embed_document(root);\n",
       "  } else {\n",
       "    var attempts = 0;\n",
       "    var timer = setInterval(function(root) {\n",
       "      if (root.Bokeh !== undefined) {\n",
       "        clearInterval(timer);\n",
       "        embed_document(root);\n",
       "      } else {\n",
       "        attempts++;\n",
       "        if (attempts > 100) {\n",
       "          clearInterval(timer);\n",
       "          console.log(\"Bokeh: ERROR: Unable to run BokehJS code because BokehJS library is missing\");\n",
       "        }\n",
       "      }\n",
       "    }, 10, root)\n",
       "  }\n",
       "})(window);"
      ],
      "application/vnd.bokehjs_exec.v0+json": ""
     },
     "metadata": {
      "application/vnd.bokehjs_exec.v0+json": {
       "id": "3647"
      }
     },
     "output_type": "display_data"
    }
   ],
   "source": [
    "season = ['2018-2019']\n",
    "sites = [x for x in adu_df.query(\"season == @season\")['site'].unique() if \"MCC\" in x]\n",
    "dayOfWeek = 'Saturday'\n",
    "src_df = dub.make_data_set(season, sites, dayOfWeek, adu_df)\n",
    "p = dub.make_plot(src_df, show_sensor_n=True)\n",
    "show(p)"
   ]
  }
 ],
 "metadata": {
  "kernelspec": {
   "display_name": "Python 3",
   "language": "python",
   "name": "python3"
  },
  "language_info": {
   "codemirror_mode": {
    "name": "ipython",
    "version": 3
   },
   "file_extension": ".py",
   "mimetype": "text/x-python",
   "name": "python",
   "nbconvert_exporter": "python",
   "pygments_lexer": "ipython3",
   "version": "3.7.5"
  },
  "varInspector": {
   "cols": {
    "lenName": 16,
    "lenType": 16,
    "lenVar": 40
   },
   "kernels_config": {
    "python": {
     "delete_cmd_postfix": "",
     "delete_cmd_prefix": "del ",
     "library": "var_list.py",
     "varRefreshCmd": "print(var_dic_list())"
    },
    "r": {
     "delete_cmd_postfix": ") ",
     "delete_cmd_prefix": "rm(",
     "library": "var_list.r",
     "varRefreshCmd": "cat(var_dic_list()) "
    }
   },
   "position": {
    "height": "431.667px",
    "left": "909px",
    "right": "20px",
    "top": "120px",
    "width": "350px"
   },
   "types_to_exclude": [
    "module",
    "function",
    "builtin_function_or_method",
    "instance",
    "_Feature"
   ],
   "window_display": false
  }
 },
 "nbformat": 4,
 "nbformat_minor": 2
}
